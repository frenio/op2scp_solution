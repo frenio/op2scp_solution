{
 "cells": [
  {
   "cell_type": "markdown",
   "id": "bc0c9795",
   "metadata": {
    "papermill": {
     "duration": 0.012075,
     "end_time": "2023-12-09T03:28:24.512355",
     "exception": false,
     "start_time": "2023-12-09T03:28:24.500280",
     "status": "completed"
    },
    "tags": []
   },
   "source": [
    "## Please Read"
   ]
  },
  {
   "cell_type": "markdown",
   "id": "306e6915",
   "metadata": {
    "papermill": {
     "duration": 0.011154,
     "end_time": "2023-12-09T03:28:24.535010",
     "exception": false,
     "start_time": "2023-12-09T03:28:24.523856",
     "status": "completed"
    },
    "tags": []
   },
   "source": [
    "The following notebook is an adaptation of a popular [notebook](https://www.kaggle.com/code/jhoward/getting-started-with-nlp-for-absolute-beginners) by Jeremy Howard discussed in fast.ai's [Practical Deep Learning for Coders – Lesson 4](https://course.fast.ai/Lessons/lesson4.html).\n",
    "\n",
    "In order for this notebook to run on Kaggle in a reasonable amount of time (~ 2 h) the model will be trained on only 2 % of the training data sampled randomly. Please note that this notebook serves only as a training demo, since for best results the model needs to be fine-tuned on all training data. For context: Fine-tuning the model for 5 epochs on an A10 GPU using a batch size of 256 and a train-valid-split of 80/20 took about 12 hours. For predictions submitted to the Open Problems – Single-Cell Perturbation competition the model was fine-tuned for 20–25 epochs."
   ]
  },
  {
   "cell_type": "markdown",
   "id": "2f081cb6",
   "metadata": {
    "papermill": {
     "duration": 0.011107,
     "end_time": "2023-12-09T03:28:24.557474",
     "exception": false,
     "start_time": "2023-12-09T03:28:24.546367",
     "status": "completed"
    },
    "tags": []
   },
   "source": [
    "## Imports and Random Seed"
   ]
  },
  {
   "cell_type": "code",
   "execution_count": 1,
   "id": "aece191b",
   "metadata": {
    "_cell_guid": "b1076dfc-b9ad-4769-8c92-a6c4dae69d19",
    "_uuid": "8f2839f25d086af736a60e9eeb907d3b93b6e0e5",
    "execution": {
     "iopub.execute_input": "2023-12-09T03:28:24.582928Z",
     "iopub.status.busy": "2023-12-09T03:28:24.582290Z",
     "iopub.status.idle": "2023-12-09T03:28:31.095247Z",
     "shell.execute_reply": "2023-12-09T03:28:31.094486Z"
    },
    "papermill": {
     "duration": 6.528689,
     "end_time": "2023-12-09T03:28:31.097476",
     "exception": false,
     "start_time": "2023-12-09T03:28:24.568787",
     "status": "completed"
    },
    "tags": []
   },
   "outputs": [
    {
     "name": "stderr",
     "output_type": "stream",
     "text": [
      "/opt/conda/lib/python3.10/site-packages/scipy/__init__.py:146: UserWarning: A NumPy version >=1.16.5 and <1.23.0 is required for this version of SciPy (detected version 1.24.3\n",
      "  warnings.warn(f\"A NumPy version >={np_minversion} and <{np_maxversion}\"\n"
     ]
    }
   ],
   "source": [
    "import time\n",
    "t0start = time.time()\n",
    "from fastai.collab import *\n",
    "from fastai.tabular.all import *\n",
    "import warnings\n",
    "warnings.filterwarnings('ignore')"
   ]
  },
  {
   "cell_type": "code",
   "execution_count": 2,
   "id": "df252429",
   "metadata": {
    "execution": {
     "iopub.execute_input": "2023-12-09T03:28:31.122153Z",
     "iopub.status.busy": "2023-12-09T03:28:31.121737Z",
     "iopub.status.idle": "2023-12-09T03:28:31.125769Z",
     "shell.execute_reply": "2023-12-09T03:28:31.124964Z"
    },
    "papermill": {
     "duration": 0.018329,
     "end_time": "2023-12-09T03:28:31.127654",
     "exception": false,
     "start_time": "2023-12-09T03:28:31.109325",
     "status": "completed"
    },
    "tags": []
   },
   "outputs": [],
   "source": [
    "random_seed = 42"
   ]
  },
  {
   "cell_type": "code",
   "execution_count": 3,
   "id": "c54edcef",
   "metadata": {
    "execution": {
     "iopub.execute_input": "2023-12-09T03:28:31.151753Z",
     "iopub.status.busy": "2023-12-09T03:28:31.151490Z",
     "iopub.status.idle": "2023-12-09T03:28:42.670175Z",
     "shell.execute_reply": "2023-12-09T03:28:42.669373Z"
    },
    "papermill": {
     "duration": 11.533283,
     "end_time": "2023-12-09T03:28:42.672460",
     "exception": false,
     "start_time": "2023-12-09T03:28:31.139177",
     "status": "completed"
    },
    "tags": []
   },
   "outputs": [],
   "source": [
    "from transformers import set_seed\n",
    "set_seed(random_seed)"
   ]
  },
  {
   "cell_type": "markdown",
   "id": "c333449b",
   "metadata": {
    "papermill": {
     "duration": 0.011327,
     "end_time": "2023-12-09T03:28:42.695796",
     "exception": false,
     "start_time": "2023-12-09T03:28:42.684469",
     "status": "completed"
    },
    "tags": []
   },
   "source": [
    "## Prepare Train Set"
   ]
  },
  {
   "cell_type": "markdown",
   "id": "e524bf07",
   "metadata": {
    "papermill": {
     "duration": 0.011265,
     "end_time": "2023-12-09T03:28:42.718538",
     "exception": false,
     "start_time": "2023-12-09T03:28:42.707273",
     "status": "completed"
    },
    "tags": []
   },
   "source": [
    "Here I read the training data and melt it to yield a ```DataFrame``` with three categorical features (```cell_type```, ```sm_name```, and ```gene```) and one target (```value```)."
   ]
  },
  {
   "cell_type": "code",
   "execution_count": 4,
   "id": "7c4803b3",
   "metadata": {
    "execution": {
     "iopub.execute_input": "2023-12-09T03:28:42.743220Z",
     "iopub.status.busy": "2023-12-09T03:28:42.742609Z",
     "iopub.status.idle": "2023-12-09T03:28:47.401234Z",
     "shell.execute_reply": "2023-12-09T03:28:47.399972Z"
    },
    "papermill": {
     "duration": 4.673396,
     "end_time": "2023-12-09T03:28:47.403352",
     "exception": false,
     "start_time": "2023-12-09T03:28:42.729956",
     "status": "completed"
    },
    "tags": []
   },
   "outputs": [
    {
     "name": "stdout",
     "output_type": "stream",
     "text": [
      "CPU times: user 3.6 s, sys: 800 ms, total: 4.4 s\n",
      "Wall time: 4.65 s\n"
     ]
    }
   ],
   "source": [
    "%%time\n",
    "fn = '/kaggle/input/open-problems-single-cell-perturbations/de_train.parquet'\n",
    "df_de_train = pd.read_parquet(fn)# , index_col = 0)\n",
    "train_df = df_de_train.drop(columns=['sm_lincs_id', 'SMILES', 'control'])\n",
    "trdf = train_df.melt(id_vars=['cell_type', 'sm_name'], value_vars=train_df.iloc[:,2:].columns, var_name='gene', value_name='value')"
   ]
  },
  {
   "cell_type": "markdown",
   "id": "2055c29f",
   "metadata": {
    "papermill": {
     "duration": 0.011409,
     "end_time": "2023-12-09T03:28:47.426622",
     "exception": false,
     "start_time": "2023-12-09T03:28:47.415213",
     "status": "completed"
    },
    "tags": []
   },
   "source": [
    "The next line samples 2 % of the training data to demonstrate model training in a reasonable time frame:"
   ]
  },
  {
   "cell_type": "code",
   "execution_count": 5,
   "id": "1147a774",
   "metadata": {
    "execution": {
     "iopub.execute_input": "2023-12-09T03:28:47.492834Z",
     "iopub.status.busy": "2023-12-09T03:28:47.492506Z",
     "iopub.status.idle": "2023-12-09T03:28:48.083537Z",
     "shell.execute_reply": "2023-12-09T03:28:48.082726Z"
    },
    "papermill": {
     "duration": 0.606165,
     "end_time": "2023-12-09T03:28:48.085931",
     "exception": false,
     "start_time": "2023-12-09T03:28:47.479766",
     "status": "completed"
    },
    "tags": []
   },
   "outputs": [],
   "source": [
    "trdf = trdf.sample(frac=0.02).reset_index(drop=true)"
   ]
  },
  {
   "cell_type": "markdown",
   "id": "01054dee",
   "metadata": {
    "papermill": {
     "duration": 0.011881,
     "end_time": "2023-12-09T03:28:48.110235",
     "exception": false,
     "start_time": "2023-12-09T03:28:48.098354",
     "status": "completed"
    },
    "tags": []
   },
   "source": [
    "## Prepare Test Set"
   ]
  },
  {
   "cell_type": "markdown",
   "id": "8424f941",
   "metadata": {
    "papermill": {
     "duration": 0.011557,
     "end_time": "2023-12-09T03:28:48.133363",
     "exception": false,
     "start_time": "2023-12-09T03:28:48.121806",
     "status": "completed"
    },
    "tags": []
   },
   "source": [
    "Similar procedure for the test set."
   ]
  },
  {
   "cell_type": "code",
   "execution_count": 6,
   "id": "d717c910",
   "metadata": {
    "execution": {
     "iopub.execute_input": "2023-12-09T03:28:48.158272Z",
     "iopub.status.busy": "2023-12-09T03:28:48.157372Z",
     "iopub.status.idle": "2023-12-09T03:28:52.913533Z",
     "shell.execute_reply": "2023-12-09T03:28:52.912431Z"
    },
    "papermill": {
     "duration": 4.771141,
     "end_time": "2023-12-09T03:28:52.915983",
     "exception": false,
     "start_time": "2023-12-09T03:28:48.144842",
     "status": "completed"
    },
    "tags": []
   },
   "outputs": [],
   "source": [
    "fn = '/kaggle/input/open-problems-single-cell-perturbations/id_map.csv'\n",
    "df_id_map = pd.read_csv(fn)\n",
    "fn = '/kaggle/input/open-problems-single-cell-perturbations/sample_submission.csv'\n",
    "df = pd.read_csv(fn, index_col = 0)\n",
    "\n",
    "cols_to_add = df_de_train.iloc[:,5:].columns\n",
    "cols_to_add\n",
    "\n",
    "df_zeros = pd.DataFrame(0.0, columns=cols_to_add, index=df_id_map.index)\n",
    "df_zeros\n",
    "\n",
    "df_id_map_preds = pd.concat([df_id_map, df_zeros], axis=1)\n",
    "tsdf = df_id_map_preds.melt(id_vars=['cell_type', 'sm_name'], value_vars=df_id_map_preds.iloc[:,3:].columns, var_name='gene', value_name='value')"
   ]
  },
  {
   "cell_type": "markdown",
   "id": "92c40262",
   "metadata": {
    "papermill": {
     "duration": 0.012251,
     "end_time": "2023-12-09T03:28:52.940751",
     "exception": false,
     "start_time": "2023-12-09T03:28:52.928500",
     "status": "completed"
    },
    "tags": []
   },
   "source": [
    "## Inspect Train and Test Set"
   ]
  },
  {
   "cell_type": "code",
   "execution_count": 7,
   "id": "5f227425",
   "metadata": {
    "execution": {
     "iopub.execute_input": "2023-12-09T03:28:52.966171Z",
     "iopub.status.busy": "2023-12-09T03:28:52.965590Z",
     "iopub.status.idle": "2023-12-09T03:28:52.981975Z",
     "shell.execute_reply": "2023-12-09T03:28:52.980946Z"
    },
    "papermill": {
     "duration": 0.031042,
     "end_time": "2023-12-09T03:28:52.983917",
     "exception": false,
     "start_time": "2023-12-09T03:28:52.952875",
     "status": "completed"
    },
    "tags": []
   },
   "outputs": [
    {
     "data": {
      "text/html": [
       "<div>\n",
       "<style scoped>\n",
       "    .dataframe tbody tr th:only-of-type {\n",
       "        vertical-align: middle;\n",
       "    }\n",
       "\n",
       "    .dataframe tbody tr th {\n",
       "        vertical-align: top;\n",
       "    }\n",
       "\n",
       "    .dataframe thead th {\n",
       "        text-align: right;\n",
       "    }\n",
       "</style>\n",
       "<table border=\"1\" class=\"dataframe\">\n",
       "  <thead>\n",
       "    <tr style=\"text-align: right;\">\n",
       "      <th></th>\n",
       "      <th>cell_type</th>\n",
       "      <th>sm_name</th>\n",
       "      <th>gene</th>\n",
       "      <th>value</th>\n",
       "    </tr>\n",
       "  </thead>\n",
       "  <tbody>\n",
       "    <tr>\n",
       "      <th>0</th>\n",
       "      <td>NK cells</td>\n",
       "      <td>Sunitinib</td>\n",
       "      <td>LINC00824</td>\n",
       "      <td>0.243416</td>\n",
       "    </tr>\n",
       "    <tr>\n",
       "      <th>1</th>\n",
       "      <td>NK cells</td>\n",
       "      <td>Lamivudine</td>\n",
       "      <td>CCDC61</td>\n",
       "      <td>-0.104237</td>\n",
       "    </tr>\n",
       "    <tr>\n",
       "      <th>2</th>\n",
       "      <td>T cells CD4+</td>\n",
       "      <td>Ceritinib</td>\n",
       "      <td>PSMD6</td>\n",
       "      <td>0.276361</td>\n",
       "    </tr>\n",
       "    <tr>\n",
       "      <th>3</th>\n",
       "      <td>NK cells</td>\n",
       "      <td>Isoniazid</td>\n",
       "      <td>KIF3B</td>\n",
       "      <td>-0.135494</td>\n",
       "    </tr>\n",
       "    <tr>\n",
       "      <th>4</th>\n",
       "      <td>T cells CD4+</td>\n",
       "      <td>GSK-1070916</td>\n",
       "      <td>TSGA13</td>\n",
       "      <td>-0.286420</td>\n",
       "    </tr>\n",
       "    <tr>\n",
       "      <th>...</th>\n",
       "      <td>...</td>\n",
       "      <td>...</td>\n",
       "      <td>...</td>\n",
       "      <td>...</td>\n",
       "    </tr>\n",
       "    <tr>\n",
       "      <th>223626</th>\n",
       "      <td>T cells CD8+</td>\n",
       "      <td>TR-14035</td>\n",
       "      <td>C1ORF123</td>\n",
       "      <td>-0.535818</td>\n",
       "    </tr>\n",
       "    <tr>\n",
       "      <th>223627</th>\n",
       "      <td>T regulatory cells</td>\n",
       "      <td>Phenylbutazone</td>\n",
       "      <td>ZSWIM9</td>\n",
       "      <td>-0.476339</td>\n",
       "    </tr>\n",
       "    <tr>\n",
       "      <th>223628</th>\n",
       "      <td>B cells</td>\n",
       "      <td>Linagliptin</td>\n",
       "      <td>ZNF546</td>\n",
       "      <td>0.138497</td>\n",
       "    </tr>\n",
       "    <tr>\n",
       "      <th>223629</th>\n",
       "      <td>T cells CD8+</td>\n",
       "      <td>CEP-37440</td>\n",
       "      <td>SPDYE1</td>\n",
       "      <td>-0.805262</td>\n",
       "    </tr>\n",
       "    <tr>\n",
       "      <th>223630</th>\n",
       "      <td>T cells CD4+</td>\n",
       "      <td>RG7112</td>\n",
       "      <td>ISY1</td>\n",
       "      <td>-0.825933</td>\n",
       "    </tr>\n",
       "  </tbody>\n",
       "</table>\n",
       "<p>223631 rows × 4 columns</p>\n",
       "</div>"
      ],
      "text/plain": [
       "                 cell_type         sm_name       gene     value\n",
       "0                 NK cells       Sunitinib  LINC00824  0.243416\n",
       "1                 NK cells      Lamivudine     CCDC61 -0.104237\n",
       "2             T cells CD4+       Ceritinib      PSMD6  0.276361\n",
       "3                 NK cells       Isoniazid      KIF3B -0.135494\n",
       "4             T cells CD4+     GSK-1070916     TSGA13 -0.286420\n",
       "...                    ...             ...        ...       ...\n",
       "223626        T cells CD8+        TR-14035   C1ORF123 -0.535818\n",
       "223627  T regulatory cells  Phenylbutazone     ZSWIM9 -0.476339\n",
       "223628             B cells     Linagliptin     ZNF546  0.138497\n",
       "223629        T cells CD8+       CEP-37440     SPDYE1 -0.805262\n",
       "223630        T cells CD4+          RG7112       ISY1 -0.825933\n",
       "\n",
       "[223631 rows x 4 columns]"
      ]
     },
     "execution_count": 7,
     "metadata": {},
     "output_type": "execute_result"
    }
   ],
   "source": [
    "trdf"
   ]
  },
  {
   "cell_type": "code",
   "execution_count": 8,
   "id": "a45ae43d",
   "metadata": {
    "execution": {
     "iopub.execute_input": "2023-12-09T03:28:53.009283Z",
     "iopub.status.busy": "2023-12-09T03:28:53.008738Z",
     "iopub.status.idle": "2023-12-09T03:28:53.021002Z",
     "shell.execute_reply": "2023-12-09T03:28:53.020172Z"
    },
    "papermill": {
     "duration": 0.026729,
     "end_time": "2023-12-09T03:28:53.022925",
     "exception": false,
     "start_time": "2023-12-09T03:28:52.996196",
     "status": "completed"
    },
    "tags": []
   },
   "outputs": [
    {
     "data": {
      "text/html": [
       "<div>\n",
       "<style scoped>\n",
       "    .dataframe tbody tr th:only-of-type {\n",
       "        vertical-align: middle;\n",
       "    }\n",
       "\n",
       "    .dataframe tbody tr th {\n",
       "        vertical-align: top;\n",
       "    }\n",
       "\n",
       "    .dataframe thead th {\n",
       "        text-align: right;\n",
       "    }\n",
       "</style>\n",
       "<table border=\"1\" class=\"dataframe\">\n",
       "  <thead>\n",
       "    <tr style=\"text-align: right;\">\n",
       "      <th></th>\n",
       "      <th>cell_type</th>\n",
       "      <th>sm_name</th>\n",
       "      <th>gene</th>\n",
       "      <th>value</th>\n",
       "    </tr>\n",
       "  </thead>\n",
       "  <tbody>\n",
       "    <tr>\n",
       "      <th>0</th>\n",
       "      <td>B cells</td>\n",
       "      <td>5-(9-Isopropyl-8-methyl-2-morpholino-9H-purin-6-yl)pyrimidin-2-amine</td>\n",
       "      <td>A1BG</td>\n",
       "      <td>0.0</td>\n",
       "    </tr>\n",
       "    <tr>\n",
       "      <th>1</th>\n",
       "      <td>B cells</td>\n",
       "      <td>ABT-199 (GDC-0199)</td>\n",
       "      <td>A1BG</td>\n",
       "      <td>0.0</td>\n",
       "    </tr>\n",
       "    <tr>\n",
       "      <th>2</th>\n",
       "      <td>B cells</td>\n",
       "      <td>ABT737</td>\n",
       "      <td>A1BG</td>\n",
       "      <td>0.0</td>\n",
       "    </tr>\n",
       "    <tr>\n",
       "      <th>3</th>\n",
       "      <td>B cells</td>\n",
       "      <td>AMD-070 (hydrochloride)</td>\n",
       "      <td>A1BG</td>\n",
       "      <td>0.0</td>\n",
       "    </tr>\n",
       "    <tr>\n",
       "      <th>4</th>\n",
       "      <td>B cells</td>\n",
       "      <td>AT 7867</td>\n",
       "      <td>A1BG</td>\n",
       "      <td>0.0</td>\n",
       "    </tr>\n",
       "    <tr>\n",
       "      <th>...</th>\n",
       "      <td>...</td>\n",
       "      <td>...</td>\n",
       "      <td>...</td>\n",
       "      <td>...</td>\n",
       "    </tr>\n",
       "    <tr>\n",
       "      <th>4643800</th>\n",
       "      <td>Myeloid cells</td>\n",
       "      <td>Vandetanib</td>\n",
       "      <td>ZZEF1</td>\n",
       "      <td>0.0</td>\n",
       "    </tr>\n",
       "    <tr>\n",
       "      <th>4643801</th>\n",
       "      <td>Myeloid cells</td>\n",
       "      <td>Vanoxerine</td>\n",
       "      <td>ZZEF1</td>\n",
       "      <td>0.0</td>\n",
       "    </tr>\n",
       "    <tr>\n",
       "      <th>4643802</th>\n",
       "      <td>Myeloid cells</td>\n",
       "      <td>Vardenafil</td>\n",
       "      <td>ZZEF1</td>\n",
       "      <td>0.0</td>\n",
       "    </tr>\n",
       "    <tr>\n",
       "      <th>4643803</th>\n",
       "      <td>Myeloid cells</td>\n",
       "      <td>Vorinostat</td>\n",
       "      <td>ZZEF1</td>\n",
       "      <td>0.0</td>\n",
       "    </tr>\n",
       "    <tr>\n",
       "      <th>4643804</th>\n",
       "      <td>Myeloid cells</td>\n",
       "      <td>YK 4-279</td>\n",
       "      <td>ZZEF1</td>\n",
       "      <td>0.0</td>\n",
       "    </tr>\n",
       "  </tbody>\n",
       "</table>\n",
       "<p>4643805 rows × 4 columns</p>\n",
       "</div>"
      ],
      "text/plain": [
       "             cell_type  \\\n",
       "0              B cells   \n",
       "1              B cells   \n",
       "2              B cells   \n",
       "3              B cells   \n",
       "4              B cells   \n",
       "...                ...   \n",
       "4643800  Myeloid cells   \n",
       "4643801  Myeloid cells   \n",
       "4643802  Myeloid cells   \n",
       "4643803  Myeloid cells   \n",
       "4643804  Myeloid cells   \n",
       "\n",
       "                                                                      sm_name  \\\n",
       "0        5-(9-Isopropyl-8-methyl-2-morpholino-9H-purin-6-yl)pyrimidin-2-amine   \n",
       "1                                                          ABT-199 (GDC-0199)   \n",
       "2                                                                      ABT737   \n",
       "3                                                     AMD-070 (hydrochloride)   \n",
       "4                                                                     AT 7867   \n",
       "...                                                                       ...   \n",
       "4643800                                                            Vandetanib   \n",
       "4643801                                                            Vanoxerine   \n",
       "4643802                                                            Vardenafil   \n",
       "4643803                                                            Vorinostat   \n",
       "4643804                                                              YK 4-279   \n",
       "\n",
       "          gene  value  \n",
       "0         A1BG    0.0  \n",
       "1         A1BG    0.0  \n",
       "2         A1BG    0.0  \n",
       "3         A1BG    0.0  \n",
       "4         A1BG    0.0  \n",
       "...        ...    ...  \n",
       "4643800  ZZEF1    0.0  \n",
       "4643801  ZZEF1    0.0  \n",
       "4643802  ZZEF1    0.0  \n",
       "4643803  ZZEF1    0.0  \n",
       "4643804  ZZEF1    0.0  \n",
       "\n",
       "[4643805 rows x 4 columns]"
      ]
     },
     "execution_count": 8,
     "metadata": {},
     "output_type": "execute_result"
    }
   ],
   "source": [
    "tsdf"
   ]
  },
  {
   "cell_type": "markdown",
   "id": "b7e0cf6f",
   "metadata": {
    "papermill": {
     "duration": 0.012684,
     "end_time": "2023-12-09T03:28:53.048380",
     "exception": false,
     "start_time": "2023-12-09T03:28:53.035696",
     "status": "completed"
    },
    "tags": []
   },
   "source": [
    "## Prepare Transformer Input"
   ]
  },
  {
   "cell_type": "code",
   "execution_count": 9,
   "id": "bf04a94c",
   "metadata": {
    "execution": {
     "iopub.execute_input": "2023-12-09T03:28:53.074881Z",
     "iopub.status.busy": "2023-12-09T03:28:53.074206Z",
     "iopub.status.idle": "2023-12-09T03:28:53.220375Z",
     "shell.execute_reply": "2023-12-09T03:28:53.219475Z"
    },
    "papermill": {
     "duration": 0.161873,
     "end_time": "2023-12-09T03:28:53.222552",
     "exception": false,
     "start_time": "2023-12-09T03:28:53.060679",
     "status": "completed"
    },
    "tags": []
   },
   "outputs": [
    {
     "data": {
      "text/plain": [
       "0       CELL TYPE: NK cells; TREATMENT: Sunitinib; GENE: LINC00824\n",
       "1         CELL TYPE: NK cells; TREATMENT: Lamivudine; GENE: CCDC61\n",
       "2       CELL TYPE: T cells CD4+; TREATMENT: Ceritinib; GENE: PSMD6\n",
       "3           CELL TYPE: NK cells; TREATMENT: Isoniazid; GENE: KIF3B\n",
       "4    CELL TYPE: T cells CD4+; TREATMENT: GSK-1070916; GENE: TSGA13\n",
       "Name: input, dtype: object"
      ]
     },
     "execution_count": 9,
     "metadata": {},
     "output_type": "execute_result"
    }
   ],
   "source": [
    "trdf['input'] = 'CELL TYPE: ' + trdf.cell_type + '; TREATMENT: ' + trdf.sm_name + '; GENE: ' + trdf.gene\n",
    "trdf.input.head()"
   ]
  },
  {
   "cell_type": "code",
   "execution_count": 10,
   "id": "f11cb4bd",
   "metadata": {
    "execution": {
     "iopub.execute_input": "2023-12-09T03:28:53.249884Z",
     "iopub.status.busy": "2023-12-09T03:28:53.249369Z",
     "iopub.status.idle": "2023-12-09T03:28:56.995476Z",
     "shell.execute_reply": "2023-12-09T03:28:56.994515Z"
    },
    "papermill": {
     "duration": 3.761936,
     "end_time": "2023-12-09T03:28:56.997641",
     "exception": false,
     "start_time": "2023-12-09T03:28:53.235705",
     "status": "completed"
    },
    "tags": []
   },
   "outputs": [
    {
     "data": {
      "text/plain": [
       "0    CELL TYPE: B cells; TREATMENT: 5-(9-Isopropyl-8-methyl-2-morpholino-9H-purin-6-yl)pyrimidin-2-amine; GENE: A1BG\n",
       "1                                                      CELL TYPE: B cells; TREATMENT: ABT-199 (GDC-0199); GENE: A1BG\n",
       "2                                                                  CELL TYPE: B cells; TREATMENT: ABT737; GENE: A1BG\n",
       "3                                                 CELL TYPE: B cells; TREATMENT: AMD-070 (hydrochloride); GENE: A1BG\n",
       "4                                                                 CELL TYPE: B cells; TREATMENT: AT 7867; GENE: A1BG\n",
       "Name: input, dtype: object"
      ]
     },
     "execution_count": 10,
     "metadata": {},
     "output_type": "execute_result"
    }
   ],
   "source": [
    "tsdf['input'] = 'CELL TYPE: ' + tsdf.cell_type + '; TREATMENT: ' + tsdf.sm_name + '; GENE: ' + tsdf.gene\n",
    "tsdf.input.head()"
   ]
  },
  {
   "cell_type": "code",
   "execution_count": 11,
   "id": "eca7c775",
   "metadata": {
    "execution": {
     "iopub.execute_input": "2023-12-09T03:28:57.024800Z",
     "iopub.status.busy": "2023-12-09T03:28:57.024502Z",
     "iopub.status.idle": "2023-12-09T03:28:57.381159Z",
     "shell.execute_reply": "2023-12-09T03:28:57.380162Z"
    },
    "papermill": {
     "duration": 0.372922,
     "end_time": "2023-12-09T03:28:57.383664",
     "exception": false,
     "start_time": "2023-12-09T03:28:57.010742",
     "status": "completed"
    },
    "tags": []
   },
   "outputs": [
    {
     "data": {
      "text/plain": [
       "Dataset({\n",
       "    features: ['cell_type', 'sm_name', 'gene', 'value', 'input'],\n",
       "    num_rows: 223631\n",
       "})"
      ]
     },
     "execution_count": 11,
     "metadata": {},
     "output_type": "execute_result"
    }
   ],
   "source": [
    "from datasets import Dataset, DatasetDict\n",
    "trds = Dataset.from_pandas(trdf)\n",
    "trds"
   ]
  },
  {
   "cell_type": "code",
   "execution_count": 12,
   "id": "3d37d79f",
   "metadata": {
    "execution": {
     "iopub.execute_input": "2023-12-09T03:28:57.417953Z",
     "iopub.status.busy": "2023-12-09T03:28:57.417397Z",
     "iopub.status.idle": "2023-12-09T03:28:59.126682Z",
     "shell.execute_reply": "2023-12-09T03:28:59.125670Z"
    },
    "papermill": {
     "duration": 1.727671,
     "end_time": "2023-12-09T03:28:59.128756",
     "exception": false,
     "start_time": "2023-12-09T03:28:57.401085",
     "status": "completed"
    },
    "tags": []
   },
   "outputs": [
    {
     "data": {
      "text/plain": [
       "Dataset({\n",
       "    features: ['cell_type', 'sm_name', 'gene', 'value', 'input'],\n",
       "    num_rows: 4643805\n",
       "})"
      ]
     },
     "execution_count": 12,
     "metadata": {},
     "output_type": "execute_result"
    }
   ],
   "source": [
    "tsds = Dataset.from_pandas(tsdf)\n",
    "tsds"
   ]
  },
  {
   "cell_type": "markdown",
   "id": "ff897d4e",
   "metadata": {
    "papermill": {
     "duration": 0.012804,
     "end_time": "2023-12-09T03:28:59.154899",
     "exception": false,
     "start_time": "2023-12-09T03:28:59.142095",
     "status": "completed"
    },
    "tags": []
   },
   "source": [
    "## Prepare Model"
   ]
  },
  {
   "cell_type": "markdown",
   "id": "ffb1fa4c",
   "metadata": {
    "papermill": {
     "duration": 0.018868,
     "end_time": "2023-12-09T03:28:59.190648",
     "exception": false,
     "start_time": "2023-12-09T03:28:59.171780",
     "status": "completed"
    },
    "tags": []
   },
   "source": [
    "### Tokenize"
   ]
  },
  {
   "cell_type": "code",
   "execution_count": 13,
   "id": "3b6c5675",
   "metadata": {
    "execution": {
     "iopub.execute_input": "2023-12-09T03:28:59.218438Z",
     "iopub.status.busy": "2023-12-09T03:28:59.217654Z",
     "iopub.status.idle": "2023-12-09T03:29:05.054263Z",
     "shell.execute_reply": "2023-12-09T03:29:05.053447Z"
    },
    "papermill": {
     "duration": 5.852994,
     "end_time": "2023-12-09T03:29:05.056660",
     "exception": false,
     "start_time": "2023-12-09T03:28:59.203666",
     "status": "completed"
    },
    "tags": []
   },
   "outputs": [
    {
     "data": {
      "application/vnd.jupyter.widget-view+json": {
       "model_id": "f0614ce2697c43919aff4423b2483e0c",
       "version_major": 2,
       "version_minor": 0
      },
      "text/plain": [
       "tokenizer_config.json:   0%|          | 0.00/52.0 [00:00<?, ?B/s]"
      ]
     },
     "metadata": {},
     "output_type": "display_data"
    },
    {
     "data": {
      "application/vnd.jupyter.widget-view+json": {
       "model_id": "10b055f6b94743b4b60742748e96c4fe",
       "version_major": 2,
       "version_minor": 0
      },
      "text/plain": [
       "config.json:   0%|          | 0.00/578 [00:00<?, ?B/s]"
      ]
     },
     "metadata": {},
     "output_type": "display_data"
    },
    {
     "data": {
      "application/vnd.jupyter.widget-view+json": {
       "model_id": "744e27fd8b5a4efe89466f6df5a2f6f5",
       "version_major": 2,
       "version_minor": 0
      },
      "text/plain": [
       "spm.model:   0%|          | 0.00/2.46M [00:00<?, ?B/s]"
      ]
     },
     "metadata": {},
     "output_type": "display_data"
    }
   ],
   "source": [
    "from transformers import AutoModelForSequenceClassification, AutoTokenizer\n",
    "model_nm = 'microsoft/deberta-v3-small'\n",
    "tokz = AutoTokenizer.from_pretrained(model_nm)"
   ]
  },
  {
   "cell_type": "code",
   "execution_count": 14,
   "id": "51d7e6b1",
   "metadata": {
    "execution": {
     "iopub.execute_input": "2023-12-09T03:29:05.086125Z",
     "iopub.status.busy": "2023-12-09T03:29:05.085332Z",
     "iopub.status.idle": "2023-12-09T03:29:05.392005Z",
     "shell.execute_reply": "2023-12-09T03:29:05.391120Z"
    },
    "papermill": {
     "duration": 0.323273,
     "end_time": "2023-12-09T03:29:05.393975",
     "exception": false,
     "start_time": "2023-12-09T03:29:05.070702",
     "status": "completed"
    },
    "tags": []
   },
   "outputs": [
    {
     "data": {
      "text/plain": [
       "(#17) ['▁CELL','▁TYPE',':','▁NK','▁cells',';','▁TREATMENT',':','▁Sun','itinib'...]"
      ]
     },
     "execution_count": 14,
     "metadata": {},
     "output_type": "execute_result"
    }
   ],
   "source": [
    "L(tokz.tokenize(trds['input'][0]))"
   ]
  },
  {
   "cell_type": "code",
   "execution_count": 15,
   "id": "9d2b7096",
   "metadata": {
    "execution": {
     "iopub.execute_input": "2023-12-09T03:29:05.422023Z",
     "iopub.status.busy": "2023-12-09T03:29:05.421721Z",
     "iopub.status.idle": "2023-12-09T03:33:26.244267Z",
     "shell.execute_reply": "2023-12-09T03:33:26.243210Z"
    },
    "papermill": {
     "duration": 260.839181,
     "end_time": "2023-12-09T03:33:26.246693",
     "exception": false,
     "start_time": "2023-12-09T03:29:05.407512",
     "status": "completed"
    },
    "tags": []
   },
   "outputs": [
    {
     "data": {
      "application/vnd.jupyter.widget-view+json": {
       "model_id": "15e6aedca89947d784e09b1607d4cf02",
       "version_major": 2,
       "version_minor": 0
      },
      "text/plain": [
       "  0%|          | 0/224 [00:00<?, ?ba/s]"
      ]
     },
     "metadata": {},
     "output_type": "display_data"
    },
    {
     "data": {
      "application/vnd.jupyter.widget-view+json": {
       "model_id": "9a8bcc4a7c254a4992828b643d37f665",
       "version_major": 2,
       "version_minor": 0
      },
      "text/plain": [
       "  0%|          | 0/4644 [00:00<?, ?ba/s]"
      ]
     },
     "metadata": {},
     "output_type": "display_data"
    }
   ],
   "source": [
    "def tok_func(x): return tokz(x[\"input\"])\n",
    "\n",
    "tok_trds = trds.map(tok_func, batched = True)\n",
    "tok_tsds = tsds.map(tok_func, batched = True)"
   ]
  },
  {
   "cell_type": "code",
   "execution_count": 16,
   "id": "ba77bca0",
   "metadata": {
    "execution": {
     "iopub.execute_input": "2023-12-09T03:33:26.277232Z",
     "iopub.status.busy": "2023-12-09T03:33:26.276605Z",
     "iopub.status.idle": "2023-12-09T03:33:27.907564Z",
     "shell.execute_reply": "2023-12-09T03:33:27.906767Z"
    },
    "papermill": {
     "duration": 1.647919,
     "end_time": "2023-12-09T03:33:27.909803",
     "exception": false,
     "start_time": "2023-12-09T03:33:26.261884",
     "status": "completed"
    },
    "tags": []
   },
   "outputs": [],
   "source": [
    "tok_trds.save_to_disk('tokenized-train-dataset')\n",
    "tok_tsds.save_to_disk('tokenized-test-dataset')"
   ]
  },
  {
   "cell_type": "code",
   "execution_count": 17,
   "id": "2528cb26",
   "metadata": {
    "execution": {
     "iopub.execute_input": "2023-12-09T03:33:27.938958Z",
     "iopub.status.busy": "2023-12-09T03:33:27.938633Z",
     "iopub.status.idle": "2023-12-09T03:33:29.047033Z",
     "shell.execute_reply": "2023-12-09T03:33:29.046033Z"
    },
    "papermill": {
     "duration": 1.1259,
     "end_time": "2023-12-09T03:33:29.049874",
     "exception": false,
     "start_time": "2023-12-09T03:33:27.923974",
     "status": "completed"
    },
    "tags": []
   },
   "outputs": [
    {
     "name": "stdout",
     "output_type": "stream",
     "text": [
      "Started tokenization...\n"
     ]
    }
   ],
   "source": [
    "print('Started tokenization...')\n",
    "from datasets import load_from_disk\n",
    "tok_trds = load_from_disk('tokenized-train-dataset')\n",
    "tok_tsds = load_from_disk('tokenized-test-dataset')"
   ]
  },
  {
   "cell_type": "code",
   "execution_count": 18,
   "id": "68b58c44",
   "metadata": {
    "execution": {
     "iopub.execute_input": "2023-12-09T03:33:29.079224Z",
     "iopub.status.busy": "2023-12-09T03:33:29.078869Z",
     "iopub.status.idle": "2023-12-09T03:33:29.085711Z",
     "shell.execute_reply": "2023-12-09T03:33:29.084859Z"
    },
    "papermill": {
     "duration": 0.023581,
     "end_time": "2023-12-09T03:33:29.087599",
     "exception": false,
     "start_time": "2023-12-09T03:33:29.064018",
     "status": "completed"
    },
    "tags": []
   },
   "outputs": [
    {
     "data": {
      "text/plain": [
       "('CELL TYPE: NK cells; TREATMENT: Sunitinib; GENE: LINC00824',\n",
       " (#19) [1,72954,45168,294,27507,1891,346,91354,294,3041...])"
      ]
     },
     "execution_count": 18,
     "metadata": {},
     "output_type": "execute_result"
    }
   ],
   "source": [
    "tok_trds[0]['input'], L(tok_trds[0]['input_ids'])"
   ]
  },
  {
   "cell_type": "code",
   "execution_count": 19,
   "id": "eddc9a3e",
   "metadata": {
    "execution": {
     "iopub.execute_input": "2023-12-09T03:33:29.116486Z",
     "iopub.status.busy": "2023-12-09T03:33:29.116219Z",
     "iopub.status.idle": "2023-12-09T03:33:29.122753Z",
     "shell.execute_reply": "2023-12-09T03:33:29.121996Z"
    },
    "papermill": {
     "duration": 0.023021,
     "end_time": "2023-12-09T03:33:29.124616",
     "exception": false,
     "start_time": "2023-12-09T03:33:29.101595",
     "status": "completed"
    },
    "tags": []
   },
   "outputs": [
    {
     "data": {
      "text/plain": [
       "('CELL TYPE: B cells; TREATMENT: 5-(9-Isopropyl-8-methyl-2-morpholino-9H-purin-6-yl)pyrimidin-2-amine; GENE: A1BG',\n",
       " (#49) [1,72954,45168,294,736,1891,346,91354,294,456...])"
      ]
     },
     "execution_count": 19,
     "metadata": {},
     "output_type": "execute_result"
    }
   ],
   "source": [
    "tok_tsds[0]['input'], L(tok_tsds[0]['input_ids'])"
   ]
  },
  {
   "cell_type": "code",
   "execution_count": 20,
   "id": "6278b114",
   "metadata": {
    "execution": {
     "iopub.execute_input": "2023-12-09T03:33:29.153470Z",
     "iopub.status.busy": "2023-12-09T03:33:29.153211Z",
     "iopub.status.idle": "2023-12-09T03:33:29.159297Z",
     "shell.execute_reply": "2023-12-09T03:33:29.158466Z"
    },
    "papermill": {
     "duration": 0.023645,
     "end_time": "2023-12-09T03:33:29.162105",
     "exception": false,
     "start_time": "2023-12-09T03:33:29.138460",
     "status": "completed"
    },
    "tags": []
   },
   "outputs": [
    {
     "name": "stdout",
     "output_type": "stream",
     "text": [
      "[CLS]\n",
      "CELL\n",
      "TYPE\n",
      ":\n",
      "B\n",
      "cells\n",
      ";\n",
      "TREATMENT\n",
      ":\n",
      "5\n",
      "-\n",
      "(\n",
      "9\n",
      "-\n",
      "I\n",
      "so\n",
      "propyl\n",
      "-\n",
      "8\n",
      "-\n",
      "methyl\n",
      "-\n",
      "2\n",
      "-\n",
      "morph\n",
      "olino\n",
      "-\n",
      "9\n",
      "H\n",
      "-\n",
      "pur\n",
      "in\n",
      "-\n",
      "6\n",
      "-\n",
      "yl\n",
      ")\n",
      "pyrimidin\n",
      "-\n",
      "2\n",
      "-\n",
      "amine\n",
      ";\n",
      "GENE\n",
      ":\n",
      "A\n",
      "1\n",
      "BG\n",
      "[SEP]\n"
     ]
    }
   ],
   "source": [
    "for i in tok_tsds[0]['input_ids']:\n",
    "    print(tokz.decode(i))"
   ]
  },
  {
   "cell_type": "code",
   "execution_count": 21,
   "id": "429920bb",
   "metadata": {
    "execution": {
     "iopub.execute_input": "2023-12-09T03:33:29.193087Z",
     "iopub.status.busy": "2023-12-09T03:33:29.192784Z",
     "iopub.status.idle": "2023-12-09T03:33:29.202104Z",
     "shell.execute_reply": "2023-12-09T03:33:29.201365Z"
    },
    "papermill": {
     "duration": 0.026071,
     "end_time": "2023-12-09T03:33:29.203901",
     "exception": false,
     "start_time": "2023-12-09T03:33:29.177830",
     "status": "completed"
    },
    "tags": []
   },
   "outputs": [
    {
     "data": {
      "text/plain": [
       "Dataset({\n",
       "    features: ['cell_type', 'sm_name', 'gene', 'labels', 'input', 'input_ids', 'token_type_ids', 'attention_mask'],\n",
       "    num_rows: 223631\n",
       "})"
      ]
     },
     "execution_count": 21,
     "metadata": {},
     "output_type": "execute_result"
    }
   ],
   "source": [
    "tok_trds = tok_trds.rename_columns({\"value\":\"labels\"})\n",
    "tok_trds"
   ]
  },
  {
   "cell_type": "markdown",
   "id": "a70283cd",
   "metadata": {
    "papermill": {
     "duration": 0.014251,
     "end_time": "2023-12-09T03:33:29.232287",
     "exception": false,
     "start_time": "2023-12-09T03:33:29.218036",
     "status": "completed"
    },
    "tags": []
   },
   "source": [
    "### Split Train Data"
   ]
  },
  {
   "cell_type": "code",
   "execution_count": 22,
   "id": "0402cae6",
   "metadata": {
    "execution": {
     "iopub.execute_input": "2023-12-09T03:33:29.270824Z",
     "iopub.status.busy": "2023-12-09T03:33:29.269910Z",
     "iopub.status.idle": "2023-12-09T03:33:29.369317Z",
     "shell.execute_reply": "2023-12-09T03:33:29.368400Z"
    },
    "papermill": {
     "duration": 0.122454,
     "end_time": "2023-12-09T03:33:29.371351",
     "exception": false,
     "start_time": "2023-12-09T03:33:29.248897",
     "status": "completed"
    },
    "tags": []
   },
   "outputs": [
    {
     "data": {
      "text/plain": [
       "DatasetDict({\n",
       "    train: Dataset({\n",
       "        features: ['cell_type', 'sm_name', 'gene', 'labels', 'input', 'input_ids', 'token_type_ids', 'attention_mask'],\n",
       "        num_rows: 178904\n",
       "    })\n",
       "    test: Dataset({\n",
       "        features: ['cell_type', 'sm_name', 'gene', 'labels', 'input', 'input_ids', 'token_type_ids', 'attention_mask'],\n",
       "        num_rows: 44727\n",
       "    })\n",
       "})"
      ]
     },
     "execution_count": 22,
     "metadata": {},
     "output_type": "execute_result"
    }
   ],
   "source": [
    "dds = tok_trds.train_test_split(0.20, seed=random_seed)\n",
    "dds"
   ]
  },
  {
   "cell_type": "markdown",
   "id": "6d36f364",
   "metadata": {
    "papermill": {
     "duration": 0.014131,
     "end_time": "2023-12-09T03:33:29.400387",
     "exception": false,
     "start_time": "2023-12-09T03:33:29.386256",
     "status": "completed"
    },
    "tags": []
   },
   "source": [
    "### Define Model"
   ]
  },
  {
   "cell_type": "code",
   "execution_count": 23,
   "id": "eee59220",
   "metadata": {
    "execution": {
     "iopub.execute_input": "2023-12-09T03:33:29.430152Z",
     "iopub.status.busy": "2023-12-09T03:33:29.429816Z",
     "iopub.status.idle": "2023-12-09T03:33:29.433865Z",
     "shell.execute_reply": "2023-12-09T03:33:29.433147Z"
    },
    "papermill": {
     "duration": 0.021015,
     "end_time": "2023-12-09T03:33:29.435652",
     "exception": false,
     "start_time": "2023-12-09T03:33:29.414637",
     "status": "completed"
    },
    "tags": []
   },
   "outputs": [],
   "source": [
    "bs = 64\n",
    "epochs = 5\n",
    "lr = 8e-5"
   ]
  },
  {
   "cell_type": "code",
   "execution_count": 24,
   "id": "31cbc810",
   "metadata": {
    "execution": {
     "iopub.execute_input": "2023-12-09T03:33:29.465223Z",
     "iopub.status.busy": "2023-12-09T03:33:29.464921Z",
     "iopub.status.idle": "2023-12-09T03:33:29.470444Z",
     "shell.execute_reply": "2023-12-09T03:33:29.469648Z"
    },
    "papermill": {
     "duration": 0.022447,
     "end_time": "2023-12-09T03:33:29.472301",
     "exception": false,
     "start_time": "2023-12-09T03:33:29.449854",
     "status": "completed"
    },
    "tags": []
   },
   "outputs": [
    {
     "data": {
      "text/plain": [
       "2795"
      ]
     },
     "execution_count": 24,
     "metadata": {},
     "output_type": "execute_result"
    }
   ],
   "source": [
    "steps = len(dds['train']) // bs\n",
    "steps"
   ]
  },
  {
   "cell_type": "code",
   "execution_count": 25,
   "id": "1a7fe70b",
   "metadata": {
    "execution": {
     "iopub.execute_input": "2023-12-09T03:33:29.502057Z",
     "iopub.status.busy": "2023-12-09T03:33:29.501784Z",
     "iopub.status.idle": "2023-12-09T03:33:29.776350Z",
     "shell.execute_reply": "2023-12-09T03:33:29.775578Z"
    },
    "papermill": {
     "duration": 0.292,
     "end_time": "2023-12-09T03:33:29.778631",
     "exception": false,
     "start_time": "2023-12-09T03:33:29.486631",
     "status": "completed"
    },
    "tags": []
   },
   "outputs": [],
   "source": [
    "from transformers import TrainingArguments, Trainer\n",
    "\n",
    "args = TrainingArguments('outputs', save_steps=steps, learning_rate=lr, warmup_ratio=0.1, lr_scheduler_type='cosine', fp16=True,\n",
    "    evaluation_strategy=\"epoch\", per_device_train_batch_size=bs, per_device_eval_batch_size=bs*2,\n",
    "    num_train_epochs=epochs, weight_decay=0.01, report_to='none', seed=random_seed) # resume_from_checkpoint=\"/kaggle/working/20231005/outputs/checkpoint-104826\""
   ]
  },
  {
   "cell_type": "code",
   "execution_count": 26,
   "id": "fc221ea9",
   "metadata": {
    "execution": {
     "iopub.execute_input": "2023-12-09T03:33:29.809760Z",
     "iopub.status.busy": "2023-12-09T03:33:29.809448Z",
     "iopub.status.idle": "2023-12-09T03:33:54.527013Z",
     "shell.execute_reply": "2023-12-09T03:33:54.526227Z"
    },
    "papermill": {
     "duration": 24.735377,
     "end_time": "2023-12-09T03:33:54.529374",
     "exception": false,
     "start_time": "2023-12-09T03:33:29.793997",
     "status": "completed"
    },
    "tags": []
   },
   "outputs": [
    {
     "data": {
      "application/vnd.jupyter.widget-view+json": {
       "model_id": "8b0aa15bb77446ec80dd3d0c7015e206",
       "version_major": 2,
       "version_minor": 0
      },
      "text/plain": [
       "pytorch_model.bin:   0%|          | 0.00/286M [00:00<?, ?B/s]"
      ]
     },
     "metadata": {},
     "output_type": "display_data"
    },
    {
     "name": "stderr",
     "output_type": "stream",
     "text": [
      "Some weights of DebertaV2ForSequenceClassification were not initialized from the model checkpoint at microsoft/deberta-v3-small and are newly initialized: ['classifier.weight', 'classifier.bias', 'pooler.dense.bias', 'pooler.dense.weight']\n",
      "You should probably TRAIN this model on a down-stream task to be able to use it for predictions and inference.\n"
     ]
    }
   ],
   "source": [
    "model = AutoModelForSequenceClassification.from_pretrained(model_nm, num_labels=1) # for checkpoint use e.g. \"/kaggle/working/20231005/outputs/checkpoint-104826\" instead of model_nm\n",
    "trainer = Trainer(model, args, train_dataset=dds['train'], eval_dataset=dds['test'],\n",
    "                  tokenizer=tokz)"
   ]
  },
  {
   "cell_type": "markdown",
   "id": "a1d7cec6",
   "metadata": {
    "papermill": {
     "duration": 0.014612,
     "end_time": "2023-12-09T03:33:54.559510",
     "exception": false,
     "start_time": "2023-12-09T03:33:54.544898",
     "status": "completed"
    },
    "tags": []
   },
   "source": [
    "## Training"
   ]
  },
  {
   "cell_type": "code",
   "execution_count": 27,
   "id": "533474b2",
   "metadata": {
    "execution": {
     "iopub.execute_input": "2023-12-09T03:33:54.590718Z",
     "iopub.status.busy": "2023-12-09T03:33:54.589940Z",
     "iopub.status.idle": "2023-12-09T04:23:33.018813Z",
     "shell.execute_reply": "2023-12-09T04:23:33.017872Z"
    },
    "papermill": {
     "duration": 2978.446494,
     "end_time": "2023-12-09T04:23:33.020728",
     "exception": false,
     "start_time": "2023-12-09T03:33:54.574234",
     "status": "completed"
    },
    "tags": []
   },
   "outputs": [
    {
     "name": "stderr",
     "output_type": "stream",
     "text": [
      "You're using a DebertaV2TokenizerFast tokenizer. Please note that with a fast tokenizer, using the `__call__` method is faster than using a method to encode the text followed by a call to the `pad` method to get a padded encoding.\n"
     ]
    },
    {
     "name": "stdout",
     "output_type": "stream",
     "text": [
      "Started training...\n"
     ]
    },
    {
     "data": {
      "text/html": [
       "\n",
       "    <div>\n",
       "      \n",
       "      <progress value='13980' max='13980' style='width:300px; height:20px; vertical-align: middle;'></progress>\n",
       "      [13980/13980 49:35, Epoch 5/5]\n",
       "    </div>\n",
       "    <table border=\"1\" class=\"dataframe\">\n",
       "  <thead>\n",
       " <tr style=\"text-align: left;\">\n",
       "      <th>Epoch</th>\n",
       "      <th>Training Loss</th>\n",
       "      <th>Validation Loss</th>\n",
       "    </tr>\n",
       "  </thead>\n",
       "  <tbody>\n",
       "    <tr>\n",
       "      <td>1</td>\n",
       "      <td>4.658900</td>\n",
       "      <td>4.424396</td>\n",
       "    </tr>\n",
       "    <tr>\n",
       "      <td>2</td>\n",
       "      <td>3.747700</td>\n",
       "      <td>4.076654</td>\n",
       "    </tr>\n",
       "    <tr>\n",
       "      <td>3</td>\n",
       "      <td>3.962600</td>\n",
       "      <td>3.998851</td>\n",
       "    </tr>\n",
       "    <tr>\n",
       "      <td>4</td>\n",
       "      <td>2.957700</td>\n",
       "      <td>3.878659</td>\n",
       "    </tr>\n",
       "    <tr>\n",
       "      <td>5</td>\n",
       "      <td>2.997100</td>\n",
       "      <td>3.800170</td>\n",
       "    </tr>\n",
       "  </tbody>\n",
       "</table><p>"
      ],
      "text/plain": [
       "<IPython.core.display.HTML object>"
      ]
     },
     "metadata": {},
     "output_type": "display_data"
    },
    {
     "data": {
      "text/plain": [
       "TrainOutput(global_step=13980, training_loss=3.7786596906713834, metrics={'train_runtime': 2978.1551, 'train_samples_per_second': 300.36, 'train_steps_per_second': 4.694, 'total_flos': 8643392775930000.0, 'train_loss': 3.7786596906713834, 'epoch': 5.0})"
      ]
     },
     "execution_count": 27,
     "metadata": {},
     "output_type": "execute_result"
    }
   ],
   "source": [
    "print('Started training...')\n",
    "trainer.train()"
   ]
  },
  {
   "cell_type": "code",
   "execution_count": 28,
   "id": "ff574c9b",
   "metadata": {
    "execution": {
     "iopub.execute_input": "2023-12-09T04:23:33.053262Z",
     "iopub.status.busy": "2023-12-09T04:23:33.052522Z",
     "iopub.status.idle": "2023-12-09T04:23:34.311785Z",
     "shell.execute_reply": "2023-12-09T04:23:34.310782Z"
    },
    "papermill": {
     "duration": 1.278,
     "end_time": "2023-12-09T04:23:34.314182",
     "exception": false,
     "start_time": "2023-12-09T04:23:33.036182",
     "status": "completed"
    },
    "tags": []
   },
   "outputs": [],
   "source": [
    "model_string = 'deberta-v3-small_sparse_prompt_5eps42'\n",
    "trainer.save_model(f'./{model_string}/')"
   ]
  },
  {
   "cell_type": "code",
   "execution_count": 29,
   "id": "2ebeb7e3",
   "metadata": {
    "execution": {
     "iopub.execute_input": "2023-12-09T04:23:34.346875Z",
     "iopub.status.busy": "2023-12-09T04:23:34.346529Z",
     "iopub.status.idle": "2023-12-09T04:23:35.330188Z",
     "shell.execute_reply": "2023-12-09T04:23:35.329257Z"
    },
    "papermill": {
     "duration": 1.002591,
     "end_time": "2023-12-09T04:23:35.332512",
     "exception": false,
     "start_time": "2023-12-09T04:23:34.329921",
     "status": "completed"
    },
    "tags": []
   },
   "outputs": [
    {
     "data": {
      "image/png": "[encoded data removed]",
      "text/plain": [
       "<Figure size 1200x500 with 2 Axes>"
      ]
     },
     "metadata": {},
     "output_type": "display_data"
    }
   ],
   "source": [
    "valid_loss_history = [log['eval_loss'] for log in trainer.state.log_history if 'eval_loss' in log]\n",
    "valid_step_history = [log['step'] for log in trainer.state.log_history if 'eval_loss' in log]\n",
    "train_loss_history = [log['loss'] for log in trainer.state.log_history if 'loss' in log]\n",
    "train_step_history = [log['step'] for log in trainer.state.log_history if 'loss' in log]\n",
    "lrate_history = [log['learning_rate'] for log in trainer.state.log_history if 'loss' in log]\n",
    "epoch_history = [log['epoch'] for log in trainer.state.log_history if 'eval_loss' in log]\n",
    "\n",
    "fig, (ax1, ax2) = plt.subplots(1, 2, figsize=(12, 5))\n",
    "\n",
    "ax1.plot(valid_step_history, valid_loss_history)\n",
    "ax1.plot(train_step_history, train_loss_history)\n",
    "ax1.set_xlabel('Step')\n",
    "ax1.set_ylabel('Loss')\n",
    "ax1.set_title('Loss History')\n",
    "\n",
    "ax2.plot(train_step_history, lrate_history)\n",
    "ax2.set_xlabel('Step')\n",
    "ax2.set_ylabel('Learning Rate')\n",
    "ax2.set_title('Learning Rate History')\n",
    "\n",
    "plt.savefig(f'{model_string}_training.pdf', format='pdf')\n",
    "plt.tight_layout\n",
    "plt.show()"
   ]
  },
  {
   "cell_type": "code",
   "execution_count": 30,
   "id": "cd6f0284",
   "metadata": {
    "execution": {
     "iopub.execute_input": "2023-12-09T04:23:35.366690Z",
     "iopub.status.busy": "2023-12-09T04:23:35.366044Z",
     "iopub.status.idle": "2023-12-09T04:23:35.371170Z",
     "shell.execute_reply": "2023-12-09T04:23:35.370457Z"
    },
    "papermill": {
     "duration": 0.024141,
     "end_time": "2023-12-09T04:23:35.373121",
     "exception": false,
     "start_time": "2023-12-09T04:23:35.348980",
     "status": "completed"
    },
    "tags": []
   },
   "outputs": [],
   "source": [
    "with open(f'{model_string}_training_history.txt', 'w') as file:\n",
    "    file.write(str(trainer.state.log_history))"
   ]
  },
  {
   "cell_type": "markdown",
   "id": "121babc9",
   "metadata": {
    "papermill": {
     "duration": 0.015724,
     "end_time": "2023-12-09T04:23:35.404730",
     "exception": false,
     "start_time": "2023-12-09T04:23:35.389006",
     "status": "completed"
    },
    "tags": []
   },
   "source": [
    "## Predict"
   ]
  },
  {
   "cell_type": "code",
   "execution_count": 31,
   "id": "7047db84",
   "metadata": {
    "execution": {
     "iopub.execute_input": "2023-12-09T04:23:35.437903Z",
     "iopub.status.busy": "2023-12-09T04:23:35.437638Z",
     "iopub.status.idle": "2023-12-09T05:48:08.726835Z",
     "shell.execute_reply": "2023-12-09T05:48:08.725749Z"
    },
    "papermill": {
     "duration": 5073.308255,
     "end_time": "2023-12-09T05:48:08.729051",
     "exception": false,
     "start_time": "2023-12-09T04:23:35.420796",
     "status": "completed"
    },
    "tags": []
   },
   "outputs": [
    {
     "name": "stdout",
     "output_type": "stream",
     "text": [
      "Started inference...\n"
     ]
    },
    {
     "data": {
      "text/html": [],
      "text/plain": [
       "<IPython.core.display.HTML object>"
      ]
     },
     "metadata": {},
     "output_type": "display_data"
    },
    {
     "data": {
      "text/plain": [
       "array([[ 0.29223633],\n",
       "       [ 0.08538818],\n",
       "       [ 0.38500977],\n",
       "       ...,\n",
       "       [-0.05145264],\n",
       "       [ 3.3671875 ],\n",
       "       [ 0.13562012]])"
      ]
     },
     "execution_count": 31,
     "metadata": {},
     "output_type": "execute_result"
    }
   ],
   "source": [
    "print('Started inference...')\n",
    "preds = trainer.predict(tok_tsds).predictions.astype(float)\n",
    "preds"
   ]
  },
  {
   "cell_type": "code",
   "execution_count": 32,
   "id": "63f55489",
   "metadata": {
    "execution": {
     "iopub.execute_input": "2023-12-09T05:48:08.764196Z",
     "iopub.status.busy": "2023-12-09T05:48:08.763843Z",
     "iopub.status.idle": "2023-12-09T05:48:08.773314Z",
     "shell.execute_reply": "2023-12-09T05:48:08.772434Z"
    },
    "papermill": {
     "duration": 0.02873,
     "end_time": "2023-12-09T05:48:08.775142",
     "exception": false,
     "start_time": "2023-12-09T05:48:08.746412",
     "status": "completed"
    },
    "tags": []
   },
   "outputs": [
    {
     "data": {
      "text/plain": [
       "(21.78125, -1.9404296875)"
      ]
     },
     "execution_count": 32,
     "metadata": {},
     "output_type": "execute_result"
    }
   ],
   "source": [
    "preds.max(), preds.min()"
   ]
  },
  {
   "cell_type": "code",
   "execution_count": 33,
   "id": "1bffa420",
   "metadata": {
    "execution": {
     "iopub.execute_input": "2023-12-09T05:48:08.809595Z",
     "iopub.status.busy": "2023-12-09T05:48:08.809311Z",
     "iopub.status.idle": "2023-12-09T05:48:08.834531Z",
     "shell.execute_reply": "2023-12-09T05:48:08.833604Z"
    },
    "papermill": {
     "duration": 0.044837,
     "end_time": "2023-12-09T05:48:08.836658",
     "exception": false,
     "start_time": "2023-12-09T05:48:08.791821",
     "status": "completed"
    },
    "tags": []
   },
   "outputs": [
    {
     "data": {
      "text/plain": [
       "array([[ 0.2922],\n",
       "       [ 0.0854],\n",
       "       [ 0.385 ],\n",
       "       ...,\n",
       "       [-0.0515],\n",
       "       [ 3.3672],\n",
       "       [ 0.1356]])"
      ]
     },
     "execution_count": 33,
     "metadata": {},
     "output_type": "execute_result"
    }
   ],
   "source": [
    "preds_rounded = np.round_(preds, 4)\n",
    "preds_rounded"
   ]
  },
  {
   "cell_type": "markdown",
   "id": "a4da1ddd",
   "metadata": {
    "papermill": {
     "duration": 0.016802,
     "end_time": "2023-12-09T05:48:08.870936",
     "exception": false,
     "start_time": "2023-12-09T05:48:08.854134",
     "status": "completed"
    },
    "tags": []
   },
   "source": [
    "In the last step I reshape the predictions back into a 255 x 18211 tensor for submission:"
   ]
  },
  {
   "cell_type": "code",
   "execution_count": 34,
   "id": "3f9c0a4f",
   "metadata": {
    "execution": {
     "iopub.execute_input": "2023-12-09T05:48:08.905843Z",
     "iopub.status.busy": "2023-12-09T05:48:08.905516Z",
     "iopub.status.idle": "2023-12-09T05:48:08.909670Z",
     "shell.execute_reply": "2023-12-09T05:48:08.908821Z"
    },
    "papermill": {
     "duration": 0.023769,
     "end_time": "2023-12-09T05:48:08.911481",
     "exception": false,
     "start_time": "2023-12-09T05:48:08.887712",
     "status": "completed"
    },
    "tags": []
   },
   "outputs": [],
   "source": [
    "to_submit = preds_rounded.reshape(18211, -1).T"
   ]
  },
  {
   "cell_type": "code",
   "execution_count": 35,
   "id": "17688ddd",
   "metadata": {
    "execution": {
     "iopub.execute_input": "2023-12-09T05:48:08.946417Z",
     "iopub.status.busy": "2023-12-09T05:48:08.946145Z",
     "iopub.status.idle": "2023-12-09T05:48:09.010553Z",
     "shell.execute_reply": "2023-12-09T05:48:09.009585Z"
    },
    "papermill": {
     "duration": 0.084386,
     "end_time": "2023-12-09T05:48:09.012784",
     "exception": false,
     "start_time": "2023-12-09T05:48:08.928398",
     "status": "completed"
    },
    "tags": []
   },
   "outputs": [
    {
     "data": {
      "text/html": [
       "<div>\n",
       "<style scoped>\n",
       "    .dataframe tbody tr th:only-of-type {\n",
       "        vertical-align: middle;\n",
       "    }\n",
       "\n",
       "    .dataframe tbody tr th {\n",
       "        vertical-align: top;\n",
       "    }\n",
       "\n",
       "    .dataframe thead th {\n",
       "        text-align: right;\n",
       "    }\n",
       "</style>\n",
       "<table border=\"1\" class=\"dataframe\">\n",
       "  <thead>\n",
       "    <tr style=\"text-align: right;\">\n",
       "      <th></th>\n",
       "      <th>A1BG</th>\n",
       "      <th>A1BG-AS1</th>\n",
       "      <th>A2M</th>\n",
       "      <th>A2M-AS1</th>\n",
       "      <th>A2MP1</th>\n",
       "      <th>A4GALT</th>\n",
       "      <th>AAAS</th>\n",
       "      <th>AACS</th>\n",
       "      <th>AAGAB</th>\n",
       "      <th>AAK1</th>\n",
       "      <th>...</th>\n",
       "      <th>ZUP1</th>\n",
       "      <th>ZW10</th>\n",
       "      <th>ZWILCH</th>\n",
       "      <th>ZWINT</th>\n",
       "      <th>ZXDA</th>\n",
       "      <th>ZXDB</th>\n",
       "      <th>ZXDC</th>\n",
       "      <th>ZYG11B</th>\n",
       "      <th>ZYX</th>\n",
       "      <th>ZZEF1</th>\n",
       "    </tr>\n",
       "    <tr>\n",
       "      <th>id</th>\n",
       "      <th></th>\n",
       "      <th></th>\n",
       "      <th></th>\n",
       "      <th></th>\n",
       "      <th></th>\n",
       "      <th></th>\n",
       "      <th></th>\n",
       "      <th></th>\n",
       "      <th></th>\n",
       "      <th></th>\n",
       "      <th></th>\n",
       "      <th></th>\n",
       "      <th></th>\n",
       "      <th></th>\n",
       "      <th></th>\n",
       "      <th></th>\n",
       "      <th></th>\n",
       "      <th></th>\n",
       "      <th></th>\n",
       "      <th></th>\n",
       "      <th></th>\n",
       "    </tr>\n",
       "  </thead>\n",
       "  <tbody>\n",
       "    <tr>\n",
       "      <th>0</th>\n",
       "      <td>0.2922</td>\n",
       "      <td>0.4385</td>\n",
       "      <td>0.2299</td>\n",
       "      <td>0.4395</td>\n",
       "      <td>0.4011</td>\n",
       "      <td>0.3657</td>\n",
       "      <td>0.3103</td>\n",
       "      <td>0.4307</td>\n",
       "      <td>0.0262</td>\n",
       "      <td>0.4863</td>\n",
       "      <td>...</td>\n",
       "      <td>0.1892</td>\n",
       "      <td>0.2456</td>\n",
       "      <td>0.2668</td>\n",
       "      <td>0.3098</td>\n",
       "      <td>0.3162</td>\n",
       "      <td>0.3562</td>\n",
       "      <td>0.3997</td>\n",
       "      <td>0.2656</td>\n",
       "      <td>0.2471</td>\n",
       "      <td>0.4165</td>\n",
       "    </tr>\n",
       "    <tr>\n",
       "      <th>1</th>\n",
       "      <td>0.0854</td>\n",
       "      <td>0.1747</td>\n",
       "      <td>0.0409</td>\n",
       "      <td>0.1469</td>\n",
       "      <td>0.1151</td>\n",
       "      <td>0.1255</td>\n",
       "      <td>0.0752</td>\n",
       "      <td>0.1273</td>\n",
       "      <td>-0.0136</td>\n",
       "      <td>0.1840</td>\n",
       "      <td>...</td>\n",
       "      <td>0.0059</td>\n",
       "      <td>0.0612</td>\n",
       "      <td>0.0669</td>\n",
       "      <td>0.0830</td>\n",
       "      <td>0.0849</td>\n",
       "      <td>0.0917</td>\n",
       "      <td>0.0984</td>\n",
       "      <td>0.0688</td>\n",
       "      <td>0.0604</td>\n",
       "      <td>0.1458</td>\n",
       "    </tr>\n",
       "    <tr>\n",
       "      <th>2</th>\n",
       "      <td>0.3850</td>\n",
       "      <td>0.6890</td>\n",
       "      <td>0.1698</td>\n",
       "      <td>0.6162</td>\n",
       "      <td>0.5776</td>\n",
       "      <td>0.3643</td>\n",
       "      <td>0.1515</td>\n",
       "      <td>0.4375</td>\n",
       "      <td>-0.0202</td>\n",
       "      <td>0.6021</td>\n",
       "      <td>...</td>\n",
       "      <td>0.0086</td>\n",
       "      <td>0.2030</td>\n",
       "      <td>0.2478</td>\n",
       "      <td>0.2869</td>\n",
       "      <td>0.2739</td>\n",
       "      <td>0.3357</td>\n",
       "      <td>0.3792</td>\n",
       "      <td>0.1776</td>\n",
       "      <td>0.2083</td>\n",
       "      <td>0.4414</td>\n",
       "    </tr>\n",
       "    <tr>\n",
       "      <th>3</th>\n",
       "      <td>0.0331</td>\n",
       "      <td>0.1292</td>\n",
       "      <td>-0.0042</td>\n",
       "      <td>0.1091</td>\n",
       "      <td>0.0540</td>\n",
       "      <td>0.0824</td>\n",
       "      <td>0.0234</td>\n",
       "      <td>0.0779</td>\n",
       "      <td>-0.0175</td>\n",
       "      <td>0.1343</td>\n",
       "      <td>...</td>\n",
       "      <td>-0.0219</td>\n",
       "      <td>0.0147</td>\n",
       "      <td>0.0233</td>\n",
       "      <td>0.0371</td>\n",
       "      <td>0.0406</td>\n",
       "      <td>0.0326</td>\n",
       "      <td>0.0431</td>\n",
       "      <td>0.0269</td>\n",
       "      <td>0.0271</td>\n",
       "      <td>0.0830</td>\n",
       "    </tr>\n",
       "    <tr>\n",
       "      <th>4</th>\n",
       "      <td>0.0342</td>\n",
       "      <td>0.1246</td>\n",
       "      <td>0.0004</td>\n",
       "      <td>0.1099</td>\n",
       "      <td>0.0857</td>\n",
       "      <td>0.1204</td>\n",
       "      <td>-0.0170</td>\n",
       "      <td>0.1045</td>\n",
       "      <td>-0.0598</td>\n",
       "      <td>0.1357</td>\n",
       "      <td>...</td>\n",
       "      <td>-0.0468</td>\n",
       "      <td>0.0461</td>\n",
       "      <td>0.0334</td>\n",
       "      <td>0.0506</td>\n",
       "      <td>0.0555</td>\n",
       "      <td>0.0526</td>\n",
       "      <td>0.0767</td>\n",
       "      <td>0.0457</td>\n",
       "      <td>0.0184</td>\n",
       "      <td>0.1322</td>\n",
       "    </tr>\n",
       "    <tr>\n",
       "      <th>...</th>\n",
       "      <td>...</td>\n",
       "      <td>...</td>\n",
       "      <td>...</td>\n",
       "      <td>...</td>\n",
       "      <td>...</td>\n",
       "      <td>...</td>\n",
       "      <td>...</td>\n",
       "      <td>...</td>\n",
       "      <td>...</td>\n",
       "      <td>...</td>\n",
       "      <td>...</td>\n",
       "      <td>...</td>\n",
       "      <td>...</td>\n",
       "      <td>...</td>\n",
       "      <td>...</td>\n",
       "      <td>...</td>\n",
       "      <td>...</td>\n",
       "      <td>...</td>\n",
       "      <td>...</td>\n",
       "      <td>...</td>\n",
       "      <td>...</td>\n",
       "    </tr>\n",
       "    <tr>\n",
       "      <th>250</th>\n",
       "      <td>-0.1447</td>\n",
       "      <td>-0.0931</td>\n",
       "      <td>-0.2517</td>\n",
       "      <td>-0.1245</td>\n",
       "      <td>-0.1283</td>\n",
       "      <td>0.0005</td>\n",
       "      <td>-0.1587</td>\n",
       "      <td>-0.0127</td>\n",
       "      <td>-0.4153</td>\n",
       "      <td>-0.0107</td>\n",
       "      <td>...</td>\n",
       "      <td>-0.1782</td>\n",
       "      <td>-0.0953</td>\n",
       "      <td>-0.1113</td>\n",
       "      <td>-0.0707</td>\n",
       "      <td>-0.0752</td>\n",
       "      <td>-0.0645</td>\n",
       "      <td>-0.0313</td>\n",
       "      <td>-0.0810</td>\n",
       "      <td>-0.0898</td>\n",
       "      <td>-0.0236</td>\n",
       "    </tr>\n",
       "    <tr>\n",
       "      <th>251</th>\n",
       "      <td>0.2183</td>\n",
       "      <td>0.6333</td>\n",
       "      <td>0.1174</td>\n",
       "      <td>0.5850</td>\n",
       "      <td>0.4697</td>\n",
       "      <td>0.4583</td>\n",
       "      <td>0.0048</td>\n",
       "      <td>0.4924</td>\n",
       "      <td>-0.1866</td>\n",
       "      <td>0.5752</td>\n",
       "      <td>...</td>\n",
       "      <td>-0.0994</td>\n",
       "      <td>0.1683</td>\n",
       "      <td>0.1667</td>\n",
       "      <td>0.2338</td>\n",
       "      <td>0.1710</td>\n",
       "      <td>0.1965</td>\n",
       "      <td>0.2805</td>\n",
       "      <td>0.1146</td>\n",
       "      <td>0.1521</td>\n",
       "      <td>0.3435</td>\n",
       "    </tr>\n",
       "    <tr>\n",
       "      <th>252</th>\n",
       "      <td>-0.0651</td>\n",
       "      <td>-0.0233</td>\n",
       "      <td>-0.1216</td>\n",
       "      <td>-0.0489</td>\n",
       "      <td>-0.0821</td>\n",
       "      <td>0.0037</td>\n",
       "      <td>-0.0938</td>\n",
       "      <td>-0.0374</td>\n",
       "      <td>-0.2017</td>\n",
       "      <td>-0.0032</td>\n",
       "      <td>...</td>\n",
       "      <td>-0.1072</td>\n",
       "      <td>-0.0765</td>\n",
       "      <td>-0.0703</td>\n",
       "      <td>-0.0591</td>\n",
       "      <td>-0.0529</td>\n",
       "      <td>-0.0693</td>\n",
       "      <td>-0.0438</td>\n",
       "      <td>-0.0634</td>\n",
       "      <td>-0.0665</td>\n",
       "      <td>-0.0515</td>\n",
       "    </tr>\n",
       "    <tr>\n",
       "      <th>253</th>\n",
       "      <td>3.6172</td>\n",
       "      <td>3.7480</td>\n",
       "      <td>0.2891</td>\n",
       "      <td>2.5977</td>\n",
       "      <td>3.5273</td>\n",
       "      <td>4.4375</td>\n",
       "      <td>0.0650</td>\n",
       "      <td>1.7246</td>\n",
       "      <td>-0.8618</td>\n",
       "      <td>2.6855</td>\n",
       "      <td>...</td>\n",
       "      <td>-0.1885</td>\n",
       "      <td>0.3699</td>\n",
       "      <td>0.5610</td>\n",
       "      <td>0.8159</td>\n",
       "      <td>0.6182</td>\n",
       "      <td>1.1807</td>\n",
       "      <td>1.7676</td>\n",
       "      <td>0.2095</td>\n",
       "      <td>0.3792</td>\n",
       "      <td>3.3672</td>\n",
       "    </tr>\n",
       "    <tr>\n",
       "      <th>254</th>\n",
       "      <td>0.0475</td>\n",
       "      <td>0.2260</td>\n",
       "      <td>0.0045</td>\n",
       "      <td>0.1802</td>\n",
       "      <td>0.0820</td>\n",
       "      <td>0.1241</td>\n",
       "      <td>0.0062</td>\n",
       "      <td>0.1943</td>\n",
       "      <td>-0.2177</td>\n",
       "      <td>0.1951</td>\n",
       "      <td>...</td>\n",
       "      <td>-0.0995</td>\n",
       "      <td>0.0503</td>\n",
       "      <td>0.0434</td>\n",
       "      <td>0.0627</td>\n",
       "      <td>0.0421</td>\n",
       "      <td>0.0237</td>\n",
       "      <td>0.0669</td>\n",
       "      <td>0.0469</td>\n",
       "      <td>0.0283</td>\n",
       "      <td>0.1356</td>\n",
       "    </tr>\n",
       "  </tbody>\n",
       "</table>\n",
       "<p>255 rows × 18211 columns</p>\n",
       "</div>"
      ],
      "text/plain": [
       "       A1BG  A1BG-AS1     A2M  A2M-AS1   A2MP1  A4GALT    AAAS    AACS  \\\n",
       "id                                                                       \n",
       "0    0.2922    0.4385  0.2299   0.4395  0.4011  0.3657  0.3103  0.4307   \n",
       "1    0.0854    0.1747  0.0409   0.1469  0.1151  0.1255  0.0752  0.1273   \n",
       "2    0.3850    0.6890  0.1698   0.6162  0.5776  0.3643  0.1515  0.4375   \n",
       "3    0.0331    0.1292 -0.0042   0.1091  0.0540  0.0824  0.0234  0.0779   \n",
       "4    0.0342    0.1246  0.0004   0.1099  0.0857  0.1204 -0.0170  0.1045   \n",
       "..      ...       ...     ...      ...     ...     ...     ...     ...   \n",
       "250 -0.1447   -0.0931 -0.2517  -0.1245 -0.1283  0.0005 -0.1587 -0.0127   \n",
       "251  0.2183    0.6333  0.1174   0.5850  0.4697  0.4583  0.0048  0.4924   \n",
       "252 -0.0651   -0.0233 -0.1216  -0.0489 -0.0821  0.0037 -0.0938 -0.0374   \n",
       "253  3.6172    3.7480  0.2891   2.5977  3.5273  4.4375  0.0650  1.7246   \n",
       "254  0.0475    0.2260  0.0045   0.1802  0.0820  0.1241  0.0062  0.1943   \n",
       "\n",
       "      AAGAB    AAK1  ...    ZUP1    ZW10  ZWILCH   ZWINT    ZXDA    ZXDB  \\\n",
       "id                   ...                                                   \n",
       "0    0.0262  0.4863  ...  0.1892  0.2456  0.2668  0.3098  0.3162  0.3562   \n",
       "1   -0.0136  0.1840  ...  0.0059  0.0612  0.0669  0.0830  0.0849  0.0917   \n",
       "2   -0.0202  0.6021  ...  0.0086  0.2030  0.2478  0.2869  0.2739  0.3357   \n",
       "3   -0.0175  0.1343  ... -0.0219  0.0147  0.0233  0.0371  0.0406  0.0326   \n",
       "4   -0.0598  0.1357  ... -0.0468  0.0461  0.0334  0.0506  0.0555  0.0526   \n",
       "..      ...     ...  ...     ...     ...     ...     ...     ...     ...   \n",
       "250 -0.4153 -0.0107  ... -0.1782 -0.0953 -0.1113 -0.0707 -0.0752 -0.0645   \n",
       "251 -0.1866  0.5752  ... -0.0994  0.1683  0.1667  0.2338  0.1710  0.1965   \n",
       "252 -0.2017 -0.0032  ... -0.1072 -0.0765 -0.0703 -0.0591 -0.0529 -0.0693   \n",
       "253 -0.8618  2.6855  ... -0.1885  0.3699  0.5610  0.8159  0.6182  1.1807   \n",
       "254 -0.2177  0.1951  ... -0.0995  0.0503  0.0434  0.0627  0.0421  0.0237   \n",
       "\n",
       "       ZXDC  ZYG11B     ZYX   ZZEF1  \n",
       "id                                   \n",
       "0    0.3997  0.2656  0.2471  0.4165  \n",
       "1    0.0984  0.0688  0.0604  0.1458  \n",
       "2    0.3792  0.1776  0.2083  0.4414  \n",
       "3    0.0431  0.0269  0.0271  0.0830  \n",
       "4    0.0767  0.0457  0.0184  0.1322  \n",
       "..      ...     ...     ...     ...  \n",
       "250 -0.0313 -0.0810 -0.0898 -0.0236  \n",
       "251  0.2805  0.1146  0.1521  0.3435  \n",
       "252 -0.0438 -0.0634 -0.0665 -0.0515  \n",
       "253  1.7676  0.2095  0.3792  3.3672  \n",
       "254  0.0669  0.0469  0.0283  0.1356  \n",
       "\n",
       "[255 rows x 18211 columns]"
      ]
     },
     "execution_count": 35,
     "metadata": {},
     "output_type": "execute_result"
    }
   ],
   "source": [
    "submit = pd.DataFrame(to_submit, columns=df_de_train.iloc[:,5:].columns)\n",
    "submit.index.name = 'id'\n",
    "submit"
   ]
  },
  {
   "cell_type": "code",
   "execution_count": 36,
   "id": "0c642010",
   "metadata": {
    "execution": {
     "iopub.execute_input": "2023-12-09T05:48:09.051232Z",
     "iopub.status.busy": "2023-12-09T05:48:09.050476Z",
     "iopub.status.idle": "2023-12-09T05:48:15.486816Z",
     "shell.execute_reply": "2023-12-09T05:48:15.485771Z"
    },
    "papermill": {
     "duration": 6.457135,
     "end_time": "2023-12-09T05:48:15.489245",
     "exception": false,
     "start_time": "2023-12-09T05:48:09.032110",
     "status": "completed"
    },
    "tags": []
   },
   "outputs": [],
   "source": [
    "submit.to_csv(f'submission.csv')"
   ]
  }
 ],
 "metadata": {
  "kaggle": {
   "accelerator": "gpu",
   "dataSources": [
    {
     "databundleVersionId": 7010844,
     "sourceId": 59094,
     "sourceType": "competition"
    }
   ],
   "dockerImageVersionId": 30616,
   "isGpuEnabled": true,
   "isInternetEnabled": true,
   "language": "python",
   "sourceType": "notebook"
  },
  "kernelspec": {
   "display_name": "Python 3",
   "language": "python",
   "name": "python3"
  },
  "language_info": {
   "codemirror_mode": {
    "name": "ipython",
    "version": 3
   },
   "file_extension": ".py",
   "mimetype": "text/x-python",
   "name": "python",
   "nbconvert_exporter": "python",
   "pygments_lexer": "ipython3",
   "version": "3.10.12"
  },
  "papermill": {
   "default_parameters": {},
   "duration": 8397.694936,
   "end_time": "2023-12-09T05:48:18.833417",
   "environment_variables": {},
   "exception": null,
   "input_path": "__notebook__.ipynb",
   "output_path": "__notebook__.ipynb",
   "parameters": {},
   "start_time": "2023-12-09T03:28:21.138481",
   "version": "2.4.0"
  },
  "widgets": {
   "application/vnd.jupyter.widget-state+json": {
    "state": {
     "00506c3e98d54f7e857a8d23f6f3e049": {
      "model_module": "@jupyter-widgets/controls",
      "model_module_version": "1.5.0",
      "model_name": "FloatProgressModel",
      "state": {
       "_dom_classes": [],
       "_model_module": "@jupyter-widgets/controls",
       "_model_module_version": "1.5.0",
       "_model_name": "FloatProgressModel",
       "_view_count": null,
       "_view_module": "@jupyter-widgets/controls",
       "_view_module_version": "1.5.0",
       "_view_name": "ProgressView",
       "bar_style": "success",
       "description": "",
       "description_tooltip": null,
       "layout": "IPY_MODEL_7547dab448dc44c48800ca7d5a5176f4",
       "max": 2464616.0,
       "min": 0.0,
       "orientation": "horizontal",
       "style": "IPY_MODEL_4d066658cc46493eb861685016dfd667",
       "value": 2464616.0
      }
     },
     "044acf69490948c2ae0b7dbc4035b5d1": {
      "model_module": "@jupyter-widgets/controls",
      "model_module_version": "1.5.0",
      "model_name": "HTMLModel",
      "state": {
       "_dom_classes": [],
       "_model_module": "@jupyter-widgets/controls",
       "_model_module_version": "1.5.0",
       "_model_name": "HTMLModel",
       "_view_count": null,
       "_view_module": "@jupyter-widgets/controls",
       "_view_module_version": "1.5.0",
       "_view_name": "HTMLView",
       "description": "",
       "description_tooltip": null,
       "layout": "IPY_MODEL_b14e55917aca43fcb13d33b5453de2fc",
       "placeholder": "​",
       "style": "IPY_MODEL_bb0a63d4420b4d6ca8ef6adefff0dd5a",
       "value": "tokenizer_config.json: 100%"
      }
     },
     "06c10cbe5765468fab21e60509fa047f": {
      "model_module": "@jupyter-widgets/base",
      "model_module_version": "1.2.0",
      "model_name": "LayoutModel",
      "state": {
       "_model_module": "@jupyter-widgets/base",
       "_model_module_version": "1.2.0",
       "_model_name": "LayoutModel",
       "_view_count": null,
       "_view_module": "@jupyter-widgets/base",
       "_view_module_version": "1.2.0",
       "_view_name": "LayoutView",
       "align_content": null,
       "align_items": null,
       "align_self": null,
       "border": null,
       "bottom": null,
       "display": null,
       "flex": null,
       "flex_flow": null,
       "grid_area": null,
       "grid_auto_columns": null,
       "grid_auto_flow": null,
       "grid_auto_rows": null,
       "grid_column": null,
       "grid_gap": null,
       "grid_row": null,
       "grid_template_areas": null,
       "grid_template_columns": null,
       "grid_template_rows": null,
       "height": null,
       "justify_content": null,
       "justify_items": null,
       "left": null,
       "margin": null,
       "max_height": null,
       "max_width": null,
       "min_height": null,
       "min_width": null,
       "object_fit": null,
       "object_position": null,
       "order": null,
       "overflow": null,
       "overflow_x": null,
       "overflow_y": null,
       "padding": null,
       "right": null,
       "top": null,
       "visibility": null,
       "width": null
      }
     },
     "0701c5ca2b864222930b8e4c46feb30d": {
      "model_module": "@jupyter-widgets/base",
      "model_module_version": "1.2.0",
      "model_name": "LayoutModel",
      "state": {
       "_model_module": "@jupyter-widgets/base",
       "_model_module_version": "1.2.0",
       "_model_name": "LayoutModel",
       "_view_count": null,
       "_view_module": "@jupyter-widgets/base",
       "_view_module_version": "1.2.0",
       "_view_name": "LayoutView",
       "align_content": null,
       "align_items": null,
       "align_self": null,
       "border": null,
       "bottom": null,
       "display": null,
       "flex": null,
       "flex_flow": null,
       "grid_area": null,
       "grid_auto_columns": null,
       "grid_auto_flow": null,
       "grid_auto_rows": null,
       "grid_column": null,
       "grid_gap": null,
       "grid_row": null,
       "grid_template_areas": null,
       "grid_template_columns": null,
       "grid_template_rows": null,
       "height": null,
       "justify_content": null,
       "justify_items": null,
       "left": null,
       "margin": null,
       "max_height": null,
       "max_width": null,
       "min_height": null,
       "min_width": null,
       "object_fit": null,
       "object_position": null,
       "order": null,
       "overflow": null,
       "overflow_x": null,
       "overflow_y": null,
       "padding": null,
       "right": null,
       "top": null,
       "visibility": null,
       "width": null
      }
     },
     "10b055f6b94743b4b60742748e96c4fe": {
      "model_module": "@jupyter-widgets/controls",
      "model_module_version": "1.5.0",
      "model_name": "HBoxModel",
      "state": {
       "_dom_classes": [],
       "_model_module": "@jupyter-widgets/controls",
       "_model_module_version": "1.5.0",
       "_model_name": "HBoxModel",
       "_view_count": null,
       "_view_module": "@jupyter-widgets/controls",
       "_view_module_version": "1.5.0",
       "_view_name": "HBoxView",
       "box_style": "",
       "children": [
        "IPY_MODEL_33d36f3571784844994f87cebdc8229a",
        "IPY_MODEL_e9caea45726b49bbbde825b499fb87fa",
        "IPY_MODEL_a03b2527cbe24885be7081c70de573b3"
       ],
       "layout": "IPY_MODEL_9f2f36de6c80432b9c8b464033d6e26b"
      }
     },
     "15e6aedca89947d784e09b1607d4cf02": {
      "model_module": "@jupyter-widgets/controls",
      "model_module_version": "1.5.0",
      "model_name": "HBoxModel",
      "state": {
       "_dom_classes": [],
       "_model_module": "@jupyter-widgets/controls",
       "_model_module_version": "1.5.0",
       "_model_name": "HBoxModel",
       "_view_count": null,
       "_view_module": "@jupyter-widgets/controls",
       "_view_module_version": "1.5.0",
       "_view_name": "HBoxView",
       "box_style": "",
       "children": [
        "IPY_MODEL_f57bd139d466419ebaed0dd500b6f9a0",
        "IPY_MODEL_259272d2d7ec40bb82345a8ae674cb1e",
        "IPY_MODEL_1662f8fd9af14724a12c6d9b5b26f510"
       ],
       "layout": "IPY_MODEL_e7781a1a846848028e64d73800198a71"
      }
     },
     "1662f8fd9af14724a12c6d9b5b26f510": {
      "model_module": "@jupyter-widgets/controls",
      "model_module_version": "1.5.0",
      "model_name": "HTMLModel",
      "state": {
       "_dom_classes": [],
       "_model_module": "@jupyter-widgets/controls",
       "_model_module_version": "1.5.0",
       "_model_name": "HTMLModel",
       "_view_count": null,
       "_view_module": "@jupyter-widgets/controls",
       "_view_module_version": "1.5.0",
       "_view_name": "HTMLView",
       "description": "",
       "description_tooltip": null,
       "layout": "IPY_MODEL_62139d4c3c5140a2ac251dab969c0d97",
       "placeholder": "​",
       "style": "IPY_MODEL_c4dea0ee191b4460b2c43605649e0747",
       "value": " 224/224 [00:12&lt;00:00, 19.61ba/s]"
      }
     },
     "1d3dac59d9804dd69621778ea85e6837": {
      "model_module": "@jupyter-widgets/base",
      "model_module_version": "1.2.0",
      "model_name": "LayoutModel",
      "state": {
       "_model_module": "@jupyter-widgets/base",
       "_model_module_version": "1.2.0",
       "_model_name": "LayoutModel",
       "_view_count": null,
       "_view_module": "@jupyter-widgets/base",
       "_view_module_version": "1.2.0",
       "_view_name": "LayoutView",
       "align_content": null,
       "align_items": null,
       "align_self": null,
       "border": null,
       "bottom": null,
       "display": null,
       "flex": null,
       "flex_flow": null,
       "grid_area": null,
       "grid_auto_columns": null,
       "grid_auto_flow": null,
       "grid_auto_rows": null,
       "grid_column": null,
       "grid_gap": null,
       "grid_row": null,
       "grid_template_areas": null,
       "grid_template_columns": null,
       "grid_template_rows": null,
       "height": null,
       "justify_content": null,
       "justify_items": null,
       "left": null,
       "margin": null,
       "max_height": null,
       "max_width": null,
       "min_height": null,
       "min_width": null,
       "object_fit": null,
       "object_position": null,
       "order": null,
       "overflow": null,
       "overflow_x": null,
       "overflow_y": null,
       "padding": null,
       "right": null,
       "top": null,
       "visibility": null,
       "width": null
      }
     },
     "207eac5c3efd4fd9b5b09958c357cf87": {
      "model_module": "@jupyter-widgets/controls",
      "model_module_version": "1.5.0",
      "model_name": "ProgressStyleModel",
      "state": {
       "_model_module": "@jupyter-widgets/controls",
       "_model_module_version": "1.5.0",
       "_model_name": "ProgressStyleModel",
       "_view_count": null,
       "_view_module": "@jupyter-widgets/base",
       "_view_module_version": "1.2.0",
       "_view_name": "StyleView",
       "bar_color": null,
       "description_width": ""
      }
     },
     "249b3ade113144ba92581611b84a3fba": {
      "model_module": "@jupyter-widgets/controls",
      "model_module_version": "1.5.0",
      "model_name": "ProgressStyleModel",
      "state": {
       "_model_module": "@jupyter-widgets/controls",
       "_model_module_version": "1.5.0",
       "_model_name": "ProgressStyleModel",
       "_view_count": null,
       "_view_module": "@jupyter-widgets/base",
       "_view_module_version": "1.2.0",
       "_view_name": "StyleView",
       "bar_color": null,
       "description_width": ""
      }
     },
     "259272d2d7ec40bb82345a8ae674cb1e": {
      "model_module": "@jupyter-widgets/controls",
      "model_module_version": "1.5.0",
      "model_name": "FloatProgressModel",
      "state": {
       "_dom_classes": [],
       "_model_module": "@jupyter-widgets/controls",
       "_model_module_version": "1.5.0",
       "_model_name": "FloatProgressModel",
       "_view_count": null,
       "_view_module": "@jupyter-widgets/controls",
       "_view_module_version": "1.5.0",
       "_view_name": "ProgressView",
       "bar_style": "success",
       "description": "",
       "description_tooltip": null,
       "layout": "IPY_MODEL_48b0de0b8b0a47c5aa57acd0affb7e94",
       "max": 224.0,
       "min": 0.0,
       "orientation": "horizontal",
       "style": "IPY_MODEL_30e9a4d2c3304951a0f5a2aca1420d92",
       "value": 224.0
      }
     },
     "27be61badb7647eea375123fec748caf": {
      "model_module": "@jupyter-widgets/controls",
      "model_module_version": "1.5.0",
      "model_name": "HTMLModel",
      "state": {
       "_dom_classes": [],
       "_model_module": "@jupyter-widgets/controls",
       "_model_module_version": "1.5.0",
       "_model_name": "HTMLModel",
       "_view_count": null,
       "_view_module": "@jupyter-widgets/controls",
       "_view_module_version": "1.5.0",
       "_view_name": "HTMLView",
       "description": "",
       "description_tooltip": null,
       "layout": "IPY_MODEL_8fff7f4b7eba444ebcb41cbd52718363",
       "placeholder": "​",
       "style": "IPY_MODEL_503e4afa37d446d98bb1133ee9a62713",
       "value": "100%"
      }
     },
     "286de389c9a04fa19cdd6762c236c0d7": {
      "model_module": "@jupyter-widgets/base",
      "model_module_version": "1.2.0",
      "model_name": "LayoutModel",
      "state": {
       "_model_module": "@jupyter-widgets/base",
       "_model_module_version": "1.2.0",
       "_model_name": "LayoutModel",
       "_view_count": null,
       "_view_module": "@jupyter-widgets/base",
       "_view_module_version": "1.2.0",
       "_view_name": "LayoutView",
       "align_content": null,
       "align_items": null,
       "align_self": null,
       "border": null,
       "bottom": null,
       "display": null,
       "flex": null,
       "flex_flow": null,
       "grid_area": null,
       "grid_auto_columns": null,
       "grid_auto_flow": null,
       "grid_auto_rows": null,
       "grid_column": null,
       "grid_gap": null,
       "grid_row": null,
       "grid_template_areas": null,
       "grid_template_columns": null,
       "grid_template_rows": null,
       "height": null,
       "justify_content": null,
       "justify_items": null,
       "left": null,
       "margin": null,
       "max_height": null,
       "max_width": null,
       "min_height": null,
       "min_width": null,
       "object_fit": null,
       "object_position": null,
       "order": null,
       "overflow": null,
       "overflow_x": null,
       "overflow_y": null,
       "padding": null,
       "right": null,
       "top": null,
       "visibility": null,
       "width": null
      }
     },
     "2b0ced030c074c0a92ff7e25c4ff65ad": {
      "model_module": "@jupyter-widgets/base",
      "model_module_version": "1.2.0",
      "model_name": "LayoutModel",
      "state": {
       "_model_module": "@jupyter-widgets/base",
       "_model_module_version": "1.2.0",
       "_model_name": "LayoutModel",
       "_view_count": null,
       "_view_module": "@jupyter-widgets/base",
       "_view_module_version": "1.2.0",
       "_view_name": "LayoutView",
       "align_content": null,
       "align_items": null,
       "align_self": null,
       "border": null,
       "bottom": null,
       "display": null,
       "flex": null,
       "flex_flow": null,
       "grid_area": null,
       "grid_auto_columns": null,
       "grid_auto_flow": null,
       "grid_auto_rows": null,
       "grid_column": null,
       "grid_gap": null,
       "grid_row": null,
       "grid_template_areas": null,
       "grid_template_columns": null,
       "grid_template_rows": null,
       "height": null,
       "justify_content": null,
       "justify_items": null,
       "left": null,
       "margin": null,
       "max_height": null,
       "max_width": null,
       "min_height": null,
       "min_width": null,
       "object_fit": null,
       "object_position": null,
       "order": null,
       "overflow": null,
       "overflow_x": null,
       "overflow_y": null,
       "padding": null,
       "right": null,
       "top": null,
       "visibility": null,
       "width": null
      }
     },
     "2db664ff66fe4ead8485cef58a44dafe": {
      "model_module": "@jupyter-widgets/controls",
      "model_module_version": "1.5.0",
      "model_name": "DescriptionStyleModel",
      "state": {
       "_model_module": "@jupyter-widgets/controls",
       "_model_module_version": "1.5.0",
       "_model_name": "DescriptionStyleModel",
       "_view_count": null,
       "_view_module": "@jupyter-widgets/base",
       "_view_module_version": "1.2.0",
       "_view_name": "StyleView",
       "description_width": ""
      }
     },
     "2f03b11192e948279de5d79140664dcb": {
      "model_module": "@jupyter-widgets/controls",
      "model_module_version": "1.5.0",
      "model_name": "DescriptionStyleModel",
      "state": {
       "_model_module": "@jupyter-widgets/controls",
       "_model_module_version": "1.5.0",
       "_model_name": "DescriptionStyleModel",
       "_view_count": null,
       "_view_module": "@jupyter-widgets/base",
       "_view_module_version": "1.2.0",
       "_view_name": "StyleView",
       "description_width": ""
      }
     },
     "30e9a4d2c3304951a0f5a2aca1420d92": {
      "model_module": "@jupyter-widgets/controls",
      "model_module_version": "1.5.0",
      "model_name": "ProgressStyleModel",
      "state": {
       "_model_module": "@jupyter-widgets/controls",
       "_model_module_version": "1.5.0",
       "_model_name": "ProgressStyleModel",
       "_view_count": null,
       "_view_module": "@jupyter-widgets/base",
       "_view_module_version": "1.2.0",
       "_view_name": "StyleView",
       "bar_color": null,
       "description_width": ""
      }
     },
     "32c6a43fdbb4423f882e70b47d387eaa": {
      "model_module": "@jupyter-widgets/controls",
      "model_module_version": "1.5.0",
      "model_name": "HTMLModel",
      "state": {
       "_dom_classes": [],
       "_model_module": "@jupyter-widgets/controls",
       "_model_module_version": "1.5.0",
       "_model_name": "HTMLModel",
       "_view_count": null,
       "_view_module": "@jupyter-widgets/controls",
       "_view_module_version": "1.5.0",
       "_view_name": "HTMLView",
       "description": "",
       "description_tooltip": null,
       "layout": "IPY_MODEL_7fcc273bf9124f188b7eaa1c66b0adcf",
       "placeholder": "​",
       "style": "IPY_MODEL_dcc0b0bff38e4277863d4d6c6de8c8b5",
       "value": "pytorch_model.bin: 100%"
      }
     },
     "33d36f3571784844994f87cebdc8229a": {
      "model_module": "@jupyter-widgets/controls",
      "model_module_version": "1.5.0",
      "model_name": "HTMLModel",
      "state": {
       "_dom_classes": [],
       "_model_module": "@jupyter-widgets/controls",
       "_model_module_version": "1.5.0",
       "_model_name": "HTMLModel",
       "_view_count": null,
       "_view_module": "@jupyter-widgets/controls",
       "_view_module_version": "1.5.0",
       "_view_name": "HTMLView",
       "description": "",
       "description_tooltip": null,
       "layout": "IPY_MODEL_3e731f7265d040d286cc71574566c8e6",
       "placeholder": "​",
       "style": "IPY_MODEL_2db664ff66fe4ead8485cef58a44dafe",
       "value": "config.json: 100%"
      }
     },
     "3639fa606c7a4ba5a327b2210e1099c6": {
      "model_module": "@jupyter-widgets/base",
      "model_module_version": "1.2.0",
      "model_name": "LayoutModel",
      "state": {
       "_model_module": "@jupyter-widgets/base",
       "_model_module_version": "1.2.0",
       "_model_name": "LayoutModel",
       "_view_count": null,
       "_view_module": "@jupyter-widgets/base",
       "_view_module_version": "1.2.0",
       "_view_name": "LayoutView",
       "align_content": null,
       "align_items": null,
       "align_self": null,
       "border": null,
       "bottom": null,
       "display": null,
       "flex": null,
       "flex_flow": null,
       "grid_area": null,
       "grid_auto_columns": null,
       "grid_auto_flow": null,
       "grid_auto_rows": null,
       "grid_column": null,
       "grid_gap": null,
       "grid_row": null,
       "grid_template_areas": null,
       "grid_template_columns": null,
       "grid_template_rows": null,
       "height": null,
       "justify_content": null,
       "justify_items": null,
       "left": null,
       "margin": null,
       "max_height": null,
       "max_width": null,
       "min_height": null,
       "min_width": null,
       "object_fit": null,
       "object_position": null,
       "order": null,
       "overflow": null,
       "overflow_x": null,
       "overflow_y": null,
       "padding": null,
       "right": null,
       "top": null,
       "visibility": null,
       "width": null
      }
     },
     "3e731f7265d040d286cc71574566c8e6": {
      "model_module": "@jupyter-widgets/base",
      "model_module_version": "1.2.0",
      "model_name": "LayoutModel",
      "state": {
       "_model_module": "@jupyter-widgets/base",
       "_model_module_version": "1.2.0",
       "_model_name": "LayoutModel",
       "_view_count": null,
       "_view_module": "@jupyter-widgets/base",
       "_view_module_version": "1.2.0",
       "_view_name": "LayoutView",
       "align_content": null,
       "align_items": null,
       "align_self": null,
       "border": null,
       "bottom": null,
       "display": null,
       "flex": null,
       "flex_flow": null,
       "grid_area": null,
       "grid_auto_columns": null,
       "grid_auto_flow": null,
       "grid_auto_rows": null,
       "grid_column": null,
       "grid_gap": null,
       "grid_row": null,
       "grid_template_areas": null,
       "grid_template_columns": null,
       "grid_template_rows": null,
       "height": null,
       "justify_content": null,
       "justify_items": null,
       "left": null,
       "margin": null,
       "max_height": null,
       "max_width": null,
       "min_height": null,
       "min_width": null,
       "object_fit": null,
       "object_position": null,
       "order": null,
       "overflow": null,
       "overflow_x": null,
       "overflow_y": null,
       "padding": null,
       "right": null,
       "top": null,
       "visibility": null,
       "width": null
      }
     },
     "3eb2b7c6692c4dd8a63a3575e8ebd7ff": {
      "model_module": "@jupyter-widgets/controls",
      "model_module_version": "1.5.0",
      "model_name": "DescriptionStyleModel",
      "state": {
       "_model_module": "@jupyter-widgets/controls",
       "_model_module_version": "1.5.0",
       "_model_name": "DescriptionStyleModel",
       "_view_count": null,
       "_view_module": "@jupyter-widgets/base",
       "_view_module_version": "1.2.0",
       "_view_name": "StyleView",
       "description_width": ""
      }
     },
     "455d96c76fa347efbe7e1052d65f7780": {
      "model_module": "@jupyter-widgets/controls",
      "model_module_version": "1.5.0",
      "model_name": "DescriptionStyleModel",
      "state": {
       "_model_module": "@jupyter-widgets/controls",
       "_model_module_version": "1.5.0",
       "_model_name": "DescriptionStyleModel",
       "_view_count": null,
       "_view_module": "@jupyter-widgets/base",
       "_view_module_version": "1.2.0",
       "_view_name": "StyleView",
       "description_width": ""
      }
     },
     "48b0de0b8b0a47c5aa57acd0affb7e94": {
      "model_module": "@jupyter-widgets/base",
      "model_module_version": "1.2.0",
      "model_name": "LayoutModel",
      "state": {
       "_model_module": "@jupyter-widgets/base",
       "_model_module_version": "1.2.0",
       "_model_name": "LayoutModel",
       "_view_count": null,
       "_view_module": "@jupyter-widgets/base",
       "_view_module_version": "1.2.0",
       "_view_name": "LayoutView",
       "align_content": null,
       "align_items": null,
       "align_self": null,
       "border": null,
       "bottom": null,
       "display": null,
       "flex": null,
       "flex_flow": null,
       "grid_area": null,
       "grid_auto_columns": null,
       "grid_auto_flow": null,
       "grid_auto_rows": null,
       "grid_column": null,
       "grid_gap": null,
       "grid_row": null,
       "grid_template_areas": null,
       "grid_template_columns": null,
       "grid_template_rows": null,
       "height": null,
       "justify_content": null,
       "justify_items": null,
       "left": null,
       "margin": null,
       "max_height": null,
       "max_width": null,
       "min_height": null,
       "min_width": null,
       "object_fit": null,
       "object_position": null,
       "order": null,
       "overflow": null,
       "overflow_x": null,
       "overflow_y": null,
       "padding": null,
       "right": null,
       "top": null,
       "visibility": null,
       "width": null
      }
     },
     "4d066658cc46493eb861685016dfd667": {
      "model_module": "@jupyter-widgets/controls",
      "model_module_version": "1.5.0",
      "model_name": "ProgressStyleModel",
      "state": {
       "_model_module": "@jupyter-widgets/controls",
       "_model_module_version": "1.5.0",
       "_model_name": "ProgressStyleModel",
       "_view_count": null,
       "_view_module": "@jupyter-widgets/base",
       "_view_module_version": "1.2.0",
       "_view_name": "StyleView",
       "bar_color": null,
       "description_width": ""
      }
     },
     "4d2116317bca4a06ac1d973c32948c09": {
      "model_module": "@jupyter-widgets/base",
      "model_module_version": "1.2.0",
      "model_name": "LayoutModel",
      "state": {
       "_model_module": "@jupyter-widgets/base",
       "_model_module_version": "1.2.0",
       "_model_name": "LayoutModel",
       "_view_count": null,
       "_view_module": "@jupyter-widgets/base",
       "_view_module_version": "1.2.0",
       "_view_name": "LayoutView",
       "align_content": null,
       "align_items": null,
       "align_self": null,
       "border": null,
       "bottom": null,
       "display": null,
       "flex": null,
       "flex_flow": null,
       "grid_area": null,
       "grid_auto_columns": null,
       "grid_auto_flow": null,
       "grid_auto_rows": null,
       "grid_column": null,
       "grid_gap": null,
       "grid_row": null,
       "grid_template_areas": null,
       "grid_template_columns": null,
       "grid_template_rows": null,
       "height": null,
       "justify_content": null,
       "justify_items": null,
       "left": null,
       "margin": null,
       "max_height": null,
       "max_width": null,
       "min_height": null,
       "min_width": null,
       "object_fit": null,
       "object_position": null,
       "order": null,
       "overflow": null,
       "overflow_x": null,
       "overflow_y": null,
       "padding": null,
       "right": null,
       "top": null,
       "visibility": null,
       "width": null
      }
     },
     "503e4afa37d446d98bb1133ee9a62713": {
      "model_module": "@jupyter-widgets/controls",
      "model_module_version": "1.5.0",
      "model_name": "DescriptionStyleModel",
      "state": {
       "_model_module": "@jupyter-widgets/controls",
       "_model_module_version": "1.5.0",
       "_model_name": "DescriptionStyleModel",
       "_view_count": null,
       "_view_module": "@jupyter-widgets/base",
       "_view_module_version": "1.2.0",
       "_view_name": "StyleView",
       "description_width": ""
      }
     },
     "5fbf28a2c0eb43ad9fd4556d2623e7cd": {
      "model_module": "@jupyter-widgets/controls",
      "model_module_version": "1.5.0",
      "model_name": "ProgressStyleModel",
      "state": {
       "_model_module": "@jupyter-widgets/controls",
       "_model_module_version": "1.5.0",
       "_model_name": "ProgressStyleModel",
       "_view_count": null,
       "_view_module": "@jupyter-widgets/base",
       "_view_module_version": "1.2.0",
       "_view_name": "StyleView",
       "bar_color": null,
       "description_width": ""
      }
     },
     "611216b46b574be3ba82df1e2ded700f": {
      "model_module": "@jupyter-widgets/controls",
      "model_module_version": "1.5.0",
      "model_name": "HTMLModel",
      "state": {
       "_dom_classes": [],
       "_model_module": "@jupyter-widgets/controls",
       "_model_module_version": "1.5.0",
       "_model_name": "HTMLModel",
       "_view_count": null,
       "_view_module": "@jupyter-widgets/controls",
       "_view_module_version": "1.5.0",
       "_view_name": "HTMLView",
       "description": "",
       "description_tooltip": null,
       "layout": "IPY_MODEL_d6e84d3bb21e4b5f895eff162a85ce9a",
       "placeholder": "​",
       "style": "IPY_MODEL_895561a9e5004032871d84509aea51cb",
       "value": " 2.46M/2.46M [00:01&lt;00:00, 2.11MB/s]"
      }
     },
     "62139d4c3c5140a2ac251dab969c0d97": {
      "model_module": "@jupyter-widgets/base",
      "model_module_version": "1.2.0",
      "model_name": "LayoutModel",
      "state": {
       "_model_module": "@jupyter-widgets/base",
       "_model_module_version": "1.2.0",
       "_model_name": "LayoutModel",
       "_view_count": null,
       "_view_module": "@jupyter-widgets/base",
       "_view_module_version": "1.2.0",
       "_view_name": "LayoutView",
       "align_content": null,
       "align_items": null,
       "align_self": null,
       "border": null,
       "bottom": null,
       "display": null,
       "flex": null,
       "flex_flow": null,
       "grid_area": null,
       "grid_auto_columns": null,
       "grid_auto_flow": null,
       "grid_auto_rows": null,
       "grid_column": null,
       "grid_gap": null,
       "grid_row": null,
       "grid_template_areas": null,
       "grid_template_columns": null,
       "grid_template_rows": null,
       "height": null,
       "justify_content": null,
       "justify_items": null,
       "left": null,
       "margin": null,
       "max_height": null,
       "max_width": null,
       "min_height": null,
       "min_width": null,
       "object_fit": null,
       "object_position": null,
       "order": null,
       "overflow": null,
       "overflow_x": null,
       "overflow_y": null,
       "padding": null,
       "right": null,
       "top": null,
       "visibility": null,
       "width": null
      }
     },
     "715dedff781d401990a9a2f5ca91c8c3": {
      "model_module": "@jupyter-widgets/base",
      "model_module_version": "1.2.0",
      "model_name": "LayoutModel",
      "state": {
       "_model_module": "@jupyter-widgets/base",
       "_model_module_version": "1.2.0",
       "_model_name": "LayoutModel",
       "_view_count": null,
       "_view_module": "@jupyter-widgets/base",
       "_view_module_version": "1.2.0",
       "_view_name": "LayoutView",
       "align_content": null,
       "align_items": null,
       "align_self": null,
       "border": null,
       "bottom": null,
       "display": null,
       "flex": null,
       "flex_flow": null,
       "grid_area": null,
       "grid_auto_columns": null,
       "grid_auto_flow": null,
       "grid_auto_rows": null,
       "grid_column": null,
       "grid_gap": null,
       "grid_row": null,
       "grid_template_areas": null,
       "grid_template_columns": null,
       "grid_template_rows": null,
       "height": null,
       "justify_content": null,
       "justify_items": null,
       "left": null,
       "margin": null,
       "max_height": null,
       "max_width": null,
       "min_height": null,
       "min_width": null,
       "object_fit": null,
       "object_position": null,
       "order": null,
       "overflow": null,
       "overflow_x": null,
       "overflow_y": null,
       "padding": null,
       "right": null,
       "top": null,
       "visibility": null,
       "width": null
      }
     },
     "744e27fd8b5a4efe89466f6df5a2f6f5": {
      "model_module": "@jupyter-widgets/controls",
      "model_module_version": "1.5.0",
      "model_name": "HBoxModel",
      "state": {
       "_dom_classes": [],
       "_model_module": "@jupyter-widgets/controls",
       "_model_module_version": "1.5.0",
       "_model_name": "HBoxModel",
       "_view_count": null,
       "_view_module": "@jupyter-widgets/controls",
       "_view_module_version": "1.5.0",
       "_view_name": "HBoxView",
       "box_style": "",
       "children": [
        "IPY_MODEL_ee3789e2416c45569a7c5ed072b4cc0b",
        "IPY_MODEL_00506c3e98d54f7e857a8d23f6f3e049",
        "IPY_MODEL_611216b46b574be3ba82df1e2ded700f"
       ],
       "layout": "IPY_MODEL_74a6b44572b648709c5288071673f189"
      }
     },
     "74a6b44572b648709c5288071673f189": {
      "model_module": "@jupyter-widgets/base",
      "model_module_version": "1.2.0",
      "model_name": "LayoutModel",
      "state": {
       "_model_module": "@jupyter-widgets/base",
       "_model_module_version": "1.2.0",
       "_model_name": "LayoutModel",
       "_view_count": null,
       "_view_module": "@jupyter-widgets/base",
       "_view_module_version": "1.2.0",
       "_view_name": "LayoutView",
       "align_content": null,
       "align_items": null,
       "align_self": null,
       "border": null,
       "bottom": null,
       "display": null,
       "flex": null,
       "flex_flow": null,
       "grid_area": null,
       "grid_auto_columns": null,
       "grid_auto_flow": null,
       "grid_auto_rows": null,
       "grid_column": null,
       "grid_gap": null,
       "grid_row": null,
       "grid_template_areas": null,
       "grid_template_columns": null,
       "grid_template_rows": null,
       "height": null,
       "justify_content": null,
       "justify_items": null,
       "left": null,
       "margin": null,
       "max_height": null,
       "max_width": null,
       "min_height": null,
       "min_width": null,
       "object_fit": null,
       "object_position": null,
       "order": null,
       "overflow": null,
       "overflow_x": null,
       "overflow_y": null,
       "padding": null,
       "right": null,
       "top": null,
       "visibility": null,
       "width": null
      }
     },
     "7547dab448dc44c48800ca7d5a5176f4": {
      "model_module": "@jupyter-widgets/base",
      "model_module_version": "1.2.0",
      "model_name": "LayoutModel",
      "state": {
       "_model_module": "@jupyter-widgets/base",
       "_model_module_version": "1.2.0",
       "_model_name": "LayoutModel",
       "_view_count": null,
       "_view_module": "@jupyter-widgets/base",
       "_view_module_version": "1.2.0",
       "_view_name": "LayoutView",
       "align_content": null,
       "align_items": null,
       "align_self": null,
       "border": null,
       "bottom": null,
       "display": null,
       "flex": null,
       "flex_flow": null,
       "grid_area": null,
       "grid_auto_columns": null,
       "grid_auto_flow": null,
       "grid_auto_rows": null,
       "grid_column": null,
       "grid_gap": null,
       "grid_row": null,
       "grid_template_areas": null,
       "grid_template_columns": null,
       "grid_template_rows": null,
       "height": null,
       "justify_content": null,
       "justify_items": null,
       "left": null,
       "margin": null,
       "max_height": null,
       "max_width": null,
       "min_height": null,
       "min_width": null,
       "object_fit": null,
       "object_position": null,
       "order": null,
       "overflow": null,
       "overflow_x": null,
       "overflow_y": null,
       "padding": null,
       "right": null,
       "top": null,
       "visibility": null,
       "width": null
      }
     },
     "7b25a8cccfd14f6aa2b7f5bdf6979b74": {
      "model_module": "@jupyter-widgets/base",
      "model_module_version": "1.2.0",
      "model_name": "LayoutModel",
      "state": {
       "_model_module": "@jupyter-widgets/base",
       "_model_module_version": "1.2.0",
       "_model_name": "LayoutModel",
       "_view_count": null,
       "_view_module": "@jupyter-widgets/base",
       "_view_module_version": "1.2.0",
       "_view_name": "LayoutView",
       "align_content": null,
       "align_items": null,
       "align_self": null,
       "border": null,
       "bottom": null,
       "display": null,
       "flex": null,
       "flex_flow": null,
       "grid_area": null,
       "grid_auto_columns": null,
       "grid_auto_flow": null,
       "grid_auto_rows": null,
       "grid_column": null,
       "grid_gap": null,
       "grid_row": null,
       "grid_template_areas": null,
       "grid_template_columns": null,
       "grid_template_rows": null,
       "height": null,
       "justify_content": null,
       "justify_items": null,
       "left": null,
       "margin": null,
       "max_height": null,
       "max_width": null,
       "min_height": null,
       "min_width": null,
       "object_fit": null,
       "object_position": null,
       "order": null,
       "overflow": null,
       "overflow_x": null,
       "overflow_y": null,
       "padding": null,
       "right": null,
       "top": null,
       "visibility": null,
       "width": null
      }
     },
     "7ebdd2ea3ce74f4b81f7d4b64013c9f6": {
      "model_module": "@jupyter-widgets/controls",
      "model_module_version": "1.5.0",
      "model_name": "FloatProgressModel",
      "state": {
       "_dom_classes": [],
       "_model_module": "@jupyter-widgets/controls",
       "_model_module_version": "1.5.0",
       "_model_name": "FloatProgressModel",
       "_view_count": null,
       "_view_module": "@jupyter-widgets/controls",
       "_view_module_version": "1.5.0",
       "_view_name": "ProgressView",
       "bar_style": "success",
       "description": "",
       "description_tooltip": null,
       "layout": "IPY_MODEL_f0f87caf49444462ab46d6f3860644f7",
       "max": 286059269.0,
       "min": 0.0,
       "orientation": "horizontal",
       "style": "IPY_MODEL_249b3ade113144ba92581611b84a3fba",
       "value": 286059269.0
      }
     },
     "7f5815e17f0d41bb9560a289a9c35d14": {
      "model_module": "@jupyter-widgets/controls",
      "model_module_version": "1.5.0",
      "model_name": "HTMLModel",
      "state": {
       "_dom_classes": [],
       "_model_module": "@jupyter-widgets/controls",
       "_model_module_version": "1.5.0",
       "_model_name": "HTMLModel",
       "_view_count": null,
       "_view_module": "@jupyter-widgets/controls",
       "_view_module_version": "1.5.0",
       "_view_name": "HTMLView",
       "description": "",
       "description_tooltip": null,
       "layout": "IPY_MODEL_0701c5ca2b864222930b8e4c46feb30d",
       "placeholder": "​",
       "style": "IPY_MODEL_455d96c76fa347efbe7e1052d65f7780",
       "value": " 4644/4644 [04:08&lt;00:00, 19.61ba/s]"
      }
     },
     "7fcc273bf9124f188b7eaa1c66b0adcf": {
      "model_module": "@jupyter-widgets/base",
      "model_module_version": "1.2.0",
      "model_name": "LayoutModel",
      "state": {
       "_model_module": "@jupyter-widgets/base",
       "_model_module_version": "1.2.0",
       "_model_name": "LayoutModel",
       "_view_count": null,
       "_view_module": "@jupyter-widgets/base",
       "_view_module_version": "1.2.0",
       "_view_name": "LayoutView",
       "align_content": null,
       "align_items": null,
       "align_self": null,
       "border": null,
       "bottom": null,
       "display": null,
       "flex": null,
       "flex_flow": null,
       "grid_area": null,
       "grid_auto_columns": null,
       "grid_auto_flow": null,
       "grid_auto_rows": null,
       "grid_column": null,
       "grid_gap": null,
       "grid_row": null,
       "grid_template_areas": null,
       "grid_template_columns": null,
       "grid_template_rows": null,
       "height": null,
       "justify_content": null,
       "justify_items": null,
       "left": null,
       "margin": null,
       "max_height": null,
       "max_width": null,
       "min_height": null,
       "min_width": null,
       "object_fit": null,
       "object_position": null,
       "order": null,
       "overflow": null,
       "overflow_x": null,
       "overflow_y": null,
       "padding": null,
       "right": null,
       "top": null,
       "visibility": null,
       "width": null
      }
     },
     "895561a9e5004032871d84509aea51cb": {
      "model_module": "@jupyter-widgets/controls",
      "model_module_version": "1.5.0",
      "model_name": "DescriptionStyleModel",
      "state": {
       "_model_module": "@jupyter-widgets/controls",
       "_model_module_version": "1.5.0",
       "_model_name": "DescriptionStyleModel",
       "_view_count": null,
       "_view_module": "@jupyter-widgets/base",
       "_view_module_version": "1.2.0",
       "_view_name": "StyleView",
       "description_width": ""
      }
     },
     "8b0aa15bb77446ec80dd3d0c7015e206": {
      "model_module": "@jupyter-widgets/controls",
      "model_module_version": "1.5.0",
      "model_name": "HBoxModel",
      "state": {
       "_dom_classes": [],
       "_model_module": "@jupyter-widgets/controls",
       "_model_module_version": "1.5.0",
       "_model_name": "HBoxModel",
       "_view_count": null,
       "_view_module": "@jupyter-widgets/controls",
       "_view_module_version": "1.5.0",
       "_view_name": "HBoxView",
       "box_style": "",
       "children": [
        "IPY_MODEL_32c6a43fdbb4423f882e70b47d387eaa",
        "IPY_MODEL_7ebdd2ea3ce74f4b81f7d4b64013c9f6",
        "IPY_MODEL_d4752532d0be46819155445579d5b2ae"
       ],
       "layout": "IPY_MODEL_d99daa50cc264a32b63f165fed84f7d2"
      }
     },
     "8df79820f0614ef79e7117fa3102cc19": {
      "model_module": "@jupyter-widgets/controls",
      "model_module_version": "1.5.0",
      "model_name": "DescriptionStyleModel",
      "state": {
       "_model_module": "@jupyter-widgets/controls",
       "_model_module_version": "1.5.0",
       "_model_name": "DescriptionStyleModel",
       "_view_count": null,
       "_view_module": "@jupyter-widgets/base",
       "_view_module_version": "1.2.0",
       "_view_name": "StyleView",
       "description_width": ""
      }
     },
     "8fff7f4b7eba444ebcb41cbd52718363": {
      "model_module": "@jupyter-widgets/base",
      "model_module_version": "1.2.0",
      "model_name": "LayoutModel",
      "state": {
       "_model_module": "@jupyter-widgets/base",
       "_model_module_version": "1.2.0",
       "_model_name": "LayoutModel",
       "_view_count": null,
       "_view_module": "@jupyter-widgets/base",
       "_view_module_version": "1.2.0",
       "_view_name": "LayoutView",
       "align_content": null,
       "align_items": null,
       "align_self": null,
       "border": null,
       "bottom": null,
       "display": null,
       "flex": null,
       "flex_flow": null,
       "grid_area": null,
       "grid_auto_columns": null,
       "grid_auto_flow": null,
       "grid_auto_rows": null,
       "grid_column": null,
       "grid_gap": null,
       "grid_row": null,
       "grid_template_areas": null,
       "grid_template_columns": null,
       "grid_template_rows": null,
       "height": null,
       "justify_content": null,
       "justify_items": null,
       "left": null,
       "margin": null,
       "max_height": null,
       "max_width": null,
       "min_height": null,
       "min_width": null,
       "object_fit": null,
       "object_position": null,
       "order": null,
       "overflow": null,
       "overflow_x": null,
       "overflow_y": null,
       "padding": null,
       "right": null,
       "top": null,
       "visibility": null,
       "width": null
      }
     },
     "9321152ddf2d45199463d52c251ab34e": {
      "model_module": "@jupyter-widgets/controls",
      "model_module_version": "1.5.0",
      "model_name": "DescriptionStyleModel",
      "state": {
       "_model_module": "@jupyter-widgets/controls",
       "_model_module_version": "1.5.0",
       "_model_name": "DescriptionStyleModel",
       "_view_count": null,
       "_view_module": "@jupyter-widgets/base",
       "_view_module_version": "1.2.0",
       "_view_name": "StyleView",
       "description_width": ""
      }
     },
     "9a8bcc4a7c254a4992828b643d37f665": {
      "model_module": "@jupyter-widgets/controls",
      "model_module_version": "1.5.0",
      "model_name": "HBoxModel",
      "state": {
       "_dom_classes": [],
       "_model_module": "@jupyter-widgets/controls",
       "_model_module_version": "1.5.0",
       "_model_name": "HBoxModel",
       "_view_count": null,
       "_view_module": "@jupyter-widgets/controls",
       "_view_module_version": "1.5.0",
       "_view_name": "HBoxView",
       "box_style": "",
       "children": [
        "IPY_MODEL_27be61badb7647eea375123fec748caf",
        "IPY_MODEL_cb385f32d4204104acb60636ed905481",
        "IPY_MODEL_7f5815e17f0d41bb9560a289a9c35d14"
       ],
       "layout": "IPY_MODEL_1d3dac59d9804dd69621778ea85e6837"
      }
     },
     "9b29d0352d3e4ea6abae73befdf6a1d4": {
      "model_module": "@jupyter-widgets/base",
      "model_module_version": "1.2.0",
      "model_name": "LayoutModel",
      "state": {
       "_model_module": "@jupyter-widgets/base",
       "_model_module_version": "1.2.0",
       "_model_name": "LayoutModel",
       "_view_count": null,
       "_view_module": "@jupyter-widgets/base",
       "_view_module_version": "1.2.0",
       "_view_name": "LayoutView",
       "align_content": null,
       "align_items": null,
       "align_self": null,
       "border": null,
       "bottom": null,
       "display": null,
       "flex": null,
       "flex_flow": null,
       "grid_area": null,
       "grid_auto_columns": null,
       "grid_auto_flow": null,
       "grid_auto_rows": null,
       "grid_column": null,
       "grid_gap": null,
       "grid_row": null,
       "grid_template_areas": null,
       "grid_template_columns": null,
       "grid_template_rows": null,
       "height": null,
       "justify_content": null,
       "justify_items": null,
       "left": null,
       "margin": null,
       "max_height": null,
       "max_width": null,
       "min_height": null,
       "min_width": null,
       "object_fit": null,
       "object_position": null,
       "order": null,
       "overflow": null,
       "overflow_x": null,
       "overflow_y": null,
       "padding": null,
       "right": null,
       "top": null,
       "visibility": null,
       "width": null
      }
     },
     "9f2f36de6c80432b9c8b464033d6e26b": {
      "model_module": "@jupyter-widgets/base",
      "model_module_version": "1.2.0",
      "model_name": "LayoutModel",
      "state": {
       "_model_module": "@jupyter-widgets/base",
       "_model_module_version": "1.2.0",
       "_model_name": "LayoutModel",
       "_view_count": null,
       "_view_module": "@jupyter-widgets/base",
       "_view_module_version": "1.2.0",
       "_view_name": "LayoutView",
       "align_content": null,
       "align_items": null,
       "align_self": null,
       "border": null,
       "bottom": null,
       "display": null,
       "flex": null,
       "flex_flow": null,
       "grid_area": null,
       "grid_auto_columns": null,
       "grid_auto_flow": null,
       "grid_auto_rows": null,
       "grid_column": null,
       "grid_gap": null,
       "grid_row": null,
       "grid_template_areas": null,
       "grid_template_columns": null,
       "grid_template_rows": null,
       "height": null,
       "justify_content": null,
       "justify_items": null,
       "left": null,
       "margin": null,
       "max_height": null,
       "max_width": null,
       "min_height": null,
       "min_width": null,
       "object_fit": null,
       "object_position": null,
       "order": null,
       "overflow": null,
       "overflow_x": null,
       "overflow_y": null,
       "padding": null,
       "right": null,
       "top": null,
       "visibility": null,
       "width": null
      }
     },
     "a03b2527cbe24885be7081c70de573b3": {
      "model_module": "@jupyter-widgets/controls",
      "model_module_version": "1.5.0",
      "model_name": "HTMLModel",
      "state": {
       "_dom_classes": [],
       "_model_module": "@jupyter-widgets/controls",
       "_model_module_version": "1.5.0",
       "_model_name": "HTMLModel",
       "_view_count": null,
       "_view_module": "@jupyter-widgets/controls",
       "_view_module_version": "1.5.0",
       "_view_name": "HTMLView",
       "description": "",
       "description_tooltip": null,
       "layout": "IPY_MODEL_3639fa606c7a4ba5a327b2210e1099c6",
       "placeholder": "​",
       "style": "IPY_MODEL_9321152ddf2d45199463d52c251ab34e",
       "value": " 578/578 [00:00&lt;00:00, 45.4kB/s]"
      }
     },
     "b14e55917aca43fcb13d33b5453de2fc": {
      "model_module": "@jupyter-widgets/base",
      "model_module_version": "1.2.0",
      "model_name": "LayoutModel",
      "state": {
       "_model_module": "@jupyter-widgets/base",
       "_model_module_version": "1.2.0",
       "_model_name": "LayoutModel",
       "_view_count": null,
       "_view_module": "@jupyter-widgets/base",
       "_view_module_version": "1.2.0",
       "_view_name": "LayoutView",
       "align_content": null,
       "align_items": null,
       "align_self": null,
       "border": null,
       "bottom": null,
       "display": null,
       "flex": null,
       "flex_flow": null,
       "grid_area": null,
       "grid_auto_columns": null,
       "grid_auto_flow": null,
       "grid_auto_rows": null,
       "grid_column": null,
       "grid_gap": null,
       "grid_row": null,
       "grid_template_areas": null,
       "grid_template_columns": null,
       "grid_template_rows": null,
       "height": null,
       "justify_content": null,
       "justify_items": null,
       "left": null,
       "margin": null,
       "max_height": null,
       "max_width": null,
       "min_height": null,
       "min_width": null,
       "object_fit": null,
       "object_position": null,
       "order": null,
       "overflow": null,
       "overflow_x": null,
       "overflow_y": null,
       "padding": null,
       "right": null,
       "top": null,
       "visibility": null,
       "width": null
      }
     },
     "bb0a63d4420b4d6ca8ef6adefff0dd5a": {
      "model_module": "@jupyter-widgets/controls",
      "model_module_version": "1.5.0",
      "model_name": "DescriptionStyleModel",
      "state": {
       "_model_module": "@jupyter-widgets/controls",
       "_model_module_version": "1.5.0",
       "_model_name": "DescriptionStyleModel",
       "_view_count": null,
       "_view_module": "@jupyter-widgets/base",
       "_view_module_version": "1.2.0",
       "_view_name": "StyleView",
       "description_width": ""
      }
     },
     "bc53e287eab543e4b474130d89e39fe6": {
      "model_module": "@jupyter-widgets/controls",
      "model_module_version": "1.5.0",
      "model_name": "FloatProgressModel",
      "state": {
       "_dom_classes": [],
       "_model_module": "@jupyter-widgets/controls",
       "_model_module_version": "1.5.0",
       "_model_name": "FloatProgressModel",
       "_view_count": null,
       "_view_module": "@jupyter-widgets/controls",
       "_view_module_version": "1.5.0",
       "_view_name": "ProgressView",
       "bar_style": "success",
       "description": "",
       "description_tooltip": null,
       "layout": "IPY_MODEL_2b0ced030c074c0a92ff7e25c4ff65ad",
       "max": 52.0,
       "min": 0.0,
       "orientation": "horizontal",
       "style": "IPY_MODEL_207eac5c3efd4fd9b5b09958c357cf87",
       "value": 52.0
      }
     },
     "be27a3e8e65048f3aa62f5bc5476a218": {
      "model_module": "@jupyter-widgets/base",
      "model_module_version": "1.2.0",
      "model_name": "LayoutModel",
      "state": {
       "_model_module": "@jupyter-widgets/base",
       "_model_module_version": "1.2.0",
       "_model_name": "LayoutModel",
       "_view_count": null,
       "_view_module": "@jupyter-widgets/base",
       "_view_module_version": "1.2.0",
       "_view_name": "LayoutView",
       "align_content": null,
       "align_items": null,
       "align_self": null,
       "border": null,
       "bottom": null,
       "display": null,
       "flex": null,
       "flex_flow": null,
       "grid_area": null,
       "grid_auto_columns": null,
       "grid_auto_flow": null,
       "grid_auto_rows": null,
       "grid_column": null,
       "grid_gap": null,
       "grid_row": null,
       "grid_template_areas": null,
       "grid_template_columns": null,
       "grid_template_rows": null,
       "height": null,
       "justify_content": null,
       "justify_items": null,
       "left": null,
       "margin": null,
       "max_height": null,
       "max_width": null,
       "min_height": null,
       "min_width": null,
       "object_fit": null,
       "object_position": null,
       "order": null,
       "overflow": null,
       "overflow_x": null,
       "overflow_y": null,
       "padding": null,
       "right": null,
       "top": null,
       "visibility": null,
       "width": null
      }
     },
     "c4dea0ee191b4460b2c43605649e0747": {
      "model_module": "@jupyter-widgets/controls",
      "model_module_version": "1.5.0",
      "model_name": "DescriptionStyleModel",
      "state": {
       "_model_module": "@jupyter-widgets/controls",
       "_model_module_version": "1.5.0",
       "_model_name": "DescriptionStyleModel",
       "_view_count": null,
       "_view_module": "@jupyter-widgets/base",
       "_view_module_version": "1.2.0",
       "_view_name": "StyleView",
       "description_width": ""
      }
     },
     "c667b96059ba4f2d99616a8d98588b2a": {
      "model_module": "@jupyter-widgets/controls",
      "model_module_version": "1.5.0",
      "model_name": "HTMLModel",
      "state": {
       "_dom_classes": [],
       "_model_module": "@jupyter-widgets/controls",
       "_model_module_version": "1.5.0",
       "_model_name": "HTMLModel",
       "_view_count": null,
       "_view_module": "@jupyter-widgets/controls",
       "_view_module_version": "1.5.0",
       "_view_name": "HTMLView",
       "description": "",
       "description_tooltip": null,
       "layout": "IPY_MODEL_be27a3e8e65048f3aa62f5bc5476a218",
       "placeholder": "​",
       "style": "IPY_MODEL_2f03b11192e948279de5d79140664dcb",
       "value": " 52.0/52.0 [00:00&lt;00:00, 3.46kB/s]"
      }
     },
     "cb385f32d4204104acb60636ed905481": {
      "model_module": "@jupyter-widgets/controls",
      "model_module_version": "1.5.0",
      "model_name": "FloatProgressModel",
      "state": {
       "_dom_classes": [],
       "_model_module": "@jupyter-widgets/controls",
       "_model_module_version": "1.5.0",
       "_model_name": "FloatProgressModel",
       "_view_count": null,
       "_view_module": "@jupyter-widgets/controls",
       "_view_module_version": "1.5.0",
       "_view_name": "ProgressView",
       "bar_style": "success",
       "description": "",
       "description_tooltip": null,
       "layout": "IPY_MODEL_286de389c9a04fa19cdd6762c236c0d7",
       "max": 4644.0,
       "min": 0.0,
       "orientation": "horizontal",
       "style": "IPY_MODEL_d1160883cb4e48c1938e963a0ce0894f",
       "value": 4644.0
      }
     },
     "d1160883cb4e48c1938e963a0ce0894f": {
      "model_module": "@jupyter-widgets/controls",
      "model_module_version": "1.5.0",
      "model_name": "ProgressStyleModel",
      "state": {
       "_model_module": "@jupyter-widgets/controls",
       "_model_module_version": "1.5.0",
       "_model_name": "ProgressStyleModel",
       "_view_count": null,
       "_view_module": "@jupyter-widgets/base",
       "_view_module_version": "1.2.0",
       "_view_name": "StyleView",
       "bar_color": null,
       "description_width": ""
      }
     },
     "d4752532d0be46819155445579d5b2ae": {
      "model_module": "@jupyter-widgets/controls",
      "model_module_version": "1.5.0",
      "model_name": "HTMLModel",
      "state": {
       "_dom_classes": [],
       "_model_module": "@jupyter-widgets/controls",
       "_model_module_version": "1.5.0",
       "_model_name": "HTMLModel",
       "_view_count": null,
       "_view_module": "@jupyter-widgets/controls",
       "_view_module_version": "1.5.0",
       "_view_name": "HTMLView",
       "description": "",
       "description_tooltip": null,
       "layout": "IPY_MODEL_9b29d0352d3e4ea6abae73befdf6a1d4",
       "placeholder": "​",
       "style": "IPY_MODEL_f6907989336947b3b0c257b4838d562c",
       "value": " 286M/286M [00:15&lt;00:00, 18.3MB/s]"
      }
     },
     "d6e84d3bb21e4b5f895eff162a85ce9a": {
      "model_module": "@jupyter-widgets/base",
      "model_module_version": "1.2.0",
      "model_name": "LayoutModel",
      "state": {
       "_model_module": "@jupyter-widgets/base",
       "_model_module_version": "1.2.0",
       "_model_name": "LayoutModel",
       "_view_count": null,
       "_view_module": "@jupyter-widgets/base",
       "_view_module_version": "1.2.0",
       "_view_name": "LayoutView",
       "align_content": null,
       "align_items": null,
       "align_self": null,
       "border": null,
       "bottom": null,
       "display": null,
       "flex": null,
       "flex_flow": null,
       "grid_area": null,
       "grid_auto_columns": null,
       "grid_auto_flow": null,
       "grid_auto_rows": null,
       "grid_column": null,
       "grid_gap": null,
       "grid_row": null,
       "grid_template_areas": null,
       "grid_template_columns": null,
       "grid_template_rows": null,
       "height": null,
       "justify_content": null,
       "justify_items": null,
       "left": null,
       "margin": null,
       "max_height": null,
       "max_width": null,
       "min_height": null,
       "min_width": null,
       "object_fit": null,
       "object_position": null,
       "order": null,
       "overflow": null,
       "overflow_x": null,
       "overflow_y": null,
       "padding": null,
       "right": null,
       "top": null,
       "visibility": null,
       "width": null
      }
     },
     "d99daa50cc264a32b63f165fed84f7d2": {
      "model_module": "@jupyter-widgets/base",
      "model_module_version": "1.2.0",
      "model_name": "LayoutModel",
      "state": {
       "_model_module": "@jupyter-widgets/base",
       "_model_module_version": "1.2.0",
       "_model_name": "LayoutModel",
       "_view_count": null,
       "_view_module": "@jupyter-widgets/base",
       "_view_module_version": "1.2.0",
       "_view_name": "LayoutView",
       "align_content": null,
       "align_items": null,
       "align_self": null,
       "border": null,
       "bottom": null,
       "display": null,
       "flex": null,
       "flex_flow": null,
       "grid_area": null,
       "grid_auto_columns": null,
       "grid_auto_flow": null,
       "grid_auto_rows": null,
       "grid_column": null,
       "grid_gap": null,
       "grid_row": null,
       "grid_template_areas": null,
       "grid_template_columns": null,
       "grid_template_rows": null,
       "height": null,
       "justify_content": null,
       "justify_items": null,
       "left": null,
       "margin": null,
       "max_height": null,
       "max_width": null,
       "min_height": null,
       "min_width": null,
       "object_fit": null,
       "object_position": null,
       "order": null,
       "overflow": null,
       "overflow_x": null,
       "overflow_y": null,
       "padding": null,
       "right": null,
       "top": null,
       "visibility": null,
       "width": null
      }
     },
     "dcc0b0bff38e4277863d4d6c6de8c8b5": {
      "model_module": "@jupyter-widgets/controls",
      "model_module_version": "1.5.0",
      "model_name": "DescriptionStyleModel",
      "state": {
       "_model_module": "@jupyter-widgets/controls",
       "_model_module_version": "1.5.0",
       "_model_name": "DescriptionStyleModel",
       "_view_count": null,
       "_view_module": "@jupyter-widgets/base",
       "_view_module_version": "1.2.0",
       "_view_name": "StyleView",
       "description_width": ""
      }
     },
     "e7781a1a846848028e64d73800198a71": {
      "model_module": "@jupyter-widgets/base",
      "model_module_version": "1.2.0",
      "model_name": "LayoutModel",
      "state": {
       "_model_module": "@jupyter-widgets/base",
       "_model_module_version": "1.2.0",
       "_model_name": "LayoutModel",
       "_view_count": null,
       "_view_module": "@jupyter-widgets/base",
       "_view_module_version": "1.2.0",
       "_view_name": "LayoutView",
       "align_content": null,
       "align_items": null,
       "align_self": null,
       "border": null,
       "bottom": null,
       "display": null,
       "flex": null,
       "flex_flow": null,
       "grid_area": null,
       "grid_auto_columns": null,
       "grid_auto_flow": null,
       "grid_auto_rows": null,
       "grid_column": null,
       "grid_gap": null,
       "grid_row": null,
       "grid_template_areas": null,
       "grid_template_columns": null,
       "grid_template_rows": null,
       "height": null,
       "justify_content": null,
       "justify_items": null,
       "left": null,
       "margin": null,
       "max_height": null,
       "max_width": null,
       "min_height": null,
       "min_width": null,
       "object_fit": null,
       "object_position": null,
       "order": null,
       "overflow": null,
       "overflow_x": null,
       "overflow_y": null,
       "padding": null,
       "right": null,
       "top": null,
       "visibility": null,
       "width": null
      }
     },
     "e9caea45726b49bbbde825b499fb87fa": {
      "model_module": "@jupyter-widgets/controls",
      "model_module_version": "1.5.0",
      "model_name": "FloatProgressModel",
      "state": {
       "_dom_classes": [],
       "_model_module": "@jupyter-widgets/controls",
       "_model_module_version": "1.5.0",
       "_model_name": "FloatProgressModel",
       "_view_count": null,
       "_view_module": "@jupyter-widgets/controls",
       "_view_module_version": "1.5.0",
       "_view_name": "ProgressView",
       "bar_style": "success",
       "description": "",
       "description_tooltip": null,
       "layout": "IPY_MODEL_4d2116317bca4a06ac1d973c32948c09",
       "max": 578.0,
       "min": 0.0,
       "orientation": "horizontal",
       "style": "IPY_MODEL_5fbf28a2c0eb43ad9fd4556d2623e7cd",
       "value": 578.0
      }
     },
     "ee3789e2416c45569a7c5ed072b4cc0b": {
      "model_module": "@jupyter-widgets/controls",
      "model_module_version": "1.5.0",
      "model_name": "HTMLModel",
      "state": {
       "_dom_classes": [],
       "_model_module": "@jupyter-widgets/controls",
       "_model_module_version": "1.5.0",
       "_model_name": "HTMLModel",
       "_view_count": null,
       "_view_module": "@jupyter-widgets/controls",
       "_view_module_version": "1.5.0",
       "_view_name": "HTMLView",
       "description": "",
       "description_tooltip": null,
       "layout": "IPY_MODEL_06c10cbe5765468fab21e60509fa047f",
       "placeholder": "​",
       "style": "IPY_MODEL_8df79820f0614ef79e7117fa3102cc19",
       "value": "spm.model: 100%"
      }
     },
     "f0614ce2697c43919aff4423b2483e0c": {
      "model_module": "@jupyter-widgets/controls",
      "model_module_version": "1.5.0",
      "model_name": "HBoxModel",
      "state": {
       "_dom_classes": [],
       "_model_module": "@jupyter-widgets/controls",
       "_model_module_version": "1.5.0",
       "_model_name": "HBoxModel",
       "_view_count": null,
       "_view_module": "@jupyter-widgets/controls",
       "_view_module_version": "1.5.0",
       "_view_name": "HBoxView",
       "box_style": "",
       "children": [
        "IPY_MODEL_044acf69490948c2ae0b7dbc4035b5d1",
        "IPY_MODEL_bc53e287eab543e4b474130d89e39fe6",
        "IPY_MODEL_c667b96059ba4f2d99616a8d98588b2a"
       ],
       "layout": "IPY_MODEL_7b25a8cccfd14f6aa2b7f5bdf6979b74"
      }
     },
     "f0f87caf49444462ab46d6f3860644f7": {
      "model_module": "@jupyter-widgets/base",
      "model_module_version": "1.2.0",
      "model_name": "LayoutModel",
      "state": {
       "_model_module": "@jupyter-widgets/base",
       "_model_module_version": "1.2.0",
       "_model_name": "LayoutModel",
       "_view_count": null,
       "_view_module": "@jupyter-widgets/base",
       "_view_module_version": "1.2.0",
       "_view_name": "LayoutView",
       "align_content": null,
       "align_items": null,
       "align_self": null,
       "border": null,
       "bottom": null,
       "display": null,
       "flex": null,
       "flex_flow": null,
       "grid_area": null,
       "grid_auto_columns": null,
       "grid_auto_flow": null,
       "grid_auto_rows": null,
       "grid_column": null,
       "grid_gap": null,
       "grid_row": null,
       "grid_template_areas": null,
       "grid_template_columns": null,
       "grid_template_rows": null,
       "height": null,
       "justify_content": null,
       "justify_items": null,
       "left": null,
       "margin": null,
       "max_height": null,
       "max_width": null,
       "min_height": null,
       "min_width": null,
       "object_fit": null,
       "object_position": null,
       "order": null,
       "overflow": null,
       "overflow_x": null,
       "overflow_y": null,
       "padding": null,
       "right": null,
       "top": null,
       "visibility": null,
       "width": null
      }
     },
     "f57bd139d466419ebaed0dd500b6f9a0": {
      "model_module": "@jupyter-widgets/controls",
      "model_module_version": "1.5.0",
      "model_name": "HTMLModel",
      "state": {
       "_dom_classes": [],
       "_model_module": "@jupyter-widgets/controls",
       "_model_module_version": "1.5.0",
       "_model_name": "HTMLModel",
       "_view_count": null,
       "_view_module": "@jupyter-widgets/controls",
       "_view_module_version": "1.5.0",
       "_view_name": "HTMLView",
       "description": "",
       "description_tooltip": null,
       "layout": "IPY_MODEL_715dedff781d401990a9a2f5ca91c8c3",
       "placeholder": "​",
       "style": "IPY_MODEL_3eb2b7c6692c4dd8a63a3575e8ebd7ff",
       "value": "100%"
      }
     },
     "f6907989336947b3b0c257b4838d562c": {
      "model_module": "@jupyter-widgets/controls",
      "model_module_version": "1.5.0",
      "model_name": "DescriptionStyleModel",
      "state": {
       "_model_module": "@jupyter-widgets/controls",
       "_model_module_version": "1.5.0",
       "_model_name": "DescriptionStyleModel",
       "_view_count": null,
       "_view_module": "@jupyter-widgets/base",
       "_view_module_version": "1.2.0",
       "_view_name": "StyleView",
       "description_width": ""
      }
     }
    },
    "version_major": 2,
    "version_minor": 0
   }
  }
 },
 "nbformat": 4,
 "nbformat_minor": 5
}
