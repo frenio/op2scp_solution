{
 "cells": [
  {
   "cell_type": "code",
   "execution_count": 1,
   "id": "27a25cde",
   "metadata": {
    "_cell_guid": "b1076dfc-b9ad-4769-8c92-a6c4dae69d19",
    "_uuid": "8f2839f25d086af736a60e9eeb907d3b93b6e0e5",
    "execution": {
     "iopub.execute_input": "2023-12-08T18:55:39.538272Z",
     "iopub.status.busy": "2023-12-08T18:55:39.537682Z",
     "iopub.status.idle": "2023-12-08T18:55:45.198413Z",
     "shell.execute_reply": "2023-12-08T18:55:45.197759Z"
    },
    "papermill": {
     "duration": 5.671476,
     "end_time": "2023-12-08T18:55:45.200301",
     "exception": false,
     "start_time": "2023-12-08T18:55:39.528825",
     "status": "completed"
    },
    "tags": []
   },
   "outputs": [],
   "source": [
    "import time\n",
    "t0start = time.time()\n",
    "from fastai.collab import *\n",
    "from fastai.tabular.all import *"
   ]
  },
  {
   "cell_type": "code",
   "execution_count": 2,
   "id": "637cdf15",
   "metadata": {
    "execution": {
     "iopub.execute_input": "2023-12-08T18:55:45.216060Z",
     "iopub.status.busy": "2023-12-08T18:55:45.215501Z",
     "iopub.status.idle": "2023-12-08T18:55:45.218557Z",
     "shell.execute_reply": "2023-12-08T18:55:45.218029Z"
    },
    "papermill": {
     "duration": 0.012625,
     "end_time": "2023-12-08T18:55:45.220070",
     "exception": false,
     "start_time": "2023-12-08T18:55:45.207445",
     "status": "completed"
    },
    "tags": []
   },
   "outputs": [],
   "source": [
    "random_seed = 209"
   ]
  },
  {
   "cell_type": "markdown",
   "id": "84caa667",
   "metadata": {
    "papermill": {
     "duration": 0.0064,
     "end_time": "2023-12-08T18:55:45.233363",
     "exception": false,
     "start_time": "2023-12-08T18:55:45.226963",
     "status": "completed"
    },
    "tags": []
   },
   "source": [
    "## Loading and Melting Train and Test Data"
   ]
  },
  {
   "cell_type": "markdown",
   "id": "e5e89653",
   "metadata": {
    "papermill": {
     "duration": 0.006389,
     "end_time": "2023-12-08T18:55:45.246420",
     "exception": false,
     "start_time": "2023-12-08T18:55:45.240031",
     "status": "completed"
    },
    "tags": []
   },
   "source": [
    "Here I read the training and test data and melt it to yield a ```DataFrame``` with three categorical features (```cell_type```, ```sm_name```, and ```gene```) and one target (```value```)."
   ]
  },
  {
   "cell_type": "code",
   "execution_count": 3,
   "id": "8ea22d0b",
   "metadata": {
    "execution": {
     "iopub.execute_input": "2023-12-08T18:55:45.261360Z",
     "iopub.status.busy": "2023-12-08T18:55:45.260851Z",
     "iopub.status.idle": "2023-12-08T18:55:48.807855Z",
     "shell.execute_reply": "2023-12-08T18:55:48.807036Z"
    },
    "papermill": {
     "duration": 3.556432,
     "end_time": "2023-12-08T18:55:48.809512",
     "exception": false,
     "start_time": "2023-12-08T18:55:45.253080",
     "status": "completed"
    },
    "tags": []
   },
   "outputs": [
    {
     "name": "stdout",
     "output_type": "stream",
     "text": [
      "CPU times: user 2.78 s, sys: 555 ms, total: 3.34 s\n",
      "Wall time: 3.54 s\n"
     ]
    }
   ],
   "source": [
    "%%time\n",
    "fn = '/kaggle/input/open-problems-single-cell-perturbations/de_train.parquet'\n",
    "df_de_train = pd.read_parquet(fn)\n",
    "train_df = df_de_train.melt(id_vars=['cell_type', 'sm_name'], value_vars=df_de_train.iloc[:,5:].columns, var_name='gene', value_name='value')"
   ]
  },
  {
   "cell_type": "code",
   "execution_count": 4,
   "id": "8d4e3012",
   "metadata": {
    "execution": {
     "iopub.execute_input": "2023-12-08T18:55:48.825486Z",
     "iopub.status.busy": "2023-12-08T18:55:48.825186Z",
     "iopub.status.idle": "2023-12-08T18:55:53.018320Z",
     "shell.execute_reply": "2023-12-08T18:55:53.017436Z"
    },
    "papermill": {
     "duration": 4.203741,
     "end_time": "2023-12-08T18:55:53.020255",
     "exception": false,
     "start_time": "2023-12-08T18:55:48.816514",
     "status": "completed"
    },
    "tags": []
   },
   "outputs": [],
   "source": [
    "fn = '/kaggle/input/open-problems-single-cell-perturbations/id_map.csv'\n",
    "df_id_map = pd.read_csv(fn)\n",
    "fn = '/kaggle/input/open-problems-single-cell-perturbations/sample_submission.csv'\n",
    "df = pd.read_csv(fn, index_col = 0)\n",
    "\n",
    "cols_to_add = df_de_train.iloc[:,5:].columns\n",
    "cols_to_add\n",
    "\n",
    "df_zeros = pd.DataFrame(0.0, columns=cols_to_add, index=df_id_map.index)\n",
    "df_zeros\n",
    "\n",
    "df_id_map_preds = pd.concat([df_id_map, df_zeros], axis=1)\n",
    "test_df = df_id_map_preds.melt(id_vars=['cell_type', 'sm_name'], value_vars=df_id_map_preds.iloc[:,3:].columns, var_name='gene', value_name='value')"
   ]
  },
  {
   "cell_type": "markdown",
   "id": "e782883c",
   "metadata": {
    "papermill": {
     "duration": 0.006524,
     "end_time": "2023-12-08T18:55:53.033860",
     "exception": false,
     "start_time": "2023-12-08T18:55:53.027336",
     "status": "completed"
    },
    "tags": []
   },
   "source": [
    "## Load Embeddings"
   ]
  },
  {
   "cell_type": "markdown",
   "id": "5a8ce7bb",
   "metadata": {
    "papermill": {
     "duration": 0.006679,
     "end_time": "2023-12-08T18:55:53.047273",
     "exception": false,
     "start_time": "2023-12-08T18:55:53.040594",
     "status": "completed"
    },
    "tags": []
   },
   "source": [
    "The function ```reduce_emb_dim``` is used to reduce the dimensionality of molecular (```dim = 26```) and gene embeddings (```dim = 1000```) down to 10 components."
   ]
  },
  {
   "cell_type": "code",
   "execution_count": 5,
   "id": "04e95435",
   "metadata": {
    "execution": {
     "iopub.execute_input": "2023-12-08T18:55:53.062183Z",
     "iopub.status.busy": "2023-12-08T18:55:53.061881Z",
     "iopub.status.idle": "2023-12-08T18:55:53.159156Z",
     "shell.execute_reply": "2023-12-08T18:55:53.158275Z"
    },
    "papermill": {
     "duration": 0.107321,
     "end_time": "2023-12-08T18:55:53.161402",
     "exception": false,
     "start_time": "2023-12-08T18:55:53.054081",
     "status": "completed"
    },
    "tags": []
   },
   "outputs": [],
   "source": [
    "from sklearn.decomposition import PCA\n",
    "from sklearn.preprocessing import StandardScaler\n",
    "\n",
    "def reduce_emb_dim(data, n_comp=35, random_state=42):\n",
    "    embname = data.columns[1][:-1]\n",
    "    Y = data.iloc[:,1:]\n",
    "    scaler = StandardScaler()\n",
    "    Y_std = scaler.fit_transform(Y)\n",
    "    reducer = PCA(n_components=n_comp, random_state=random_state)\n",
    "\n",
    "    Yr = reducer.fit_transform(Y_std)\n",
    "    column_names = [f'{embname}pca{n_comp}_{i}' for i in range(n_comp)]\n",
    "    reduced_data = pd.DataFrame(Yr, columns = column_names)\n",
    "    reduced_data = pd.concat([data.iloc[:, 0], reduced_data], axis=1)\n",
    "    return reduced_data"
   ]
  },
  {
   "cell_type": "code",
   "execution_count": 6,
   "id": "d3ebc373",
   "metadata": {
    "execution": {
     "iopub.execute_input": "2023-12-08T18:55:53.176994Z",
     "iopub.status.busy": "2023-12-08T18:55:53.176328Z",
     "iopub.status.idle": "2023-12-08T18:55:54.126531Z",
     "shell.execute_reply": "2023-12-08T18:55:54.125920Z"
    },
    "papermill": {
     "duration": 0.960008,
     "end_time": "2023-12-08T18:55:54.128534",
     "exception": false,
     "start_time": "2023-12-08T18:55:53.168526",
     "status": "completed"
    },
    "tags": []
   },
   "outputs": [],
   "source": [
    "cell_embs = pd.read_csv('/kaggle/input/op2-single-cell-perturbations-tabmodnn-embeddings/cell_embeddings_no_pca.csv', index_col = 0)\n",
    "mol_embs = pd.read_csv('/kaggle/input/op2-single-cell-perturbations-tabmodnn-embeddings/molecular_embeddings_no_pca.csv', index_col = 0)\n",
    "gene_embs = pd.read_parquet('/kaggle/input/op2-single-cell-perturbations-tabmodnn-embeddings/gene_embeddings_no_pca.parquet')"
   ]
  },
  {
   "cell_type": "code",
   "execution_count": 7,
   "id": "f38a710e",
   "metadata": {
    "execution": {
     "iopub.execute_input": "2023-12-08T18:55:54.143540Z",
     "iopub.status.busy": "2023-12-08T18:55:54.143132Z",
     "iopub.status.idle": "2023-12-08T18:55:54.915275Z",
     "shell.execute_reply": "2023-12-08T18:55:54.914550Z"
    },
    "papermill": {
     "duration": 0.781788,
     "end_time": "2023-12-08T18:55:54.917416",
     "exception": false,
     "start_time": "2023-12-08T18:55:54.135628",
     "status": "completed"
    },
    "tags": []
   },
   "outputs": [],
   "source": [
    "gene_embs = reduce_emb_dim(gene_embs, n_comp=10, random_state=random_seed)"
   ]
  },
  {
   "cell_type": "code",
   "execution_count": 8,
   "id": "397edaa6",
   "metadata": {
    "execution": {
     "iopub.execute_input": "2023-12-08T18:55:54.954333Z",
     "iopub.status.busy": "2023-12-08T18:55:54.953523Z",
     "iopub.status.idle": "2023-12-08T18:55:54.970027Z",
     "shell.execute_reply": "2023-12-08T18:55:54.969214Z"
    },
    "papermill": {
     "duration": 0.045066,
     "end_time": "2023-12-08T18:55:54.972008",
     "exception": false,
     "start_time": "2023-12-08T18:55:54.926942",
     "status": "completed"
    },
    "tags": []
   },
   "outputs": [],
   "source": [
    "mol_embs = reduce_emb_dim(mol_embs, n_comp=10, random_state=random_seed)"
   ]
  },
  {
   "cell_type": "markdown",
   "id": "8d06a639",
   "metadata": {
    "papermill": {
     "duration": 0.01634,
     "end_time": "2023-12-08T18:55:55.008477",
     "exception": false,
     "start_time": "2023-12-08T18:55:54.992137",
     "status": "completed"
    },
    "tags": []
   },
   "source": [
    "## Functions"
   ]
  },
  {
   "cell_type": "code",
   "execution_count": 9,
   "id": "c0a57943",
   "metadata": {
    "execution": {
     "iopub.execute_input": "2023-12-08T18:55:55.023285Z",
     "iopub.status.busy": "2023-12-08T18:55:55.022966Z",
     "iopub.status.idle": "2023-12-08T18:55:55.027011Z",
     "shell.execute_reply": "2023-12-08T18:55:55.026351Z"
    },
    "papermill": {
     "duration": 0.013536,
     "end_time": "2023-12-08T18:55:55.028787",
     "exception": false,
     "start_time": "2023-12-08T18:55:55.015251",
     "status": "completed"
    },
    "tags": []
   },
   "outputs": [],
   "source": [
    "def splitter(df):\n",
    "    train = df.index[~df['is_valid']].tolist()\n",
    "    valid = df.index[df['is_valid']].tolist()\n",
    "    return L(train), L(valid)"
   ]
  },
  {
   "cell_type": "markdown",
   "id": "e1477244",
   "metadata": {
    "papermill": {
     "duration": 0.00687,
     "end_time": "2023-12-08T18:55:55.042731",
     "exception": false,
     "start_time": "2023-12-08T18:55:55.035861",
     "status": "completed"
    },
    "tags": []
   },
   "source": [
    "The function ```get_train_valid_data``` takes the train and test data as inputs and returns a ```TabularPandas``` object using the ```valid``` scheme and ```split_func``` provided."
   ]
  },
  {
   "cell_type": "code",
   "execution_count": 10,
   "id": "027b604b",
   "metadata": {
    "execution": {
     "iopub.execute_input": "2023-12-08T18:55:55.057746Z",
     "iopub.status.busy": "2023-12-08T18:55:55.057219Z",
     "iopub.status.idle": "2023-12-08T18:55:55.065357Z",
     "shell.execute_reply": "2023-12-08T18:55:55.064760Z"
    },
    "papermill": {
     "duration": 0.017406,
     "end_time": "2023-12-08T18:55:55.066950",
     "exception": false,
     "start_time": "2023-12-08T18:55:55.049544",
     "status": "completed"
    },
    "tags": []
   },
   "outputs": [],
   "source": [
    "def get_train_valid_data(train_data, test_data, valid=None, random_state=None, split_func=splitter):\n",
    "    train_data['is_valid'] = False\n",
    "    cont, cat = cont_cat_split(train_data, 1, dep_var='value')\n",
    "    if valid in ['NK cells', 'T cells CD4+', 'T cells CD8+', 'T regulatory cells']:\n",
    "        test_compounds = test_data['sm_name'].unique().tolist()\n",
    "        valid_indices = train_data.loc[(train_data['cell_type']==valid) & train_data['sm_name'].isin(test_compounds)].index.sort_values().tolist()\n",
    "        train_data.loc[valid_indices, 'is_valid'] = True\n",
    "        splits = splitter(train_data)\n",
    "        cont, cat = cont_cat_split(train_data, 1, dep_var='value')\n",
    "        cat.remove('is_valid')\n",
    "        to = TabularPandas(train_data, procs=[Categorify, FillMissing], cont_names=cont, cat_names=cat, y_names='value', splits=splits)\n",
    "    elif type(valid)==float:\n",
    "        valid_indices = train_data.sample(frac=valid, random_state=random_state).index.sort_values().tolist()\n",
    "        train_data.loc[valid_indices, 'is_valid'] = True\n",
    "        splits = splitter(train_data)\n",
    "        cat.remove('is_valid')\n",
    "        to = TabularPandas(train_data, procs=[Categorify, FillMissing], cont_names=cont, cat_names=cat, y_names='value', splits=splits)\n",
    "    else:\n",
    "        cat.remove('is_valid')\n",
    "        to = TabularPandas(train_data, procs=[Categorify, FillMissing], cont_names=cont, cat_names=cat, y_names='value', splits=None)\n",
    "    return to"
   ]
  },
  {
   "cell_type": "code",
   "execution_count": 11,
   "id": "daf7a4e3",
   "metadata": {
    "execution": {
     "iopub.execute_input": "2023-12-08T18:55:55.081776Z",
     "iopub.status.busy": "2023-12-08T18:55:55.081491Z",
     "iopub.status.idle": "2023-12-08T18:55:55.085688Z",
     "shell.execute_reply": "2023-12-08T18:55:55.084914Z"
    },
    "papermill": {
     "duration": 0.013479,
     "end_time": "2023-12-08T18:55:55.087411",
     "exception": false,
     "start_time": "2023-12-08T18:55:55.073932",
     "status": "completed"
    },
    "tags": []
   },
   "outputs": [],
   "source": [
    "def rmse(preds, targs): return round(math.sqrt(((targs-preds)**2).mean()), 6)\n",
    "def m_rmse(m, xs, y): return rmse(m.predict(xs), y)"
   ]
  },
  {
   "cell_type": "markdown",
   "id": "a7f382de",
   "metadata": {
    "papermill": {
     "duration": 0.006362,
     "end_time": "2023-12-08T18:55:55.100499",
     "exception": false,
     "start_time": "2023-12-08T18:55:55.094137",
     "status": "completed"
    },
    "tags": []
   },
   "source": [
    "The ```rf``` function trains a random forest and facilitates quick experimenting."
   ]
  },
  {
   "cell_type": "code",
   "execution_count": 12,
   "id": "e2566e5e",
   "metadata": {
    "execution": {
     "iopub.execute_input": "2023-12-08T18:55:55.115463Z",
     "iopub.status.busy": "2023-12-08T18:55:55.114921Z",
     "iopub.status.idle": "2023-12-08T18:55:55.214809Z",
     "shell.execute_reply": "2023-12-08T18:55:55.213932Z"
    },
    "papermill": {
     "duration": 0.109845,
     "end_time": "2023-12-08T18:55:55.216987",
     "exception": false,
     "start_time": "2023-12-08T18:55:55.107142",
     "status": "completed"
    },
    "tags": []
   },
   "outputs": [],
   "source": [
    "from sklearn.ensemble import RandomForestRegressor\n",
    "\n",
    "def rf(xs, y, n_estimators=100, max_samples=0.66, max_features='sqrt', min_samples_leaf=5, **kwargs):\n",
    "    return RandomForestRegressor(n_jobs=-1, n_estimators=n_estimators, max_samples=max_samples, max_features=max_features, min_samples_leaf=min_samples_leaf, oob_score=True).fit(xs, y)"
   ]
  },
  {
   "cell_type": "markdown",
   "id": "f7844c3b",
   "metadata": {
    "papermill": {
     "duration": 0.00635,
     "end_time": "2023-12-08T18:55:55.230289",
     "exception": false,
     "start_time": "2023-12-08T18:55:55.223939",
     "status": "completed"
    },
    "tags": []
   },
   "source": [
    "## Add Embeddings"
   ]
  },
  {
   "cell_type": "markdown",
   "id": "a3f814de",
   "metadata": {
    "papermill": {
     "duration": 0.006334,
     "end_time": "2023-12-08T18:55:55.243250",
     "exception": false,
     "start_time": "2023-12-08T18:55:55.236916",
     "status": "completed"
    },
    "tags": []
   },
   "source": [
    "The following lines merge the embeddings with the train and test data."
   ]
  },
  {
   "cell_type": "code",
   "execution_count": 13,
   "id": "dc912c44",
   "metadata": {
    "execution": {
     "iopub.execute_input": "2023-12-08T18:55:55.257662Z",
     "iopub.status.busy": "2023-12-08T18:55:55.257376Z",
     "iopub.status.idle": "2023-12-08T18:55:59.734575Z",
     "shell.execute_reply": "2023-12-08T18:55:59.733933Z"
    },
    "papermill": {
     "duration": 4.486733,
     "end_time": "2023-12-08T18:55:59.736575",
     "exception": false,
     "start_time": "2023-12-08T18:55:55.249842",
     "status": "completed"
    },
    "tags": []
   },
   "outputs": [],
   "source": [
    "train_df_c = pd.merge(train_df, cell_embs, on='cell_type', how='left')\n",
    "train_df_cm = pd.merge(train_df_c, mol_embs, on='sm_name', how='left')\n",
    "train_df_cmg = pd.merge(train_df_cm, gene_embs, on='gene', how='left')"
   ]
  },
  {
   "cell_type": "code",
   "execution_count": 14,
   "id": "5831f0a4",
   "metadata": {
    "execution": {
     "iopub.execute_input": "2023-12-08T18:55:59.751491Z",
     "iopub.status.busy": "2023-12-08T18:55:59.751073Z",
     "iopub.status.idle": "2023-12-08T18:56:01.581739Z",
     "shell.execute_reply": "2023-12-08T18:56:01.580822Z"
    },
    "papermill": {
     "duration": 1.84025,
     "end_time": "2023-12-08T18:56:01.583788",
     "exception": false,
     "start_time": "2023-12-08T18:55:59.743538",
     "status": "completed"
    },
    "tags": []
   },
   "outputs": [],
   "source": [
    "test_df_c = pd.merge(test_df, cell_embs, on='cell_type', how='left')\n",
    "test_df_cm = pd.merge(test_df_c, mol_embs, on='sm_name', how='left')\n",
    "test_df_cmg = pd.merge(test_df_cm, gene_embs, on='gene', how='left')"
   ]
  },
  {
   "cell_type": "markdown",
   "id": "6ad163d4",
   "metadata": {
    "papermill": {
     "duration": 0.006394,
     "end_time": "2023-12-08T18:56:01.597203",
     "exception": false,
     "start_time": "2023-12-08T18:56:01.590809",
     "status": "completed"
    },
    "tags": []
   },
   "source": [
    "## Delete Unused Data"
   ]
  },
  {
   "cell_type": "markdown",
   "id": "23c7768a",
   "metadata": {
    "papermill": {
     "duration": 0.00659,
     "end_time": "2023-12-08T18:56:01.651433",
     "exception": false,
     "start_time": "2023-12-08T18:56:01.644843",
     "status": "completed"
    },
    "tags": []
   },
   "source": [
    "And collect garbage to save some memory."
   ]
  },
  {
   "cell_type": "code",
   "execution_count": 15,
   "id": "98febbec",
   "metadata": {
    "execution": {
     "iopub.execute_input": "2023-12-08T18:56:01.666735Z",
     "iopub.status.busy": "2023-12-08T18:56:01.666027Z",
     "iopub.status.idle": "2023-12-08T18:56:02.090748Z",
     "shell.execute_reply": "2023-12-08T18:56:02.089924Z"
    },
    "papermill": {
     "duration": 0.434314,
     "end_time": "2023-12-08T18:56:02.092597",
     "exception": false,
     "start_time": "2023-12-08T18:56:01.658283",
     "status": "completed"
    },
    "tags": []
   },
   "outputs": [
    {
     "data": {
      "text/plain": [
       "0"
      ]
     },
     "execution_count": 15,
     "metadata": {},
     "output_type": "execute_result"
    }
   ],
   "source": [
    "import gc\n",
    "del train_df_c\n",
    "del train_df_cm\n",
    "del test_df_c\n",
    "del test_df_cm\n",
    "del cell_embs\n",
    "del mol_embs\n",
    "del gene_embs\n",
    "gc.collect()"
   ]
  },
  {
   "cell_type": "markdown",
   "id": "8b2b25b0",
   "metadata": {
    "papermill": {
     "duration": 0.006616,
     "end_time": "2023-12-08T18:56:02.106510",
     "exception": false,
     "start_time": "2023-12-08T18:56:02.099894",
     "status": "completed"
    },
    "tags": []
   },
   "source": [
    "## Feature Hierarchie"
   ]
  },
  {
   "cell_type": "markdown",
   "id": "3ab3b3f6",
   "metadata": {
    "papermill": {
     "duration": 0.006566,
     "end_time": "2023-12-08T18:56:02.119895",
     "exception": false,
     "start_time": "2023-12-08T18:56:02.113329",
     "status": "completed"
    },
    "tags": []
   },
   "source": [
    "Convert data and check features for redundancy."
   ]
  },
  {
   "cell_type": "code",
   "execution_count": 16,
   "id": "7bb096de",
   "metadata": {
    "execution": {
     "iopub.execute_input": "2023-12-08T18:56:02.134937Z",
     "iopub.status.busy": "2023-12-08T18:56:02.134595Z",
     "iopub.status.idle": "2023-12-08T18:56:08.848589Z",
     "shell.execute_reply": "2023-12-08T18:56:08.847973Z"
    },
    "papermill": {
     "duration": 6.723365,
     "end_time": "2023-12-08T18:56:08.850122",
     "exception": false,
     "start_time": "2023-12-08T18:56:02.126757",
     "status": "completed"
    },
    "tags": []
   },
   "outputs": [
    {
     "name": "stdout",
     "output_type": "stream",
     "text": [
      "CPU times: user 4.55 s, sys: 2.16 s, total: 6.71 s\n",
      "Wall time: 6.71 s\n"
     ]
    }
   ],
   "source": [
    "%%time\n",
    "to = get_train_valid_data(train_df_cmg, test_df_cmg, valid=None, random_state=random_seed)\n",
    "xs, y = to.train.xs, to.train.y"
   ]
  },
  {
   "cell_type": "code",
   "execution_count": 17,
   "id": "ecb25196",
   "metadata": {
    "execution": {
     "iopub.execute_input": "2023-12-08T18:56:08.865049Z",
     "iopub.status.busy": "2023-12-08T18:56:08.864772Z",
     "iopub.status.idle": "2023-12-08T18:56:25.361437Z",
     "shell.execute_reply": "2023-12-08T18:56:25.360371Z"
    },
    "papermill": {
     "duration": 16.511742,
     "end_time": "2023-12-08T18:56:25.368911",
     "exception": false,
     "start_time": "2023-12-08T18:56:08.857169",
     "status": "completed"
    },
    "tags": []
   },
   "outputs": [
    {
     "data": {
      "image/png": "[encoded data removed]",
      "text/plain": [
       "<Figure size 1000x1000 with 1 Axes>"
      ]
     },
     "metadata": {},
     "output_type": "display_data"
    },
    {
     "name": "stdout",
     "output_type": "stream",
     "text": [
      "CPU times: user 16.2 s, sys: 449 ms, total: 16.7 s\n",
      "Wall time: 16.5 s\n"
     ]
    }
   ],
   "source": [
    "%%time\n",
    "from scipy.cluster import hierarchy\n",
    "from scipy.spatial.distance import squareform\n",
    "correlation_matrix = xs.corr()\n",
    "distances = 1 - np.abs(correlation_matrix)\n",
    "np.fill_diagonal(distances.values, 0)\n",
    "condensed_distances = squareform(distances)\n",
    "linkage_matrix = hierarchy.linkage(condensed_distances, method='complete')\n",
    "plt.figure(figsize=(10,10))\n",
    "hierarchy.dendrogram(linkage_matrix, labels=xs.columns.tolist(), orientation='left')\n",
    "plt.show()"
   ]
  },
  {
   "cell_type": "markdown",
   "id": "41c225cf",
   "metadata": {
    "papermill": {
     "duration": 0.007932,
     "end_time": "2023-12-08T18:56:25.389016",
     "exception": false,
     "start_time": "2023-12-08T18:56:25.381084",
     "status": "completed"
    },
    "tags": []
   },
   "source": [
    "## Random Forest All Data"
   ]
  },
  {
   "cell_type": "markdown",
   "id": "8dc8a4a1",
   "metadata": {
    "papermill": {
     "duration": 0.007515,
     "end_time": "2023-12-08T18:56:25.405157",
     "exception": false,
     "start_time": "2023-12-08T18:56:25.397642",
     "status": "completed"
    },
    "tags": []
   },
   "source": [
    "Finally I train a random forest using all training data, predict test scores and submit."
   ]
  },
  {
   "cell_type": "code",
   "execution_count": 18,
   "id": "99a32435",
   "metadata": {
    "execution": {
     "iopub.execute_input": "2023-12-08T18:56:25.426907Z",
     "iopub.status.busy": "2023-12-08T18:56:25.426198Z",
     "iopub.status.idle": "2023-12-08T19:29:58.644170Z",
     "shell.execute_reply": "2023-12-08T19:29:58.643260Z"
    },
    "papermill": {
     "duration": 2013.238236,
     "end_time": "2023-12-08T19:29:58.651664",
     "exception": false,
     "start_time": "2023-12-08T18:56:25.413428",
     "status": "completed"
    },
    "tags": []
   },
   "outputs": [
    {
     "name": "stdout",
     "output_type": "stream",
     "text": [
      "CPU times: user 1h 50min 38s, sys: 42.3 s, total: 1h 51min 21s\n",
      "Wall time: 33min 33s\n"
     ]
    },
    {
     "data": {
      "text/plain": [
       "(0.864132, 1.05716, 0.8008796122295169)"
      ]
     },
     "execution_count": 18,
     "metadata": {},
     "output_type": "execute_result"
    }
   ],
   "source": [
    "%%time\n",
    "m = rf(xs, y, random_state=random_seed)\n",
    "m_rmse(m, xs, y), rmse(m.oob_prediction_, y), m.oob_score_"
   ]
  },
  {
   "cell_type": "markdown",
   "id": "c4c6e8ed",
   "metadata": {
    "papermill": {
     "duration": 0.007601,
     "end_time": "2023-12-08T19:29:58.667271",
     "exception": false,
     "start_time": "2023-12-08T19:29:58.659670",
     "status": "completed"
    },
    "tags": []
   },
   "source": [
    "## Inference and Submission"
   ]
  },
  {
   "cell_type": "code",
   "execution_count": 19,
   "id": "9699f7ec",
   "metadata": {
    "execution": {
     "iopub.execute_input": "2023-12-08T19:29:58.684281Z",
     "iopub.status.busy": "2023-12-08T19:29:58.683968Z",
     "iopub.status.idle": "2023-12-08T19:30:00.492608Z",
     "shell.execute_reply": "2023-12-08T19:30:00.492000Z"
    },
    "papermill": {
     "duration": 1.819191,
     "end_time": "2023-12-08T19:30:00.494276",
     "exception": false,
     "start_time": "2023-12-08T19:29:58.675085",
     "status": "completed"
    },
    "tags": []
   },
   "outputs": [
    {
     "data": {
      "text/html": [
       "<div>\n",
       "<style scoped>\n",
       "    .dataframe tbody tr th:only-of-type {\n",
       "        vertical-align: middle;\n",
       "    }\n",
       "\n",
       "    .dataframe tbody tr th {\n",
       "        vertical-align: top;\n",
       "    }\n",
       "\n",
       "    .dataframe thead th {\n",
       "        text-align: right;\n",
       "    }\n",
       "</style>\n",
       "<table border=\"1\" class=\"dataframe\">\n",
       "  <thead>\n",
       "    <tr style=\"text-align: right;\">\n",
       "      <th></th>\n",
       "      <th>cell_type</th>\n",
       "      <th>sm_name</th>\n",
       "      <th>gene</th>\n",
       "      <th>cemb0</th>\n",
       "      <th>cemb1</th>\n",
       "      <th>cemb2</th>\n",
       "      <th>cemb3</th>\n",
       "      <th>cemb4</th>\n",
       "      <th>membpca10_0</th>\n",
       "      <th>membpca10_1</th>\n",
       "      <th>...</th>\n",
       "      <th>gembpca10_0</th>\n",
       "      <th>gembpca10_1</th>\n",
       "      <th>gembpca10_2</th>\n",
       "      <th>gembpca10_3</th>\n",
       "      <th>gembpca10_4</th>\n",
       "      <th>gembpca10_5</th>\n",
       "      <th>gembpca10_6</th>\n",
       "      <th>gembpca10_7</th>\n",
       "      <th>gembpca10_8</th>\n",
       "      <th>gembpca10_9</th>\n",
       "    </tr>\n",
       "  </thead>\n",
       "  <tbody>\n",
       "    <tr>\n",
       "      <th>0</th>\n",
       "      <td>1</td>\n",
       "      <td>1</td>\n",
       "      <td>1</td>\n",
       "      <td>0.231047</td>\n",
       "      <td>0.020016</td>\n",
       "      <td>-0.090010</td>\n",
       "      <td>0.082302</td>\n",
       "      <td>-0.019138</td>\n",
       "      <td>2.524892</td>\n",
       "      <td>-2.715401</td>\n",
       "      <td>...</td>\n",
       "      <td>-5.783795</td>\n",
       "      <td>-1.162065</td>\n",
       "      <td>-5.487894</td>\n",
       "      <td>0.597049</td>\n",
       "      <td>-2.414790</td>\n",
       "      <td>1.982280</td>\n",
       "      <td>-1.08666</td>\n",
       "      <td>-1.206362</td>\n",
       "      <td>-3.901042</td>\n",
       "      <td>1.390772</td>\n",
       "    </tr>\n",
       "    <tr>\n",
       "      <th>1</th>\n",
       "      <td>1</td>\n",
       "      <td>2</td>\n",
       "      <td>1</td>\n",
       "      <td>0.231047</td>\n",
       "      <td>0.020016</td>\n",
       "      <td>-0.090010</td>\n",
       "      <td>0.082302</td>\n",
       "      <td>-0.019138</td>\n",
       "      <td>-1.219866</td>\n",
       "      <td>-0.877527</td>\n",
       "      <td>...</td>\n",
       "      <td>-5.783795</td>\n",
       "      <td>-1.162065</td>\n",
       "      <td>-5.487894</td>\n",
       "      <td>0.597049</td>\n",
       "      <td>-2.414790</td>\n",
       "      <td>1.982280</td>\n",
       "      <td>-1.08666</td>\n",
       "      <td>-1.206362</td>\n",
       "      <td>-3.901042</td>\n",
       "      <td>1.390772</td>\n",
       "    </tr>\n",
       "    <tr>\n",
       "      <th>2</th>\n",
       "      <td>1</td>\n",
       "      <td>3</td>\n",
       "      <td>1</td>\n",
       "      <td>0.231047</td>\n",
       "      <td>0.020016</td>\n",
       "      <td>-0.090010</td>\n",
       "      <td>0.082302</td>\n",
       "      <td>-0.019138</td>\n",
       "      <td>0.025023</td>\n",
       "      <td>0.075566</td>\n",
       "      <td>...</td>\n",
       "      <td>-5.783795</td>\n",
       "      <td>-1.162065</td>\n",
       "      <td>-5.487894</td>\n",
       "      <td>0.597049</td>\n",
       "      <td>-2.414790</td>\n",
       "      <td>1.982280</td>\n",
       "      <td>-1.08666</td>\n",
       "      <td>-1.206362</td>\n",
       "      <td>-3.901042</td>\n",
       "      <td>1.390772</td>\n",
       "    </tr>\n",
       "    <tr>\n",
       "      <th>3</th>\n",
       "      <td>1</td>\n",
       "      <td>4</td>\n",
       "      <td>1</td>\n",
       "      <td>0.231047</td>\n",
       "      <td>0.020016</td>\n",
       "      <td>-0.090010</td>\n",
       "      <td>0.082302</td>\n",
       "      <td>-0.019138</td>\n",
       "      <td>-1.469350</td>\n",
       "      <td>-1.851055</td>\n",
       "      <td>...</td>\n",
       "      <td>-5.783795</td>\n",
       "      <td>-1.162065</td>\n",
       "      <td>-5.487894</td>\n",
       "      <td>0.597049</td>\n",
       "      <td>-2.414790</td>\n",
       "      <td>1.982280</td>\n",
       "      <td>-1.08666</td>\n",
       "      <td>-1.206362</td>\n",
       "      <td>-3.901042</td>\n",
       "      <td>1.390772</td>\n",
       "    </tr>\n",
       "    <tr>\n",
       "      <th>4</th>\n",
       "      <td>1</td>\n",
       "      <td>5</td>\n",
       "      <td>1</td>\n",
       "      <td>0.231047</td>\n",
       "      <td>0.020016</td>\n",
       "      <td>-0.090010</td>\n",
       "      <td>0.082302</td>\n",
       "      <td>-0.019138</td>\n",
       "      <td>0.551412</td>\n",
       "      <td>0.157118</td>\n",
       "      <td>...</td>\n",
       "      <td>-5.783795</td>\n",
       "      <td>-1.162065</td>\n",
       "      <td>-5.487894</td>\n",
       "      <td>0.597049</td>\n",
       "      <td>-2.414790</td>\n",
       "      <td>1.982280</td>\n",
       "      <td>-1.08666</td>\n",
       "      <td>-1.206362</td>\n",
       "      <td>-3.901042</td>\n",
       "      <td>1.390772</td>\n",
       "    </tr>\n",
       "    <tr>\n",
       "      <th>...</th>\n",
       "      <td>...</td>\n",
       "      <td>...</td>\n",
       "      <td>...</td>\n",
       "      <td>...</td>\n",
       "      <td>...</td>\n",
       "      <td>...</td>\n",
       "      <td>...</td>\n",
       "      <td>...</td>\n",
       "      <td>...</td>\n",
       "      <td>...</td>\n",
       "      <td>...</td>\n",
       "      <td>...</td>\n",
       "      <td>...</td>\n",
       "      <td>...</td>\n",
       "      <td>...</td>\n",
       "      <td>...</td>\n",
       "      <td>...</td>\n",
       "      <td>...</td>\n",
       "      <td>...</td>\n",
       "      <td>...</td>\n",
       "      <td>...</td>\n",
       "    </tr>\n",
       "    <tr>\n",
       "      <th>4643800</th>\n",
       "      <td>2</td>\n",
       "      <td>142</td>\n",
       "      <td>18211</td>\n",
       "      <td>-0.130559</td>\n",
       "      <td>0.138034</td>\n",
       "      <td>0.096609</td>\n",
       "      <td>0.036904</td>\n",
       "      <td>0.094145</td>\n",
       "      <td>-1.627801</td>\n",
       "      <td>2.048937</td>\n",
       "      <td>...</td>\n",
       "      <td>-7.473646</td>\n",
       "      <td>13.909621</td>\n",
       "      <td>3.644948</td>\n",
       "      <td>-3.208391</td>\n",
       "      <td>0.624002</td>\n",
       "      <td>1.707114</td>\n",
       "      <td>-1.91051</td>\n",
       "      <td>-1.623606</td>\n",
       "      <td>-2.552454</td>\n",
       "      <td>-1.376674</td>\n",
       "    </tr>\n",
       "    <tr>\n",
       "      <th>4643801</th>\n",
       "      <td>2</td>\n",
       "      <td>143</td>\n",
       "      <td>18211</td>\n",
       "      <td>-0.130559</td>\n",
       "      <td>0.138034</td>\n",
       "      <td>0.096609</td>\n",
       "      <td>0.036904</td>\n",
       "      <td>0.094145</td>\n",
       "      <td>-0.976956</td>\n",
       "      <td>-0.495422</td>\n",
       "      <td>...</td>\n",
       "      <td>-7.473646</td>\n",
       "      <td>13.909621</td>\n",
       "      <td>3.644948</td>\n",
       "      <td>-3.208391</td>\n",
       "      <td>0.624002</td>\n",
       "      <td>1.707114</td>\n",
       "      <td>-1.91051</td>\n",
       "      <td>-1.623606</td>\n",
       "      <td>-2.552454</td>\n",
       "      <td>-1.376674</td>\n",
       "    </tr>\n",
       "    <tr>\n",
       "      <th>4643802</th>\n",
       "      <td>2</td>\n",
       "      <td>144</td>\n",
       "      <td>18211</td>\n",
       "      <td>-0.130559</td>\n",
       "      <td>0.138034</td>\n",
       "      <td>0.096609</td>\n",
       "      <td>0.036904</td>\n",
       "      <td>0.094145</td>\n",
       "      <td>-1.961592</td>\n",
       "      <td>-0.395690</td>\n",
       "      <td>...</td>\n",
       "      <td>-7.473646</td>\n",
       "      <td>13.909621</td>\n",
       "      <td>3.644948</td>\n",
       "      <td>-3.208391</td>\n",
       "      <td>0.624002</td>\n",
       "      <td>1.707114</td>\n",
       "      <td>-1.91051</td>\n",
       "      <td>-1.623606</td>\n",
       "      <td>-2.552454</td>\n",
       "      <td>-1.376674</td>\n",
       "    </tr>\n",
       "    <tr>\n",
       "      <th>4643803</th>\n",
       "      <td>2</td>\n",
       "      <td>145</td>\n",
       "      <td>18211</td>\n",
       "      <td>-0.130559</td>\n",
       "      <td>0.138034</td>\n",
       "      <td>0.096609</td>\n",
       "      <td>0.036904</td>\n",
       "      <td>0.094145</td>\n",
       "      <td>0.528172</td>\n",
       "      <td>2.419617</td>\n",
       "      <td>...</td>\n",
       "      <td>-7.473646</td>\n",
       "      <td>13.909621</td>\n",
       "      <td>3.644948</td>\n",
       "      <td>-3.208391</td>\n",
       "      <td>0.624002</td>\n",
       "      <td>1.707114</td>\n",
       "      <td>-1.91051</td>\n",
       "      <td>-1.623606</td>\n",
       "      <td>-2.552454</td>\n",
       "      <td>-1.376674</td>\n",
       "    </tr>\n",
       "    <tr>\n",
       "      <th>4643804</th>\n",
       "      <td>2</td>\n",
       "      <td>146</td>\n",
       "      <td>18211</td>\n",
       "      <td>-0.130559</td>\n",
       "      <td>0.138034</td>\n",
       "      <td>0.096609</td>\n",
       "      <td>0.036904</td>\n",
       "      <td>0.094145</td>\n",
       "      <td>-1.346407</td>\n",
       "      <td>0.516794</td>\n",
       "      <td>...</td>\n",
       "      <td>-7.473646</td>\n",
       "      <td>13.909621</td>\n",
       "      <td>3.644948</td>\n",
       "      <td>-3.208391</td>\n",
       "      <td>0.624002</td>\n",
       "      <td>1.707114</td>\n",
       "      <td>-1.91051</td>\n",
       "      <td>-1.623606</td>\n",
       "      <td>-2.552454</td>\n",
       "      <td>-1.376674</td>\n",
       "    </tr>\n",
       "  </tbody>\n",
       "</table>\n",
       "<p>4643805 rows × 28 columns</p>\n",
       "</div>"
      ],
      "text/plain": [
       "         cell_type  sm_name   gene     cemb0     cemb1     cemb2     cemb3  \\\n",
       "0                1        1      1  0.231047  0.020016 -0.090010  0.082302   \n",
       "1                1        2      1  0.231047  0.020016 -0.090010  0.082302   \n",
       "2                1        3      1  0.231047  0.020016 -0.090010  0.082302   \n",
       "3                1        4      1  0.231047  0.020016 -0.090010  0.082302   \n",
       "4                1        5      1  0.231047  0.020016 -0.090010  0.082302   \n",
       "...            ...      ...    ...       ...       ...       ...       ...   \n",
       "4643800          2      142  18211 -0.130559  0.138034  0.096609  0.036904   \n",
       "4643801          2      143  18211 -0.130559  0.138034  0.096609  0.036904   \n",
       "4643802          2      144  18211 -0.130559  0.138034  0.096609  0.036904   \n",
       "4643803          2      145  18211 -0.130559  0.138034  0.096609  0.036904   \n",
       "4643804          2      146  18211 -0.130559  0.138034  0.096609  0.036904   \n",
       "\n",
       "            cemb4  membpca10_0  membpca10_1  ...  gembpca10_0  gembpca10_1  \\\n",
       "0       -0.019138     2.524892    -2.715401  ...    -5.783795    -1.162065   \n",
       "1       -0.019138    -1.219866    -0.877527  ...    -5.783795    -1.162065   \n",
       "2       -0.019138     0.025023     0.075566  ...    -5.783795    -1.162065   \n",
       "3       -0.019138    -1.469350    -1.851055  ...    -5.783795    -1.162065   \n",
       "4       -0.019138     0.551412     0.157118  ...    -5.783795    -1.162065   \n",
       "...           ...          ...          ...  ...          ...          ...   \n",
       "4643800  0.094145    -1.627801     2.048937  ...    -7.473646    13.909621   \n",
       "4643801  0.094145    -0.976956    -0.495422  ...    -7.473646    13.909621   \n",
       "4643802  0.094145    -1.961592    -0.395690  ...    -7.473646    13.909621   \n",
       "4643803  0.094145     0.528172     2.419617  ...    -7.473646    13.909621   \n",
       "4643804  0.094145    -1.346407     0.516794  ...    -7.473646    13.909621   \n",
       "\n",
       "         gembpca10_2  gembpca10_3  gembpca10_4  gembpca10_5  gembpca10_6  \\\n",
       "0          -5.487894     0.597049    -2.414790     1.982280     -1.08666   \n",
       "1          -5.487894     0.597049    -2.414790     1.982280     -1.08666   \n",
       "2          -5.487894     0.597049    -2.414790     1.982280     -1.08666   \n",
       "3          -5.487894     0.597049    -2.414790     1.982280     -1.08666   \n",
       "4          -5.487894     0.597049    -2.414790     1.982280     -1.08666   \n",
       "...              ...          ...          ...          ...          ...   \n",
       "4643800     3.644948    -3.208391     0.624002     1.707114     -1.91051   \n",
       "4643801     3.644948    -3.208391     0.624002     1.707114     -1.91051   \n",
       "4643802     3.644948    -3.208391     0.624002     1.707114     -1.91051   \n",
       "4643803     3.644948    -3.208391     0.624002     1.707114     -1.91051   \n",
       "4643804     3.644948    -3.208391     0.624002     1.707114     -1.91051   \n",
       "\n",
       "         gembpca10_7  gembpca10_8  gembpca10_9  \n",
       "0          -1.206362    -3.901042     1.390772  \n",
       "1          -1.206362    -3.901042     1.390772  \n",
       "2          -1.206362    -3.901042     1.390772  \n",
       "3          -1.206362    -3.901042     1.390772  \n",
       "4          -1.206362    -3.901042     1.390772  \n",
       "...              ...          ...          ...  \n",
       "4643800    -1.623606    -2.552454    -1.376674  \n",
       "4643801    -1.623606    -2.552454    -1.376674  \n",
       "4643802    -1.623606    -2.552454    -1.376674  \n",
       "4643803    -1.623606    -2.552454    -1.376674  \n",
       "4643804    -1.623606    -2.552454    -1.376674  \n",
       "\n",
       "[4643805 rows x 28 columns]"
      ]
     },
     "execution_count": 19,
     "metadata": {},
     "output_type": "execute_result"
    }
   ],
   "source": [
    "test_to = to.new(test_df_cmg)\n",
    "test_to.process()\n",
    "test_xs = test_to.xs\n",
    "test_xs"
   ]
  },
  {
   "cell_type": "code",
   "execution_count": 20,
   "id": "ccb5c25d",
   "metadata": {
    "execution": {
     "iopub.execute_input": "2023-12-08T19:30:00.513010Z",
     "iopub.status.busy": "2023-12-08T19:30:00.512524Z",
     "iopub.status.idle": "2023-12-08T19:30:55.244338Z",
     "shell.execute_reply": "2023-12-08T19:30:55.243426Z"
    },
    "papermill": {
     "duration": 54.751199,
     "end_time": "2023-12-08T19:30:55.254240",
     "exception": false,
     "start_time": "2023-12-08T19:30:00.503041",
     "status": "completed"
    },
    "tags": []
   },
   "outputs": [
    {
     "data": {
      "text/plain": [
       "tensor([ 0.2320,  0.1719,  0.4196,  ..., -0.0962, -0.0292, -0.0715])"
      ]
     },
     "execution_count": 20,
     "metadata": {},
     "output_type": "execute_result"
    }
   ],
   "source": [
    "preds = tensor(m.predict(test_xs))\n",
    "preds"
   ]
  },
  {
   "cell_type": "code",
   "execution_count": 21,
   "id": "be99d2ea",
   "metadata": {
    "execution": {
     "iopub.execute_input": "2023-12-08T19:30:55.271939Z",
     "iopub.status.busy": "2023-12-08T19:30:55.271478Z",
     "iopub.status.idle": "2023-12-08T19:30:55.278639Z",
     "shell.execute_reply": "2023-12-08T19:30:55.277927Z"
    },
    "papermill": {
     "duration": 0.017753,
     "end_time": "2023-12-08T19:30:55.280118",
     "exception": false,
     "start_time": "2023-12-08T19:30:55.262365",
     "status": "completed"
    },
    "tags": []
   },
   "outputs": [
    {
     "data": {
      "text/plain": [
       "(tensor(-18.3912), tensor(29.9948))"
      ]
     },
     "execution_count": 21,
     "metadata": {},
     "output_type": "execute_result"
    }
   ],
   "source": [
    "preds.min(), preds.max()"
   ]
  },
  {
   "cell_type": "markdown",
   "id": "657c06d7",
   "metadata": {
    "papermill": {
     "duration": 0.009175,
     "end_time": "2023-12-08T19:30:55.297720",
     "exception": false,
     "start_time": "2023-12-08T19:30:55.288545",
     "status": "completed"
    },
    "tags": []
   },
   "source": [
    "In the following step I reshape the predictions back into a 255 x 18211 tensor for submission:"
   ]
  },
  {
   "cell_type": "code",
   "execution_count": 22,
   "id": "d921d69a",
   "metadata": {
    "execution": {
     "iopub.execute_input": "2023-12-08T19:30:55.315923Z",
     "iopub.status.busy": "2023-12-08T19:30:55.315365Z",
     "iopub.status.idle": "2023-12-08T19:30:55.379030Z",
     "shell.execute_reply": "2023-12-08T19:30:55.378149Z"
    },
    "papermill": {
     "duration": 0.075472,
     "end_time": "2023-12-08T19:30:55.381427",
     "exception": false,
     "start_time": "2023-12-08T19:30:55.305955",
     "status": "completed"
    },
    "tags": []
   },
   "outputs": [
    {
     "data": {
      "text/html": [
       "<div>\n",
       "<style scoped>\n",
       "    .dataframe tbody tr th:only-of-type {\n",
       "        vertical-align: middle;\n",
       "    }\n",
       "\n",
       "    .dataframe tbody tr th {\n",
       "        vertical-align: top;\n",
       "    }\n",
       "\n",
       "    .dataframe thead th {\n",
       "        text-align: right;\n",
       "    }\n",
       "</style>\n",
       "<table border=\"1\" class=\"dataframe\">\n",
       "  <thead>\n",
       "    <tr style=\"text-align: right;\">\n",
       "      <th></th>\n",
       "      <th>A1BG</th>\n",
       "      <th>A1BG-AS1</th>\n",
       "      <th>A2M</th>\n",
       "      <th>A2M-AS1</th>\n",
       "      <th>A2MP1</th>\n",
       "      <th>A4GALT</th>\n",
       "      <th>AAAS</th>\n",
       "      <th>AACS</th>\n",
       "      <th>AAGAB</th>\n",
       "      <th>AAK1</th>\n",
       "      <th>...</th>\n",
       "      <th>ZUP1</th>\n",
       "      <th>ZW10</th>\n",
       "      <th>ZWILCH</th>\n",
       "      <th>ZWINT</th>\n",
       "      <th>ZXDA</th>\n",
       "      <th>ZXDB</th>\n",
       "      <th>ZXDC</th>\n",
       "      <th>ZYG11B</th>\n",
       "      <th>ZYX</th>\n",
       "      <th>ZZEF1</th>\n",
       "    </tr>\n",
       "    <tr>\n",
       "      <th>id</th>\n",
       "      <th></th>\n",
       "      <th></th>\n",
       "      <th></th>\n",
       "      <th></th>\n",
       "      <th></th>\n",
       "      <th></th>\n",
       "      <th></th>\n",
       "      <th></th>\n",
       "      <th></th>\n",
       "      <th></th>\n",
       "      <th></th>\n",
       "      <th></th>\n",
       "      <th></th>\n",
       "      <th></th>\n",
       "      <th></th>\n",
       "      <th></th>\n",
       "      <th></th>\n",
       "      <th></th>\n",
       "      <th></th>\n",
       "      <th></th>\n",
       "      <th></th>\n",
       "    </tr>\n",
       "  </thead>\n",
       "  <tbody>\n",
       "    <tr>\n",
       "      <th>0</th>\n",
       "      <td>0.232016</td>\n",
       "      <td>0.110668</td>\n",
       "      <td>0.440268</td>\n",
       "      <td>0.609447</td>\n",
       "      <td>1.480283</td>\n",
       "      <td>1.181870</td>\n",
       "      <td>0.125640</td>\n",
       "      <td>0.108322</td>\n",
       "      <td>-0.123958</td>\n",
       "      <td>0.358815</td>\n",
       "      <td>...</td>\n",
       "      <td>-0.321615</td>\n",
       "      <td>-0.068769</td>\n",
       "      <td>0.195414</td>\n",
       "      <td>0.255237</td>\n",
       "      <td>0.236392</td>\n",
       "      <td>0.174145</td>\n",
       "      <td>0.248805</td>\n",
       "      <td>0.415817</td>\n",
       "      <td>0.088075</td>\n",
       "      <td>0.071194</td>\n",
       "    </tr>\n",
       "    <tr>\n",
       "      <th>1</th>\n",
       "      <td>0.171852</td>\n",
       "      <td>0.075148</td>\n",
       "      <td>0.149117</td>\n",
       "      <td>0.214129</td>\n",
       "      <td>1.191716</td>\n",
       "      <td>1.263651</td>\n",
       "      <td>-0.004535</td>\n",
       "      <td>0.158479</td>\n",
       "      <td>0.107841</td>\n",
       "      <td>-0.016537</td>\n",
       "      <td>...</td>\n",
       "      <td>0.113699</td>\n",
       "      <td>0.100706</td>\n",
       "      <td>-0.021103</td>\n",
       "      <td>0.153068</td>\n",
       "      <td>0.192868</td>\n",
       "      <td>0.048186</td>\n",
       "      <td>0.142199</td>\n",
       "      <td>0.146898</td>\n",
       "      <td>0.150609</td>\n",
       "      <td>-0.053352</td>\n",
       "    </tr>\n",
       "    <tr>\n",
       "      <th>2</th>\n",
       "      <td>0.419615</td>\n",
       "      <td>0.099909</td>\n",
       "      <td>0.041278</td>\n",
       "      <td>0.107889</td>\n",
       "      <td>1.568029</td>\n",
       "      <td>2.845965</td>\n",
       "      <td>0.050505</td>\n",
       "      <td>0.323187</td>\n",
       "      <td>0.143395</td>\n",
       "      <td>0.005585</td>\n",
       "      <td>...</td>\n",
       "      <td>-0.080905</td>\n",
       "      <td>0.002012</td>\n",
       "      <td>0.061581</td>\n",
       "      <td>0.378854</td>\n",
       "      <td>0.183387</td>\n",
       "      <td>0.273359</td>\n",
       "      <td>0.246448</td>\n",
       "      <td>0.117373</td>\n",
       "      <td>-0.003684</td>\n",
       "      <td>-0.096323</td>\n",
       "    </tr>\n",
       "    <tr>\n",
       "      <th>3</th>\n",
       "      <td>0.039393</td>\n",
       "      <td>0.221065</td>\n",
       "      <td>0.108384</td>\n",
       "      <td>0.289663</td>\n",
       "      <td>0.887017</td>\n",
       "      <td>0.646559</td>\n",
       "      <td>-0.087853</td>\n",
       "      <td>0.153870</td>\n",
       "      <td>0.101997</td>\n",
       "      <td>0.334735</td>\n",
       "      <td>...</td>\n",
       "      <td>0.036526</td>\n",
       "      <td>0.116040</td>\n",
       "      <td>0.047634</td>\n",
       "      <td>0.152395</td>\n",
       "      <td>-0.016641</td>\n",
       "      <td>-0.012576</td>\n",
       "      <td>0.086604</td>\n",
       "      <td>0.343730</td>\n",
       "      <td>0.100656</td>\n",
       "      <td>0.057325</td>\n",
       "    </tr>\n",
       "    <tr>\n",
       "      <th>4</th>\n",
       "      <td>0.326365</td>\n",
       "      <td>0.070912</td>\n",
       "      <td>0.262907</td>\n",
       "      <td>0.225060</td>\n",
       "      <td>1.144794</td>\n",
       "      <td>1.209496</td>\n",
       "      <td>0.082896</td>\n",
       "      <td>0.187761</td>\n",
       "      <td>0.091944</td>\n",
       "      <td>0.366254</td>\n",
       "      <td>...</td>\n",
       "      <td>-0.190770</td>\n",
       "      <td>0.121339</td>\n",
       "      <td>0.090370</td>\n",
       "      <td>0.181342</td>\n",
       "      <td>0.104310</td>\n",
       "      <td>0.143238</td>\n",
       "      <td>0.246384</td>\n",
       "      <td>0.407660</td>\n",
       "      <td>0.146642</td>\n",
       "      <td>-0.037769</td>\n",
       "    </tr>\n",
       "    <tr>\n",
       "      <th>...</th>\n",
       "      <td>...</td>\n",
       "      <td>...</td>\n",
       "      <td>...</td>\n",
       "      <td>...</td>\n",
       "      <td>...</td>\n",
       "      <td>...</td>\n",
       "      <td>...</td>\n",
       "      <td>...</td>\n",
       "      <td>...</td>\n",
       "      <td>...</td>\n",
       "      <td>...</td>\n",
       "      <td>...</td>\n",
       "      <td>...</td>\n",
       "      <td>...</td>\n",
       "      <td>...</td>\n",
       "      <td>...</td>\n",
       "      <td>...</td>\n",
       "      <td>...</td>\n",
       "      <td>...</td>\n",
       "      <td>...</td>\n",
       "      <td>...</td>\n",
       "    </tr>\n",
       "    <tr>\n",
       "      <th>250</th>\n",
       "      <td>0.061888</td>\n",
       "      <td>-0.115301</td>\n",
       "      <td>-0.171353</td>\n",
       "      <td>-0.160975</td>\n",
       "      <td>0.083676</td>\n",
       "      <td>-0.050931</td>\n",
       "      <td>0.016860</td>\n",
       "      <td>-0.073320</td>\n",
       "      <td>-0.043505</td>\n",
       "      <td>0.237127</td>\n",
       "      <td>...</td>\n",
       "      <td>-0.081356</td>\n",
       "      <td>-0.184846</td>\n",
       "      <td>-0.305815</td>\n",
       "      <td>-0.091784</td>\n",
       "      <td>-0.009122</td>\n",
       "      <td>-0.069461</td>\n",
       "      <td>-0.117386</td>\n",
       "      <td>0.022502</td>\n",
       "      <td>-0.068701</td>\n",
       "      <td>0.009319</td>\n",
       "    </tr>\n",
       "    <tr>\n",
       "      <th>251</th>\n",
       "      <td>0.089803</td>\n",
       "      <td>-0.078957</td>\n",
       "      <td>0.097619</td>\n",
       "      <td>0.335744</td>\n",
       "      <td>0.645069</td>\n",
       "      <td>0.471046</td>\n",
       "      <td>0.003653</td>\n",
       "      <td>0.122890</td>\n",
       "      <td>0.184567</td>\n",
       "      <td>0.221382</td>\n",
       "      <td>...</td>\n",
       "      <td>0.101355</td>\n",
       "      <td>0.039257</td>\n",
       "      <td>-0.402044</td>\n",
       "      <td>-0.019977</td>\n",
       "      <td>0.243823</td>\n",
       "      <td>0.035454</td>\n",
       "      <td>-0.021406</td>\n",
       "      <td>0.079556</td>\n",
       "      <td>-0.206459</td>\n",
       "      <td>-0.084462</td>\n",
       "    </tr>\n",
       "    <tr>\n",
       "      <th>252</th>\n",
       "      <td>-0.075844</td>\n",
       "      <td>-0.032259</td>\n",
       "      <td>-0.096995</td>\n",
       "      <td>-0.140546</td>\n",
       "      <td>0.007538</td>\n",
       "      <td>-0.099034</td>\n",
       "      <td>-0.043268</td>\n",
       "      <td>-0.063726</td>\n",
       "      <td>0.072114</td>\n",
       "      <td>0.083702</td>\n",
       "      <td>...</td>\n",
       "      <td>-0.100846</td>\n",
       "      <td>-0.152247</td>\n",
       "      <td>-0.136672</td>\n",
       "      <td>0.003205</td>\n",
       "      <td>-0.073530</td>\n",
       "      <td>-0.033837</td>\n",
       "      <td>0.000309</td>\n",
       "      <td>0.069686</td>\n",
       "      <td>0.030961</td>\n",
       "      <td>-0.096164</td>\n",
       "    </tr>\n",
       "    <tr>\n",
       "      <th>253</th>\n",
       "      <td>1.081692</td>\n",
       "      <td>0.673840</td>\n",
       "      <td>0.639014</td>\n",
       "      <td>0.589074</td>\n",
       "      <td>2.015911</td>\n",
       "      <td>2.339699</td>\n",
       "      <td>0.511117</td>\n",
       "      <td>0.932566</td>\n",
       "      <td>0.579995</td>\n",
       "      <td>0.595701</td>\n",
       "      <td>...</td>\n",
       "      <td>0.115555</td>\n",
       "      <td>0.656881</td>\n",
       "      <td>-0.010994</td>\n",
       "      <td>0.752008</td>\n",
       "      <td>0.695284</td>\n",
       "      <td>0.754038</td>\n",
       "      <td>0.251581</td>\n",
       "      <td>0.378218</td>\n",
       "      <td>0.128816</td>\n",
       "      <td>-0.029185</td>\n",
       "    </tr>\n",
       "    <tr>\n",
       "      <th>254</th>\n",
       "      <td>0.045273</td>\n",
       "      <td>0.111711</td>\n",
       "      <td>-0.056743</td>\n",
       "      <td>-0.047229</td>\n",
       "      <td>0.258056</td>\n",
       "      <td>0.147763</td>\n",
       "      <td>-0.014319</td>\n",
       "      <td>0.221553</td>\n",
       "      <td>0.102350</td>\n",
       "      <td>0.097696</td>\n",
       "      <td>...</td>\n",
       "      <td>0.161723</td>\n",
       "      <td>0.101919</td>\n",
       "      <td>-0.351171</td>\n",
       "      <td>0.011027</td>\n",
       "      <td>0.126013</td>\n",
       "      <td>0.072658</td>\n",
       "      <td>-0.031409</td>\n",
       "      <td>-0.072564</td>\n",
       "      <td>-0.133203</td>\n",
       "      <td>-0.071533</td>\n",
       "    </tr>\n",
       "  </tbody>\n",
       "</table>\n",
       "<p>255 rows × 18211 columns</p>\n",
       "</div>"
      ],
      "text/plain": [
       "         A1BG  A1BG-AS1       A2M   A2M-AS1     A2MP1    A4GALT      AAAS  \\\n",
       "id                                                                          \n",
       "0    0.232016  0.110668  0.440268  0.609447  1.480283  1.181870  0.125640   \n",
       "1    0.171852  0.075148  0.149117  0.214129  1.191716  1.263651 -0.004535   \n",
       "2    0.419615  0.099909  0.041278  0.107889  1.568029  2.845965  0.050505   \n",
       "3    0.039393  0.221065  0.108384  0.289663  0.887017  0.646559 -0.087853   \n",
       "4    0.326365  0.070912  0.262907  0.225060  1.144794  1.209496  0.082896   \n",
       "..        ...       ...       ...       ...       ...       ...       ...   \n",
       "250  0.061888 -0.115301 -0.171353 -0.160975  0.083676 -0.050931  0.016860   \n",
       "251  0.089803 -0.078957  0.097619  0.335744  0.645069  0.471046  0.003653   \n",
       "252 -0.075844 -0.032259 -0.096995 -0.140546  0.007538 -0.099034 -0.043268   \n",
       "253  1.081692  0.673840  0.639014  0.589074  2.015911  2.339699  0.511117   \n",
       "254  0.045273  0.111711 -0.056743 -0.047229  0.258056  0.147763 -0.014319   \n",
       "\n",
       "         AACS     AAGAB      AAK1  ...      ZUP1      ZW10    ZWILCH  \\\n",
       "id                                 ...                                 \n",
       "0    0.108322 -0.123958  0.358815  ... -0.321615 -0.068769  0.195414   \n",
       "1    0.158479  0.107841 -0.016537  ...  0.113699  0.100706 -0.021103   \n",
       "2    0.323187  0.143395  0.005585  ... -0.080905  0.002012  0.061581   \n",
       "3    0.153870  0.101997  0.334735  ...  0.036526  0.116040  0.047634   \n",
       "4    0.187761  0.091944  0.366254  ... -0.190770  0.121339  0.090370   \n",
       "..        ...       ...       ...  ...       ...       ...       ...   \n",
       "250 -0.073320 -0.043505  0.237127  ... -0.081356 -0.184846 -0.305815   \n",
       "251  0.122890  0.184567  0.221382  ...  0.101355  0.039257 -0.402044   \n",
       "252 -0.063726  0.072114  0.083702  ... -0.100846 -0.152247 -0.136672   \n",
       "253  0.932566  0.579995  0.595701  ...  0.115555  0.656881 -0.010994   \n",
       "254  0.221553  0.102350  0.097696  ...  0.161723  0.101919 -0.351171   \n",
       "\n",
       "        ZWINT      ZXDA      ZXDB      ZXDC    ZYG11B       ZYX     ZZEF1  \n",
       "id                                                                         \n",
       "0    0.255237  0.236392  0.174145  0.248805  0.415817  0.088075  0.071194  \n",
       "1    0.153068  0.192868  0.048186  0.142199  0.146898  0.150609 -0.053352  \n",
       "2    0.378854  0.183387  0.273359  0.246448  0.117373 -0.003684 -0.096323  \n",
       "3    0.152395 -0.016641 -0.012576  0.086604  0.343730  0.100656  0.057325  \n",
       "4    0.181342  0.104310  0.143238  0.246384  0.407660  0.146642 -0.037769  \n",
       "..        ...       ...       ...       ...       ...       ...       ...  \n",
       "250 -0.091784 -0.009122 -0.069461 -0.117386  0.022502 -0.068701  0.009319  \n",
       "251 -0.019977  0.243823  0.035454 -0.021406  0.079556 -0.206459 -0.084462  \n",
       "252  0.003205 -0.073530 -0.033837  0.000309  0.069686  0.030961 -0.096164  \n",
       "253  0.752008  0.695284  0.754038  0.251581  0.378218  0.128816 -0.029185  \n",
       "254  0.011027  0.126013  0.072658 -0.031409 -0.072564 -0.133203 -0.071533  \n",
       "\n",
       "[255 rows x 18211 columns]"
      ]
     },
     "execution_count": 22,
     "metadata": {},
     "output_type": "execute_result"
    }
   ],
   "source": [
    "to_submit = preds.view(18211, -1).t().numpy()\n",
    "submit = pd.DataFrame(to_submit, columns=df_de_train.iloc[:,5:].columns)\n",
    "submit.index.name = 'id'\n",
    "submit"
   ]
  },
  {
   "cell_type": "code",
   "execution_count": 23,
   "id": "fce1186b",
   "metadata": {
    "execution": {
     "iopub.execute_input": "2023-12-08T19:30:55.403382Z",
     "iopub.status.busy": "2023-12-08T19:30:55.403033Z",
     "iopub.status.idle": "2023-12-08T19:30:59.875846Z",
     "shell.execute_reply": "2023-12-08T19:30:59.875102Z"
    },
    "papermill": {
     "duration": 4.485237,
     "end_time": "2023-12-08T19:30:59.878093",
     "exception": false,
     "start_time": "2023-12-08T19:30:55.392856",
     "status": "completed"
    },
    "tags": []
   },
   "outputs": [],
   "source": [
    "submit.to_csv('submission.csv')"
   ]
  }
 ],
 "metadata": {
  "kaggle": {
   "accelerator": "none",
   "dataSources": [
    {
     "databundleVersionId": 7010844,
     "sourceId": 59094,
     "sourceType": "competition"
    },
    {
     "datasetId": 4109071,
     "sourceId": 7123483,
     "sourceType": "datasetVersion"
    }
   ],
   "dockerImageVersionId": 30587,
   "isGpuEnabled": false,
   "isInternetEnabled": true,
   "language": "python",
   "sourceType": "notebook"
  },
  "kernelspec": {
   "display_name": "Python 3",
   "language": "python",
   "name": "python3"
  },
  "language_info": {
   "codemirror_mode": {
    "name": "ipython",
    "version": 3
   },
   "file_extension": ".py",
   "mimetype": "text/x-python",
   "name": "python",
   "nbconvert_exporter": "python",
   "pygments_lexer": "ipython3",
   "version": "3.10.12"
  },
  "papermill": {
   "default_parameters": {},
   "duration": 2125.009428,
   "end_time": "2023-12-08T19:31:02.026246",
   "environment_variables": {},
   "exception": null,
   "input_path": "__notebook__.ipynb",
   "output_path": "__notebook__.ipynb",
   "parameters": {},
   "start_time": "2023-12-08T18:55:37.016818",
   "version": "2.4.0"
  }
 },
 "nbformat": 4,
 "nbformat_minor": 5
}
