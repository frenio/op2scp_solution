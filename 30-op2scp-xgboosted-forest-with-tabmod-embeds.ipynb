{
 "cells": [
  {
   "cell_type": "code",
   "execution_count": 1,
   "id": "1aede1a5",
   "metadata": {
    "_cell_guid": "b1076dfc-b9ad-4769-8c92-a6c4dae69d19",
    "_uuid": "8f2839f25d086af736a60e9eeb907d3b93b6e0e5",
    "execution": {
     "iopub.execute_input": "2023-12-08T18:53:43.070369Z",
     "iopub.status.busy": "2023-12-08T18:53:43.070014Z",
     "iopub.status.idle": "2023-12-08T18:53:49.253232Z",
     "shell.execute_reply": "2023-12-08T18:53:49.252184Z"
    },
    "papermill": {
     "duration": 6.196477,
     "end_time": "2023-12-08T18:53:49.255714",
     "exception": false,
     "start_time": "2023-12-08T18:53:43.059237",
     "status": "completed"
    },
    "tags": []
   },
   "outputs": [
    {
     "name": "stderr",
     "output_type": "stream",
     "text": [
      "/opt/conda/lib/python3.10/site-packages/scipy/__init__.py:146: UserWarning: A NumPy version >=1.16.5 and <1.23.0 is required for this version of SciPy (detected version 1.24.3\n",
      "  warnings.warn(f\"A NumPy version >={np_minversion} and <{np_maxversion}\"\n"
     ]
    }
   ],
   "source": [
    "import time\n",
    "t0start = time.time()\n",
    "from fastai.collab import *\n",
    "from fastai.tabular.all import *\n",
    "import warnings\n",
    "warnings.filterwarnings('ignore')"
   ]
  },
  {
   "cell_type": "code",
   "execution_count": 2,
   "id": "28d33c56",
   "metadata": {
    "execution": {
     "iopub.execute_input": "2023-12-08T18:53:49.275923Z",
     "iopub.status.busy": "2023-12-08T18:53:49.275453Z",
     "iopub.status.idle": "2023-12-08T18:54:01.661721Z",
     "shell.execute_reply": "2023-12-08T18:54:01.660487Z"
    },
    "papermill": {
     "duration": 12.39883,
     "end_time": "2023-12-08T18:54:01.664038",
     "exception": false,
     "start_time": "2023-12-08T18:53:49.265208",
     "status": "completed"
    },
    "tags": []
   },
   "outputs": [],
   "source": [
    "! pip install -q xgboost"
   ]
  },
  {
   "cell_type": "code",
   "execution_count": 3,
   "id": "80434339",
   "metadata": {
    "execution": {
     "iopub.execute_input": "2023-12-08T18:54:01.684714Z",
     "iopub.status.busy": "2023-12-08T18:54:01.683938Z",
     "iopub.status.idle": "2023-12-08T18:54:01.688498Z",
     "shell.execute_reply": "2023-12-08T18:54:01.687666Z"
    },
    "papermill": {
     "duration": 0.017061,
     "end_time": "2023-12-08T18:54:01.690636",
     "exception": false,
     "start_time": "2023-12-08T18:54:01.673575",
     "status": "completed"
    },
    "tags": []
   },
   "outputs": [],
   "source": [
    "random_seed = 177"
   ]
  },
  {
   "cell_type": "markdown",
   "id": "392eab87",
   "metadata": {
    "papermill": {
     "duration": 0.008651,
     "end_time": "2023-12-08T18:54:01.708229",
     "exception": false,
     "start_time": "2023-12-08T18:54:01.699578",
     "status": "completed"
    },
    "tags": []
   },
   "source": [
    "## Loading and Melting Train and Test Data"
   ]
  },
  {
   "cell_type": "markdown",
   "id": "64e2c35e",
   "metadata": {
    "papermill": {
     "duration": 0.008592,
     "end_time": "2023-12-08T18:54:01.725914",
     "exception": false,
     "start_time": "2023-12-08T18:54:01.717322",
     "status": "completed"
    },
    "tags": []
   },
   "source": [
    "Here I read the training and test data and melt it to yield a ```DataFrame``` with three categorical features (```cell_type```, ```sm_name```, and ```gene```) and one target (```value```)."
   ]
  },
  {
   "cell_type": "code",
   "execution_count": 4,
   "id": "0a958364",
   "metadata": {
    "execution": {
     "iopub.execute_input": "2023-12-08T18:54:01.745459Z",
     "iopub.status.busy": "2023-12-08T18:54:01.744864Z",
     "iopub.status.idle": "2023-12-08T18:54:06.744137Z",
     "shell.execute_reply": "2023-12-08T18:54:06.743122Z"
    },
    "papermill": {
     "duration": 5.011153,
     "end_time": "2023-12-08T18:54:06.746159",
     "exception": false,
     "start_time": "2023-12-08T18:54:01.735006",
     "status": "completed"
    },
    "tags": []
   },
   "outputs": [
    {
     "name": "stdout",
     "output_type": "stream",
     "text": [
      "CPU times: user 4.06 s, sys: 816 ms, total: 4.87 s\n",
      "Wall time: 4.99 s\n"
     ]
    }
   ],
   "source": [
    "%%time\n",
    "fn = '/kaggle/input/open-problems-single-cell-perturbations/de_train.parquet'\n",
    "df_de_train = pd.read_parquet(fn)# , index_col = 0)\n",
    "train_df = df_de_train.melt(id_vars=['cell_type', 'sm_name'], value_vars=df_de_train.iloc[:,5:].columns, var_name='gene', value_name='value')"
   ]
  },
  {
   "cell_type": "code",
   "execution_count": 5,
   "id": "198d47d5",
   "metadata": {
    "execution": {
     "iopub.execute_input": "2023-12-08T18:54:06.766393Z",
     "iopub.status.busy": "2023-12-08T18:54:06.766096Z",
     "iopub.status.idle": "2023-12-08T18:54:11.468607Z",
     "shell.execute_reply": "2023-12-08T18:54:11.467814Z"
    },
    "papermill": {
     "duration": 4.715211,
     "end_time": "2023-12-08T18:54:11.471029",
     "exception": false,
     "start_time": "2023-12-08T18:54:06.755818",
     "status": "completed"
    },
    "tags": []
   },
   "outputs": [],
   "source": [
    "fn = '/kaggle/input/open-problems-single-cell-perturbations/id_map.csv'\n",
    "df_id_map = pd.read_csv(fn)\n",
    "fn = '/kaggle/input/open-problems-single-cell-perturbations/sample_submission.csv'\n",
    "df = pd.read_csv(fn, index_col = 0)\n",
    "\n",
    "cols_to_add = df_de_train.iloc[:,5:].columns\n",
    "cols_to_add\n",
    "\n",
    "df_zeros = pd.DataFrame(0.0, columns=cols_to_add, index=df_id_map.index)\n",
    "df_zeros\n",
    "\n",
    "df_id_map_preds = pd.concat([df_id_map, df_zeros], axis=1)\n",
    "test_df = df_id_map_preds.melt(id_vars=['cell_type', 'sm_name'], value_vars=df_id_map_preds.iloc[:,3:].columns, var_name='gene', value_name='value')"
   ]
  },
  {
   "cell_type": "markdown",
   "id": "fa06412b",
   "metadata": {
    "papermill": {
     "duration": 0.008997,
     "end_time": "2023-12-08T18:54:11.489396",
     "exception": false,
     "start_time": "2023-12-08T18:54:11.480399",
     "status": "completed"
    },
    "tags": []
   },
   "source": [
    "## Load Embeddings"
   ]
  },
  {
   "cell_type": "markdown",
   "id": "52987415",
   "metadata": {
    "papermill": {
     "duration": 0.008818,
     "end_time": "2023-12-08T18:54:11.507172",
     "exception": false,
     "start_time": "2023-12-08T18:54:11.498354",
     "status": "completed"
    },
    "tags": []
   },
   "source": [
    "The function ```reduce_emb_dim``` is used to reduce the dimensionality of molecular (```dim = 26```) and gene embeddings (```dim = 1000```) down to 10 components."
   ]
  },
  {
   "cell_type": "code",
   "execution_count": 6,
   "id": "caa56bda",
   "metadata": {
    "execution": {
     "iopub.execute_input": "2023-12-08T18:54:11.526603Z",
     "iopub.status.busy": "2023-12-08T18:54:11.526028Z",
     "iopub.status.idle": "2023-12-08T18:54:11.615637Z",
     "shell.execute_reply": "2023-12-08T18:54:11.614672Z"
    },
    "papermill": {
     "duration": 0.101744,
     "end_time": "2023-12-08T18:54:11.617861",
     "exception": false,
     "start_time": "2023-12-08T18:54:11.516117",
     "status": "completed"
    },
    "tags": []
   },
   "outputs": [],
   "source": [
    "from sklearn.decomposition import PCA\n",
    "from sklearn.preprocessing import StandardScaler\n",
    "\n",
    "def reduce_emb_dim(data, n_comp=35, random_state=42):\n",
    "    embname = data.columns[1][:-1]\n",
    "    Y = data.iloc[:,1:]\n",
    "    scaler = StandardScaler()\n",
    "    Y_std = scaler.fit_transform(Y)\n",
    "    reducer = PCA(n_components=n_comp, random_state=random_state)\n",
    "\n",
    "    Yr = reducer.fit_transform(Y_std)\n",
    "    column_names = [f'{embname}pca{n_comp}_{i}' for i in range(n_comp)]\n",
    "    reduced_data = pd.DataFrame(Yr, columns = column_names)\n",
    "    reduced_data = pd.concat([data.iloc[:, 0], reduced_data], axis=1)\n",
    "    return reduced_data"
   ]
  },
  {
   "cell_type": "code",
   "execution_count": 7,
   "id": "eccaf484",
   "metadata": {
    "execution": {
     "iopub.execute_input": "2023-12-08T18:54:11.637750Z",
     "iopub.status.busy": "2023-12-08T18:54:11.637416Z",
     "iopub.status.idle": "2023-12-08T18:54:12.571255Z",
     "shell.execute_reply": "2023-12-08T18:54:12.570307Z"
    },
    "papermill": {
     "duration": 0.946098,
     "end_time": "2023-12-08T18:54:12.573407",
     "exception": false,
     "start_time": "2023-12-08T18:54:11.627309",
     "status": "completed"
    },
    "tags": []
   },
   "outputs": [
    {
     "data": {
      "text/plain": [
       "((6, 6), (146, 27), (18211, 1001))"
      ]
     },
     "execution_count": 7,
     "metadata": {},
     "output_type": "execute_result"
    }
   ],
   "source": [
    "cell_embs = pd.read_csv('/kaggle/input/op2-single-cell-perturbations-tabmodnn-embeddings/cell_embeddings_no_pca.csv', index_col = 0)\n",
    "mol_embs = pd.read_csv('/kaggle/input/op2-single-cell-perturbations-tabmodnn-embeddings/molecular_embeddings_no_pca.csv', index_col = 0)\n",
    "gene_embs = pd.read_parquet('/kaggle/input/op2-single-cell-perturbations-tabmodnn-embeddings/gene_embeddings_no_pca.parquet')\n",
    "cell_embs.shape, mol_embs.shape, gene_embs.shape"
   ]
  },
  {
   "cell_type": "code",
   "execution_count": 8,
   "id": "57aafacb",
   "metadata": {
    "execution": {
     "iopub.execute_input": "2023-12-08T18:54:12.593427Z",
     "iopub.status.busy": "2023-12-08T18:54:12.593135Z",
     "iopub.status.idle": "2023-12-08T18:54:13.974085Z",
     "shell.execute_reply": "2023-12-08T18:54:13.972762Z"
    },
    "papermill": {
     "duration": 1.394751,
     "end_time": "2023-12-08T18:54:13.977724",
     "exception": false,
     "start_time": "2023-12-08T18:54:12.582973",
     "status": "completed"
    },
    "tags": []
   },
   "outputs": [],
   "source": [
    "gene_embs = reduce_emb_dim(gene_embs, n_comp=10, random_state=random_seed)"
   ]
  },
  {
   "cell_type": "code",
   "execution_count": 9,
   "id": "70cf99dc",
   "metadata": {
    "execution": {
     "iopub.execute_input": "2023-12-08T18:54:14.019829Z",
     "iopub.status.busy": "2023-12-08T18:54:14.019165Z",
     "iopub.status.idle": "2023-12-08T18:54:14.086163Z",
     "shell.execute_reply": "2023-12-08T18:54:14.085415Z"
    },
    "papermill": {
     "duration": 0.090041,
     "end_time": "2023-12-08T18:54:14.088241",
     "exception": false,
     "start_time": "2023-12-08T18:54:13.998200",
     "status": "completed"
    },
    "tags": []
   },
   "outputs": [],
   "source": [
    "mol_embs = reduce_emb_dim(mol_embs, n_comp=10, random_state=random_seed)"
   ]
  },
  {
   "cell_type": "markdown",
   "id": "1491b994",
   "metadata": {
    "papermill": {
     "duration": 0.008825,
     "end_time": "2023-12-08T18:54:14.107579",
     "exception": false,
     "start_time": "2023-12-08T18:54:14.098754",
     "status": "completed"
    },
    "tags": []
   },
   "source": [
    "## Define Functions"
   ]
  },
  {
   "cell_type": "markdown",
   "id": "0e1c5381",
   "metadata": {
    "papermill": {
     "duration": 0.008768,
     "end_time": "2023-12-08T18:54:14.125434",
     "exception": false,
     "start_time": "2023-12-08T18:54:14.116666",
     "status": "completed"
    },
    "tags": []
   },
   "source": [
    "The function ```get_train_valid_data``` takes the train and test data as inputs and returns a ```TabularPandas``` object using the ```valid``` scheme and ```split_func``` provided."
   ]
  },
  {
   "cell_type": "code",
   "execution_count": 10,
   "id": "82b0dba1",
   "metadata": {
    "execution": {
     "iopub.execute_input": "2023-12-08T18:54:14.146197Z",
     "iopub.status.busy": "2023-12-08T18:54:14.145877Z",
     "iopub.status.idle": "2023-12-08T18:54:14.150617Z",
     "shell.execute_reply": "2023-12-08T18:54:14.149807Z"
    },
    "papermill": {
     "duration": 0.016798,
     "end_time": "2023-12-08T18:54:14.152554",
     "exception": false,
     "start_time": "2023-12-08T18:54:14.135756",
     "status": "completed"
    },
    "tags": []
   },
   "outputs": [],
   "source": [
    "def splitter(df):\n",
    "    train = df.index[~df['is_valid']].tolist()\n",
    "    valid = df.index[df['is_valid']].tolist()\n",
    "    return L(train), L(valid)"
   ]
  },
  {
   "cell_type": "code",
   "execution_count": 11,
   "id": "29d1987b",
   "metadata": {
    "execution": {
     "iopub.execute_input": "2023-12-08T18:54:14.171681Z",
     "iopub.status.busy": "2023-12-08T18:54:14.171377Z",
     "iopub.status.idle": "2023-12-08T18:54:14.180831Z",
     "shell.execute_reply": "2023-12-08T18:54:14.180074Z"
    },
    "papermill": {
     "duration": 0.02109,
     "end_time": "2023-12-08T18:54:14.182630",
     "exception": false,
     "start_time": "2023-12-08T18:54:14.161540",
     "status": "completed"
    },
    "tags": []
   },
   "outputs": [],
   "source": [
    "def get_train_valid_data(train_data, test_data, valid=None, random_state=None, split_func=splitter):\n",
    "    train_data['is_valid'] = False\n",
    "    cont, cat = cont_cat_split(train_data, 1, dep_var='value')\n",
    "    if valid in ['NK cells', 'T cells CD4+', 'T cells CD8+', 'T regulatory cells']:\n",
    "        test_compounds = test_data['sm_name'].unique().tolist()\n",
    "        valid_indices = train_data.loc[(train_data['cell_type']==valid) & train_data['sm_name'].isin(test_compounds)].index.sort_values().tolist()\n",
    "        train_data.loc[valid_indices, 'is_valid'] = True\n",
    "        splits = splitter(train_data)\n",
    "        cont, cat = cont_cat_split(train_data, 1, dep_var='value')\n",
    "        cat.remove('is_valid')\n",
    "        to = TabularPandas(train_data, procs=[Categorify, FillMissing], cont_names=cont, cat_names=cat, y_names='value', splits=splits)\n",
    "    elif type(valid)==float:\n",
    "        valid_indices = train_data.sample(frac=valid, random_state=random_state).index.sort_values().tolist()\n",
    "        train_data.loc[valid_indices, 'is_valid'] = True\n",
    "        splits = splitter(train_data)\n",
    "        cat.remove('is_valid')\n",
    "        to = TabularPandas(train_data, procs=[Categorify, FillMissing], cont_names=cont, cat_names=cat, y_names='value', splits=splits)\n",
    "    else:\n",
    "        cat.remove('is_valid')\n",
    "        to = TabularPandas(train_data, procs=[Categorify, FillMissing], cont_names=cont, cat_names=cat, y_names='value', splits=None)\n",
    "    return to"
   ]
  },
  {
   "cell_type": "code",
   "execution_count": 12,
   "id": "938436b2",
   "metadata": {
    "execution": {
     "iopub.execute_input": "2023-12-08T18:54:14.202113Z",
     "iopub.status.busy": "2023-12-08T18:54:14.201842Z",
     "iopub.status.idle": "2023-12-08T18:54:14.206812Z",
     "shell.execute_reply": "2023-12-08T18:54:14.205951Z"
    },
    "papermill": {
     "duration": 0.017036,
     "end_time": "2023-12-08T18:54:14.208805",
     "exception": false,
     "start_time": "2023-12-08T18:54:14.191769",
     "status": "completed"
    },
    "tags": []
   },
   "outputs": [],
   "source": [
    "def rmse(preds, targs): return round(math.sqrt(((targs-preds)**2).mean()), 6)\n",
    "def m_rmse(m, xs, y): return rmse(m.predict(xs), y)"
   ]
  },
  {
   "cell_type": "markdown",
   "id": "706e9a18",
   "metadata": {
    "papermill": {
     "duration": 0.008869,
     "end_time": "2023-12-08T18:54:14.226686",
     "exception": false,
     "start_time": "2023-12-08T18:54:14.217817",
     "status": "completed"
    },
    "tags": []
   },
   "source": [
    "## Add Embeddings"
   ]
  },
  {
   "cell_type": "markdown",
   "id": "1bff21ae",
   "metadata": {
    "papermill": {
     "duration": 0.008982,
     "end_time": "2023-12-08T18:54:14.244701",
     "exception": false,
     "start_time": "2023-12-08T18:54:14.235719",
     "status": "completed"
    },
    "tags": []
   },
   "source": [
    "The following lines merge the embeddings with the train and test data."
   ]
  },
  {
   "cell_type": "code",
   "execution_count": 13,
   "id": "d704dc9e",
   "metadata": {
    "execution": {
     "iopub.execute_input": "2023-12-08T18:54:14.264000Z",
     "iopub.status.busy": "2023-12-08T18:54:14.263687Z",
     "iopub.status.idle": "2023-12-08T18:54:24.738523Z",
     "shell.execute_reply": "2023-12-08T18:54:24.737697Z"
    },
    "papermill": {
     "duration": 10.48705,
     "end_time": "2023-12-08T18:54:24.740827",
     "exception": false,
     "start_time": "2023-12-08T18:54:14.253777",
     "status": "completed"
    },
    "tags": []
   },
   "outputs": [],
   "source": [
    "train_df_c = pd.merge(train_df, cell_embs, on='cell_type', how='left')\n",
    "train_df_cm = pd.merge(train_df_c, mol_embs, on='sm_name', how='left')\n",
    "train_df_cmg = pd.merge(train_df_cm, gene_embs, on='gene', how='left')"
   ]
  },
  {
   "cell_type": "code",
   "execution_count": 14,
   "id": "b50d67c3",
   "metadata": {
    "execution": {
     "iopub.execute_input": "2023-12-08T18:54:24.760496Z",
     "iopub.status.busy": "2023-12-08T18:54:24.760211Z",
     "iopub.status.idle": "2023-12-08T18:54:29.100873Z",
     "shell.execute_reply": "2023-12-08T18:54:29.100029Z"
    },
    "papermill": {
     "duration": 4.352942,
     "end_time": "2023-12-08T18:54:29.103272",
     "exception": false,
     "start_time": "2023-12-08T18:54:24.750330",
     "status": "completed"
    },
    "tags": []
   },
   "outputs": [],
   "source": [
    "test_df_c = pd.merge(test_df, cell_embs, on='cell_type', how='left')\n",
    "test_df_cm = pd.merge(test_df_c, mol_embs, on='sm_name', how='left')\n",
    "test_df_cmg = pd.merge(test_df_cm, gene_embs, on='gene', how='left')"
   ]
  },
  {
   "cell_type": "markdown",
   "id": "b3c45adb",
   "metadata": {
    "papermill": {
     "duration": 0.008809,
     "end_time": "2023-12-08T18:54:29.121548",
     "exception": false,
     "start_time": "2023-12-08T18:54:29.112739",
     "status": "completed"
    },
    "tags": []
   },
   "source": [
    "## Delete Unused Data"
   ]
  },
  {
   "cell_type": "markdown",
   "id": "47227ae8",
   "metadata": {
    "papermill": {
     "duration": 0.008837,
     "end_time": "2023-12-08T18:54:29.139287",
     "exception": false,
     "start_time": "2023-12-08T18:54:29.130450",
     "status": "completed"
    },
    "tags": []
   },
   "source": [
    "And collect garbage to save some memory."
   ]
  },
  {
   "cell_type": "code",
   "execution_count": 15,
   "id": "c4b278db",
   "metadata": {
    "execution": {
     "iopub.execute_input": "2023-12-08T18:54:29.158372Z",
     "iopub.status.busy": "2023-12-08T18:54:29.158102Z",
     "iopub.status.idle": "2023-12-08T18:54:29.585171Z",
     "shell.execute_reply": "2023-12-08T18:54:29.584303Z"
    },
    "papermill": {
     "duration": 0.438874,
     "end_time": "2023-12-08T18:54:29.587120",
     "exception": false,
     "start_time": "2023-12-08T18:54:29.148246",
     "status": "completed"
    },
    "tags": []
   },
   "outputs": [
    {
     "data": {
      "text/plain": [
       "0"
      ]
     },
     "execution_count": 15,
     "metadata": {},
     "output_type": "execute_result"
    }
   ],
   "source": [
    "import gc\n",
    "del train_df_c\n",
    "del train_df_cm\n",
    "del test_df_c\n",
    "del test_df_cm\n",
    "del cell_embs\n",
    "del mol_embs\n",
    "del gene_embs\n",
    "gc.collect()"
   ]
  },
  {
   "cell_type": "markdown",
   "id": "7b86e828",
   "metadata": {
    "papermill": {
     "duration": 0.009005,
     "end_time": "2023-12-08T18:54:29.605714",
     "exception": false,
     "start_time": "2023-12-08T18:54:29.596709",
     "status": "completed"
    },
    "tags": []
   },
   "source": [
    "## Feature Hierarchie"
   ]
  },
  {
   "cell_type": "markdown",
   "id": "4ae6353b",
   "metadata": {
    "papermill": {
     "duration": 0.008979,
     "end_time": "2023-12-08T18:54:29.623930",
     "exception": false,
     "start_time": "2023-12-08T18:54:29.614951",
     "status": "completed"
    },
    "tags": []
   },
   "source": [
    "Convert data and check features for redundancy."
   ]
  },
  {
   "cell_type": "code",
   "execution_count": 16,
   "id": "acb0a289",
   "metadata": {
    "execution": {
     "iopub.execute_input": "2023-12-08T18:54:29.643367Z",
     "iopub.status.busy": "2023-12-08T18:54:29.643071Z",
     "iopub.status.idle": "2023-12-08T18:54:43.016328Z",
     "shell.execute_reply": "2023-12-08T18:54:43.015421Z"
    },
    "papermill": {
     "duration": 13.385309,
     "end_time": "2023-12-08T18:54:43.018445",
     "exception": false,
     "start_time": "2023-12-08T18:54:29.633136",
     "status": "completed"
    },
    "tags": []
   },
   "outputs": [
    {
     "name": "stdout",
     "output_type": "stream",
     "text": [
      "CPU times: user 8.92 s, sys: 4.44 s, total: 13.4 s\n",
      "Wall time: 13.4 s\n"
     ]
    }
   ],
   "source": [
    "%%time\n",
    "to = get_train_valid_data(train_df_cmg, test_df_cmg, valid=None, random_state=random_seed)\n",
    "xs, y = to.train.xs, to.train.y"
   ]
  },
  {
   "cell_type": "code",
   "execution_count": 17,
   "id": "7db7cf71",
   "metadata": {
    "execution": {
     "iopub.execute_input": "2023-12-08T18:54:43.038496Z",
     "iopub.status.busy": "2023-12-08T18:54:43.038176Z",
     "iopub.status.idle": "2023-12-08T18:55:04.992701Z",
     "shell.execute_reply": "2023-12-08T18:55:04.991797Z"
    },
    "papermill": {
     "duration": 21.967714,
     "end_time": "2023-12-08T18:55:04.995766",
     "exception": false,
     "start_time": "2023-12-08T18:54:43.028052",
     "status": "completed"
    },
    "tags": []
   },
   "outputs": [
    {
     "data": {
      "image/png": "[encoded data removed]",
      "text/plain": [
       "<Figure size 1000x1000 with 1 Axes>"
      ]
     },
     "metadata": {},
     "output_type": "display_data"
    },
    {
     "name": "stdout",
     "output_type": "stream",
     "text": [
      "CPU times: user 21.5 s, sys: 684 ms, total: 22.2 s\n",
      "Wall time: 21.9 s\n"
     ]
    }
   ],
   "source": [
    "%%time\n",
    "from scipy.cluster import hierarchy\n",
    "from scipy.spatial.distance import squareform\n",
    "correlation_matrix = xs.corr()\n",
    "distances = 1 - np.abs(correlation_matrix)\n",
    "np.fill_diagonal(distances.values, 0)\n",
    "condensed_distances = squareform(distances)\n",
    "linkage_matrix = hierarchy.linkage(condensed_distances, method='complete')\n",
    "plt.figure(figsize=(10,10))\n",
    "hierarchy.dendrogram(linkage_matrix, labels=xs.columns.tolist(), orientation='left')\n",
    "plt.show()"
   ]
  },
  {
   "cell_type": "markdown",
   "id": "28c5fcb4",
   "metadata": {
    "papermill": {
     "duration": 0.009929,
     "end_time": "2023-12-08T18:55:05.060043",
     "exception": false,
     "start_time": "2023-12-08T18:55:05.050114",
     "status": "completed"
    },
    "tags": []
   },
   "source": [
    "## Train XGBoosted Forest"
   ]
  },
  {
   "cell_type": "code",
   "execution_count": 18,
   "id": "126313a8",
   "metadata": {
    "execution": {
     "iopub.execute_input": "2023-12-08T18:55:05.081930Z",
     "iopub.status.busy": "2023-12-08T18:55:05.081244Z",
     "iopub.status.idle": "2023-12-08T19:09:50.684122Z",
     "shell.execute_reply": "2023-12-08T19:09:50.683168Z"
    },
    "papermill": {
     "duration": 885.626966,
     "end_time": "2023-12-08T19:09:50.697081",
     "exception": false,
     "start_time": "2023-12-08T18:55:05.070115",
     "status": "completed"
    },
    "tags": []
   },
   "outputs": [
    {
     "name": "stdout",
     "output_type": "stream",
     "text": [
      "CPU times: user 14min 51s, sys: 14.7 s, total: 15min 5s\n",
      "Wall time: 14min 45s\n"
     ]
    },
    {
     "data": {
      "text/plain": [
       "0.827387"
      ]
     },
     "execution_count": 18,
     "metadata": {},
     "output_type": "execute_result"
    }
   ],
   "source": [
    "%%time\n",
    "import xgboost as xgb\n",
    "m = xgb.XGBRegressor(device='cuda', n_estimators=185, learning_rate=0.01, max_depth=20, min_child_weight=1, gamma=0, subsample=1, colsample_bytree=0.55, random_state=random_seed) # reg_lambda=10, alpha=10\n",
    "m.fit(xs, y)\n",
    "m_rmse(m, xs, y)"
   ]
  },
  {
   "cell_type": "markdown",
   "id": "bf873069",
   "metadata": {
    "papermill": {
     "duration": 0.010021,
     "end_time": "2023-12-08T19:09:50.717691",
     "exception": false,
     "start_time": "2023-12-08T19:09:50.707670",
     "status": "completed"
    },
    "tags": []
   },
   "source": [
    "## Inference and Submission"
   ]
  },
  {
   "cell_type": "code",
   "execution_count": 19,
   "id": "37344766",
   "metadata": {
    "execution": {
     "iopub.execute_input": "2023-12-08T19:09:50.740098Z",
     "iopub.status.busy": "2023-12-08T19:09:50.739801Z",
     "iopub.status.idle": "2023-12-08T19:09:53.489913Z",
     "shell.execute_reply": "2023-12-08T19:09:53.488926Z"
    },
    "papermill": {
     "duration": 2.763582,
     "end_time": "2023-12-08T19:09:53.492117",
     "exception": false,
     "start_time": "2023-12-08T19:09:50.728535",
     "status": "completed"
    },
    "tags": []
   },
   "outputs": [
    {
     "data": {
      "text/html": [
       "<div>\n",
       "<style scoped>\n",
       "    .dataframe tbody tr th:only-of-type {\n",
       "        vertical-align: middle;\n",
       "    }\n",
       "\n",
       "    .dataframe tbody tr th {\n",
       "        vertical-align: top;\n",
       "    }\n",
       "\n",
       "    .dataframe thead th {\n",
       "        text-align: right;\n",
       "    }\n",
       "</style>\n",
       "<table border=\"1\" class=\"dataframe\">\n",
       "  <thead>\n",
       "    <tr style=\"text-align: right;\">\n",
       "      <th></th>\n",
       "      <th>cell_type</th>\n",
       "      <th>sm_name</th>\n",
       "      <th>gene</th>\n",
       "      <th>cemb0</th>\n",
       "      <th>cemb1</th>\n",
       "      <th>cemb2</th>\n",
       "      <th>cemb3</th>\n",
       "      <th>cemb4</th>\n",
       "      <th>membpca10_0</th>\n",
       "      <th>membpca10_1</th>\n",
       "      <th>...</th>\n",
       "      <th>gembpca10_0</th>\n",
       "      <th>gembpca10_1</th>\n",
       "      <th>gembpca10_2</th>\n",
       "      <th>gembpca10_3</th>\n",
       "      <th>gembpca10_4</th>\n",
       "      <th>gembpca10_5</th>\n",
       "      <th>gembpca10_6</th>\n",
       "      <th>gembpca10_7</th>\n",
       "      <th>gembpca10_8</th>\n",
       "      <th>gembpca10_9</th>\n",
       "    </tr>\n",
       "  </thead>\n",
       "  <tbody>\n",
       "    <tr>\n",
       "      <th>0</th>\n",
       "      <td>1</td>\n",
       "      <td>1</td>\n",
       "      <td>1</td>\n",
       "      <td>0.231047</td>\n",
       "      <td>0.020016</td>\n",
       "      <td>-0.090010</td>\n",
       "      <td>0.082302</td>\n",
       "      <td>-0.019138</td>\n",
       "      <td>2.524892</td>\n",
       "      <td>-2.715401</td>\n",
       "      <td>...</td>\n",
       "      <td>-5.783766</td>\n",
       "      <td>-1.162082</td>\n",
       "      <td>-5.487963</td>\n",
       "      <td>0.597219</td>\n",
       "      <td>-2.413644</td>\n",
       "      <td>1.978386</td>\n",
       "      <td>-1.088238</td>\n",
       "      <td>-1.189460</td>\n",
       "      <td>-3.919738</td>\n",
       "      <td>1.454664</td>\n",
       "    </tr>\n",
       "    <tr>\n",
       "      <th>1</th>\n",
       "      <td>1</td>\n",
       "      <td>2</td>\n",
       "      <td>1</td>\n",
       "      <td>0.231047</td>\n",
       "      <td>0.020016</td>\n",
       "      <td>-0.090010</td>\n",
       "      <td>0.082302</td>\n",
       "      <td>-0.019138</td>\n",
       "      <td>-1.219866</td>\n",
       "      <td>-0.877527</td>\n",
       "      <td>...</td>\n",
       "      <td>-5.783766</td>\n",
       "      <td>-1.162082</td>\n",
       "      <td>-5.487963</td>\n",
       "      <td>0.597219</td>\n",
       "      <td>-2.413644</td>\n",
       "      <td>1.978386</td>\n",
       "      <td>-1.088238</td>\n",
       "      <td>-1.189460</td>\n",
       "      <td>-3.919738</td>\n",
       "      <td>1.454664</td>\n",
       "    </tr>\n",
       "    <tr>\n",
       "      <th>2</th>\n",
       "      <td>1</td>\n",
       "      <td>3</td>\n",
       "      <td>1</td>\n",
       "      <td>0.231047</td>\n",
       "      <td>0.020016</td>\n",
       "      <td>-0.090010</td>\n",
       "      <td>0.082302</td>\n",
       "      <td>-0.019138</td>\n",
       "      <td>0.025023</td>\n",
       "      <td>0.075566</td>\n",
       "      <td>...</td>\n",
       "      <td>-5.783766</td>\n",
       "      <td>-1.162082</td>\n",
       "      <td>-5.487963</td>\n",
       "      <td>0.597219</td>\n",
       "      <td>-2.413644</td>\n",
       "      <td>1.978386</td>\n",
       "      <td>-1.088238</td>\n",
       "      <td>-1.189460</td>\n",
       "      <td>-3.919738</td>\n",
       "      <td>1.454664</td>\n",
       "    </tr>\n",
       "    <tr>\n",
       "      <th>3</th>\n",
       "      <td>1</td>\n",
       "      <td>4</td>\n",
       "      <td>1</td>\n",
       "      <td>0.231047</td>\n",
       "      <td>0.020016</td>\n",
       "      <td>-0.090010</td>\n",
       "      <td>0.082302</td>\n",
       "      <td>-0.019138</td>\n",
       "      <td>-1.469350</td>\n",
       "      <td>-1.851055</td>\n",
       "      <td>...</td>\n",
       "      <td>-5.783766</td>\n",
       "      <td>-1.162082</td>\n",
       "      <td>-5.487963</td>\n",
       "      <td>0.597219</td>\n",
       "      <td>-2.413644</td>\n",
       "      <td>1.978386</td>\n",
       "      <td>-1.088238</td>\n",
       "      <td>-1.189460</td>\n",
       "      <td>-3.919738</td>\n",
       "      <td>1.454664</td>\n",
       "    </tr>\n",
       "    <tr>\n",
       "      <th>4</th>\n",
       "      <td>1</td>\n",
       "      <td>5</td>\n",
       "      <td>1</td>\n",
       "      <td>0.231047</td>\n",
       "      <td>0.020016</td>\n",
       "      <td>-0.090010</td>\n",
       "      <td>0.082302</td>\n",
       "      <td>-0.019138</td>\n",
       "      <td>0.551412</td>\n",
       "      <td>0.157118</td>\n",
       "      <td>...</td>\n",
       "      <td>-5.783766</td>\n",
       "      <td>-1.162082</td>\n",
       "      <td>-5.487963</td>\n",
       "      <td>0.597219</td>\n",
       "      <td>-2.413644</td>\n",
       "      <td>1.978386</td>\n",
       "      <td>-1.088238</td>\n",
       "      <td>-1.189460</td>\n",
       "      <td>-3.919738</td>\n",
       "      <td>1.454664</td>\n",
       "    </tr>\n",
       "    <tr>\n",
       "      <th>...</th>\n",
       "      <td>...</td>\n",
       "      <td>...</td>\n",
       "      <td>...</td>\n",
       "      <td>...</td>\n",
       "      <td>...</td>\n",
       "      <td>...</td>\n",
       "      <td>...</td>\n",
       "      <td>...</td>\n",
       "      <td>...</td>\n",
       "      <td>...</td>\n",
       "      <td>...</td>\n",
       "      <td>...</td>\n",
       "      <td>...</td>\n",
       "      <td>...</td>\n",
       "      <td>...</td>\n",
       "      <td>...</td>\n",
       "      <td>...</td>\n",
       "      <td>...</td>\n",
       "      <td>...</td>\n",
       "      <td>...</td>\n",
       "      <td>...</td>\n",
       "    </tr>\n",
       "    <tr>\n",
       "      <th>4643800</th>\n",
       "      <td>2</td>\n",
       "      <td>142</td>\n",
       "      <td>18211</td>\n",
       "      <td>-0.130559</td>\n",
       "      <td>0.138034</td>\n",
       "      <td>0.096609</td>\n",
       "      <td>0.036904</td>\n",
       "      <td>0.094145</td>\n",
       "      <td>-1.627801</td>\n",
       "      <td>2.048937</td>\n",
       "      <td>...</td>\n",
       "      <td>-7.473643</td>\n",
       "      <td>13.909636</td>\n",
       "      <td>3.644993</td>\n",
       "      <td>-3.208331</td>\n",
       "      <td>0.623480</td>\n",
       "      <td>1.706477</td>\n",
       "      <td>-1.906372</td>\n",
       "      <td>-1.625084</td>\n",
       "      <td>-2.556089</td>\n",
       "      <td>-1.414954</td>\n",
       "    </tr>\n",
       "    <tr>\n",
       "      <th>4643801</th>\n",
       "      <td>2</td>\n",
       "      <td>143</td>\n",
       "      <td>18211</td>\n",
       "      <td>-0.130559</td>\n",
       "      <td>0.138034</td>\n",
       "      <td>0.096609</td>\n",
       "      <td>0.036904</td>\n",
       "      <td>0.094145</td>\n",
       "      <td>-0.976956</td>\n",
       "      <td>-0.495422</td>\n",
       "      <td>...</td>\n",
       "      <td>-7.473643</td>\n",
       "      <td>13.909636</td>\n",
       "      <td>3.644993</td>\n",
       "      <td>-3.208331</td>\n",
       "      <td>0.623480</td>\n",
       "      <td>1.706477</td>\n",
       "      <td>-1.906372</td>\n",
       "      <td>-1.625084</td>\n",
       "      <td>-2.556089</td>\n",
       "      <td>-1.414954</td>\n",
       "    </tr>\n",
       "    <tr>\n",
       "      <th>4643802</th>\n",
       "      <td>2</td>\n",
       "      <td>144</td>\n",
       "      <td>18211</td>\n",
       "      <td>-0.130559</td>\n",
       "      <td>0.138034</td>\n",
       "      <td>0.096609</td>\n",
       "      <td>0.036904</td>\n",
       "      <td>0.094145</td>\n",
       "      <td>-1.961592</td>\n",
       "      <td>-0.395690</td>\n",
       "      <td>...</td>\n",
       "      <td>-7.473643</td>\n",
       "      <td>13.909636</td>\n",
       "      <td>3.644993</td>\n",
       "      <td>-3.208331</td>\n",
       "      <td>0.623480</td>\n",
       "      <td>1.706477</td>\n",
       "      <td>-1.906372</td>\n",
       "      <td>-1.625084</td>\n",
       "      <td>-2.556089</td>\n",
       "      <td>-1.414954</td>\n",
       "    </tr>\n",
       "    <tr>\n",
       "      <th>4643803</th>\n",
       "      <td>2</td>\n",
       "      <td>145</td>\n",
       "      <td>18211</td>\n",
       "      <td>-0.130559</td>\n",
       "      <td>0.138034</td>\n",
       "      <td>0.096609</td>\n",
       "      <td>0.036904</td>\n",
       "      <td>0.094145</td>\n",
       "      <td>0.528172</td>\n",
       "      <td>2.419617</td>\n",
       "      <td>...</td>\n",
       "      <td>-7.473643</td>\n",
       "      <td>13.909636</td>\n",
       "      <td>3.644993</td>\n",
       "      <td>-3.208331</td>\n",
       "      <td>0.623480</td>\n",
       "      <td>1.706477</td>\n",
       "      <td>-1.906372</td>\n",
       "      <td>-1.625084</td>\n",
       "      <td>-2.556089</td>\n",
       "      <td>-1.414954</td>\n",
       "    </tr>\n",
       "    <tr>\n",
       "      <th>4643804</th>\n",
       "      <td>2</td>\n",
       "      <td>146</td>\n",
       "      <td>18211</td>\n",
       "      <td>-0.130559</td>\n",
       "      <td>0.138034</td>\n",
       "      <td>0.096609</td>\n",
       "      <td>0.036904</td>\n",
       "      <td>0.094145</td>\n",
       "      <td>-1.346407</td>\n",
       "      <td>0.516794</td>\n",
       "      <td>...</td>\n",
       "      <td>-7.473643</td>\n",
       "      <td>13.909636</td>\n",
       "      <td>3.644993</td>\n",
       "      <td>-3.208331</td>\n",
       "      <td>0.623480</td>\n",
       "      <td>1.706477</td>\n",
       "      <td>-1.906372</td>\n",
       "      <td>-1.625084</td>\n",
       "      <td>-2.556089</td>\n",
       "      <td>-1.414954</td>\n",
       "    </tr>\n",
       "  </tbody>\n",
       "</table>\n",
       "<p>4643805 rows × 28 columns</p>\n",
       "</div>"
      ],
      "text/plain": [
       "         cell_type  sm_name   gene     cemb0     cemb1     cemb2     cemb3  \\\n",
       "0                1        1      1  0.231047  0.020016 -0.090010  0.082302   \n",
       "1                1        2      1  0.231047  0.020016 -0.090010  0.082302   \n",
       "2                1        3      1  0.231047  0.020016 -0.090010  0.082302   \n",
       "3                1        4      1  0.231047  0.020016 -0.090010  0.082302   \n",
       "4                1        5      1  0.231047  0.020016 -0.090010  0.082302   \n",
       "...            ...      ...    ...       ...       ...       ...       ...   \n",
       "4643800          2      142  18211 -0.130559  0.138034  0.096609  0.036904   \n",
       "4643801          2      143  18211 -0.130559  0.138034  0.096609  0.036904   \n",
       "4643802          2      144  18211 -0.130559  0.138034  0.096609  0.036904   \n",
       "4643803          2      145  18211 -0.130559  0.138034  0.096609  0.036904   \n",
       "4643804          2      146  18211 -0.130559  0.138034  0.096609  0.036904   \n",
       "\n",
       "            cemb4  membpca10_0  membpca10_1  ...  gembpca10_0  gembpca10_1  \\\n",
       "0       -0.019138     2.524892    -2.715401  ...    -5.783766    -1.162082   \n",
       "1       -0.019138    -1.219866    -0.877527  ...    -5.783766    -1.162082   \n",
       "2       -0.019138     0.025023     0.075566  ...    -5.783766    -1.162082   \n",
       "3       -0.019138    -1.469350    -1.851055  ...    -5.783766    -1.162082   \n",
       "4       -0.019138     0.551412     0.157118  ...    -5.783766    -1.162082   \n",
       "...           ...          ...          ...  ...          ...          ...   \n",
       "4643800  0.094145    -1.627801     2.048937  ...    -7.473643    13.909636   \n",
       "4643801  0.094145    -0.976956    -0.495422  ...    -7.473643    13.909636   \n",
       "4643802  0.094145    -1.961592    -0.395690  ...    -7.473643    13.909636   \n",
       "4643803  0.094145     0.528172     2.419617  ...    -7.473643    13.909636   \n",
       "4643804  0.094145    -1.346407     0.516794  ...    -7.473643    13.909636   \n",
       "\n",
       "         gembpca10_2  gembpca10_3  gembpca10_4  gembpca10_5  gembpca10_6  \\\n",
       "0          -5.487963     0.597219    -2.413644     1.978386    -1.088238   \n",
       "1          -5.487963     0.597219    -2.413644     1.978386    -1.088238   \n",
       "2          -5.487963     0.597219    -2.413644     1.978386    -1.088238   \n",
       "3          -5.487963     0.597219    -2.413644     1.978386    -1.088238   \n",
       "4          -5.487963     0.597219    -2.413644     1.978386    -1.088238   \n",
       "...              ...          ...          ...          ...          ...   \n",
       "4643800     3.644993    -3.208331     0.623480     1.706477    -1.906372   \n",
       "4643801     3.644993    -3.208331     0.623480     1.706477    -1.906372   \n",
       "4643802     3.644993    -3.208331     0.623480     1.706477    -1.906372   \n",
       "4643803     3.644993    -3.208331     0.623480     1.706477    -1.906372   \n",
       "4643804     3.644993    -3.208331     0.623480     1.706477    -1.906372   \n",
       "\n",
       "         gembpca10_7  gembpca10_8  gembpca10_9  \n",
       "0          -1.189460    -3.919738     1.454664  \n",
       "1          -1.189460    -3.919738     1.454664  \n",
       "2          -1.189460    -3.919738     1.454664  \n",
       "3          -1.189460    -3.919738     1.454664  \n",
       "4          -1.189460    -3.919738     1.454664  \n",
       "...              ...          ...          ...  \n",
       "4643800    -1.625084    -2.556089    -1.414954  \n",
       "4643801    -1.625084    -2.556089    -1.414954  \n",
       "4643802    -1.625084    -2.556089    -1.414954  \n",
       "4643803    -1.625084    -2.556089    -1.414954  \n",
       "4643804    -1.625084    -2.556089    -1.414954  \n",
       "\n",
       "[4643805 rows x 28 columns]"
      ]
     },
     "execution_count": 19,
     "metadata": {},
     "output_type": "execute_result"
    }
   ],
   "source": [
    "test_to = to.new(test_df_cmg)\n",
    "test_to.process()\n",
    "test_xs = test_to.xs\n",
    "test_xs"
   ]
  },
  {
   "cell_type": "code",
   "execution_count": 20,
   "id": "b19c4fea",
   "metadata": {
    "execution": {
     "iopub.execute_input": "2023-12-08T19:09:53.515871Z",
     "iopub.status.busy": "2023-12-08T19:09:53.515586Z",
     "iopub.status.idle": "2023-12-08T19:09:58.496364Z",
     "shell.execute_reply": "2023-12-08T19:09:58.495505Z"
    },
    "papermill": {
     "duration": 4.995044,
     "end_time": "2023-12-08T19:09:58.498425",
     "exception": false,
     "start_time": "2023-12-08T19:09:53.503381",
     "status": "completed"
    },
    "tags": []
   },
   "outputs": [
    {
     "data": {
      "text/plain": [
       "tensor([0.1445, 0.0484, 0.3525,  ..., 0.0529, 0.0729, 0.0027])"
      ]
     },
     "execution_count": 20,
     "metadata": {},
     "output_type": "execute_result"
    }
   ],
   "source": [
    "preds = tensor(m.predict(test_xs))\n",
    "preds"
   ]
  },
  {
   "cell_type": "code",
   "execution_count": 21,
   "id": "a16ae69b",
   "metadata": {
    "execution": {
     "iopub.execute_input": "2023-12-08T19:09:58.522141Z",
     "iopub.status.busy": "2023-12-08T19:09:58.521853Z",
     "iopub.status.idle": "2023-12-08T19:09:58.529720Z",
     "shell.execute_reply": "2023-12-08T19:09:58.528848Z"
    },
    "papermill": {
     "duration": 0.021719,
     "end_time": "2023-12-08T19:09:58.531564",
     "exception": false,
     "start_time": "2023-12-08T19:09:58.509845",
     "status": "completed"
    },
    "tags": []
   },
   "outputs": [
    {
     "data": {
      "text/plain": [
       "(tensor(-39.3822), tensor(45.7507))"
      ]
     },
     "execution_count": 21,
     "metadata": {},
     "output_type": "execute_result"
    }
   ],
   "source": [
    "preds.min(), preds.max()"
   ]
  },
  {
   "cell_type": "markdown",
   "id": "34331976",
   "metadata": {
    "papermill": {
     "duration": 0.010988,
     "end_time": "2023-12-08T19:09:58.553910",
     "exception": false,
     "start_time": "2023-12-08T19:09:58.542922",
     "status": "completed"
    },
    "tags": []
   },
   "source": [
    "In the last step I reshape the predictions back into a 255 x 18211 tensor for submission:"
   ]
  },
  {
   "cell_type": "code",
   "execution_count": 22,
   "id": "2f5ebac2",
   "metadata": {
    "execution": {
     "iopub.execute_input": "2023-12-08T19:09:58.577185Z",
     "iopub.status.busy": "2023-12-08T19:09:58.576902Z",
     "iopub.status.idle": "2023-12-08T19:09:58.626538Z",
     "shell.execute_reply": "2023-12-08T19:09:58.625697Z"
    },
    "papermill": {
     "duration": 0.063674,
     "end_time": "2023-12-08T19:09:58.628578",
     "exception": false,
     "start_time": "2023-12-08T19:09:58.564904",
     "status": "completed"
    },
    "tags": []
   },
   "outputs": [
    {
     "data": {
      "text/html": [
       "<div>\n",
       "<style scoped>\n",
       "    .dataframe tbody tr th:only-of-type {\n",
       "        vertical-align: middle;\n",
       "    }\n",
       "\n",
       "    .dataframe tbody tr th {\n",
       "        vertical-align: top;\n",
       "    }\n",
       "\n",
       "    .dataframe thead th {\n",
       "        text-align: right;\n",
       "    }\n",
       "</style>\n",
       "<table border=\"1\" class=\"dataframe\">\n",
       "  <thead>\n",
       "    <tr style=\"text-align: right;\">\n",
       "      <th></th>\n",
       "      <th>A1BG</th>\n",
       "      <th>A1BG-AS1</th>\n",
       "      <th>A2M</th>\n",
       "      <th>A2M-AS1</th>\n",
       "      <th>A2MP1</th>\n",
       "      <th>A4GALT</th>\n",
       "      <th>AAAS</th>\n",
       "      <th>AACS</th>\n",
       "      <th>AAGAB</th>\n",
       "      <th>AAK1</th>\n",
       "      <th>...</th>\n",
       "      <th>ZUP1</th>\n",
       "      <th>ZW10</th>\n",
       "      <th>ZWILCH</th>\n",
       "      <th>ZWINT</th>\n",
       "      <th>ZXDA</th>\n",
       "      <th>ZXDB</th>\n",
       "      <th>ZXDC</th>\n",
       "      <th>ZYG11B</th>\n",
       "      <th>ZYX</th>\n",
       "      <th>ZZEF1</th>\n",
       "    </tr>\n",
       "    <tr>\n",
       "      <th>id</th>\n",
       "      <th></th>\n",
       "      <th></th>\n",
       "      <th></th>\n",
       "      <th></th>\n",
       "      <th></th>\n",
       "      <th></th>\n",
       "      <th></th>\n",
       "      <th></th>\n",
       "      <th></th>\n",
       "      <th></th>\n",
       "      <th></th>\n",
       "      <th></th>\n",
       "      <th></th>\n",
       "      <th></th>\n",
       "      <th></th>\n",
       "      <th></th>\n",
       "      <th></th>\n",
       "      <th></th>\n",
       "      <th></th>\n",
       "      <th></th>\n",
       "      <th></th>\n",
       "    </tr>\n",
       "  </thead>\n",
       "  <tbody>\n",
       "    <tr>\n",
       "      <th>0</th>\n",
       "      <td>0.144532</td>\n",
       "      <td>0.097697</td>\n",
       "      <td>0.218878</td>\n",
       "      <td>0.422464</td>\n",
       "      <td>0.634642</td>\n",
       "      <td>0.418490</td>\n",
       "      <td>0.161516</td>\n",
       "      <td>0.143251</td>\n",
       "      <td>-0.050642</td>\n",
       "      <td>0.226666</td>\n",
       "      <td>...</td>\n",
       "      <td>-0.275419</td>\n",
       "      <td>0.042174</td>\n",
       "      <td>0.150236</td>\n",
       "      <td>0.180454</td>\n",
       "      <td>0.188498</td>\n",
       "      <td>0.168564</td>\n",
       "      <td>0.211868</td>\n",
       "      <td>0.206665</td>\n",
       "      <td>0.108887</td>\n",
       "      <td>0.102166</td>\n",
       "    </tr>\n",
       "    <tr>\n",
       "      <th>1</th>\n",
       "      <td>0.048379</td>\n",
       "      <td>0.083502</td>\n",
       "      <td>0.050673</td>\n",
       "      <td>0.032305</td>\n",
       "      <td>0.331244</td>\n",
       "      <td>0.379570</td>\n",
       "      <td>0.076715</td>\n",
       "      <td>0.090891</td>\n",
       "      <td>0.092799</td>\n",
       "      <td>0.068311</td>\n",
       "      <td>...</td>\n",
       "      <td>0.140867</td>\n",
       "      <td>0.055676</td>\n",
       "      <td>0.069065</td>\n",
       "      <td>0.127183</td>\n",
       "      <td>-0.000843</td>\n",
       "      <td>0.056842</td>\n",
       "      <td>0.079607</td>\n",
       "      <td>0.092260</td>\n",
       "      <td>0.191807</td>\n",
       "      <td>0.008099</td>\n",
       "    </tr>\n",
       "    <tr>\n",
       "      <th>2</th>\n",
       "      <td>0.352474</td>\n",
       "      <td>0.253288</td>\n",
       "      <td>-0.120226</td>\n",
       "      <td>0.069845</td>\n",
       "      <td>0.783086</td>\n",
       "      <td>1.575211</td>\n",
       "      <td>0.227260</td>\n",
       "      <td>0.278702</td>\n",
       "      <td>0.180755</td>\n",
       "      <td>0.017105</td>\n",
       "      <td>...</td>\n",
       "      <td>0.095922</td>\n",
       "      <td>-0.019841</td>\n",
       "      <td>0.097292</td>\n",
       "      <td>0.372933</td>\n",
       "      <td>0.288733</td>\n",
       "      <td>0.335558</td>\n",
       "      <td>0.211764</td>\n",
       "      <td>0.080145</td>\n",
       "      <td>-0.079149</td>\n",
       "      <td>-0.029725</td>\n",
       "    </tr>\n",
       "    <tr>\n",
       "      <th>3</th>\n",
       "      <td>0.058648</td>\n",
       "      <td>0.177821</td>\n",
       "      <td>0.128115</td>\n",
       "      <td>0.183578</td>\n",
       "      <td>0.199654</td>\n",
       "      <td>-0.004180</td>\n",
       "      <td>0.086318</td>\n",
       "      <td>0.134976</td>\n",
       "      <td>0.094547</td>\n",
       "      <td>0.172172</td>\n",
       "      <td>...</td>\n",
       "      <td>0.015959</td>\n",
       "      <td>0.071693</td>\n",
       "      <td>0.086283</td>\n",
       "      <td>0.071673</td>\n",
       "      <td>0.054778</td>\n",
       "      <td>0.070659</td>\n",
       "      <td>0.156871</td>\n",
       "      <td>0.157170</td>\n",
       "      <td>0.064725</td>\n",
       "      <td>0.073807</td>\n",
       "    </tr>\n",
       "    <tr>\n",
       "      <th>4</th>\n",
       "      <td>0.145470</td>\n",
       "      <td>0.112065</td>\n",
       "      <td>0.177095</td>\n",
       "      <td>0.216137</td>\n",
       "      <td>0.502080</td>\n",
       "      <td>0.532180</td>\n",
       "      <td>0.118584</td>\n",
       "      <td>0.163632</td>\n",
       "      <td>0.079262</td>\n",
       "      <td>0.193022</td>\n",
       "      <td>...</td>\n",
       "      <td>-0.059265</td>\n",
       "      <td>0.108609</td>\n",
       "      <td>0.106568</td>\n",
       "      <td>0.169740</td>\n",
       "      <td>0.169611</td>\n",
       "      <td>0.186792</td>\n",
       "      <td>0.165841</td>\n",
       "      <td>0.165005</td>\n",
       "      <td>0.127779</td>\n",
       "      <td>0.040362</td>\n",
       "    </tr>\n",
       "    <tr>\n",
       "      <th>...</th>\n",
       "      <td>...</td>\n",
       "      <td>...</td>\n",
       "      <td>...</td>\n",
       "      <td>...</td>\n",
       "      <td>...</td>\n",
       "      <td>...</td>\n",
       "      <td>...</td>\n",
       "      <td>...</td>\n",
       "      <td>...</td>\n",
       "      <td>...</td>\n",
       "      <td>...</td>\n",
       "      <td>...</td>\n",
       "      <td>...</td>\n",
       "      <td>...</td>\n",
       "      <td>...</td>\n",
       "      <td>...</td>\n",
       "      <td>...</td>\n",
       "      <td>...</td>\n",
       "      <td>...</td>\n",
       "      <td>...</td>\n",
       "      <td>...</td>\n",
       "    </tr>\n",
       "    <tr>\n",
       "      <th>250</th>\n",
       "      <td>-0.044895</td>\n",
       "      <td>-0.006698</td>\n",
       "      <td>-0.078979</td>\n",
       "      <td>-0.113299</td>\n",
       "      <td>0.151060</td>\n",
       "      <td>-0.112445</td>\n",
       "      <td>0.086789</td>\n",
       "      <td>-0.015232</td>\n",
       "      <td>0.037589</td>\n",
       "      <td>0.194317</td>\n",
       "      <td>...</td>\n",
       "      <td>0.174391</td>\n",
       "      <td>-0.056133</td>\n",
       "      <td>-0.091285</td>\n",
       "      <td>-0.052333</td>\n",
       "      <td>-0.115649</td>\n",
       "      <td>-0.081528</td>\n",
       "      <td>0.019277</td>\n",
       "      <td>0.030966</td>\n",
       "      <td>-0.013222</td>\n",
       "      <td>0.111128</td>\n",
       "    </tr>\n",
       "    <tr>\n",
       "      <th>251</th>\n",
       "      <td>0.151207</td>\n",
       "      <td>0.187280</td>\n",
       "      <td>-0.132597</td>\n",
       "      <td>0.333636</td>\n",
       "      <td>0.522862</td>\n",
       "      <td>0.445981</td>\n",
       "      <td>0.073738</td>\n",
       "      <td>0.185577</td>\n",
       "      <td>0.017947</td>\n",
       "      <td>0.197529</td>\n",
       "      <td>...</td>\n",
       "      <td>0.203764</td>\n",
       "      <td>0.116074</td>\n",
       "      <td>-0.030715</td>\n",
       "      <td>0.166283</td>\n",
       "      <td>0.204016</td>\n",
       "      <td>0.178635</td>\n",
       "      <td>-0.032524</td>\n",
       "      <td>0.147701</td>\n",
       "      <td>-0.203280</td>\n",
       "      <td>-0.011037</td>\n",
       "    </tr>\n",
       "    <tr>\n",
       "      <th>252</th>\n",
       "      <td>-0.000433</td>\n",
       "      <td>0.104113</td>\n",
       "      <td>0.022420</td>\n",
       "      <td>0.015494</td>\n",
       "      <td>0.074020</td>\n",
       "      <td>-0.033199</td>\n",
       "      <td>0.062285</td>\n",
       "      <td>0.046922</td>\n",
       "      <td>0.091126</td>\n",
       "      <td>0.121988</td>\n",
       "      <td>...</td>\n",
       "      <td>0.074905</td>\n",
       "      <td>0.067168</td>\n",
       "      <td>0.117451</td>\n",
       "      <td>0.037119</td>\n",
       "      <td>0.021081</td>\n",
       "      <td>0.010854</td>\n",
       "      <td>0.108073</td>\n",
       "      <td>0.124953</td>\n",
       "      <td>0.083322</td>\n",
       "      <td>0.052904</td>\n",
       "    </tr>\n",
       "    <tr>\n",
       "      <th>253</th>\n",
       "      <td>1.171613</td>\n",
       "      <td>0.647974</td>\n",
       "      <td>-0.001920</td>\n",
       "      <td>0.771484</td>\n",
       "      <td>2.034930</td>\n",
       "      <td>2.219732</td>\n",
       "      <td>0.333799</td>\n",
       "      <td>1.047930</td>\n",
       "      <td>0.575606</td>\n",
       "      <td>0.446354</td>\n",
       "      <td>...</td>\n",
       "      <td>0.250997</td>\n",
       "      <td>0.700393</td>\n",
       "      <td>0.266491</td>\n",
       "      <td>0.904919</td>\n",
       "      <td>1.248894</td>\n",
       "      <td>1.097921</td>\n",
       "      <td>0.330239</td>\n",
       "      <td>0.253373</td>\n",
       "      <td>-0.096884</td>\n",
       "      <td>0.072868</td>\n",
       "    </tr>\n",
       "    <tr>\n",
       "      <th>254</th>\n",
       "      <td>0.096408</td>\n",
       "      <td>0.117776</td>\n",
       "      <td>0.015356</td>\n",
       "      <td>-0.067983</td>\n",
       "      <td>0.187793</td>\n",
       "      <td>0.174569</td>\n",
       "      <td>0.045817</td>\n",
       "      <td>0.136778</td>\n",
       "      <td>0.148531</td>\n",
       "      <td>0.093150</td>\n",
       "      <td>...</td>\n",
       "      <td>0.313986</td>\n",
       "      <td>0.099470</td>\n",
       "      <td>-0.062674</td>\n",
       "      <td>0.108332</td>\n",
       "      <td>0.097466</td>\n",
       "      <td>0.128397</td>\n",
       "      <td>0.016421</td>\n",
       "      <td>0.033955</td>\n",
       "      <td>-0.129981</td>\n",
       "      <td>0.002722</td>\n",
       "    </tr>\n",
       "  </tbody>\n",
       "</table>\n",
       "<p>255 rows × 18211 columns</p>\n",
       "</div>"
      ],
      "text/plain": [
       "         A1BG  A1BG-AS1       A2M   A2M-AS1     A2MP1    A4GALT      AAAS  \\\n",
       "id                                                                          \n",
       "0    0.144532  0.097697  0.218878  0.422464  0.634642  0.418490  0.161516   \n",
       "1    0.048379  0.083502  0.050673  0.032305  0.331244  0.379570  0.076715   \n",
       "2    0.352474  0.253288 -0.120226  0.069845  0.783086  1.575211  0.227260   \n",
       "3    0.058648  0.177821  0.128115  0.183578  0.199654 -0.004180  0.086318   \n",
       "4    0.145470  0.112065  0.177095  0.216137  0.502080  0.532180  0.118584   \n",
       "..        ...       ...       ...       ...       ...       ...       ...   \n",
       "250 -0.044895 -0.006698 -0.078979 -0.113299  0.151060 -0.112445  0.086789   \n",
       "251  0.151207  0.187280 -0.132597  0.333636  0.522862  0.445981  0.073738   \n",
       "252 -0.000433  0.104113  0.022420  0.015494  0.074020 -0.033199  0.062285   \n",
       "253  1.171613  0.647974 -0.001920  0.771484  2.034930  2.219732  0.333799   \n",
       "254  0.096408  0.117776  0.015356 -0.067983  0.187793  0.174569  0.045817   \n",
       "\n",
       "         AACS     AAGAB      AAK1  ...      ZUP1      ZW10    ZWILCH  \\\n",
       "id                                 ...                                 \n",
       "0    0.143251 -0.050642  0.226666  ... -0.275419  0.042174  0.150236   \n",
       "1    0.090891  0.092799  0.068311  ...  0.140867  0.055676  0.069065   \n",
       "2    0.278702  0.180755  0.017105  ...  0.095922 -0.019841  0.097292   \n",
       "3    0.134976  0.094547  0.172172  ...  0.015959  0.071693  0.086283   \n",
       "4    0.163632  0.079262  0.193022  ... -0.059265  0.108609  0.106568   \n",
       "..        ...       ...       ...  ...       ...       ...       ...   \n",
       "250 -0.015232  0.037589  0.194317  ...  0.174391 -0.056133 -0.091285   \n",
       "251  0.185577  0.017947  0.197529  ...  0.203764  0.116074 -0.030715   \n",
       "252  0.046922  0.091126  0.121988  ...  0.074905  0.067168  0.117451   \n",
       "253  1.047930  0.575606  0.446354  ...  0.250997  0.700393  0.266491   \n",
       "254  0.136778  0.148531  0.093150  ...  0.313986  0.099470 -0.062674   \n",
       "\n",
       "        ZWINT      ZXDA      ZXDB      ZXDC    ZYG11B       ZYX     ZZEF1  \n",
       "id                                                                         \n",
       "0    0.180454  0.188498  0.168564  0.211868  0.206665  0.108887  0.102166  \n",
       "1    0.127183 -0.000843  0.056842  0.079607  0.092260  0.191807  0.008099  \n",
       "2    0.372933  0.288733  0.335558  0.211764  0.080145 -0.079149 -0.029725  \n",
       "3    0.071673  0.054778  0.070659  0.156871  0.157170  0.064725  0.073807  \n",
       "4    0.169740  0.169611  0.186792  0.165841  0.165005  0.127779  0.040362  \n",
       "..        ...       ...       ...       ...       ...       ...       ...  \n",
       "250 -0.052333 -0.115649 -0.081528  0.019277  0.030966 -0.013222  0.111128  \n",
       "251  0.166283  0.204016  0.178635 -0.032524  0.147701 -0.203280 -0.011037  \n",
       "252  0.037119  0.021081  0.010854  0.108073  0.124953  0.083322  0.052904  \n",
       "253  0.904919  1.248894  1.097921  0.330239  0.253373 -0.096884  0.072868  \n",
       "254  0.108332  0.097466  0.128397  0.016421  0.033955 -0.129981  0.002722  \n",
       "\n",
       "[255 rows x 18211 columns]"
      ]
     },
     "execution_count": 22,
     "metadata": {},
     "output_type": "execute_result"
    }
   ],
   "source": [
    "to_submit = preds.view(18211, -1).t().numpy()\n",
    "submit = pd.DataFrame(to_submit, columns=df_de_train.iloc[:,5:].columns)\n",
    "submit.index.name = 'id'\n",
    "submit"
   ]
  },
  {
   "cell_type": "code",
   "execution_count": 23,
   "id": "a555ffe2",
   "metadata": {
    "execution": {
     "iopub.execute_input": "2023-12-08T19:09:58.654121Z",
     "iopub.status.busy": "2023-12-08T19:09:58.653828Z",
     "iopub.status.idle": "2023-12-08T19:10:06.569065Z",
     "shell.execute_reply": "2023-12-08T19:10:06.568236Z"
    },
    "papermill": {
     "duration": 7.930757,
     "end_time": "2023-12-08T19:10:06.571494",
     "exception": false,
     "start_time": "2023-12-08T19:09:58.640737",
     "status": "completed"
    },
    "tags": []
   },
   "outputs": [],
   "source": [
    "submit.to_csv('submission.csv')"
   ]
  }
 ],
 "metadata": {
  "kaggle": {
   "accelerator": "gpu",
   "dataSources": [
    {
     "databundleVersionId": 7010844,
     "sourceId": 59094,
     "sourceType": "competition"
    },
    {
     "datasetId": 4109071,
     "sourceId": 7123483,
     "sourceType": "datasetVersion"
    }
   ],
   "dockerImageVersionId": 30588,
   "isGpuEnabled": true,
   "isInternetEnabled": true,
   "language": "python",
   "sourceType": "notebook"
  },
  "kernelspec": {
   "display_name": "Python 3",
   "language": "python",
   "name": "python3"
  },
  "language_info": {
   "codemirror_mode": {
    "name": "ipython",
    "version": 3
   },
   "file_extension": ".py",
   "mimetype": "text/x-python",
   "name": "python",
   "nbconvert_exporter": "python",
   "pygments_lexer": "ipython3",
   "version": "3.10.12"
  },
  "papermill": {
   "default_parameters": {},
   "duration": 989.876421,
   "end_time": "2023-12-08T19:10:09.658187",
   "environment_variables": {},
   "exception": null,
   "input_path": "__notebook__.ipynb",
   "output_path": "__notebook__.ipynb",
   "parameters": {},
   "start_time": "2023-12-08T18:53:39.781766",
   "version": "2.4.0"
  }
 },
 "nbformat": 4,
 "nbformat_minor": 5
}
