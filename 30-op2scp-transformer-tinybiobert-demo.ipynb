{
 "cells": [
  {
   "cell_type": "markdown",
   "id": "c91d4965",
   "metadata": {
    "papermill": {
     "duration": 0.013231,
     "end_time": "2023-12-08T21:45:33.422567",
     "exception": false,
     "start_time": "2023-12-08T21:45:33.409336",
     "status": "completed"
    },
    "tags": []
   },
   "source": [
    "## Please Read"
   ]
  },
  {
   "cell_type": "markdown",
   "id": "ff25a279",
   "metadata": {
    "papermill": {
     "duration": 0.014107,
     "end_time": "2023-12-08T21:45:33.449841",
     "exception": false,
     "start_time": "2023-12-08T21:45:33.435734",
     "status": "completed"
    },
    "tags": []
   },
   "source": [
    "The following notebook is an adaptation of a popular [notebook](https://www.kaggle.com/code/jhoward/getting-started-with-nlp-for-absolute-beginners) by Jeremy Howard discussed in fast.ai's [Practical Deep Learning for Coders – Lesson 4](https://course.fast.ai/Lessons/lesson4.html).\n",
    "\n",
    "In order for this notebook to run on Kaggle in a reasonable amount of time (~85 min) the model will be trained on only 5 % of the training data sampled randomly. Please note that this notebook serves only as a training demo, since for best results the model needs to be fine-tuned on all training data. For context: Fine-tuning the model for 5 epochs on an A10 GPU using a batch size of 256 and a train-valid-split of 80/20 took about 6 hours. For predictions submitted to the Open Problems – Single-Cell Perturbation competition the model was fine-tuned for 20–30 epochs."
   ]
  },
  {
   "cell_type": "markdown",
   "id": "9039393a",
   "metadata": {
    "papermill": {
     "duration": 0.011973,
     "end_time": "2023-12-08T21:45:33.474192",
     "exception": false,
     "start_time": "2023-12-08T21:45:33.462219",
     "status": "completed"
    },
    "tags": []
   },
   "source": [
    "## Imports"
   ]
  },
  {
   "cell_type": "code",
   "execution_count": 1,
   "id": "896597fd",
   "metadata": {
    "_cell_guid": "b1076dfc-b9ad-4769-8c92-a6c4dae69d19",
    "_uuid": "8f2839f25d086af736a60e9eeb907d3b93b6e0e5",
    "execution": {
     "iopub.execute_input": "2023-12-08T21:45:33.501646Z",
     "iopub.status.busy": "2023-12-08T21:45:33.501258Z",
     "iopub.status.idle": "2023-12-08T21:45:40.278406Z",
     "shell.execute_reply": "2023-12-08T21:45:40.277398Z"
    },
    "papermill": {
     "duration": 6.794306,
     "end_time": "2023-12-08T21:45:40.281223",
     "exception": false,
     "start_time": "2023-12-08T21:45:33.486917",
     "status": "completed"
    },
    "tags": []
   },
   "outputs": [
    {
     "name": "stderr",
     "output_type": "stream",
     "text": [
      "/opt/conda/lib/python3.10/site-packages/scipy/__init__.py:146: UserWarning: A NumPy version >=1.16.5 and <1.23.0 is required for this version of SciPy (detected version 1.24.3\n",
      "  warnings.warn(f\"A NumPy version >={np_minversion} and <{np_maxversion}\"\n"
     ]
    }
   ],
   "source": [
    "import time\n",
    "t0start = time.time()\n",
    "from fastai.collab import *\n",
    "from fastai.tabular.all import *\n",
    "import warnings\n",
    "warnings.filterwarnings('ignore')"
   ]
  },
  {
   "cell_type": "code",
   "execution_count": 2,
   "id": "df7d0bff",
   "metadata": {
    "execution": {
     "iopub.execute_input": "2023-12-08T21:45:40.308946Z",
     "iopub.status.busy": "2023-12-08T21:45:40.308494Z",
     "iopub.status.idle": "2023-12-08T21:45:40.312756Z",
     "shell.execute_reply": "2023-12-08T21:45:40.311999Z"
    },
    "papermill": {
     "duration": 0.019916,
     "end_time": "2023-12-08T21:45:40.314621",
     "exception": false,
     "start_time": "2023-12-08T21:45:40.294705",
     "status": "completed"
    },
    "tags": []
   },
   "outputs": [],
   "source": [
    "random_seed = 42"
   ]
  },
  {
   "cell_type": "code",
   "execution_count": 3,
   "id": "8943cbdd",
   "metadata": {
    "execution": {
     "iopub.execute_input": "2023-12-08T21:45:40.341106Z",
     "iopub.status.busy": "2023-12-08T21:45:40.340772Z",
     "iopub.status.idle": "2023-12-08T21:45:52.786421Z",
     "shell.execute_reply": "2023-12-08T21:45:52.785411Z"
    },
    "papermill": {
     "duration": 12.461996,
     "end_time": "2023-12-08T21:45:52.789056",
     "exception": false,
     "start_time": "2023-12-08T21:45:40.327060",
     "status": "completed"
    },
    "tags": []
   },
   "outputs": [],
   "source": [
    "from transformers import set_seed\n",
    "set_seed(random_seed)"
   ]
  },
  {
   "cell_type": "markdown",
   "id": "12d81d77",
   "metadata": {
    "papermill": {
     "duration": 0.012337,
     "end_time": "2023-12-08T21:45:52.814258",
     "exception": false,
     "start_time": "2023-12-08T21:45:52.801921",
     "status": "completed"
    },
    "tags": []
   },
   "source": [
    "## Prepare Train Set"
   ]
  },
  {
   "cell_type": "markdown",
   "id": "68cc357d",
   "metadata": {
    "papermill": {
     "duration": 0.012462,
     "end_time": "2023-12-08T21:45:52.839135",
     "exception": false,
     "start_time": "2023-12-08T21:45:52.826673",
     "status": "completed"
    },
    "tags": []
   },
   "source": [
    "Here I read the training data and melt it to yield a ```DataFrame``` with three categorical features (```cell_type```, ```sm_name```, and ```gene```) and one target (```value```)."
   ]
  },
  {
   "cell_type": "code",
   "execution_count": 4,
   "id": "86a994ae",
   "metadata": {
    "execution": {
     "iopub.execute_input": "2023-12-08T21:45:52.866131Z",
     "iopub.status.busy": "2023-12-08T21:45:52.865488Z",
     "iopub.status.idle": "2023-12-08T21:45:57.639042Z",
     "shell.execute_reply": "2023-12-08T21:45:57.637913Z"
    },
    "papermill": {
     "duration": 4.789463,
     "end_time": "2023-12-08T21:45:57.641180",
     "exception": false,
     "start_time": "2023-12-08T21:45:52.851717",
     "status": "completed"
    },
    "tags": []
   },
   "outputs": [
    {
     "name": "stdout",
     "output_type": "stream",
     "text": [
      "CPU times: user 3.97 s, sys: 845 ms, total: 4.82 s\n",
      "Wall time: 4.77 s\n"
     ]
    }
   ],
   "source": [
    "%%time\n",
    "fn = '/kaggle/input/open-problems-single-cell-perturbations/de_train.parquet'\n",
    "df_de_train = pd.read_parquet(fn)# , index_col = 0)\n",
    "train_df = df_de_train.drop(columns=['sm_lincs_id', 'SMILES', 'control'])\n",
    "trdf = train_df.melt(id_vars=['cell_type', 'sm_name'], value_vars=train_df.iloc[:,2:].columns, var_name='gene', value_name='value')"
   ]
  },
  {
   "cell_type": "markdown",
   "id": "425662a6",
   "metadata": {
    "papermill": {
     "duration": 0.013689,
     "end_time": "2023-12-08T21:45:57.667912",
     "exception": false,
     "start_time": "2023-12-08T21:45:57.654223",
     "status": "completed"
    },
    "tags": []
   },
   "source": [
    "The next line samples 5 % of the training data to demonstrate model training in a reasonable time frame:"
   ]
  },
  {
   "cell_type": "code",
   "execution_count": 5,
   "id": "11fd1de7",
   "metadata": {
    "execution": {
     "iopub.execute_input": "2023-12-08T21:45:57.749656Z",
     "iopub.status.busy": "2023-12-08T21:45:57.748993Z",
     "iopub.status.idle": "2023-12-08T21:45:58.597958Z",
     "shell.execute_reply": "2023-12-08T21:45:58.596976Z"
    },
    "papermill": {
     "duration": 0.866087,
     "end_time": "2023-12-08T21:45:58.600462",
     "exception": false,
     "start_time": "2023-12-08T21:45:57.734375",
     "status": "completed"
    },
    "tags": []
   },
   "outputs": [],
   "source": [
    "trdf = trdf.sample(frac=0.05).reset_index(drop=true)"
   ]
  },
  {
   "cell_type": "markdown",
   "id": "813819c4",
   "metadata": {
    "papermill": {
     "duration": 0.013129,
     "end_time": "2023-12-08T21:45:58.626510",
     "exception": false,
     "start_time": "2023-12-08T21:45:58.613381",
     "status": "completed"
    },
    "tags": []
   },
   "source": [
    "## Prepare Test Set"
   ]
  },
  {
   "cell_type": "markdown",
   "id": "80f3d258",
   "metadata": {
    "papermill": {
     "duration": 0.012453,
     "end_time": "2023-12-08T21:45:58.651622",
     "exception": false,
     "start_time": "2023-12-08T21:45:58.639169",
     "status": "completed"
    },
    "tags": []
   },
   "source": [
    "Similar procedure for the test set."
   ]
  },
  {
   "cell_type": "code",
   "execution_count": 6,
   "id": "5e1f89ad",
   "metadata": {
    "execution": {
     "iopub.execute_input": "2023-12-08T21:45:58.678497Z",
     "iopub.status.busy": "2023-12-08T21:45:58.678064Z",
     "iopub.status.idle": "2023-12-08T21:46:03.783787Z",
     "shell.execute_reply": "2023-12-08T21:46:03.782744Z"
    },
    "papermill": {
     "duration": 5.122245,
     "end_time": "2023-12-08T21:46:03.786416",
     "exception": false,
     "start_time": "2023-12-08T21:45:58.664171",
     "status": "completed"
    },
    "tags": []
   },
   "outputs": [],
   "source": [
    "fn = '/kaggle/input/open-problems-single-cell-perturbations/id_map.csv'\n",
    "df_id_map = pd.read_csv(fn)\n",
    "fn = '/kaggle/input/open-problems-single-cell-perturbations/sample_submission.csv'\n",
    "df = pd.read_csv(fn, index_col = 0)\n",
    "\n",
    "cols_to_add = df_de_train.iloc[:,5:].columns\n",
    "cols_to_add\n",
    "\n",
    "df_zeros = pd.DataFrame(0.0, columns=cols_to_add, index=df_id_map.index)\n",
    "df_zeros\n",
    "\n",
    "df_id_map_preds = pd.concat([df_id_map, df_zeros], axis=1)\n",
    "tsdf = df_id_map_preds.melt(id_vars=['cell_type', 'sm_name'], value_vars=df_id_map_preds.iloc[:,3:].columns, var_name='gene', value_name='value')"
   ]
  },
  {
   "cell_type": "markdown",
   "id": "97a4bafd",
   "metadata": {
    "papermill": {
     "duration": 0.013426,
     "end_time": "2023-12-08T21:46:03.813046",
     "exception": false,
     "start_time": "2023-12-08T21:46:03.799620",
     "status": "completed"
    },
    "tags": []
   },
   "source": [
    "## Inspect Train and Test Set"
   ]
  },
  {
   "cell_type": "code",
   "execution_count": 7,
   "id": "0751c88f",
   "metadata": {
    "execution": {
     "iopub.execute_input": "2023-12-08T21:46:03.841178Z",
     "iopub.status.busy": "2023-12-08T21:46:03.840820Z",
     "iopub.status.idle": "2023-12-08T21:46:03.859475Z",
     "shell.execute_reply": "2023-12-08T21:46:03.858391Z"
    },
    "papermill": {
     "duration": 0.03531,
     "end_time": "2023-12-08T21:46:03.861604",
     "exception": false,
     "start_time": "2023-12-08T21:46:03.826294",
     "status": "completed"
    },
    "tags": []
   },
   "outputs": [
    {
     "data": {
      "text/html": [
       "<div>\n",
       "<style scoped>\n",
       "    .dataframe tbody tr th:only-of-type {\n",
       "        vertical-align: middle;\n",
       "    }\n",
       "\n",
       "    .dataframe tbody tr th {\n",
       "        vertical-align: top;\n",
       "    }\n",
       "\n",
       "    .dataframe thead th {\n",
       "        text-align: right;\n",
       "    }\n",
       "</style>\n",
       "<table border=\"1\" class=\"dataframe\">\n",
       "  <thead>\n",
       "    <tr style=\"text-align: right;\">\n",
       "      <th></th>\n",
       "      <th>cell_type</th>\n",
       "      <th>sm_name</th>\n",
       "      <th>gene</th>\n",
       "      <th>value</th>\n",
       "    </tr>\n",
       "  </thead>\n",
       "  <tbody>\n",
       "    <tr>\n",
       "      <th>0</th>\n",
       "      <td>NK cells</td>\n",
       "      <td>Sunitinib</td>\n",
       "      <td>LINC00824</td>\n",
       "      <td>0.243416</td>\n",
       "    </tr>\n",
       "    <tr>\n",
       "      <th>1</th>\n",
       "      <td>NK cells</td>\n",
       "      <td>Lamivudine</td>\n",
       "      <td>CCDC61</td>\n",
       "      <td>-0.104237</td>\n",
       "    </tr>\n",
       "    <tr>\n",
       "      <th>2</th>\n",
       "      <td>T cells CD4+</td>\n",
       "      <td>Ceritinib</td>\n",
       "      <td>PSMD6</td>\n",
       "      <td>0.276361</td>\n",
       "    </tr>\n",
       "    <tr>\n",
       "      <th>3</th>\n",
       "      <td>NK cells</td>\n",
       "      <td>Isoniazid</td>\n",
       "      <td>KIF3B</td>\n",
       "      <td>-0.135494</td>\n",
       "    </tr>\n",
       "    <tr>\n",
       "      <th>4</th>\n",
       "      <td>T cells CD4+</td>\n",
       "      <td>GSK-1070916</td>\n",
       "      <td>TSGA13</td>\n",
       "      <td>-0.286420</td>\n",
       "    </tr>\n",
       "    <tr>\n",
       "      <th>...</th>\n",
       "      <td>...</td>\n",
       "      <td>...</td>\n",
       "      <td>...</td>\n",
       "      <td>...</td>\n",
       "    </tr>\n",
       "    <tr>\n",
       "      <th>559073</th>\n",
       "      <td>T cells CD8+</td>\n",
       "      <td>BAY 61-3606</td>\n",
       "      <td>AC108673.2</td>\n",
       "      <td>3.826006</td>\n",
       "    </tr>\n",
       "    <tr>\n",
       "      <th>559074</th>\n",
       "      <td>T regulatory cells</td>\n",
       "      <td>Dactolisib</td>\n",
       "      <td>TMEM71</td>\n",
       "      <td>2.750107</td>\n",
       "    </tr>\n",
       "    <tr>\n",
       "      <th>559075</th>\n",
       "      <td>T cells CD4+</td>\n",
       "      <td>Chlorpheniramine</td>\n",
       "      <td>VAMP3</td>\n",
       "      <td>0.033372</td>\n",
       "    </tr>\n",
       "    <tr>\n",
       "      <th>559076</th>\n",
       "      <td>NK cells</td>\n",
       "      <td>Amiodarone</td>\n",
       "      <td>LINC02325</td>\n",
       "      <td>-0.170687</td>\n",
       "    </tr>\n",
       "    <tr>\n",
       "      <th>559077</th>\n",
       "      <td>T regulatory cells</td>\n",
       "      <td>Vorinostat</td>\n",
       "      <td>MXRA7</td>\n",
       "      <td>2.215903</td>\n",
       "    </tr>\n",
       "  </tbody>\n",
       "</table>\n",
       "<p>559078 rows × 4 columns</p>\n",
       "</div>"
      ],
      "text/plain": [
       "                 cell_type           sm_name        gene     value\n",
       "0                 NK cells         Sunitinib   LINC00824  0.243416\n",
       "1                 NK cells        Lamivudine      CCDC61 -0.104237\n",
       "2             T cells CD4+         Ceritinib       PSMD6  0.276361\n",
       "3                 NK cells         Isoniazid       KIF3B -0.135494\n",
       "4             T cells CD4+       GSK-1070916      TSGA13 -0.286420\n",
       "...                    ...               ...         ...       ...\n",
       "559073        T cells CD8+       BAY 61-3606  AC108673.2  3.826006\n",
       "559074  T regulatory cells        Dactolisib      TMEM71  2.750107\n",
       "559075        T cells CD4+  Chlorpheniramine       VAMP3  0.033372\n",
       "559076            NK cells        Amiodarone   LINC02325 -0.170687\n",
       "559077  T regulatory cells        Vorinostat       MXRA7  2.215903\n",
       "\n",
       "[559078 rows x 4 columns]"
      ]
     },
     "execution_count": 7,
     "metadata": {},
     "output_type": "execute_result"
    }
   ],
   "source": [
    "trdf"
   ]
  },
  {
   "cell_type": "code",
   "execution_count": 8,
   "id": "1cc87e52",
   "metadata": {
    "execution": {
     "iopub.execute_input": "2023-12-08T21:46:03.890451Z",
     "iopub.status.busy": "2023-12-08T21:46:03.890113Z",
     "iopub.status.idle": "2023-12-08T21:46:03.904417Z",
     "shell.execute_reply": "2023-12-08T21:46:03.903418Z"
    },
    "papermill": {
     "duration": 0.031286,
     "end_time": "2023-12-08T21:46:03.906809",
     "exception": false,
     "start_time": "2023-12-08T21:46:03.875523",
     "status": "completed"
    },
    "tags": []
   },
   "outputs": [
    {
     "data": {
      "text/html": [
       "<div>\n",
       "<style scoped>\n",
       "    .dataframe tbody tr th:only-of-type {\n",
       "        vertical-align: middle;\n",
       "    }\n",
       "\n",
       "    .dataframe tbody tr th {\n",
       "        vertical-align: top;\n",
       "    }\n",
       "\n",
       "    .dataframe thead th {\n",
       "        text-align: right;\n",
       "    }\n",
       "</style>\n",
       "<table border=\"1\" class=\"dataframe\">\n",
       "  <thead>\n",
       "    <tr style=\"text-align: right;\">\n",
       "      <th></th>\n",
       "      <th>cell_type</th>\n",
       "      <th>sm_name</th>\n",
       "      <th>gene</th>\n",
       "      <th>value</th>\n",
       "    </tr>\n",
       "  </thead>\n",
       "  <tbody>\n",
       "    <tr>\n",
       "      <th>0</th>\n",
       "      <td>B cells</td>\n",
       "      <td>5-(9-Isopropyl-8-methyl-2-morpholino-9H-purin-6-yl)pyrimidin-2-amine</td>\n",
       "      <td>A1BG</td>\n",
       "      <td>0.0</td>\n",
       "    </tr>\n",
       "    <tr>\n",
       "      <th>1</th>\n",
       "      <td>B cells</td>\n",
       "      <td>ABT-199 (GDC-0199)</td>\n",
       "      <td>A1BG</td>\n",
       "      <td>0.0</td>\n",
       "    </tr>\n",
       "    <tr>\n",
       "      <th>2</th>\n",
       "      <td>B cells</td>\n",
       "      <td>ABT737</td>\n",
       "      <td>A1BG</td>\n",
       "      <td>0.0</td>\n",
       "    </tr>\n",
       "    <tr>\n",
       "      <th>3</th>\n",
       "      <td>B cells</td>\n",
       "      <td>AMD-070 (hydrochloride)</td>\n",
       "      <td>A1BG</td>\n",
       "      <td>0.0</td>\n",
       "    </tr>\n",
       "    <tr>\n",
       "      <th>4</th>\n",
       "      <td>B cells</td>\n",
       "      <td>AT 7867</td>\n",
       "      <td>A1BG</td>\n",
       "      <td>0.0</td>\n",
       "    </tr>\n",
       "    <tr>\n",
       "      <th>...</th>\n",
       "      <td>...</td>\n",
       "      <td>...</td>\n",
       "      <td>...</td>\n",
       "      <td>...</td>\n",
       "    </tr>\n",
       "    <tr>\n",
       "      <th>4643800</th>\n",
       "      <td>Myeloid cells</td>\n",
       "      <td>Vandetanib</td>\n",
       "      <td>ZZEF1</td>\n",
       "      <td>0.0</td>\n",
       "    </tr>\n",
       "    <tr>\n",
       "      <th>4643801</th>\n",
       "      <td>Myeloid cells</td>\n",
       "      <td>Vanoxerine</td>\n",
       "      <td>ZZEF1</td>\n",
       "      <td>0.0</td>\n",
       "    </tr>\n",
       "    <tr>\n",
       "      <th>4643802</th>\n",
       "      <td>Myeloid cells</td>\n",
       "      <td>Vardenafil</td>\n",
       "      <td>ZZEF1</td>\n",
       "      <td>0.0</td>\n",
       "    </tr>\n",
       "    <tr>\n",
       "      <th>4643803</th>\n",
       "      <td>Myeloid cells</td>\n",
       "      <td>Vorinostat</td>\n",
       "      <td>ZZEF1</td>\n",
       "      <td>0.0</td>\n",
       "    </tr>\n",
       "    <tr>\n",
       "      <th>4643804</th>\n",
       "      <td>Myeloid cells</td>\n",
       "      <td>YK 4-279</td>\n",
       "      <td>ZZEF1</td>\n",
       "      <td>0.0</td>\n",
       "    </tr>\n",
       "  </tbody>\n",
       "</table>\n",
       "<p>4643805 rows × 4 columns</p>\n",
       "</div>"
      ],
      "text/plain": [
       "             cell_type  \\\n",
       "0              B cells   \n",
       "1              B cells   \n",
       "2              B cells   \n",
       "3              B cells   \n",
       "4              B cells   \n",
       "...                ...   \n",
       "4643800  Myeloid cells   \n",
       "4643801  Myeloid cells   \n",
       "4643802  Myeloid cells   \n",
       "4643803  Myeloid cells   \n",
       "4643804  Myeloid cells   \n",
       "\n",
       "                                                                      sm_name  \\\n",
       "0        5-(9-Isopropyl-8-methyl-2-morpholino-9H-purin-6-yl)pyrimidin-2-amine   \n",
       "1                                                          ABT-199 (GDC-0199)   \n",
       "2                                                                      ABT737   \n",
       "3                                                     AMD-070 (hydrochloride)   \n",
       "4                                                                     AT 7867   \n",
       "...                                                                       ...   \n",
       "4643800                                                            Vandetanib   \n",
       "4643801                                                            Vanoxerine   \n",
       "4643802                                                            Vardenafil   \n",
       "4643803                                                            Vorinostat   \n",
       "4643804                                                              YK 4-279   \n",
       "\n",
       "          gene  value  \n",
       "0         A1BG    0.0  \n",
       "1         A1BG    0.0  \n",
       "2         A1BG    0.0  \n",
       "3         A1BG    0.0  \n",
       "4         A1BG    0.0  \n",
       "...        ...    ...  \n",
       "4643800  ZZEF1    0.0  \n",
       "4643801  ZZEF1    0.0  \n",
       "4643802  ZZEF1    0.0  \n",
       "4643803  ZZEF1    0.0  \n",
       "4643804  ZZEF1    0.0  \n",
       "\n",
       "[4643805 rows x 4 columns]"
      ]
     },
     "execution_count": 8,
     "metadata": {},
     "output_type": "execute_result"
    }
   ],
   "source": [
    "tsdf"
   ]
  },
  {
   "cell_type": "markdown",
   "id": "d178748c",
   "metadata": {
    "papermill": {
     "duration": 0.013826,
     "end_time": "2023-12-08T21:46:03.936468",
     "exception": false,
     "start_time": "2023-12-08T21:46:03.922642",
     "status": "completed"
    },
    "tags": []
   },
   "source": [
    "## Prepare Transformer Input"
   ]
  },
  {
   "cell_type": "code",
   "execution_count": 9,
   "id": "d2e4863e",
   "metadata": {
    "execution": {
     "iopub.execute_input": "2023-12-08T21:46:03.966029Z",
     "iopub.status.busy": "2023-12-08T21:46:03.965269Z",
     "iopub.status.idle": "2023-12-08T21:46:04.958636Z",
     "shell.execute_reply": "2023-12-08T21:46:04.957679Z"
    },
    "papermill": {
     "duration": 1.010662,
     "end_time": "2023-12-08T21:46:04.960847",
     "exception": false,
     "start_time": "2023-12-08T21:46:03.950185",
     "status": "completed"
    },
    "tags": []
   },
   "outputs": [
    {
     "name": "stdout",
     "output_type": "stream",
     "text": [
      "Estimate the −log(p-value) confidence for change in gene expression of LINC00824 in NK cells when treated with Sunitinib compared to DMSO.\n"
     ]
    },
    {
     "data": {
      "text/plain": [
       "0       Estimate the −log(p-value) confidence for change in gene expression of LINC00824 in NK cells when treated with Sunitinib compared to DMSO.\n",
       "1         Estimate the −log(p-value) confidence for change in gene expression of CCDC61 in NK cells when treated with Lamivudine compared to DMSO.\n",
       "2       Estimate the −log(p-value) confidence for change in gene expression of PSMD6 in T cells CD4+ when treated with Ceritinib compared to DMSO.\n",
       "3           Estimate the −log(p-value) confidence for change in gene expression of KIF3B in NK cells when treated with Isoniazid compared to DMSO.\n",
       "4    Estimate the −log(p-value) confidence for change in gene expression of TSGA13 in T cells CD4+ when treated with GSK-1070916 compared to DMSO.\n",
       "Name: input, dtype: object"
      ]
     },
     "execution_count": 9,
     "metadata": {},
     "output_type": "execute_result"
    }
   ],
   "source": [
    "trdf['input'] = \"Estimate the −log(p-value) confidence for change in gene expression of \" + trdf.gene + \" in \" + trdf.cell_type + \" when treated with \" + trdf.sm_name + \" compared to DMSO.\"\n",
    "print(trdf.input[0])\n",
    "trdf.input.head()"
   ]
  },
  {
   "cell_type": "code",
   "execution_count": 10,
   "id": "34d1ea0e",
   "metadata": {
    "execution": {
     "iopub.execute_input": "2023-12-08T21:46:04.989516Z",
     "iopub.status.busy": "2023-12-08T21:46:04.989144Z",
     "iopub.status.idle": "2023-12-08T21:46:13.581831Z",
     "shell.execute_reply": "2023-12-08T21:46:13.580748Z"
    },
    "papermill": {
     "duration": 8.609617,
     "end_time": "2023-12-08T21:46:13.584267",
     "exception": false,
     "start_time": "2023-12-08T21:46:04.974650",
     "status": "completed"
    },
    "tags": []
   },
   "outputs": [
    {
     "name": "stdout",
     "output_type": "stream",
     "text": [
      "Estimate the −log(p-value) confidence for change in gene expression of LINC00824 in NK cells when treated with Sunitinib compared to DMSO.\n",
      "Estimate the −log(p-value) confidence for change in gene expression of A1BG in B cells when treated with 5-(9-Isopropyl-8-methyl-2-morpholino-9H-purin-6-yl)pyrimidin-2-amine compared to DMSO.\n"
     ]
    }
   ],
   "source": [
    "tsdf['input'] = \"Estimate the −log(p-value) confidence for change in gene expression of \" + tsdf.gene + \" in \" + tsdf.cell_type + \" when treated with \" + tsdf.sm_name + \" compared to DMSO.\"\n",
    "print(trdf.input[0])\n",
    "print(tsdf.input[0])"
   ]
  },
  {
   "cell_type": "code",
   "execution_count": 11,
   "id": "aede853b",
   "metadata": {
    "execution": {
     "iopub.execute_input": "2023-12-08T21:46:13.616932Z",
     "iopub.status.busy": "2023-12-08T21:46:13.616265Z",
     "iopub.status.idle": "2023-12-08T21:46:14.331611Z",
     "shell.execute_reply": "2023-12-08T21:46:14.330674Z"
    },
    "papermill": {
     "duration": 0.733217,
     "end_time": "2023-12-08T21:46:14.333783",
     "exception": false,
     "start_time": "2023-12-08T21:46:13.600566",
     "status": "completed"
    },
    "tags": []
   },
   "outputs": [
    {
     "data": {
      "text/plain": [
       "Dataset({\n",
       "    features: ['cell_type', 'sm_name', 'gene', 'value', 'input'],\n",
       "    num_rows: 559078\n",
       "})"
      ]
     },
     "execution_count": 11,
     "metadata": {},
     "output_type": "execute_result"
    }
   ],
   "source": [
    "from datasets import Dataset, DatasetDict\n",
    "trds = Dataset.from_pandas(trdf)\n",
    "trds"
   ]
  },
  {
   "cell_type": "code",
   "execution_count": 12,
   "id": "e80b09aa",
   "metadata": {
    "execution": {
     "iopub.execute_input": "2023-12-08T21:46:14.364406Z",
     "iopub.status.busy": "2023-12-08T21:46:14.363800Z",
     "iopub.status.idle": "2023-12-08T21:46:18.096324Z",
     "shell.execute_reply": "2023-12-08T21:46:18.095242Z"
    },
    "papermill": {
     "duration": 3.750615,
     "end_time": "2023-12-08T21:46:18.098527",
     "exception": false,
     "start_time": "2023-12-08T21:46:14.347912",
     "status": "completed"
    },
    "tags": []
   },
   "outputs": [
    {
     "data": {
      "text/plain": [
       "Dataset({\n",
       "    features: ['cell_type', 'sm_name', 'gene', 'value', 'input'],\n",
       "    num_rows: 4643805\n",
       "})"
      ]
     },
     "execution_count": 12,
     "metadata": {},
     "output_type": "execute_result"
    }
   ],
   "source": [
    "tsds = Dataset.from_pandas(tsdf)\n",
    "tsds"
   ]
  },
  {
   "cell_type": "markdown",
   "id": "884ff88c",
   "metadata": {
    "papermill": {
     "duration": 0.014188,
     "end_time": "2023-12-08T21:46:18.127203",
     "exception": false,
     "start_time": "2023-12-08T21:46:18.113015",
     "status": "completed"
    },
    "tags": []
   },
   "source": [
    "## Prepare Model"
   ]
  },
  {
   "cell_type": "markdown",
   "id": "b93a0749",
   "metadata": {
    "papermill": {
     "duration": 0.014183,
     "end_time": "2023-12-08T21:46:18.155573",
     "exception": false,
     "start_time": "2023-12-08T21:46:18.141390",
     "status": "completed"
    },
    "tags": []
   },
   "source": [
    "### Tokenize"
   ]
  },
  {
   "cell_type": "code",
   "execution_count": 13,
   "id": "e9dd53a1",
   "metadata": {
    "execution": {
     "iopub.execute_input": "2023-12-08T21:46:18.184783Z",
     "iopub.status.busy": "2023-12-08T21:46:18.184425Z",
     "iopub.status.idle": "2023-12-08T21:46:20.167717Z",
     "shell.execute_reply": "2023-12-08T21:46:20.166704Z"
    },
    "papermill": {
     "duration": 2.000887,
     "end_time": "2023-12-08T21:46:20.170105",
     "exception": false,
     "start_time": "2023-12-08T21:46:18.169218",
     "status": "completed"
    },
    "tags": []
   },
   "outputs": [
    {
     "data": {
      "application/vnd.jupyter.widget-view+json": {
       "model_id": "de1ac40f14ae45669735d44dc8760548",
       "version_major": 2,
       "version_minor": 0
      },
      "text/plain": [
       "tokenizer_config.json:   0%|          | 0.00/320 [00:00<?, ?B/s]"
      ]
     },
     "metadata": {},
     "output_type": "display_data"
    },
    {
     "data": {
      "application/vnd.jupyter.widget-view+json": {
       "model_id": "17c473d46b2c4513b53f878e83692689",
       "version_major": 2,
       "version_minor": 0
      },
      "text/plain": [
       "vocab.txt:   0%|          | 0.00/213k [00:00<?, ?B/s]"
      ]
     },
     "metadata": {},
     "output_type": "display_data"
    },
    {
     "data": {
      "application/vnd.jupyter.widget-view+json": {
       "model_id": "103f661f69294e98ab914eef7a2d6911",
       "version_major": 2,
       "version_minor": 0
      },
      "text/plain": [
       "tokenizer.json:   0%|          | 0.00/669k [00:00<?, ?B/s]"
      ]
     },
     "metadata": {},
     "output_type": "display_data"
    },
    {
     "data": {
      "application/vnd.jupyter.widget-view+json": {
       "model_id": "a238e2e8d91643bf8e1dfd349825116f",
       "version_major": 2,
       "version_minor": 0
      },
      "text/plain": [
       "special_tokens_map.json:   0%|          | 0.00/112 [00:00<?, ?B/s]"
      ]
     },
     "metadata": {},
     "output_type": "display_data"
    }
   ],
   "source": [
    "from transformers import AutoModelForSequenceClassification, AutoTokenizer\n",
    "model_nm = 'nlpie/tiny-biobert'\n",
    "tokz = AutoTokenizer.from_pretrained(model_nm)\n",
    "\n",
    "# @misc{https://doi.org/10.48550/arxiv.2209.03182,\n",
    "#   doi = {10.48550/ARXIV.2209.03182},\n",
    "#   url = {https://arxiv.org/abs/2209.03182},\n",
    "#   author = {Rohanian, Omid and Nouriborji, Mohammadmahdi and Kouchaki, Samaneh and Clifton, David A.},\n",
    "#   keywords = {Computation and Language (cs.CL), Machine Learning (cs.LG), FOS: Computer and information sciences, FOS: Computer and information sciences, 68T50},\n",
    "#   title = {On the Effectiveness of Compact Biomedical Transformers},\n",
    "#   publisher = {arXiv},\n",
    "#   year = {2022}, \n",
    "#   copyright = {arXiv.org perpetual, non-exclusive license}\n",
    "# }\n"
   ]
  },
  {
   "cell_type": "code",
   "execution_count": 14,
   "id": "facf4081",
   "metadata": {
    "execution": {
     "iopub.execute_input": "2023-12-08T21:46:20.201485Z",
     "iopub.status.busy": "2023-12-08T21:46:20.201084Z",
     "iopub.status.idle": "2023-12-08T21:46:21.266891Z",
     "shell.execute_reply": "2023-12-08T21:46:21.265995Z"
    },
    "papermill": {
     "duration": 1.083799,
     "end_time": "2023-12-08T21:46:21.268776",
     "exception": false,
     "start_time": "2023-12-08T21:46:20.184977",
     "status": "completed"
    },
    "tags": []
   },
   "outputs": [
    {
     "data": {
      "text/plain": [
       "(#41) ['E','##st','##imate','the','−','##log','(','p','-','value'...]"
      ]
     },
     "execution_count": 14,
     "metadata": {},
     "output_type": "execute_result"
    }
   ],
   "source": [
    "L(tokz.tokenize(trds['input'][0]))"
   ]
  },
  {
   "cell_type": "code",
   "execution_count": 15,
   "id": "47724f0b",
   "metadata": {
    "execution": {
     "iopub.execute_input": "2023-12-08T21:46:21.299915Z",
     "iopub.status.busy": "2023-12-08T21:46:21.299244Z",
     "iopub.status.idle": "2023-12-08T21:55:07.839201Z",
     "shell.execute_reply": "2023-12-08T21:55:07.837885Z"
    },
    "papermill": {
     "duration": 526.558122,
     "end_time": "2023-12-08T21:55:07.841734",
     "exception": false,
     "start_time": "2023-12-08T21:46:21.283612",
     "status": "completed"
    },
    "tags": []
   },
   "outputs": [
    {
     "name": "stdout",
     "output_type": "stream",
     "text": [
      "Started tokenization...\n"
     ]
    },
    {
     "data": {
      "application/vnd.jupyter.widget-view+json": {
       "model_id": "59d6e923b7694fffbf287945c331df17",
       "version_major": 2,
       "version_minor": 0
      },
      "text/plain": [
       "  0%|          | 0/560 [00:00<?, ?ba/s]"
      ]
     },
     "metadata": {},
     "output_type": "display_data"
    },
    {
     "data": {
      "application/vnd.jupyter.widget-view+json": {
       "model_id": "231d561393864382a0f50bcb4a888dde",
       "version_major": 2,
       "version_minor": 0
      },
      "text/plain": [
       "  0%|          | 0/4644 [00:00<?, ?ba/s]"
      ]
     },
     "metadata": {},
     "output_type": "display_data"
    }
   ],
   "source": [
    "print('Started tokenization...')\n",
    "def tok_func(x): return tokz(x[\"input\"])\n",
    "\n",
    "tok_trds = trds.map(tok_func, batched = True)\n",
    "tok_tsds = tsds.map(tok_func, batched = True)"
   ]
  },
  {
   "cell_type": "code",
   "execution_count": 16,
   "id": "1f8b2bc8",
   "metadata": {
    "execution": {
     "iopub.execute_input": "2023-12-08T21:55:07.874315Z",
     "iopub.status.busy": "2023-12-08T21:55:07.874013Z",
     "iopub.status.idle": "2023-12-08T21:55:07.882441Z",
     "shell.execute_reply": "2023-12-08T21:55:07.881252Z"
    },
    "papermill": {
     "duration": 0.026943,
     "end_time": "2023-12-08T21:55:07.884668",
     "exception": false,
     "start_time": "2023-12-08T21:55:07.857725",
     "status": "completed"
    },
    "tags": []
   },
   "outputs": [
    {
     "name": "stdout",
     "output_type": "stream",
     "text": [
      "Estimate the −log(p-value) confidence for change in gene expression of LINC00824 in NK cells when treated with Sunitinib compared to DMSO.\n"
     ]
    },
    {
     "data": {
      "text/plain": [
       "(None, (#43) [101,142,2050,15774,1103,851,13791,113,185,118...])"
      ]
     },
     "execution_count": 16,
     "metadata": {},
     "output_type": "execute_result"
    }
   ],
   "source": [
    "print(tok_trds[0]['input']), L(tok_trds[0]['input_ids'])"
   ]
  },
  {
   "cell_type": "code",
   "execution_count": 17,
   "id": "50bd87c6",
   "metadata": {
    "execution": {
     "iopub.execute_input": "2023-12-08T21:55:07.916895Z",
     "iopub.status.busy": "2023-12-08T21:55:07.916558Z",
     "iopub.status.idle": "2023-12-08T21:55:07.924093Z",
     "shell.execute_reply": "2023-12-08T21:55:07.923237Z"
    },
    "papermill": {
     "duration": 0.026144,
     "end_time": "2023-12-08T21:55:07.926154",
     "exception": false,
     "start_time": "2023-12-08T21:55:07.900010",
     "status": "completed"
    },
    "tags": []
   },
   "outputs": [
    {
     "name": "stdout",
     "output_type": "stream",
     "text": [
      "Estimate the −log(p-value) confidence for change in gene expression of A1BG in B cells when treated with 5-(9-Isopropyl-8-methyl-2-morpholino-9H-purin-6-yl)pyrimidin-2-amine compared to DMSO.\n"
     ]
    },
    {
     "data": {
      "text/plain": [
       "(None, (#79) [101,142,2050,15774,1103,851,13791,113,185,118...])"
      ]
     },
     "execution_count": 17,
     "metadata": {},
     "output_type": "execute_result"
    }
   ],
   "source": [
    "print(tok_tsds[0]['input']), L(tok_tsds[0]['input_ids'])"
   ]
  },
  {
   "cell_type": "code",
   "execution_count": 18,
   "id": "4a78b3dc",
   "metadata": {
    "execution": {
     "iopub.execute_input": "2023-12-08T21:55:07.958465Z",
     "iopub.status.busy": "2023-12-08T21:55:07.958143Z",
     "iopub.status.idle": "2023-12-08T21:55:07.970431Z",
     "shell.execute_reply": "2023-12-08T21:55:07.969661Z"
    },
    "papermill": {
     "duration": 0.030834,
     "end_time": "2023-12-08T21:55:07.972627",
     "exception": false,
     "start_time": "2023-12-08T21:55:07.941793",
     "status": "completed"
    },
    "tags": []
   },
   "outputs": [
    {
     "data": {
      "text/plain": [
       "28996"
      ]
     },
     "execution_count": 18,
     "metadata": {},
     "output_type": "execute_result"
    }
   ],
   "source": [
    "len(tokz)"
   ]
  },
  {
   "cell_type": "code",
   "execution_count": 19,
   "id": "974e6028",
   "metadata": {
    "execution": {
     "iopub.execute_input": "2023-12-08T21:55:08.004369Z",
     "iopub.status.busy": "2023-12-08T21:55:08.004083Z",
     "iopub.status.idle": "2023-12-08T21:55:08.012032Z",
     "shell.execute_reply": "2023-12-08T21:55:08.010821Z"
    },
    "papermill": {
     "duration": 0.026135,
     "end_time": "2023-12-08T21:55:08.014111",
     "exception": false,
     "start_time": "2023-12-08T21:55:07.987976",
     "status": "completed"
    },
    "tags": []
   },
   "outputs": [
    {
     "name": "stdout",
     "output_type": "stream",
     "text": [
      "[CLS]\n",
      "E\n",
      "##st\n",
      "##imate\n",
      "the\n",
      "−\n",
      "##log\n",
      "(\n",
      "p\n",
      "-\n",
      "value\n",
      ")\n",
      "confidence\n",
      "for\n",
      "change\n",
      "in\n",
      "gene\n",
      "expression\n",
      "of\n",
      "A1\n",
      "##B\n",
      "##G\n",
      "in\n",
      "B\n",
      "cells\n",
      "when\n",
      "treated\n",
      "with\n",
      "5\n",
      "-\n",
      "(\n",
      "9\n",
      "-\n",
      "Is\n",
      "##op\n",
      "##rop\n",
      "##yl\n",
      "-\n",
      "8\n",
      "-\n",
      "met\n",
      "##hyl\n",
      "-\n",
      "2\n",
      "-\n",
      "m\n",
      "##or\n",
      "##ph\n",
      "##olin\n",
      "##o\n",
      "-\n",
      "9\n",
      "##H\n",
      "-\n",
      "pu\n",
      "##rin\n",
      "-\n",
      "6\n",
      "-\n",
      "y\n",
      "##l\n",
      ")\n",
      "p\n",
      "##yr\n",
      "##im\n",
      "##id\n",
      "##in\n",
      "-\n",
      "2\n",
      "-\n",
      "am\n",
      "##ine\n",
      "compared\n",
      "to\n",
      "D\n",
      "##MS\n",
      "##O\n",
      ".\n",
      "[SEP]\n"
     ]
    }
   ],
   "source": [
    "for i in tok_tsds[0]['input_ids']:\n",
    "    print(tokz.decode(i))"
   ]
  },
  {
   "cell_type": "code",
   "execution_count": 20,
   "id": "c228c5c2",
   "metadata": {
    "execution": {
     "iopub.execute_input": "2023-12-08T21:55:08.047374Z",
     "iopub.status.busy": "2023-12-08T21:55:08.047058Z",
     "iopub.status.idle": "2023-12-08T21:55:08.058993Z",
     "shell.execute_reply": "2023-12-08T21:55:08.058112Z"
    },
    "papermill": {
     "duration": 0.030848,
     "end_time": "2023-12-08T21:55:08.060905",
     "exception": false,
     "start_time": "2023-12-08T21:55:08.030057",
     "status": "completed"
    },
    "tags": []
   },
   "outputs": [
    {
     "data": {
      "text/plain": [
       "Dataset({\n",
       "    features: ['cell_type', 'sm_name', 'gene', 'labels', 'input', 'input_ids', 'token_type_ids', 'attention_mask'],\n",
       "    num_rows: 559078\n",
       "})"
      ]
     },
     "execution_count": 20,
     "metadata": {},
     "output_type": "execute_result"
    }
   ],
   "source": [
    "tok_trds = tok_trds.rename_columns({\"value\":\"labels\"})\n",
    "tok_trds"
   ]
  },
  {
   "cell_type": "markdown",
   "id": "1a8af89a",
   "metadata": {
    "papermill": {
     "duration": 0.015853,
     "end_time": "2023-12-08T21:55:08.093024",
     "exception": false,
     "start_time": "2023-12-08T21:55:08.077171",
     "status": "completed"
    },
    "tags": []
   },
   "source": [
    "### Split Train Data"
   ]
  },
  {
   "cell_type": "code",
   "execution_count": 21,
   "id": "0a90dd05",
   "metadata": {
    "execution": {
     "iopub.execute_input": "2023-12-08T21:55:08.126248Z",
     "iopub.status.busy": "2023-12-08T21:55:08.125876Z",
     "iopub.status.idle": "2023-12-08T21:55:08.351076Z",
     "shell.execute_reply": "2023-12-08T21:55:08.349780Z"
    },
    "papermill": {
     "duration": 0.244499,
     "end_time": "2023-12-08T21:55:08.353348",
     "exception": false,
     "start_time": "2023-12-08T21:55:08.108849",
     "status": "completed"
    },
    "tags": []
   },
   "outputs": [
    {
     "data": {
      "text/plain": [
       "DatasetDict({\n",
       "    train: Dataset({\n",
       "        features: ['cell_type', 'sm_name', 'gene', 'labels', 'input', 'input_ids', 'token_type_ids', 'attention_mask'],\n",
       "        num_rows: 447262\n",
       "    })\n",
       "    test: Dataset({\n",
       "        features: ['cell_type', 'sm_name', 'gene', 'labels', 'input', 'input_ids', 'token_type_ids', 'attention_mask'],\n",
       "        num_rows: 111816\n",
       "    })\n",
       "})"
      ]
     },
     "execution_count": 21,
     "metadata": {},
     "output_type": "execute_result"
    }
   ],
   "source": [
    "dds = tok_trds.train_test_split(0.20, seed=random_seed)\n",
    "dds"
   ]
  },
  {
   "cell_type": "markdown",
   "id": "543cc414",
   "metadata": {
    "papermill": {
     "duration": 0.015849,
     "end_time": "2023-12-08T21:55:08.385827",
     "exception": false,
     "start_time": "2023-12-08T21:55:08.369978",
     "status": "completed"
    },
    "tags": []
   },
   "source": [
    "### Define Model"
   ]
  },
  {
   "cell_type": "code",
   "execution_count": 22,
   "id": "adc2237e",
   "metadata": {
    "execution": {
     "iopub.execute_input": "2023-12-08T21:55:08.419381Z",
     "iopub.status.busy": "2023-12-08T21:55:08.419036Z",
     "iopub.status.idle": "2023-12-08T21:55:08.423219Z",
     "shell.execute_reply": "2023-12-08T21:55:08.422419Z"
    },
    "papermill": {
     "duration": 0.023597,
     "end_time": "2023-12-08T21:55:08.425248",
     "exception": false,
     "start_time": "2023-12-08T21:55:08.401651",
     "status": "completed"
    },
    "tags": []
   },
   "outputs": [],
   "source": [
    "bs = 256\n",
    "epochs = 5\n",
    "lr = 8e-5"
   ]
  },
  {
   "cell_type": "code",
   "execution_count": 23,
   "id": "8d6c86ed",
   "metadata": {
    "execution": {
     "iopub.execute_input": "2023-12-08T21:55:08.458925Z",
     "iopub.status.busy": "2023-12-08T21:55:08.458648Z",
     "iopub.status.idle": "2023-12-08T21:55:08.464502Z",
     "shell.execute_reply": "2023-12-08T21:55:08.463632Z"
    },
    "papermill": {
     "duration": 0.025069,
     "end_time": "2023-12-08T21:55:08.466404",
     "exception": false,
     "start_time": "2023-12-08T21:55:08.441335",
     "status": "completed"
    },
    "tags": []
   },
   "outputs": [
    {
     "data": {
      "text/plain": [
       "1747"
      ]
     },
     "execution_count": 23,
     "metadata": {},
     "output_type": "execute_result"
    }
   ],
   "source": [
    "steps = len(dds['train']) // bs\n",
    "steps"
   ]
  },
  {
   "cell_type": "code",
   "execution_count": 24,
   "id": "cb66435f",
   "metadata": {
    "execution": {
     "iopub.execute_input": "2023-12-08T21:55:08.500412Z",
     "iopub.status.busy": "2023-12-08T21:55:08.500106Z",
     "iopub.status.idle": "2023-12-08T21:55:08.799683Z",
     "shell.execute_reply": "2023-12-08T21:55:08.798836Z"
    },
    "papermill": {
     "duration": 0.319225,
     "end_time": "2023-12-08T21:55:08.802024",
     "exception": false,
     "start_time": "2023-12-08T21:55:08.482799",
     "status": "completed"
    },
    "tags": []
   },
   "outputs": [],
   "source": [
    "from transformers import TrainingArguments, Trainer\n",
    "\n",
    "args = TrainingArguments('outputs', save_steps=steps, learning_rate=lr, warmup_ratio=0.1, lr_scheduler_type='cosine', fp16=True,\n",
    "    evaluation_strategy=\"epoch\", per_device_train_batch_size=bs, per_device_eval_batch_size=bs*2,\n",
    "    num_train_epochs=epochs, weight_decay=0.01, report_to='none', seed=random_seed) # resume_from_checkpoint=\"/kaggle/working/20231005/outputs/checkpoint-104826\", fp16=True"
   ]
  },
  {
   "cell_type": "code",
   "execution_count": 25,
   "id": "eeb262cf",
   "metadata": {
    "execution": {
     "iopub.execute_input": "2023-12-08T21:55:08.836809Z",
     "iopub.status.busy": "2023-12-08T21:55:08.836267Z",
     "iopub.status.idle": "2023-12-08T21:55:08.842239Z",
     "shell.execute_reply": "2023-12-08T21:55:08.841313Z"
    },
    "papermill": {
     "duration": 0.025811,
     "end_time": "2023-12-08T21:55:08.844532",
     "exception": false,
     "start_time": "2023-12-08T21:55:08.818721",
     "status": "completed"
    },
    "tags": []
   },
   "outputs": [],
   "source": [
    "from transformers import EvalPrediction\n",
    "\n",
    "def compute_metrics(p: EvalPrediction):\n",
    "    preds = p.predictions\n",
    "    labels = p.label_ids\n",
    "    rmse = np.sqrt(((preds - labels) ** 2).mean())\n",
    "    return {\"rmse\": rmse}"
   ]
  },
  {
   "cell_type": "code",
   "execution_count": 26,
   "id": "e5e5e166",
   "metadata": {
    "execution": {
     "iopub.execute_input": "2023-12-08T21:55:08.879114Z",
     "iopub.status.busy": "2023-12-08T21:55:08.878835Z",
     "iopub.status.idle": "2023-12-08T21:55:17.114452Z",
     "shell.execute_reply": "2023-12-08T21:55:17.113471Z"
    },
    "papermill": {
     "duration": 8.255341,
     "end_time": "2023-12-08T21:55:17.117003",
     "exception": false,
     "start_time": "2023-12-08T21:55:08.861662",
     "status": "completed"
    },
    "tags": []
   },
   "outputs": [
    {
     "data": {
      "application/vnd.jupyter.widget-view+json": {
       "model_id": "322b4f01e6c142b3adb8c611533fde64",
       "version_major": 2,
       "version_minor": 0
      },
      "text/plain": [
       "config.json:   0%|          | 0.00/840 [00:00<?, ?B/s]"
      ]
     },
     "metadata": {},
     "output_type": "display_data"
    },
    {
     "data": {
      "application/vnd.jupyter.widget-view+json": {
       "model_id": "98832f56d436427b809bb8c7f31c27ac",
       "version_major": 2,
       "version_minor": 0
      },
      "text/plain": [
       "pytorch_model.bin:   0%|          | 0.00/55.6M [00:00<?, ?B/s]"
      ]
     },
     "metadata": {},
     "output_type": "display_data"
    },
    {
     "name": "stderr",
     "output_type": "stream",
     "text": [
      "Some weights of BertForSequenceClassification were not initialized from the model checkpoint at nlpie/tiny-biobert and are newly initialized: ['bert.pooler.dense.weight', 'classifier.weight', 'bert.pooler.dense.bias', 'classifier.bias']\n",
      "You should probably TRAIN this model on a down-stream task to be able to use it for predictions and inference.\n"
     ]
    }
   ],
   "source": [
    "model = AutoModelForSequenceClassification.from_pretrained(model_nm, num_labels=1) # for checkpoint use e.g. \"/kaggle/working/20231005/outputs/checkpoint-104826\" instead of model_nm\n",
    "trainer = Trainer(model, args, train_dataset=dds['train'], eval_dataset=dds['test'],\n",
    "                  tokenizer=tokz)#, compute_metrics=compute_metrics)"
   ]
  },
  {
   "cell_type": "markdown",
   "id": "78a7ab31",
   "metadata": {
    "papermill": {
     "duration": 0.016552,
     "end_time": "2023-12-08T21:55:17.150860",
     "exception": false,
     "start_time": "2023-12-08T21:55:17.134308",
     "status": "completed"
    },
    "tags": []
   },
   "source": [
    "## Training"
   ]
  },
  {
   "cell_type": "code",
   "execution_count": 27,
   "id": "6e782a4c",
   "metadata": {
    "execution": {
     "iopub.execute_input": "2023-12-08T21:55:17.185954Z",
     "iopub.status.busy": "2023-12-08T21:55:17.185596Z",
     "iopub.status.idle": "2023-12-08T22:33:21.627252Z",
     "shell.execute_reply": "2023-12-08T22:33:21.626323Z"
    },
    "papermill": {
     "duration": 2284.461806,
     "end_time": "2023-12-08T22:33:21.629290",
     "exception": false,
     "start_time": "2023-12-08T21:55:17.167484",
     "status": "completed"
    },
    "tags": []
   },
   "outputs": [
    {
     "name": "stderr",
     "output_type": "stream",
     "text": [
      "You're using a BertTokenizerFast tokenizer. Please note that with a fast tokenizer, using the `__call__` method is faster than using a method to encode the text followed by a call to the `pad` method to get a padded encoding.\n"
     ]
    },
    {
     "name": "stdout",
     "output_type": "stream",
     "text": [
      "Started training...\n"
     ]
    },
    {
     "data": {
      "text/html": [
       "\n",
       "    <div>\n",
       "      \n",
       "      <progress value='8740' max='8740' style='width:300px; height:20px; vertical-align: middle;'></progress>\n",
       "      [8740/8740 38:01, Epoch 5/5]\n",
       "    </div>\n",
       "    <table border=\"1\" class=\"dataframe\">\n",
       "  <thead>\n",
       " <tr style=\"text-align: left;\">\n",
       "      <th>Epoch</th>\n",
       "      <th>Training Loss</th>\n",
       "      <th>Validation Loss</th>\n",
       "    </tr>\n",
       "  </thead>\n",
       "  <tbody>\n",
       "    <tr>\n",
       "      <td>1</td>\n",
       "      <td>3.894200</td>\n",
       "      <td>3.805131</td>\n",
       "    </tr>\n",
       "    <tr>\n",
       "      <td>2</td>\n",
       "      <td>4.163200</td>\n",
       "      <td>3.597393</td>\n",
       "    </tr>\n",
       "    <tr>\n",
       "      <td>3</td>\n",
       "      <td>3.738400</td>\n",
       "      <td>3.504966</td>\n",
       "    </tr>\n",
       "    <tr>\n",
       "      <td>4</td>\n",
       "      <td>3.770300</td>\n",
       "      <td>3.459435</td>\n",
       "    </tr>\n",
       "    <tr>\n",
       "      <td>5</td>\n",
       "      <td>3.405200</td>\n",
       "      <td>3.457468</td>\n",
       "    </tr>\n",
       "  </tbody>\n",
       "</table><p>"
      ],
      "text/plain": [
       "<IPython.core.display.HTML object>"
      ]
     },
     "metadata": {},
     "output_type": "display_data"
    },
    {
     "data": {
      "text/plain": [
       "TrainOutput(global_step=8740, training_loss=3.926086781936052, metrics={'train_runtime': 2284.1357, 'train_samples_per_second': 979.062, 'train_steps_per_second': 3.826, 'total_flos': 4897005590377812.0, 'train_loss': 3.926086781936052, 'epoch': 5.0})"
      ]
     },
     "execution_count": 27,
     "metadata": {},
     "output_type": "execute_result"
    }
   ],
   "source": [
    "print('Started training...')\n",
    "trainer.train()"
   ]
  },
  {
   "cell_type": "code",
   "execution_count": 28,
   "id": "a3e32e3b",
   "metadata": {
    "execution": {
     "iopub.execute_input": "2023-12-08T22:33:21.671719Z",
     "iopub.status.busy": "2023-12-08T22:33:21.670790Z",
     "iopub.status.idle": "2023-12-08T22:33:21.828796Z",
     "shell.execute_reply": "2023-12-08T22:33:21.828002Z"
    },
    "papermill": {
     "duration": 0.181962,
     "end_time": "2023-12-08T22:33:21.831092",
     "exception": false,
     "start_time": "2023-12-08T22:33:21.649130",
     "status": "completed"
    },
    "tags": []
   },
   "outputs": [],
   "source": [
    "model_string = 'tinybiobert_tasked_one_sentence_5eps42'\n",
    "trainer.save_model(f'./{model_string}/')"
   ]
  },
  {
   "cell_type": "code",
   "execution_count": 29,
   "id": "25cded43",
   "metadata": {
    "execution": {
     "iopub.execute_input": "2023-12-08T22:33:21.869139Z",
     "iopub.status.busy": "2023-12-08T22:33:21.868533Z",
     "iopub.status.idle": "2023-12-08T22:33:22.914163Z",
     "shell.execute_reply": "2023-12-08T22:33:22.913112Z"
    },
    "papermill": {
     "duration": 1.06737,
     "end_time": "2023-12-08T22:33:22.916392",
     "exception": false,
     "start_time": "2023-12-08T22:33:21.849022",
     "status": "completed"
    },
    "tags": []
   },
   "outputs": [
    {
     "data": {
      "image/png": "[encoded data removed]",
      "text/plain": [
       "<Figure size 1200x500 with 2 Axes>"
      ]
     },
     "metadata": {},
     "output_type": "display_data"
    }
   ],
   "source": [
    "valid_loss_history = [log['eval_loss'] for log in trainer.state.log_history if 'eval_loss' in log]\n",
    "valid_step_history = [log['step'] for log in trainer.state.log_history if 'eval_loss' in log]\n",
    "train_loss_history = [log['loss'] for log in trainer.state.log_history if 'loss' in log]\n",
    "train_step_history = [log['step'] for log in trainer.state.log_history if 'loss' in log]\n",
    "lrate_history = [log['learning_rate'] for log in trainer.state.log_history if 'loss' in log]\n",
    "epoch_history = [log['epoch'] for log in trainer.state.log_history if 'eval_loss' in log]\n",
    "\n",
    "fig, (ax1, ax2) = plt.subplots(1, 2, figsize=(12, 5))\n",
    "\n",
    "ax1.plot(valid_step_history, valid_loss_history)\n",
    "ax1.plot(train_step_history, train_loss_history)\n",
    "ax1.set_xlabel('Step')\n",
    "ax1.set_ylabel('Loss')\n",
    "ax1.set_title('Loss History')\n",
    "\n",
    "ax2.plot(train_step_history, lrate_history)\n",
    "ax2.set_xlabel('Step')\n",
    "ax2.set_ylabel('Learning Rate')\n",
    "ax2.set_title('Learning Rate History')\n",
    "\n",
    "plt.savefig(f'{model_string}_training.pdf', format='pdf')\n",
    "plt.tight_layout\n",
    "plt.show()"
   ]
  },
  {
   "cell_type": "code",
   "execution_count": 30,
   "id": "dfcb1929",
   "metadata": {
    "execution": {
     "iopub.execute_input": "2023-12-08T22:33:22.954939Z",
     "iopub.status.busy": "2023-12-08T22:33:22.954224Z",
     "iopub.status.idle": "2023-12-08T22:33:22.959932Z",
     "shell.execute_reply": "2023-12-08T22:33:22.958962Z"
    },
    "papermill": {
     "duration": 0.027513,
     "end_time": "2023-12-08T22:33:22.961996",
     "exception": false,
     "start_time": "2023-12-08T22:33:22.934483",
     "status": "completed"
    },
    "tags": []
   },
   "outputs": [],
   "source": [
    "with open(f'{model_string}_training_history.txt', 'w') as file:\n",
    "    file.write(str(trainer.state.log_history))"
   ]
  },
  {
   "cell_type": "markdown",
   "id": "6829918d",
   "metadata": {
    "papermill": {
     "duration": 0.018305,
     "end_time": "2023-12-08T22:33:22.999635",
     "exception": false,
     "start_time": "2023-12-08T22:33:22.981330",
     "status": "completed"
    },
    "tags": []
   },
   "source": [
    "## Predict"
   ]
  },
  {
   "cell_type": "code",
   "execution_count": 31,
   "id": "a29367f7",
   "metadata": {
    "execution": {
     "iopub.execute_input": "2023-12-08T22:33:23.038534Z",
     "iopub.status.busy": "2023-12-08T22:33:23.038108Z",
     "iopub.status.idle": "2023-12-08T23:09:08.342010Z",
     "shell.execute_reply": "2023-12-08T23:09:08.340996Z"
    },
    "papermill": {
     "duration": 2145.325988,
     "end_time": "2023-12-08T23:09:08.344003",
     "exception": false,
     "start_time": "2023-12-08T22:33:23.018015",
     "status": "completed"
    },
    "tags": []
   },
   "outputs": [
    {
     "name": "stdout",
     "output_type": "stream",
     "text": [
      "Started inference...\n"
     ]
    },
    {
     "data": {
      "text/html": [],
      "text/plain": [
       "<IPython.core.display.HTML object>"
      ]
     },
     "metadata": {},
     "output_type": "display_data"
    },
    {
     "data": {
      "text/plain": [
       "array([[ 0.09942627],\n",
       "       [-0.01319122],\n",
       "       [ 0.25830078],\n",
       "       ...,\n",
       "       [-0.10211182],\n",
       "       [ 0.12756348],\n",
       "       [ 0.0125351 ]])"
      ]
     },
     "execution_count": 31,
     "metadata": {},
     "output_type": "execute_result"
    }
   ],
   "source": [
    "print('Started inference...')\n",
    "preds = trainer.predict(tok_tsds).predictions.astype(float)\n",
    "preds"
   ]
  },
  {
   "cell_type": "code",
   "execution_count": 32,
   "id": "a72577d0",
   "metadata": {
    "execution": {
     "iopub.execute_input": "2023-12-08T23:09:08.381965Z",
     "iopub.status.busy": "2023-12-08T23:09:08.381634Z",
     "iopub.status.idle": "2023-12-08T23:09:08.393491Z",
     "shell.execute_reply": "2023-12-08T23:09:08.392615Z"
    },
    "papermill": {
     "duration": 0.032779,
     "end_time": "2023-12-08T23:09:08.395387",
     "exception": false,
     "start_time": "2023-12-08T23:09:08.362608",
     "status": "completed"
    },
    "tags": []
   },
   "outputs": [
    {
     "data": {
      "text/plain": [
       "(16.171875, -1.0419921875)"
      ]
     },
     "execution_count": 32,
     "metadata": {},
     "output_type": "execute_result"
    }
   ],
   "source": [
    "preds.max(), preds.min()"
   ]
  },
  {
   "cell_type": "code",
   "execution_count": 33,
   "id": "b2f1cbfd",
   "metadata": {
    "execution": {
     "iopub.execute_input": "2023-12-08T23:09:08.433264Z",
     "iopub.status.busy": "2023-12-08T23:09:08.432671Z",
     "iopub.status.idle": "2023-12-08T23:09:08.456686Z",
     "shell.execute_reply": "2023-12-08T23:09:08.455736Z"
    },
    "papermill": {
     "duration": 0.045231,
     "end_time": "2023-12-08T23:09:08.458794",
     "exception": false,
     "start_time": "2023-12-08T23:09:08.413563",
     "status": "completed"
    },
    "tags": []
   },
   "outputs": [
    {
     "data": {
      "text/plain": [
       "array([[ 0.0994],\n",
       "       [-0.0132],\n",
       "       [ 0.2583],\n",
       "       ...,\n",
       "       [-0.1021],\n",
       "       [ 0.1276],\n",
       "       [ 0.0125]])"
      ]
     },
     "execution_count": 33,
     "metadata": {},
     "output_type": "execute_result"
    }
   ],
   "source": [
    "preds_rounded = np.round_(preds, 4)\n",
    "preds_rounded"
   ]
  },
  {
   "cell_type": "markdown",
   "id": "22f64d0e",
   "metadata": {
    "papermill": {
     "duration": 0.017852,
     "end_time": "2023-12-08T23:09:08.495119",
     "exception": false,
     "start_time": "2023-12-08T23:09:08.477267",
     "status": "completed"
    },
    "tags": []
   },
   "source": [
    "In the last step I reshape the predictions back into a 255 x 18211 tensor for submission:"
   ]
  },
  {
   "cell_type": "code",
   "execution_count": 34,
   "id": "c950dda1",
   "metadata": {
    "execution": {
     "iopub.execute_input": "2023-12-08T23:09:08.532763Z",
     "iopub.status.busy": "2023-12-08T23:09:08.532130Z",
     "iopub.status.idle": "2023-12-08T23:09:08.536410Z",
     "shell.execute_reply": "2023-12-08T23:09:08.535600Z"
    },
    "papermill": {
     "duration": 0.025372,
     "end_time": "2023-12-08T23:09:08.538231",
     "exception": false,
     "start_time": "2023-12-08T23:09:08.512859",
     "status": "completed"
    },
    "tags": []
   },
   "outputs": [],
   "source": [
    "to_submit = preds_rounded.reshape(18211, -1).T"
   ]
  },
  {
   "cell_type": "code",
   "execution_count": 35,
   "id": "6da796af",
   "metadata": {
    "execution": {
     "iopub.execute_input": "2023-12-08T23:09:08.575438Z",
     "iopub.status.busy": "2023-12-08T23:09:08.575149Z",
     "iopub.status.idle": "2023-12-08T23:09:08.641709Z",
     "shell.execute_reply": "2023-12-08T23:09:08.640782Z"
    },
    "papermill": {
     "duration": 0.087595,
     "end_time": "2023-12-08T23:09:08.643703",
     "exception": false,
     "start_time": "2023-12-08T23:09:08.556108",
     "status": "completed"
    },
    "tags": []
   },
   "outputs": [
    {
     "data": {
      "text/html": [
       "<div>\n",
       "<style scoped>\n",
       "    .dataframe tbody tr th:only-of-type {\n",
       "        vertical-align: middle;\n",
       "    }\n",
       "\n",
       "    .dataframe tbody tr th {\n",
       "        vertical-align: top;\n",
       "    }\n",
       "\n",
       "    .dataframe thead th {\n",
       "        text-align: right;\n",
       "    }\n",
       "</style>\n",
       "<table border=\"1\" class=\"dataframe\">\n",
       "  <thead>\n",
       "    <tr style=\"text-align: right;\">\n",
       "      <th></th>\n",
       "      <th>A1BG</th>\n",
       "      <th>A1BG-AS1</th>\n",
       "      <th>A2M</th>\n",
       "      <th>A2M-AS1</th>\n",
       "      <th>A2MP1</th>\n",
       "      <th>A4GALT</th>\n",
       "      <th>AAAS</th>\n",
       "      <th>AACS</th>\n",
       "      <th>AAGAB</th>\n",
       "      <th>AAK1</th>\n",
       "      <th>...</th>\n",
       "      <th>ZUP1</th>\n",
       "      <th>ZW10</th>\n",
       "      <th>ZWILCH</th>\n",
       "      <th>ZWINT</th>\n",
       "      <th>ZXDA</th>\n",
       "      <th>ZXDB</th>\n",
       "      <th>ZXDC</th>\n",
       "      <th>ZYG11B</th>\n",
       "      <th>ZYX</th>\n",
       "      <th>ZZEF1</th>\n",
       "    </tr>\n",
       "    <tr>\n",
       "      <th>id</th>\n",
       "      <th></th>\n",
       "      <th></th>\n",
       "      <th></th>\n",
       "      <th></th>\n",
       "      <th></th>\n",
       "      <th></th>\n",
       "      <th></th>\n",
       "      <th></th>\n",
       "      <th></th>\n",
       "      <th></th>\n",
       "      <th></th>\n",
       "      <th></th>\n",
       "      <th></th>\n",
       "      <th></th>\n",
       "      <th></th>\n",
       "      <th></th>\n",
       "      <th></th>\n",
       "      <th></th>\n",
       "      <th></th>\n",
       "      <th></th>\n",
       "      <th></th>\n",
       "    </tr>\n",
       "  </thead>\n",
       "  <tbody>\n",
       "    <tr>\n",
       "      <th>0</th>\n",
       "      <td>0.0994</td>\n",
       "      <td>0.2568</td>\n",
       "      <td>0.2705</td>\n",
       "      <td>0.3311</td>\n",
       "      <td>0.1087</td>\n",
       "      <td>0.3237</td>\n",
       "      <td>0.2488</td>\n",
       "      <td>0.2074</td>\n",
       "      <td>0.1456</td>\n",
       "      <td>0.1346</td>\n",
       "      <td>...</td>\n",
       "      <td>0.0715</td>\n",
       "      <td>0.1221</td>\n",
       "      <td>0.2761</td>\n",
       "      <td>0.2101</td>\n",
       "      <td>0.1985</td>\n",
       "      <td>0.0903</td>\n",
       "      <td>0.1024</td>\n",
       "      <td>0.2815</td>\n",
       "      <td>0.0544</td>\n",
       "      <td>0.1506</td>\n",
       "    </tr>\n",
       "    <tr>\n",
       "      <th>1</th>\n",
       "      <td>-0.0132</td>\n",
       "      <td>0.0754</td>\n",
       "      <td>0.0374</td>\n",
       "      <td>0.1157</td>\n",
       "      <td>0.0695</td>\n",
       "      <td>0.0793</td>\n",
       "      <td>0.0313</td>\n",
       "      <td>0.0042</td>\n",
       "      <td>0.0252</td>\n",
       "      <td>0.0324</td>\n",
       "      <td>...</td>\n",
       "      <td>0.0448</td>\n",
       "      <td>0.0300</td>\n",
       "      <td>0.0707</td>\n",
       "      <td>0.0233</td>\n",
       "      <td>0.0453</td>\n",
       "      <td>0.0241</td>\n",
       "      <td>0.0306</td>\n",
       "      <td>0.0667</td>\n",
       "      <td>0.0290</td>\n",
       "      <td>0.0505</td>\n",
       "    </tr>\n",
       "    <tr>\n",
       "      <th>2</th>\n",
       "      <td>0.2583</td>\n",
       "      <td>1.0713</td>\n",
       "      <td>0.4800</td>\n",
       "      <td>0.5244</td>\n",
       "      <td>0.2625</td>\n",
       "      <td>0.5176</td>\n",
       "      <td>0.6821</td>\n",
       "      <td>0.3083</td>\n",
       "      <td>0.1080</td>\n",
       "      <td>0.2573</td>\n",
       "      <td>...</td>\n",
       "      <td>0.0492</td>\n",
       "      <td>0.0323</td>\n",
       "      <td>0.4011</td>\n",
       "      <td>0.1152</td>\n",
       "      <td>0.1963</td>\n",
       "      <td>0.0991</td>\n",
       "      <td>0.1277</td>\n",
       "      <td>0.2499</td>\n",
       "      <td>0.0775</td>\n",
       "      <td>0.2300</td>\n",
       "    </tr>\n",
       "    <tr>\n",
       "      <th>3</th>\n",
       "      <td>-0.0105</td>\n",
       "      <td>0.0801</td>\n",
       "      <td>0.0204</td>\n",
       "      <td>0.0623</td>\n",
       "      <td>0.0192</td>\n",
       "      <td>0.0045</td>\n",
       "      <td>0.0237</td>\n",
       "      <td>-0.0059</td>\n",
       "      <td>-0.0087</td>\n",
       "      <td>-0.0114</td>\n",
       "      <td>...</td>\n",
       "      <td>-0.0063</td>\n",
       "      <td>-0.0159</td>\n",
       "      <td>-0.0035</td>\n",
       "      <td>0.0059</td>\n",
       "      <td>0.0027</td>\n",
       "      <td>-0.0081</td>\n",
       "      <td>-0.0090</td>\n",
       "      <td>0.0426</td>\n",
       "      <td>-0.0253</td>\n",
       "      <td>-0.0129</td>\n",
       "    </tr>\n",
       "    <tr>\n",
       "      <th>4</th>\n",
       "      <td>-0.1161</td>\n",
       "      <td>-0.0154</td>\n",
       "      <td>-0.0629</td>\n",
       "      <td>-0.0223</td>\n",
       "      <td>-0.0529</td>\n",
       "      <td>-0.0476</td>\n",
       "      <td>-0.0521</td>\n",
       "      <td>-0.0465</td>\n",
       "      <td>-0.0560</td>\n",
       "      <td>-0.0788</td>\n",
       "      <td>...</td>\n",
       "      <td>-0.0514</td>\n",
       "      <td>-0.0912</td>\n",
       "      <td>-0.0787</td>\n",
       "      <td>-0.0922</td>\n",
       "      <td>-0.0696</td>\n",
       "      <td>-0.0603</td>\n",
       "      <td>-0.0898</td>\n",
       "      <td>-0.0401</td>\n",
       "      <td>-0.0901</td>\n",
       "      <td>-0.0720</td>\n",
       "    </tr>\n",
       "    <tr>\n",
       "      <th>...</th>\n",
       "      <td>...</td>\n",
       "      <td>...</td>\n",
       "      <td>...</td>\n",
       "      <td>...</td>\n",
       "      <td>...</td>\n",
       "      <td>...</td>\n",
       "      <td>...</td>\n",
       "      <td>...</td>\n",
       "      <td>...</td>\n",
       "      <td>...</td>\n",
       "      <td>...</td>\n",
       "      <td>...</td>\n",
       "      <td>...</td>\n",
       "      <td>...</td>\n",
       "      <td>...</td>\n",
       "      <td>...</td>\n",
       "      <td>...</td>\n",
       "      <td>...</td>\n",
       "      <td>...</td>\n",
       "      <td>...</td>\n",
       "      <td>...</td>\n",
       "    </tr>\n",
       "    <tr>\n",
       "      <th>250</th>\n",
       "      <td>-0.0024</td>\n",
       "      <td>0.1476</td>\n",
       "      <td>0.0280</td>\n",
       "      <td>0.0451</td>\n",
       "      <td>-0.0255</td>\n",
       "      <td>-0.0181</td>\n",
       "      <td>0.0234</td>\n",
       "      <td>-0.0247</td>\n",
       "      <td>-0.0447</td>\n",
       "      <td>-0.0363</td>\n",
       "      <td>...</td>\n",
       "      <td>-0.0649</td>\n",
       "      <td>-0.0429</td>\n",
       "      <td>-0.0194</td>\n",
       "      <td>-0.0635</td>\n",
       "      <td>-0.0650</td>\n",
       "      <td>-0.0430</td>\n",
       "      <td>-0.0716</td>\n",
       "      <td>-0.0240</td>\n",
       "      <td>-0.0701</td>\n",
       "      <td>-0.0280</td>\n",
       "    </tr>\n",
       "    <tr>\n",
       "      <th>251</th>\n",
       "      <td>0.0640</td>\n",
       "      <td>0.4377</td>\n",
       "      <td>0.1075</td>\n",
       "      <td>0.1853</td>\n",
       "      <td>0.0642</td>\n",
       "      <td>0.1421</td>\n",
       "      <td>0.1074</td>\n",
       "      <td>0.0571</td>\n",
       "      <td>0.0088</td>\n",
       "      <td>0.0627</td>\n",
       "      <td>...</td>\n",
       "      <td>-0.0114</td>\n",
       "      <td>0.0158</td>\n",
       "      <td>0.1316</td>\n",
       "      <td>0.0203</td>\n",
       "      <td>0.0201</td>\n",
       "      <td>0.0227</td>\n",
       "      <td>-0.0012</td>\n",
       "      <td>0.1217</td>\n",
       "      <td>-0.0190</td>\n",
       "      <td>0.0887</td>\n",
       "    </tr>\n",
       "    <tr>\n",
       "      <th>252</th>\n",
       "      <td>-0.1054</td>\n",
       "      <td>-0.2030</td>\n",
       "      <td>-0.0656</td>\n",
       "      <td>-0.1971</td>\n",
       "      <td>-0.1036</td>\n",
       "      <td>-0.1544</td>\n",
       "      <td>-0.0752</td>\n",
       "      <td>-0.0742</td>\n",
       "      <td>-0.0920</td>\n",
       "      <td>-0.1130</td>\n",
       "      <td>...</td>\n",
       "      <td>-0.1049</td>\n",
       "      <td>-0.0773</td>\n",
       "      <td>-0.1285</td>\n",
       "      <td>-0.0989</td>\n",
       "      <td>-0.1053</td>\n",
       "      <td>-0.0886</td>\n",
       "      <td>-0.1076</td>\n",
       "      <td>-0.1575</td>\n",
       "      <td>-0.1030</td>\n",
       "      <td>-0.1021</td>\n",
       "    </tr>\n",
       "    <tr>\n",
       "      <th>253</th>\n",
       "      <td>0.0862</td>\n",
       "      <td>1.1914</td>\n",
       "      <td>0.1260</td>\n",
       "      <td>0.5186</td>\n",
       "      <td>0.0848</td>\n",
       "      <td>0.2250</td>\n",
       "      <td>0.1194</td>\n",
       "      <td>0.0286</td>\n",
       "      <td>0.0139</td>\n",
       "      <td>0.0498</td>\n",
       "      <td>...</td>\n",
       "      <td>-0.0044</td>\n",
       "      <td>0.0003</td>\n",
       "      <td>0.1785</td>\n",
       "      <td>0.0046</td>\n",
       "      <td>0.0095</td>\n",
       "      <td>0.0440</td>\n",
       "      <td>-0.0094</td>\n",
       "      <td>0.2786</td>\n",
       "      <td>-0.0280</td>\n",
       "      <td>0.1276</td>\n",
       "    </tr>\n",
       "    <tr>\n",
       "      <th>254</th>\n",
       "      <td>-0.0005</td>\n",
       "      <td>0.0266</td>\n",
       "      <td>0.0176</td>\n",
       "      <td>0.0145</td>\n",
       "      <td>0.0097</td>\n",
       "      <td>-0.0094</td>\n",
       "      <td>0.0069</td>\n",
       "      <td>0.0127</td>\n",
       "      <td>0.0022</td>\n",
       "      <td>-0.0086</td>\n",
       "      <td>...</td>\n",
       "      <td>-0.0015</td>\n",
       "      <td>0.0164</td>\n",
       "      <td>0.0337</td>\n",
       "      <td>0.0085</td>\n",
       "      <td>0.0030</td>\n",
       "      <td>0.0145</td>\n",
       "      <td>-0.0047</td>\n",
       "      <td>-0.0020</td>\n",
       "      <td>-0.0083</td>\n",
       "      <td>0.0125</td>\n",
       "    </tr>\n",
       "  </tbody>\n",
       "</table>\n",
       "<p>255 rows × 18211 columns</p>\n",
       "</div>"
      ],
      "text/plain": [
       "       A1BG  A1BG-AS1     A2M  A2M-AS1   A2MP1  A4GALT    AAAS    AACS  \\\n",
       "id                                                                       \n",
       "0    0.0994    0.2568  0.2705   0.3311  0.1087  0.3237  0.2488  0.2074   \n",
       "1   -0.0132    0.0754  0.0374   0.1157  0.0695  0.0793  0.0313  0.0042   \n",
       "2    0.2583    1.0713  0.4800   0.5244  0.2625  0.5176  0.6821  0.3083   \n",
       "3   -0.0105    0.0801  0.0204   0.0623  0.0192  0.0045  0.0237 -0.0059   \n",
       "4   -0.1161   -0.0154 -0.0629  -0.0223 -0.0529 -0.0476 -0.0521 -0.0465   \n",
       "..      ...       ...     ...      ...     ...     ...     ...     ...   \n",
       "250 -0.0024    0.1476  0.0280   0.0451 -0.0255 -0.0181  0.0234 -0.0247   \n",
       "251  0.0640    0.4377  0.1075   0.1853  0.0642  0.1421  0.1074  0.0571   \n",
       "252 -0.1054   -0.2030 -0.0656  -0.1971 -0.1036 -0.1544 -0.0752 -0.0742   \n",
       "253  0.0862    1.1914  0.1260   0.5186  0.0848  0.2250  0.1194  0.0286   \n",
       "254 -0.0005    0.0266  0.0176   0.0145  0.0097 -0.0094  0.0069  0.0127   \n",
       "\n",
       "      AAGAB    AAK1  ...    ZUP1    ZW10  ZWILCH   ZWINT    ZXDA    ZXDB  \\\n",
       "id                   ...                                                   \n",
       "0    0.1456  0.1346  ...  0.0715  0.1221  0.2761  0.2101  0.1985  0.0903   \n",
       "1    0.0252  0.0324  ...  0.0448  0.0300  0.0707  0.0233  0.0453  0.0241   \n",
       "2    0.1080  0.2573  ...  0.0492  0.0323  0.4011  0.1152  0.1963  0.0991   \n",
       "3   -0.0087 -0.0114  ... -0.0063 -0.0159 -0.0035  0.0059  0.0027 -0.0081   \n",
       "4   -0.0560 -0.0788  ... -0.0514 -0.0912 -0.0787 -0.0922 -0.0696 -0.0603   \n",
       "..      ...     ...  ...     ...     ...     ...     ...     ...     ...   \n",
       "250 -0.0447 -0.0363  ... -0.0649 -0.0429 -0.0194 -0.0635 -0.0650 -0.0430   \n",
       "251  0.0088  0.0627  ... -0.0114  0.0158  0.1316  0.0203  0.0201  0.0227   \n",
       "252 -0.0920 -0.1130  ... -0.1049 -0.0773 -0.1285 -0.0989 -0.1053 -0.0886   \n",
       "253  0.0139  0.0498  ... -0.0044  0.0003  0.1785  0.0046  0.0095  0.0440   \n",
       "254  0.0022 -0.0086  ... -0.0015  0.0164  0.0337  0.0085  0.0030  0.0145   \n",
       "\n",
       "       ZXDC  ZYG11B     ZYX   ZZEF1  \n",
       "id                                   \n",
       "0    0.1024  0.2815  0.0544  0.1506  \n",
       "1    0.0306  0.0667  0.0290  0.0505  \n",
       "2    0.1277  0.2499  0.0775  0.2300  \n",
       "3   -0.0090  0.0426 -0.0253 -0.0129  \n",
       "4   -0.0898 -0.0401 -0.0901 -0.0720  \n",
       "..      ...     ...     ...     ...  \n",
       "250 -0.0716 -0.0240 -0.0701 -0.0280  \n",
       "251 -0.0012  0.1217 -0.0190  0.0887  \n",
       "252 -0.1076 -0.1575 -0.1030 -0.1021  \n",
       "253 -0.0094  0.2786 -0.0280  0.1276  \n",
       "254 -0.0047 -0.0020 -0.0083  0.0125  \n",
       "\n",
       "[255 rows x 18211 columns]"
      ]
     },
     "execution_count": 35,
     "metadata": {},
     "output_type": "execute_result"
    }
   ],
   "source": [
    "submit = pd.DataFrame(to_submit, columns=df_de_train.iloc[:,5:].columns)\n",
    "submit.index.name = 'id'\n",
    "submit"
   ]
  },
  {
   "cell_type": "code",
   "execution_count": 36,
   "id": "631c7d1d",
   "metadata": {
    "execution": {
     "iopub.execute_input": "2023-12-08T23:09:08.682532Z",
     "iopub.status.busy": "2023-12-08T23:09:08.681980Z",
     "iopub.status.idle": "2023-12-08T23:09:15.345535Z",
     "shell.execute_reply": "2023-12-08T23:09:15.344492Z"
    },
    "papermill": {
     "duration": 6.685826,
     "end_time": "2023-12-08T23:09:15.348083",
     "exception": false,
     "start_time": "2023-12-08T23:09:08.662257",
     "status": "completed"
    },
    "tags": []
   },
   "outputs": [],
   "source": [
    "submit.to_csv(f'submission.csv')"
   ]
  }
 ],
 "metadata": {
  "kaggle": {
   "accelerator": "gpu",
   "dataSources": [
    {
     "databundleVersionId": 7010844,
     "sourceId": 59094,
     "sourceType": "competition"
    }
   ],
   "dockerImageVersionId": 30616,
   "isGpuEnabled": true,
   "isInternetEnabled": true,
   "language": "python",
   "sourceType": "notebook"
  },
  "kernelspec": {
   "display_name": "Python 3",
   "language": "python",
   "name": "python3"
  },
  "language_info": {
   "codemirror_mode": {
    "name": "ipython",
    "version": 3
   },
   "file_extension": ".py",
   "mimetype": "text/x-python",
   "name": "python",
   "nbconvert_exporter": "python",
   "pygments_lexer": "ipython3",
   "version": "3.10.12"
  },
  "papermill": {
   "default_parameters": {},
   "duration": 5028.906512,
   "end_time": "2023-12-08T23:09:18.714270",
   "environment_variables": {},
   "exception": null,
   "input_path": "__notebook__.ipynb",
   "output_path": "__notebook__.ipynb",
   "parameters": {},
   "start_time": "2023-12-08T21:45:29.807758",
   "version": "2.4.0"
  },
  "widgets": {
   "application/vnd.jupyter.widget-state+json": {
    "state": {
     "0041144c06144bd8b44d5979b7a25c8a": {
      "model_module": "@jupyter-widgets/base",
      "model_module_version": "1.2.0",
      "model_name": "LayoutModel",
      "state": {
       "_model_module": "@jupyter-widgets/base",
       "_model_module_version": "1.2.0",
       "_model_name": "LayoutModel",
       "_view_count": null,
       "_view_module": "@jupyter-widgets/base",
       "_view_module_version": "1.2.0",
       "_view_name": "LayoutView",
       "align_content": null,
       "align_items": null,
       "align_self": null,
       "border": null,
       "bottom": null,
       "display": null,
       "flex": null,
       "flex_flow": null,
       "grid_area": null,
       "grid_auto_columns": null,
       "grid_auto_flow": null,
       "grid_auto_rows": null,
       "grid_column": null,
       "grid_gap": null,
       "grid_row": null,
       "grid_template_areas": null,
       "grid_template_columns": null,
       "grid_template_rows": null,
       "height": null,
       "justify_content": null,
       "justify_items": null,
       "left": null,
       "margin": null,
       "max_height": null,
       "max_width": null,
       "min_height": null,
       "min_width": null,
       "object_fit": null,
       "object_position": null,
       "order": null,
       "overflow": null,
       "overflow_x": null,
       "overflow_y": null,
       "padding": null,
       "right": null,
       "top": null,
       "visibility": null,
       "width": null
      }
     },
     "041460d2d4fc4fda9d184591429d3ddb": {
      "model_module": "@jupyter-widgets/controls",
      "model_module_version": "1.5.0",
      "model_name": "DescriptionStyleModel",
      "state": {
       "_model_module": "@jupyter-widgets/controls",
       "_model_module_version": "1.5.0",
       "_model_name": "DescriptionStyleModel",
       "_view_count": null,
       "_view_module": "@jupyter-widgets/base",
       "_view_module_version": "1.2.0",
       "_view_name": "StyleView",
       "description_width": ""
      }
     },
     "07d77d710d914e9a96bef08d5c6ce66d": {
      "model_module": "@jupyter-widgets/base",
      "model_module_version": "1.2.0",
      "model_name": "LayoutModel",
      "state": {
       "_model_module": "@jupyter-widgets/base",
       "_model_module_version": "1.2.0",
       "_model_name": "LayoutModel",
       "_view_count": null,
       "_view_module": "@jupyter-widgets/base",
       "_view_module_version": "1.2.0",
       "_view_name": "LayoutView",
       "align_content": null,
       "align_items": null,
       "align_self": null,
       "border": null,
       "bottom": null,
       "display": null,
       "flex": null,
       "flex_flow": null,
       "grid_area": null,
       "grid_auto_columns": null,
       "grid_auto_flow": null,
       "grid_auto_rows": null,
       "grid_column": null,
       "grid_gap": null,
       "grid_row": null,
       "grid_template_areas": null,
       "grid_template_columns": null,
       "grid_template_rows": null,
       "height": null,
       "justify_content": null,
       "justify_items": null,
       "left": null,
       "margin": null,
       "max_height": null,
       "max_width": null,
       "min_height": null,
       "min_width": null,
       "object_fit": null,
       "object_position": null,
       "order": null,
       "overflow": null,
       "overflow_x": null,
       "overflow_y": null,
       "padding": null,
       "right": null,
       "top": null,
       "visibility": null,
       "width": null
      }
     },
     "0803234b43044d54861e30287111138c": {
      "model_module": "@jupyter-widgets/base",
      "model_module_version": "1.2.0",
      "model_name": "LayoutModel",
      "state": {
       "_model_module": "@jupyter-widgets/base",
       "_model_module_version": "1.2.0",
       "_model_name": "LayoutModel",
       "_view_count": null,
       "_view_module": "@jupyter-widgets/base",
       "_view_module_version": "1.2.0",
       "_view_name": "LayoutView",
       "align_content": null,
       "align_items": null,
       "align_self": null,
       "border": null,
       "bottom": null,
       "display": null,
       "flex": null,
       "flex_flow": null,
       "grid_area": null,
       "grid_auto_columns": null,
       "grid_auto_flow": null,
       "grid_auto_rows": null,
       "grid_column": null,
       "grid_gap": null,
       "grid_row": null,
       "grid_template_areas": null,
       "grid_template_columns": null,
       "grid_template_rows": null,
       "height": null,
       "justify_content": null,
       "justify_items": null,
       "left": null,
       "margin": null,
       "max_height": null,
       "max_width": null,
       "min_height": null,
       "min_width": null,
       "object_fit": null,
       "object_position": null,
       "order": null,
       "overflow": null,
       "overflow_x": null,
       "overflow_y": null,
       "padding": null,
       "right": null,
       "top": null,
       "visibility": null,
       "width": null
      }
     },
     "08563a843ff8450bb4a0f8fd502b5d56": {
      "model_module": "@jupyter-widgets/base",
      "model_module_version": "1.2.0",
      "model_name": "LayoutModel",
      "state": {
       "_model_module": "@jupyter-widgets/base",
       "_model_module_version": "1.2.0",
       "_model_name": "LayoutModel",
       "_view_count": null,
       "_view_module": "@jupyter-widgets/base",
       "_view_module_version": "1.2.0",
       "_view_name": "LayoutView",
       "align_content": null,
       "align_items": null,
       "align_self": null,
       "border": null,
       "bottom": null,
       "display": null,
       "flex": null,
       "flex_flow": null,
       "grid_area": null,
       "grid_auto_columns": null,
       "grid_auto_flow": null,
       "grid_auto_rows": null,
       "grid_column": null,
       "grid_gap": null,
       "grid_row": null,
       "grid_template_areas": null,
       "grid_template_columns": null,
       "grid_template_rows": null,
       "height": null,
       "justify_content": null,
       "justify_items": null,
       "left": null,
       "margin": null,
       "max_height": null,
       "max_width": null,
       "min_height": null,
       "min_width": null,
       "object_fit": null,
       "object_position": null,
       "order": null,
       "overflow": null,
       "overflow_x": null,
       "overflow_y": null,
       "padding": null,
       "right": null,
       "top": null,
       "visibility": null,
       "width": null
      }
     },
     "0935deabe36f401eaa7573c3f0a21969": {
      "model_module": "@jupyter-widgets/controls",
      "model_module_version": "1.5.0",
      "model_name": "FloatProgressModel",
      "state": {
       "_dom_classes": [],
       "_model_module": "@jupyter-widgets/controls",
       "_model_module_version": "1.5.0",
       "_model_name": "FloatProgressModel",
       "_view_count": null,
       "_view_module": "@jupyter-widgets/controls",
       "_view_module_version": "1.5.0",
       "_view_name": "ProgressView",
       "bar_style": "success",
       "description": "",
       "description_tooltip": null,
       "layout": "IPY_MODEL_0041144c06144bd8b44d5979b7a25c8a",
       "max": 112.0,
       "min": 0.0,
       "orientation": "horizontal",
       "style": "IPY_MODEL_34acce66350248988a481d76138206f5",
       "value": 112.0
      }
     },
     "097967f28b264e0d93055b10628aca8c": {
      "model_module": "@jupyter-widgets/base",
      "model_module_version": "1.2.0",
      "model_name": "LayoutModel",
      "state": {
       "_model_module": "@jupyter-widgets/base",
       "_model_module_version": "1.2.0",
       "_model_name": "LayoutModel",
       "_view_count": null,
       "_view_module": "@jupyter-widgets/base",
       "_view_module_version": "1.2.0",
       "_view_name": "LayoutView",
       "align_content": null,
       "align_items": null,
       "align_self": null,
       "border": null,
       "bottom": null,
       "display": null,
       "flex": null,
       "flex_flow": null,
       "grid_area": null,
       "grid_auto_columns": null,
       "grid_auto_flow": null,
       "grid_auto_rows": null,
       "grid_column": null,
       "grid_gap": null,
       "grid_row": null,
       "grid_template_areas": null,
       "grid_template_columns": null,
       "grid_template_rows": null,
       "height": null,
       "justify_content": null,
       "justify_items": null,
       "left": null,
       "margin": null,
       "max_height": null,
       "max_width": null,
       "min_height": null,
       "min_width": null,
       "object_fit": null,
       "object_position": null,
       "order": null,
       "overflow": null,
       "overflow_x": null,
       "overflow_y": null,
       "padding": null,
       "right": null,
       "top": null,
       "visibility": null,
       "width": null
      }
     },
     "0b61194a6e4a4fa89767f7ef4c304363": {
      "model_module": "@jupyter-widgets/base",
      "model_module_version": "1.2.0",
      "model_name": "LayoutModel",
      "state": {
       "_model_module": "@jupyter-widgets/base",
       "_model_module_version": "1.2.0",
       "_model_name": "LayoutModel",
       "_view_count": null,
       "_view_module": "@jupyter-widgets/base",
       "_view_module_version": "1.2.0",
       "_view_name": "LayoutView",
       "align_content": null,
       "align_items": null,
       "align_self": null,
       "border": null,
       "bottom": null,
       "display": null,
       "flex": null,
       "flex_flow": null,
       "grid_area": null,
       "grid_auto_columns": null,
       "grid_auto_flow": null,
       "grid_auto_rows": null,
       "grid_column": null,
       "grid_gap": null,
       "grid_row": null,
       "grid_template_areas": null,
       "grid_template_columns": null,
       "grid_template_rows": null,
       "height": null,
       "justify_content": null,
       "justify_items": null,
       "left": null,
       "margin": null,
       "max_height": null,
       "max_width": null,
       "min_height": null,
       "min_width": null,
       "object_fit": null,
       "object_position": null,
       "order": null,
       "overflow": null,
       "overflow_x": null,
       "overflow_y": null,
       "padding": null,
       "right": null,
       "top": null,
       "visibility": null,
       "width": null
      }
     },
     "0bb56acaac1145d9a9041f6b23fc274f": {
      "model_module": "@jupyter-widgets/base",
      "model_module_version": "1.2.0",
      "model_name": "LayoutModel",
      "state": {
       "_model_module": "@jupyter-widgets/base",
       "_model_module_version": "1.2.0",
       "_model_name": "LayoutModel",
       "_view_count": null,
       "_view_module": "@jupyter-widgets/base",
       "_view_module_version": "1.2.0",
       "_view_name": "LayoutView",
       "align_content": null,
       "align_items": null,
       "align_self": null,
       "border": null,
       "bottom": null,
       "display": null,
       "flex": null,
       "flex_flow": null,
       "grid_area": null,
       "grid_auto_columns": null,
       "grid_auto_flow": null,
       "grid_auto_rows": null,
       "grid_column": null,
       "grid_gap": null,
       "grid_row": null,
       "grid_template_areas": null,
       "grid_template_columns": null,
       "grid_template_rows": null,
       "height": null,
       "justify_content": null,
       "justify_items": null,
       "left": null,
       "margin": null,
       "max_height": null,
       "max_width": null,
       "min_height": null,
       "min_width": null,
       "object_fit": null,
       "object_position": null,
       "order": null,
       "overflow": null,
       "overflow_x": null,
       "overflow_y": null,
       "padding": null,
       "right": null,
       "top": null,
       "visibility": null,
       "width": null
      }
     },
     "0c3cad5bc7da40b1a5515910f74bd952": {
      "model_module": "@jupyter-widgets/controls",
      "model_module_version": "1.5.0",
      "model_name": "HTMLModel",
      "state": {
       "_dom_classes": [],
       "_model_module": "@jupyter-widgets/controls",
       "_model_module_version": "1.5.0",
       "_model_name": "HTMLModel",
       "_view_count": null,
       "_view_module": "@jupyter-widgets/controls",
       "_view_module_version": "1.5.0",
       "_view_name": "HTMLView",
       "description": "",
       "description_tooltip": null,
       "layout": "IPY_MODEL_fdabc07f060a4ce8bf92fab2bd352b2a",
       "placeholder": "​",
       "style": "IPY_MODEL_041460d2d4fc4fda9d184591429d3ddb",
       "value": " 840/840 [00:00&lt;00:00, 72.9kB/s]"
      }
     },
     "0de8033306db4d0d82dd7711fa506704": {
      "model_module": "@jupyter-widgets/controls",
      "model_module_version": "1.5.0",
      "model_name": "HTMLModel",
      "state": {
       "_dom_classes": [],
       "_model_module": "@jupyter-widgets/controls",
       "_model_module_version": "1.5.0",
       "_model_name": "HTMLModel",
       "_view_count": null,
       "_view_module": "@jupyter-widgets/controls",
       "_view_module_version": "1.5.0",
       "_view_name": "HTMLView",
       "description": "",
       "description_tooltip": null,
       "layout": "IPY_MODEL_097967f28b264e0d93055b10628aca8c",
       "placeholder": "​",
       "style": "IPY_MODEL_eb12a5862e164f71a0f07dc83cd388ee",
       "value": "tokenizer_config.json: 100%"
      }
     },
     "0f8c21b500a94bdfa2dbb817d25553a7": {
      "model_module": "@jupyter-widgets/controls",
      "model_module_version": "1.5.0",
      "model_name": "DescriptionStyleModel",
      "state": {
       "_model_module": "@jupyter-widgets/controls",
       "_model_module_version": "1.5.0",
       "_model_name": "DescriptionStyleModel",
       "_view_count": null,
       "_view_module": "@jupyter-widgets/base",
       "_view_module_version": "1.2.0",
       "_view_name": "StyleView",
       "description_width": ""
      }
     },
     "103f661f69294e98ab914eef7a2d6911": {
      "model_module": "@jupyter-widgets/controls",
      "model_module_version": "1.5.0",
      "model_name": "HBoxModel",
      "state": {
       "_dom_classes": [],
       "_model_module": "@jupyter-widgets/controls",
       "_model_module_version": "1.5.0",
       "_model_name": "HBoxModel",
       "_view_count": null,
       "_view_module": "@jupyter-widgets/controls",
       "_view_module_version": "1.5.0",
       "_view_name": "HBoxView",
       "box_style": "",
       "children": [
        "IPY_MODEL_64f5e49b4ca646f6a86926310159f612",
        "IPY_MODEL_aaf79aab16d440e8881fef14229f0c22",
        "IPY_MODEL_b58220cd04c048cfb8cede917fab2991"
       ],
       "layout": "IPY_MODEL_27b2957d1c7c4b1e8437165df4ab026d"
      }
     },
     "17c473d46b2c4513b53f878e83692689": {
      "model_module": "@jupyter-widgets/controls",
      "model_module_version": "1.5.0",
      "model_name": "HBoxModel",
      "state": {
       "_dom_classes": [],
       "_model_module": "@jupyter-widgets/controls",
       "_model_module_version": "1.5.0",
       "_model_name": "HBoxModel",
       "_view_count": null,
       "_view_module": "@jupyter-widgets/controls",
       "_view_module_version": "1.5.0",
       "_view_name": "HBoxView",
       "box_style": "",
       "children": [
        "IPY_MODEL_27e271c30eea48989b4d208bde806291",
        "IPY_MODEL_e7716ecd285442229d099d08186b1fca",
        "IPY_MODEL_cd28467157d045ca8c1aee2c37677939"
       ],
       "layout": "IPY_MODEL_68b3620afde94840b30da7c1a331e74a"
      }
     },
     "1b80608ad75a44bca278c2fedd4240c5": {
      "model_module": "@jupyter-widgets/controls",
      "model_module_version": "1.5.0",
      "model_name": "DescriptionStyleModel",
      "state": {
       "_model_module": "@jupyter-widgets/controls",
       "_model_module_version": "1.5.0",
       "_model_name": "DescriptionStyleModel",
       "_view_count": null,
       "_view_module": "@jupyter-widgets/base",
       "_view_module_version": "1.2.0",
       "_view_name": "StyleView",
       "description_width": ""
      }
     },
     "1bce3e36d4d54cfc92f69ecbdc5ce29e": {
      "model_module": "@jupyter-widgets/base",
      "model_module_version": "1.2.0",
      "model_name": "LayoutModel",
      "state": {
       "_model_module": "@jupyter-widgets/base",
       "_model_module_version": "1.2.0",
       "_model_name": "LayoutModel",
       "_view_count": null,
       "_view_module": "@jupyter-widgets/base",
       "_view_module_version": "1.2.0",
       "_view_name": "LayoutView",
       "align_content": null,
       "align_items": null,
       "align_self": null,
       "border": null,
       "bottom": null,
       "display": null,
       "flex": null,
       "flex_flow": null,
       "grid_area": null,
       "grid_auto_columns": null,
       "grid_auto_flow": null,
       "grid_auto_rows": null,
       "grid_column": null,
       "grid_gap": null,
       "grid_row": null,
       "grid_template_areas": null,
       "grid_template_columns": null,
       "grid_template_rows": null,
       "height": null,
       "justify_content": null,
       "justify_items": null,
       "left": null,
       "margin": null,
       "max_height": null,
       "max_width": null,
       "min_height": null,
       "min_width": null,
       "object_fit": null,
       "object_position": null,
       "order": null,
       "overflow": null,
       "overflow_x": null,
       "overflow_y": null,
       "padding": null,
       "right": null,
       "top": null,
       "visibility": null,
       "width": null
      }
     },
     "1c6c0aabb37544c1b55d6b540423df55": {
      "model_module": "@jupyter-widgets/base",
      "model_module_version": "1.2.0",
      "model_name": "LayoutModel",
      "state": {
       "_model_module": "@jupyter-widgets/base",
       "_model_module_version": "1.2.0",
       "_model_name": "LayoutModel",
       "_view_count": null,
       "_view_module": "@jupyter-widgets/base",
       "_view_module_version": "1.2.0",
       "_view_name": "LayoutView",
       "align_content": null,
       "align_items": null,
       "align_self": null,
       "border": null,
       "bottom": null,
       "display": null,
       "flex": null,
       "flex_flow": null,
       "grid_area": null,
       "grid_auto_columns": null,
       "grid_auto_flow": null,
       "grid_auto_rows": null,
       "grid_column": null,
       "grid_gap": null,
       "grid_row": null,
       "grid_template_areas": null,
       "grid_template_columns": null,
       "grid_template_rows": null,
       "height": null,
       "justify_content": null,
       "justify_items": null,
       "left": null,
       "margin": null,
       "max_height": null,
       "max_width": null,
       "min_height": null,
       "min_width": null,
       "object_fit": null,
       "object_position": null,
       "order": null,
       "overflow": null,
       "overflow_x": null,
       "overflow_y": null,
       "padding": null,
       "right": null,
       "top": null,
       "visibility": null,
       "width": null
      }
     },
     "231d561393864382a0f50bcb4a888dde": {
      "model_module": "@jupyter-widgets/controls",
      "model_module_version": "1.5.0",
      "model_name": "HBoxModel",
      "state": {
       "_dom_classes": [],
       "_model_module": "@jupyter-widgets/controls",
       "_model_module_version": "1.5.0",
       "_model_name": "HBoxModel",
       "_view_count": null,
       "_view_module": "@jupyter-widgets/controls",
       "_view_module_version": "1.5.0",
       "_view_name": "HBoxView",
       "box_style": "",
       "children": [
        "IPY_MODEL_cb5419d048b34d5e944d239dc51d5351",
        "IPY_MODEL_3bb51d77990a4d64bed895ba95d94287",
        "IPY_MODEL_921e250014344a909c956991d3d47e5b"
       ],
       "layout": "IPY_MODEL_0bb56acaac1145d9a9041f6b23fc274f"
      }
     },
     "27b2957d1c7c4b1e8437165df4ab026d": {
      "model_module": "@jupyter-widgets/base",
      "model_module_version": "1.2.0",
      "model_name": "LayoutModel",
      "state": {
       "_model_module": "@jupyter-widgets/base",
       "_model_module_version": "1.2.0",
       "_model_name": "LayoutModel",
       "_view_count": null,
       "_view_module": "@jupyter-widgets/base",
       "_view_module_version": "1.2.0",
       "_view_name": "LayoutView",
       "align_content": null,
       "align_items": null,
       "align_self": null,
       "border": null,
       "bottom": null,
       "display": null,
       "flex": null,
       "flex_flow": null,
       "grid_area": null,
       "grid_auto_columns": null,
       "grid_auto_flow": null,
       "grid_auto_rows": null,
       "grid_column": null,
       "grid_gap": null,
       "grid_row": null,
       "grid_template_areas": null,
       "grid_template_columns": null,
       "grid_template_rows": null,
       "height": null,
       "justify_content": null,
       "justify_items": null,
       "left": null,
       "margin": null,
       "max_height": null,
       "max_width": null,
       "min_height": null,
       "min_width": null,
       "object_fit": null,
       "object_position": null,
       "order": null,
       "overflow": null,
       "overflow_x": null,
       "overflow_y": null,
       "padding": null,
       "right": null,
       "top": null,
       "visibility": null,
       "width": null
      }
     },
     "27e271c30eea48989b4d208bde806291": {
      "model_module": "@jupyter-widgets/controls",
      "model_module_version": "1.5.0",
      "model_name": "HTMLModel",
      "state": {
       "_dom_classes": [],
       "_model_module": "@jupyter-widgets/controls",
       "_model_module_version": "1.5.0",
       "_model_name": "HTMLModel",
       "_view_count": null,
       "_view_module": "@jupyter-widgets/controls",
       "_view_module_version": "1.5.0",
       "_view_name": "HTMLView",
       "description": "",
       "description_tooltip": null,
       "layout": "IPY_MODEL_1c6c0aabb37544c1b55d6b540423df55",
       "placeholder": "​",
       "style": "IPY_MODEL_dbce850482d147a9a60edf2db4abe4e1",
       "value": "vocab.txt: 100%"
      }
     },
     "321ffe1d30804e7190b75a2486aa6b43": {
      "model_module": "@jupyter-widgets/base",
      "model_module_version": "1.2.0",
      "model_name": "LayoutModel",
      "state": {
       "_model_module": "@jupyter-widgets/base",
       "_model_module_version": "1.2.0",
       "_model_name": "LayoutModel",
       "_view_count": null,
       "_view_module": "@jupyter-widgets/base",
       "_view_module_version": "1.2.0",
       "_view_name": "LayoutView",
       "align_content": null,
       "align_items": null,
       "align_self": null,
       "border": null,
       "bottom": null,
       "display": null,
       "flex": null,
       "flex_flow": null,
       "grid_area": null,
       "grid_auto_columns": null,
       "grid_auto_flow": null,
       "grid_auto_rows": null,
       "grid_column": null,
       "grid_gap": null,
       "grid_row": null,
       "grid_template_areas": null,
       "grid_template_columns": null,
       "grid_template_rows": null,
       "height": null,
       "justify_content": null,
       "justify_items": null,
       "left": null,
       "margin": null,
       "max_height": null,
       "max_width": null,
       "min_height": null,
       "min_width": null,
       "object_fit": null,
       "object_position": null,
       "order": null,
       "overflow": null,
       "overflow_x": null,
       "overflow_y": null,
       "padding": null,
       "right": null,
       "top": null,
       "visibility": null,
       "width": null
      }
     },
     "322b4f01e6c142b3adb8c611533fde64": {
      "model_module": "@jupyter-widgets/controls",
      "model_module_version": "1.5.0",
      "model_name": "HBoxModel",
      "state": {
       "_dom_classes": [],
       "_model_module": "@jupyter-widgets/controls",
       "_model_module_version": "1.5.0",
       "_model_name": "HBoxModel",
       "_view_count": null,
       "_view_module": "@jupyter-widgets/controls",
       "_view_module_version": "1.5.0",
       "_view_name": "HBoxView",
       "box_style": "",
       "children": [
        "IPY_MODEL_fa88a302b994413dabaac6e0c8013cbb",
        "IPY_MODEL_dd70108064214010b559ac0a4a789129",
        "IPY_MODEL_0c3cad5bc7da40b1a5515910f74bd952"
       ],
       "layout": "IPY_MODEL_bfba6b852580488a921b586a4dcaf72c"
      }
     },
     "323cc807f79a4ac5846b1946ec553006": {
      "model_module": "@jupyter-widgets/controls",
      "model_module_version": "1.5.0",
      "model_name": "DescriptionStyleModel",
      "state": {
       "_model_module": "@jupyter-widgets/controls",
       "_model_module_version": "1.5.0",
       "_model_name": "DescriptionStyleModel",
       "_view_count": null,
       "_view_module": "@jupyter-widgets/base",
       "_view_module_version": "1.2.0",
       "_view_name": "StyleView",
       "description_width": ""
      }
     },
     "3330654660aa47aeb0a36e108e4b1397": {
      "model_module": "@jupyter-widgets/controls",
      "model_module_version": "1.5.0",
      "model_name": "ProgressStyleModel",
      "state": {
       "_model_module": "@jupyter-widgets/controls",
       "_model_module_version": "1.5.0",
       "_model_name": "ProgressStyleModel",
       "_view_count": null,
       "_view_module": "@jupyter-widgets/base",
       "_view_module_version": "1.2.0",
       "_view_name": "StyleView",
       "bar_color": null,
       "description_width": ""
      }
     },
     "34acce66350248988a481d76138206f5": {
      "model_module": "@jupyter-widgets/controls",
      "model_module_version": "1.5.0",
      "model_name": "ProgressStyleModel",
      "state": {
       "_model_module": "@jupyter-widgets/controls",
       "_model_module_version": "1.5.0",
       "_model_name": "ProgressStyleModel",
       "_view_count": null,
       "_view_module": "@jupyter-widgets/base",
       "_view_module_version": "1.2.0",
       "_view_name": "StyleView",
       "bar_color": null,
       "description_width": ""
      }
     },
     "399f5d0b17514d678c695e35f606cd4a": {
      "model_module": "@jupyter-widgets/controls",
      "model_module_version": "1.5.0",
      "model_name": "DescriptionStyleModel",
      "state": {
       "_model_module": "@jupyter-widgets/controls",
       "_model_module_version": "1.5.0",
       "_model_name": "DescriptionStyleModel",
       "_view_count": null,
       "_view_module": "@jupyter-widgets/base",
       "_view_module_version": "1.2.0",
       "_view_name": "StyleView",
       "description_width": ""
      }
     },
     "39eb36ab6ba94ceebcc82db77b0948df": {
      "model_module": "@jupyter-widgets/controls",
      "model_module_version": "1.5.0",
      "model_name": "FloatProgressModel",
      "state": {
       "_dom_classes": [],
       "_model_module": "@jupyter-widgets/controls",
       "_model_module_version": "1.5.0",
       "_model_name": "FloatProgressModel",
       "_view_count": null,
       "_view_module": "@jupyter-widgets/controls",
       "_view_module_version": "1.5.0",
       "_view_name": "ProgressView",
       "bar_style": "success",
       "description": "",
       "description_tooltip": null,
       "layout": "IPY_MODEL_d47e28bca2004a99910b58cc890fafc8",
       "max": 320.0,
       "min": 0.0,
       "orientation": "horizontal",
       "style": "IPY_MODEL_7ca392132107448bbcb44f6f05891a78",
       "value": 320.0
      }
     },
     "3aa8d5ed2a86407f9fa8a1d698c57fcd": {
      "model_module": "@jupyter-widgets/base",
      "model_module_version": "1.2.0",
      "model_name": "LayoutModel",
      "state": {
       "_model_module": "@jupyter-widgets/base",
       "_model_module_version": "1.2.0",
       "_model_name": "LayoutModel",
       "_view_count": null,
       "_view_module": "@jupyter-widgets/base",
       "_view_module_version": "1.2.0",
       "_view_name": "LayoutView",
       "align_content": null,
       "align_items": null,
       "align_self": null,
       "border": null,
       "bottom": null,
       "display": null,
       "flex": null,
       "flex_flow": null,
       "grid_area": null,
       "grid_auto_columns": null,
       "grid_auto_flow": null,
       "grid_auto_rows": null,
       "grid_column": null,
       "grid_gap": null,
       "grid_row": null,
       "grid_template_areas": null,
       "grid_template_columns": null,
       "grid_template_rows": null,
       "height": null,
       "justify_content": null,
       "justify_items": null,
       "left": null,
       "margin": null,
       "max_height": null,
       "max_width": null,
       "min_height": null,
       "min_width": null,
       "object_fit": null,
       "object_position": null,
       "order": null,
       "overflow": null,
       "overflow_x": null,
       "overflow_y": null,
       "padding": null,
       "right": null,
       "top": null,
       "visibility": null,
       "width": null
      }
     },
     "3bb51d77990a4d64bed895ba95d94287": {
      "model_module": "@jupyter-widgets/controls",
      "model_module_version": "1.5.0",
      "model_name": "FloatProgressModel",
      "state": {
       "_dom_classes": [],
       "_model_module": "@jupyter-widgets/controls",
       "_model_module_version": "1.5.0",
       "_model_name": "FloatProgressModel",
       "_view_count": null,
       "_view_module": "@jupyter-widgets/controls",
       "_view_module_version": "1.5.0",
       "_view_name": "ProgressView",
       "bar_style": "success",
       "description": "",
       "description_tooltip": null,
       "layout": "IPY_MODEL_7feb48dd39754e5fba9befa929a8c422",
       "max": 4644.0,
       "min": 0.0,
       "orientation": "horizontal",
       "style": "IPY_MODEL_5c80105a09ca4e67bfd0443201e22ca7",
       "value": 4644.0
      }
     },
     "425822595ba04f85bc6833d8212f50e2": {
      "model_module": "@jupyter-widgets/base",
      "model_module_version": "1.2.0",
      "model_name": "LayoutModel",
      "state": {
       "_model_module": "@jupyter-widgets/base",
       "_model_module_version": "1.2.0",
       "_model_name": "LayoutModel",
       "_view_count": null,
       "_view_module": "@jupyter-widgets/base",
       "_view_module_version": "1.2.0",
       "_view_name": "LayoutView",
       "align_content": null,
       "align_items": null,
       "align_self": null,
       "border": null,
       "bottom": null,
       "display": null,
       "flex": null,
       "flex_flow": null,
       "grid_area": null,
       "grid_auto_columns": null,
       "grid_auto_flow": null,
       "grid_auto_rows": null,
       "grid_column": null,
       "grid_gap": null,
       "grid_row": null,
       "grid_template_areas": null,
       "grid_template_columns": null,
       "grid_template_rows": null,
       "height": null,
       "justify_content": null,
       "justify_items": null,
       "left": null,
       "margin": null,
       "max_height": null,
       "max_width": null,
       "min_height": null,
       "min_width": null,
       "object_fit": null,
       "object_position": null,
       "order": null,
       "overflow": null,
       "overflow_x": null,
       "overflow_y": null,
       "padding": null,
       "right": null,
       "top": null,
       "visibility": null,
       "width": null
      }
     },
     "45f5d218a03448cbb9e2ff2764c2ee1e": {
      "model_module": "@jupyter-widgets/base",
      "model_module_version": "1.2.0",
      "model_name": "LayoutModel",
      "state": {
       "_model_module": "@jupyter-widgets/base",
       "_model_module_version": "1.2.0",
       "_model_name": "LayoutModel",
       "_view_count": null,
       "_view_module": "@jupyter-widgets/base",
       "_view_module_version": "1.2.0",
       "_view_name": "LayoutView",
       "align_content": null,
       "align_items": null,
       "align_self": null,
       "border": null,
       "bottom": null,
       "display": null,
       "flex": null,
       "flex_flow": null,
       "grid_area": null,
       "grid_auto_columns": null,
       "grid_auto_flow": null,
       "grid_auto_rows": null,
       "grid_column": null,
       "grid_gap": null,
       "grid_row": null,
       "grid_template_areas": null,
       "grid_template_columns": null,
       "grid_template_rows": null,
       "height": null,
       "justify_content": null,
       "justify_items": null,
       "left": null,
       "margin": null,
       "max_height": null,
       "max_width": null,
       "min_height": null,
       "min_width": null,
       "object_fit": null,
       "object_position": null,
       "order": null,
       "overflow": null,
       "overflow_x": null,
       "overflow_y": null,
       "padding": null,
       "right": null,
       "top": null,
       "visibility": null,
       "width": null
      }
     },
     "4d74a961a5c845009a83a3d40eee7ff5": {
      "model_module": "@jupyter-widgets/base",
      "model_module_version": "1.2.0",
      "model_name": "LayoutModel",
      "state": {
       "_model_module": "@jupyter-widgets/base",
       "_model_module_version": "1.2.0",
       "_model_name": "LayoutModel",
       "_view_count": null,
       "_view_module": "@jupyter-widgets/base",
       "_view_module_version": "1.2.0",
       "_view_name": "LayoutView",
       "align_content": null,
       "align_items": null,
       "align_self": null,
       "border": null,
       "bottom": null,
       "display": null,
       "flex": null,
       "flex_flow": null,
       "grid_area": null,
       "grid_auto_columns": null,
       "grid_auto_flow": null,
       "grid_auto_rows": null,
       "grid_column": null,
       "grid_gap": null,
       "grid_row": null,
       "grid_template_areas": null,
       "grid_template_columns": null,
       "grid_template_rows": null,
       "height": null,
       "justify_content": null,
       "justify_items": null,
       "left": null,
       "margin": null,
       "max_height": null,
       "max_width": null,
       "min_height": null,
       "min_width": null,
       "object_fit": null,
       "object_position": null,
       "order": null,
       "overflow": null,
       "overflow_x": null,
       "overflow_y": null,
       "padding": null,
       "right": null,
       "top": null,
       "visibility": null,
       "width": null
      }
     },
     "54b525217ee1490ca8f585733e20b6c9": {
      "model_module": "@jupyter-widgets/controls",
      "model_module_version": "1.5.0",
      "model_name": "DescriptionStyleModel",
      "state": {
       "_model_module": "@jupyter-widgets/controls",
       "_model_module_version": "1.5.0",
       "_model_name": "DescriptionStyleModel",
       "_view_count": null,
       "_view_module": "@jupyter-widgets/base",
       "_view_module_version": "1.2.0",
       "_view_name": "StyleView",
       "description_width": ""
      }
     },
     "56acdcdb1a664b7399b6fd7476ca3e72": {
      "model_module": "@jupyter-widgets/controls",
      "model_module_version": "1.5.0",
      "model_name": "HTMLModel",
      "state": {
       "_dom_classes": [],
       "_model_module": "@jupyter-widgets/controls",
       "_model_module_version": "1.5.0",
       "_model_name": "HTMLModel",
       "_view_count": null,
       "_view_module": "@jupyter-widgets/controls",
       "_view_module_version": "1.5.0",
       "_view_name": "HTMLView",
       "description": "",
       "description_tooltip": null,
       "layout": "IPY_MODEL_321ffe1d30804e7190b75a2486aa6b43",
       "placeholder": "​",
       "style": "IPY_MODEL_dcd567a962994c61907ca49170d444b9",
       "value": "100%"
      }
     },
     "59d6e923b7694fffbf287945c331df17": {
      "model_module": "@jupyter-widgets/controls",
      "model_module_version": "1.5.0",
      "model_name": "HBoxModel",
      "state": {
       "_dom_classes": [],
       "_model_module": "@jupyter-widgets/controls",
       "_model_module_version": "1.5.0",
       "_model_name": "HBoxModel",
       "_view_count": null,
       "_view_module": "@jupyter-widgets/controls",
       "_view_module_version": "1.5.0",
       "_view_name": "HBoxView",
       "box_style": "",
       "children": [
        "IPY_MODEL_56acdcdb1a664b7399b6fd7476ca3e72",
        "IPY_MODEL_704d66c5b5db4e26a6a2da147e4938a5",
        "IPY_MODEL_5a027d9c56784789b3a0f11ecd25e568"
       ],
       "layout": "IPY_MODEL_e4eea0e45a8b460d8ad7b8c7d233952e"
      }
     },
     "5a027d9c56784789b3a0f11ecd25e568": {
      "model_module": "@jupyter-widgets/controls",
      "model_module_version": "1.5.0",
      "model_name": "HTMLModel",
      "state": {
       "_dom_classes": [],
       "_model_module": "@jupyter-widgets/controls",
       "_model_module_version": "1.5.0",
       "_model_name": "HTMLModel",
       "_view_count": null,
       "_view_module": "@jupyter-widgets/controls",
       "_view_module_version": "1.5.0",
       "_view_name": "HTMLView",
       "description": "",
       "description_tooltip": null,
       "layout": "IPY_MODEL_9578f1859d914bf889d8685068dba8d0",
       "placeholder": "​",
       "style": "IPY_MODEL_aa1e93fe123f43f6ab0d6f6f2f4fc8c0",
       "value": " 560/560 [00:57&lt;00:00, 10.53ba/s]"
      }
     },
     "5c80105a09ca4e67bfd0443201e22ca7": {
      "model_module": "@jupyter-widgets/controls",
      "model_module_version": "1.5.0",
      "model_name": "ProgressStyleModel",
      "state": {
       "_model_module": "@jupyter-widgets/controls",
       "_model_module_version": "1.5.0",
       "_model_name": "ProgressStyleModel",
       "_view_count": null,
       "_view_module": "@jupyter-widgets/base",
       "_view_module_version": "1.2.0",
       "_view_name": "StyleView",
       "bar_color": null,
       "description_width": ""
      }
     },
     "64f5e49b4ca646f6a86926310159f612": {
      "model_module": "@jupyter-widgets/controls",
      "model_module_version": "1.5.0",
      "model_name": "HTMLModel",
      "state": {
       "_dom_classes": [],
       "_model_module": "@jupyter-widgets/controls",
       "_model_module_version": "1.5.0",
       "_model_name": "HTMLModel",
       "_view_count": null,
       "_view_module": "@jupyter-widgets/controls",
       "_view_module_version": "1.5.0",
       "_view_name": "HTMLView",
       "description": "",
       "description_tooltip": null,
       "layout": "IPY_MODEL_4d74a961a5c845009a83a3d40eee7ff5",
       "placeholder": "​",
       "style": "IPY_MODEL_399f5d0b17514d678c695e35f606cd4a",
       "value": "tokenizer.json: 100%"
      }
     },
     "686052fbe73e43ae8aa015f2942efb36": {
      "model_module": "@jupyter-widgets/base",
      "model_module_version": "1.2.0",
      "model_name": "LayoutModel",
      "state": {
       "_model_module": "@jupyter-widgets/base",
       "_model_module_version": "1.2.0",
       "_model_name": "LayoutModel",
       "_view_count": null,
       "_view_module": "@jupyter-widgets/base",
       "_view_module_version": "1.2.0",
       "_view_name": "LayoutView",
       "align_content": null,
       "align_items": null,
       "align_self": null,
       "border": null,
       "bottom": null,
       "display": null,
       "flex": null,
       "flex_flow": null,
       "grid_area": null,
       "grid_auto_columns": null,
       "grid_auto_flow": null,
       "grid_auto_rows": null,
       "grid_column": null,
       "grid_gap": null,
       "grid_row": null,
       "grid_template_areas": null,
       "grid_template_columns": null,
       "grid_template_rows": null,
       "height": null,
       "justify_content": null,
       "justify_items": null,
       "left": null,
       "margin": null,
       "max_height": null,
       "max_width": null,
       "min_height": null,
       "min_width": null,
       "object_fit": null,
       "object_position": null,
       "order": null,
       "overflow": null,
       "overflow_x": null,
       "overflow_y": null,
       "padding": null,
       "right": null,
       "top": null,
       "visibility": null,
       "width": null
      }
     },
     "68b3620afde94840b30da7c1a331e74a": {
      "model_module": "@jupyter-widgets/base",
      "model_module_version": "1.2.0",
      "model_name": "LayoutModel",
      "state": {
       "_model_module": "@jupyter-widgets/base",
       "_model_module_version": "1.2.0",
       "_model_name": "LayoutModel",
       "_view_count": null,
       "_view_module": "@jupyter-widgets/base",
       "_view_module_version": "1.2.0",
       "_view_name": "LayoutView",
       "align_content": null,
       "align_items": null,
       "align_self": null,
       "border": null,
       "bottom": null,
       "display": null,
       "flex": null,
       "flex_flow": null,
       "grid_area": null,
       "grid_auto_columns": null,
       "grid_auto_flow": null,
       "grid_auto_rows": null,
       "grid_column": null,
       "grid_gap": null,
       "grid_row": null,
       "grid_template_areas": null,
       "grid_template_columns": null,
       "grid_template_rows": null,
       "height": null,
       "justify_content": null,
       "justify_items": null,
       "left": null,
       "margin": null,
       "max_height": null,
       "max_width": null,
       "min_height": null,
       "min_width": null,
       "object_fit": null,
       "object_position": null,
       "order": null,
       "overflow": null,
       "overflow_x": null,
       "overflow_y": null,
       "padding": null,
       "right": null,
       "top": null,
       "visibility": null,
       "width": null
      }
     },
     "6b1caedffbab43f9a78b6489701e5061": {
      "model_module": "@jupyter-widgets/controls",
      "model_module_version": "1.5.0",
      "model_name": "HTMLModel",
      "state": {
       "_dom_classes": [],
       "_model_module": "@jupyter-widgets/controls",
       "_model_module_version": "1.5.0",
       "_model_name": "HTMLModel",
       "_view_count": null,
       "_view_module": "@jupyter-widgets/controls",
       "_view_module_version": "1.5.0",
       "_view_name": "HTMLView",
       "description": "",
       "description_tooltip": null,
       "layout": "IPY_MODEL_425822595ba04f85bc6833d8212f50e2",
       "placeholder": "​",
       "style": "IPY_MODEL_b68709fa5a6f4df3a375f6ccb44ac963",
       "value": " 55.6M/55.6M [00:01&lt;00:00, 37.8MB/s]"
      }
     },
     "6d6cd1cffa874876822a5618a5b0abbc": {
      "model_module": "@jupyter-widgets/controls",
      "model_module_version": "1.5.0",
      "model_name": "ProgressStyleModel",
      "state": {
       "_model_module": "@jupyter-widgets/controls",
       "_model_module_version": "1.5.0",
       "_model_name": "ProgressStyleModel",
       "_view_count": null,
       "_view_module": "@jupyter-widgets/base",
       "_view_module_version": "1.2.0",
       "_view_name": "StyleView",
       "bar_color": null,
       "description_width": ""
      }
     },
     "704d66c5b5db4e26a6a2da147e4938a5": {
      "model_module": "@jupyter-widgets/controls",
      "model_module_version": "1.5.0",
      "model_name": "FloatProgressModel",
      "state": {
       "_dom_classes": [],
       "_model_module": "@jupyter-widgets/controls",
       "_model_module_version": "1.5.0",
       "_model_name": "FloatProgressModel",
       "_view_count": null,
       "_view_module": "@jupyter-widgets/controls",
       "_view_module_version": "1.5.0",
       "_view_name": "ProgressView",
       "bar_style": "success",
       "description": "",
       "description_tooltip": null,
       "layout": "IPY_MODEL_a65a51b285a6440ab26f49f6fd1dcb57",
       "max": 560.0,
       "min": 0.0,
       "orientation": "horizontal",
       "style": "IPY_MODEL_3330654660aa47aeb0a36e108e4b1397",
       "value": 560.0
      }
     },
     "72e75ed6977e4fe1a3cea06c2c1c0c51": {
      "model_module": "@jupyter-widgets/controls",
      "model_module_version": "1.5.0",
      "model_name": "HTMLModel",
      "state": {
       "_dom_classes": [],
       "_model_module": "@jupyter-widgets/controls",
       "_model_module_version": "1.5.0",
       "_model_name": "HTMLModel",
       "_view_count": null,
       "_view_module": "@jupyter-widgets/controls",
       "_view_module_version": "1.5.0",
       "_view_name": "HTMLView",
       "description": "",
       "description_tooltip": null,
       "layout": "IPY_MODEL_f06a50bea6ca4124bbae9141e765e57d",
       "placeholder": "​",
       "style": "IPY_MODEL_b9caf8c3e6394f2790e4c87cb02ec511",
       "value": " 112/112 [00:00&lt;00:00, 9.59kB/s]"
      }
     },
     "7ca392132107448bbcb44f6f05891a78": {
      "model_module": "@jupyter-widgets/controls",
      "model_module_version": "1.5.0",
      "model_name": "ProgressStyleModel",
      "state": {
       "_model_module": "@jupyter-widgets/controls",
       "_model_module_version": "1.5.0",
       "_model_name": "ProgressStyleModel",
       "_view_count": null,
       "_view_module": "@jupyter-widgets/base",
       "_view_module_version": "1.2.0",
       "_view_name": "StyleView",
       "bar_color": null,
       "description_width": ""
      }
     },
     "7feb48dd39754e5fba9befa929a8c422": {
      "model_module": "@jupyter-widgets/base",
      "model_module_version": "1.2.0",
      "model_name": "LayoutModel",
      "state": {
       "_model_module": "@jupyter-widgets/base",
       "_model_module_version": "1.2.0",
       "_model_name": "LayoutModel",
       "_view_count": null,
       "_view_module": "@jupyter-widgets/base",
       "_view_module_version": "1.2.0",
       "_view_name": "LayoutView",
       "align_content": null,
       "align_items": null,
       "align_self": null,
       "border": null,
       "bottom": null,
       "display": null,
       "flex": null,
       "flex_flow": null,
       "grid_area": null,
       "grid_auto_columns": null,
       "grid_auto_flow": null,
       "grid_auto_rows": null,
       "grid_column": null,
       "grid_gap": null,
       "grid_row": null,
       "grid_template_areas": null,
       "grid_template_columns": null,
       "grid_template_rows": null,
       "height": null,
       "justify_content": null,
       "justify_items": null,
       "left": null,
       "margin": null,
       "max_height": null,
       "max_width": null,
       "min_height": null,
       "min_width": null,
       "object_fit": null,
       "object_position": null,
       "order": null,
       "overflow": null,
       "overflow_x": null,
       "overflow_y": null,
       "padding": null,
       "right": null,
       "top": null,
       "visibility": null,
       "width": null
      }
     },
     "85652719f2254b7898c39072473076d5": {
      "model_module": "@jupyter-widgets/controls",
      "model_module_version": "1.5.0",
      "model_name": "HTMLModel",
      "state": {
       "_dom_classes": [],
       "_model_module": "@jupyter-widgets/controls",
       "_model_module_version": "1.5.0",
       "_model_name": "HTMLModel",
       "_view_count": null,
       "_view_module": "@jupyter-widgets/controls",
       "_view_module_version": "1.5.0",
       "_view_name": "HTMLView",
       "description": "",
       "description_tooltip": null,
       "layout": "IPY_MODEL_07d77d710d914e9a96bef08d5c6ce66d",
       "placeholder": "​",
       "style": "IPY_MODEL_54b525217ee1490ca8f585733e20b6c9",
       "value": "special_tokens_map.json: 100%"
      }
     },
     "8a8351d225e64ff6994d4b5471c38497": {
      "model_module": "@jupyter-widgets/base",
      "model_module_version": "1.2.0",
      "model_name": "LayoutModel",
      "state": {
       "_model_module": "@jupyter-widgets/base",
       "_model_module_version": "1.2.0",
       "_model_name": "LayoutModel",
       "_view_count": null,
       "_view_module": "@jupyter-widgets/base",
       "_view_module_version": "1.2.0",
       "_view_name": "LayoutView",
       "align_content": null,
       "align_items": null,
       "align_self": null,
       "border": null,
       "bottom": null,
       "display": null,
       "flex": null,
       "flex_flow": null,
       "grid_area": null,
       "grid_auto_columns": null,
       "grid_auto_flow": null,
       "grid_auto_rows": null,
       "grid_column": null,
       "grid_gap": null,
       "grid_row": null,
       "grid_template_areas": null,
       "grid_template_columns": null,
       "grid_template_rows": null,
       "height": null,
       "justify_content": null,
       "justify_items": null,
       "left": null,
       "margin": null,
       "max_height": null,
       "max_width": null,
       "min_height": null,
       "min_width": null,
       "object_fit": null,
       "object_position": null,
       "order": null,
       "overflow": null,
       "overflow_x": null,
       "overflow_y": null,
       "padding": null,
       "right": null,
       "top": null,
       "visibility": null,
       "width": null
      }
     },
     "921e250014344a909c956991d3d47e5b": {
      "model_module": "@jupyter-widgets/controls",
      "model_module_version": "1.5.0",
      "model_name": "HTMLModel",
      "state": {
       "_dom_classes": [],
       "_model_module": "@jupyter-widgets/controls",
       "_model_module_version": "1.5.0",
       "_model_name": "HTMLModel",
       "_view_count": null,
       "_view_module": "@jupyter-widgets/controls",
       "_view_module_version": "1.5.0",
       "_view_name": "HTMLView",
       "description": "",
       "description_tooltip": null,
       "layout": "IPY_MODEL_45f5d218a03448cbb9e2ff2764c2ee1e",
       "placeholder": "​",
       "style": "IPY_MODEL_323cc807f79a4ac5846b1946ec553006",
       "value": " 4644/4644 [07:49&lt;00:00,  9.86ba/s]"
      }
     },
     "9578f1859d914bf889d8685068dba8d0": {
      "model_module": "@jupyter-widgets/base",
      "model_module_version": "1.2.0",
      "model_name": "LayoutModel",
      "state": {
       "_model_module": "@jupyter-widgets/base",
       "_model_module_version": "1.2.0",
       "_model_name": "LayoutModel",
       "_view_count": null,
       "_view_module": "@jupyter-widgets/base",
       "_view_module_version": "1.2.0",
       "_view_name": "LayoutView",
       "align_content": null,
       "align_items": null,
       "align_self": null,
       "border": null,
       "bottom": null,
       "display": null,
       "flex": null,
       "flex_flow": null,
       "grid_area": null,
       "grid_auto_columns": null,
       "grid_auto_flow": null,
       "grid_auto_rows": null,
       "grid_column": null,
       "grid_gap": null,
       "grid_row": null,
       "grid_template_areas": null,
       "grid_template_columns": null,
       "grid_template_rows": null,
       "height": null,
       "justify_content": null,
       "justify_items": null,
       "left": null,
       "margin": null,
       "max_height": null,
       "max_width": null,
       "min_height": null,
       "min_width": null,
       "object_fit": null,
       "object_position": null,
       "order": null,
       "overflow": null,
       "overflow_x": null,
       "overflow_y": null,
       "padding": null,
       "right": null,
       "top": null,
       "visibility": null,
       "width": null
      }
     },
     "98832f56d436427b809bb8c7f31c27ac": {
      "model_module": "@jupyter-widgets/controls",
      "model_module_version": "1.5.0",
      "model_name": "HBoxModel",
      "state": {
       "_dom_classes": [],
       "_model_module": "@jupyter-widgets/controls",
       "_model_module_version": "1.5.0",
       "_model_name": "HBoxModel",
       "_view_count": null,
       "_view_module": "@jupyter-widgets/controls",
       "_view_module_version": "1.5.0",
       "_view_name": "HBoxView",
       "box_style": "",
       "children": [
        "IPY_MODEL_c05ac87832a54b788652bb4fd560c561",
        "IPY_MODEL_ee34ee36543343ba80e4c62a22284bd6",
        "IPY_MODEL_6b1caedffbab43f9a78b6489701e5061"
       ],
       "layout": "IPY_MODEL_0b61194a6e4a4fa89767f7ef4c304363"
      }
     },
     "a238e2e8d91643bf8e1dfd349825116f": {
      "model_module": "@jupyter-widgets/controls",
      "model_module_version": "1.5.0",
      "model_name": "HBoxModel",
      "state": {
       "_dom_classes": [],
       "_model_module": "@jupyter-widgets/controls",
       "_model_module_version": "1.5.0",
       "_model_name": "HBoxModel",
       "_view_count": null,
       "_view_module": "@jupyter-widgets/controls",
       "_view_module_version": "1.5.0",
       "_view_name": "HBoxView",
       "box_style": "",
       "children": [
        "IPY_MODEL_85652719f2254b7898c39072473076d5",
        "IPY_MODEL_0935deabe36f401eaa7573c3f0a21969",
        "IPY_MODEL_72e75ed6977e4fe1a3cea06c2c1c0c51"
       ],
       "layout": "IPY_MODEL_8a8351d225e64ff6994d4b5471c38497"
      }
     },
     "a65a51b285a6440ab26f49f6fd1dcb57": {
      "model_module": "@jupyter-widgets/base",
      "model_module_version": "1.2.0",
      "model_name": "LayoutModel",
      "state": {
       "_model_module": "@jupyter-widgets/base",
       "_model_module_version": "1.2.0",
       "_model_name": "LayoutModel",
       "_view_count": null,
       "_view_module": "@jupyter-widgets/base",
       "_view_module_version": "1.2.0",
       "_view_name": "LayoutView",
       "align_content": null,
       "align_items": null,
       "align_self": null,
       "border": null,
       "bottom": null,
       "display": null,
       "flex": null,
       "flex_flow": null,
       "grid_area": null,
       "grid_auto_columns": null,
       "grid_auto_flow": null,
       "grid_auto_rows": null,
       "grid_column": null,
       "grid_gap": null,
       "grid_row": null,
       "grid_template_areas": null,
       "grid_template_columns": null,
       "grid_template_rows": null,
       "height": null,
       "justify_content": null,
       "justify_items": null,
       "left": null,
       "margin": null,
       "max_height": null,
       "max_width": null,
       "min_height": null,
       "min_width": null,
       "object_fit": null,
       "object_position": null,
       "order": null,
       "overflow": null,
       "overflow_x": null,
       "overflow_y": null,
       "padding": null,
       "right": null,
       "top": null,
       "visibility": null,
       "width": null
      }
     },
     "aa1e93fe123f43f6ab0d6f6f2f4fc8c0": {
      "model_module": "@jupyter-widgets/controls",
      "model_module_version": "1.5.0",
      "model_name": "DescriptionStyleModel",
      "state": {
       "_model_module": "@jupyter-widgets/controls",
       "_model_module_version": "1.5.0",
       "_model_name": "DescriptionStyleModel",
       "_view_count": null,
       "_view_module": "@jupyter-widgets/base",
       "_view_module_version": "1.2.0",
       "_view_name": "StyleView",
       "description_width": ""
      }
     },
     "aaf79aab16d440e8881fef14229f0c22": {
      "model_module": "@jupyter-widgets/controls",
      "model_module_version": "1.5.0",
      "model_name": "FloatProgressModel",
      "state": {
       "_dom_classes": [],
       "_model_module": "@jupyter-widgets/controls",
       "_model_module_version": "1.5.0",
       "_model_name": "FloatProgressModel",
       "_view_count": null,
       "_view_module": "@jupyter-widgets/controls",
       "_view_module_version": "1.5.0",
       "_view_name": "ProgressView",
       "bar_style": "success",
       "description": "",
       "description_tooltip": null,
       "layout": "IPY_MODEL_0803234b43044d54861e30287111138c",
       "max": 668923.0,
       "min": 0.0,
       "orientation": "horizontal",
       "style": "IPY_MODEL_ea95e703e6c548c8ad8ac55fc6b52a69",
       "value": 668923.0
      }
     },
     "b119c218bbb2407188ea0baadaf66db5": {
      "model_module": "@jupyter-widgets/base",
      "model_module_version": "1.2.0",
      "model_name": "LayoutModel",
      "state": {
       "_model_module": "@jupyter-widgets/base",
       "_model_module_version": "1.2.0",
       "_model_name": "LayoutModel",
       "_view_count": null,
       "_view_module": "@jupyter-widgets/base",
       "_view_module_version": "1.2.0",
       "_view_name": "LayoutView",
       "align_content": null,
       "align_items": null,
       "align_self": null,
       "border": null,
       "bottom": null,
       "display": null,
       "flex": null,
       "flex_flow": null,
       "grid_area": null,
       "grid_auto_columns": null,
       "grid_auto_flow": null,
       "grid_auto_rows": null,
       "grid_column": null,
       "grid_gap": null,
       "grid_row": null,
       "grid_template_areas": null,
       "grid_template_columns": null,
       "grid_template_rows": null,
       "height": null,
       "justify_content": null,
       "justify_items": null,
       "left": null,
       "margin": null,
       "max_height": null,
       "max_width": null,
       "min_height": null,
       "min_width": null,
       "object_fit": null,
       "object_position": null,
       "order": null,
       "overflow": null,
       "overflow_x": null,
       "overflow_y": null,
       "padding": null,
       "right": null,
       "top": null,
       "visibility": null,
       "width": null
      }
     },
     "b29d82ee0ccf4e96882312ca5c9826b0": {
      "model_module": "@jupyter-widgets/controls",
      "model_module_version": "1.5.0",
      "model_name": "ProgressStyleModel",
      "state": {
       "_model_module": "@jupyter-widgets/controls",
       "_model_module_version": "1.5.0",
       "_model_name": "ProgressStyleModel",
       "_view_count": null,
       "_view_module": "@jupyter-widgets/base",
       "_view_module_version": "1.2.0",
       "_view_name": "StyleView",
       "bar_color": null,
       "description_width": ""
      }
     },
     "b58220cd04c048cfb8cede917fab2991": {
      "model_module": "@jupyter-widgets/controls",
      "model_module_version": "1.5.0",
      "model_name": "HTMLModel",
      "state": {
       "_dom_classes": [],
       "_model_module": "@jupyter-widgets/controls",
       "_model_module_version": "1.5.0",
       "_model_name": "HTMLModel",
       "_view_count": null,
       "_view_module": "@jupyter-widgets/controls",
       "_view_module_version": "1.5.0",
       "_view_name": "HTMLView",
       "description": "",
       "description_tooltip": null,
       "layout": "IPY_MODEL_e5578beb30c24059b50f77893ce0ffd2",
       "placeholder": "​",
       "style": "IPY_MODEL_1b80608ad75a44bca278c2fedd4240c5",
       "value": " 669k/669k [00:00&lt;00:00, 2.05MB/s]"
      }
     },
     "b68709fa5a6f4df3a375f6ccb44ac963": {
      "model_module": "@jupyter-widgets/controls",
      "model_module_version": "1.5.0",
      "model_name": "DescriptionStyleModel",
      "state": {
       "_model_module": "@jupyter-widgets/controls",
       "_model_module_version": "1.5.0",
       "_model_name": "DescriptionStyleModel",
       "_view_count": null,
       "_view_module": "@jupyter-widgets/base",
       "_view_module_version": "1.2.0",
       "_view_name": "StyleView",
       "description_width": ""
      }
     },
     "b814d6ad685b47098a5c5bdffbee23c8": {
      "model_module": "@jupyter-widgets/controls",
      "model_module_version": "1.5.0",
      "model_name": "DescriptionStyleModel",
      "state": {
       "_model_module": "@jupyter-widgets/controls",
       "_model_module_version": "1.5.0",
       "_model_name": "DescriptionStyleModel",
       "_view_count": null,
       "_view_module": "@jupyter-widgets/base",
       "_view_module_version": "1.2.0",
       "_view_name": "StyleView",
       "description_width": ""
      }
     },
     "b9caf8c3e6394f2790e4c87cb02ec511": {
      "model_module": "@jupyter-widgets/controls",
      "model_module_version": "1.5.0",
      "model_name": "DescriptionStyleModel",
      "state": {
       "_model_module": "@jupyter-widgets/controls",
       "_model_module_version": "1.5.0",
       "_model_name": "DescriptionStyleModel",
       "_view_count": null,
       "_view_module": "@jupyter-widgets/base",
       "_view_module_version": "1.2.0",
       "_view_name": "StyleView",
       "description_width": ""
      }
     },
     "bf6d3b0b82254f4f9392a5505f6779d1": {
      "model_module": "@jupyter-widgets/base",
      "model_module_version": "1.2.0",
      "model_name": "LayoutModel",
      "state": {
       "_model_module": "@jupyter-widgets/base",
       "_model_module_version": "1.2.0",
       "_model_name": "LayoutModel",
       "_view_count": null,
       "_view_module": "@jupyter-widgets/base",
       "_view_module_version": "1.2.0",
       "_view_name": "LayoutView",
       "align_content": null,
       "align_items": null,
       "align_self": null,
       "border": null,
       "bottom": null,
       "display": null,
       "flex": null,
       "flex_flow": null,
       "grid_area": null,
       "grid_auto_columns": null,
       "grid_auto_flow": null,
       "grid_auto_rows": null,
       "grid_column": null,
       "grid_gap": null,
       "grid_row": null,
       "grid_template_areas": null,
       "grid_template_columns": null,
       "grid_template_rows": null,
       "height": null,
       "justify_content": null,
       "justify_items": null,
       "left": null,
       "margin": null,
       "max_height": null,
       "max_width": null,
       "min_height": null,
       "min_width": null,
       "object_fit": null,
       "object_position": null,
       "order": null,
       "overflow": null,
       "overflow_x": null,
       "overflow_y": null,
       "padding": null,
       "right": null,
       "top": null,
       "visibility": null,
       "width": null
      }
     },
     "bfba6b852580488a921b586a4dcaf72c": {
      "model_module": "@jupyter-widgets/base",
      "model_module_version": "1.2.0",
      "model_name": "LayoutModel",
      "state": {
       "_model_module": "@jupyter-widgets/base",
       "_model_module_version": "1.2.0",
       "_model_name": "LayoutModel",
       "_view_count": null,
       "_view_module": "@jupyter-widgets/base",
       "_view_module_version": "1.2.0",
       "_view_name": "LayoutView",
       "align_content": null,
       "align_items": null,
       "align_self": null,
       "border": null,
       "bottom": null,
       "display": null,
       "flex": null,
       "flex_flow": null,
       "grid_area": null,
       "grid_auto_columns": null,
       "grid_auto_flow": null,
       "grid_auto_rows": null,
       "grid_column": null,
       "grid_gap": null,
       "grid_row": null,
       "grid_template_areas": null,
       "grid_template_columns": null,
       "grid_template_rows": null,
       "height": null,
       "justify_content": null,
       "justify_items": null,
       "left": null,
       "margin": null,
       "max_height": null,
       "max_width": null,
       "min_height": null,
       "min_width": null,
       "object_fit": null,
       "object_position": null,
       "order": null,
       "overflow": null,
       "overflow_x": null,
       "overflow_y": null,
       "padding": null,
       "right": null,
       "top": null,
       "visibility": null,
       "width": null
      }
     },
     "c05ac87832a54b788652bb4fd560c561": {
      "model_module": "@jupyter-widgets/controls",
      "model_module_version": "1.5.0",
      "model_name": "HTMLModel",
      "state": {
       "_dom_classes": [],
       "_model_module": "@jupyter-widgets/controls",
       "_model_module_version": "1.5.0",
       "_model_name": "HTMLModel",
       "_view_count": null,
       "_view_module": "@jupyter-widgets/controls",
       "_view_module_version": "1.5.0",
       "_view_name": "HTMLView",
       "description": "",
       "description_tooltip": null,
       "layout": "IPY_MODEL_bf6d3b0b82254f4f9392a5505f6779d1",
       "placeholder": "​",
       "style": "IPY_MODEL_e4b2dca9b1544753b3fbfa4bea34c88a",
       "value": "pytorch_model.bin: 100%"
      }
     },
     "cb5419d048b34d5e944d239dc51d5351": {
      "model_module": "@jupyter-widgets/controls",
      "model_module_version": "1.5.0",
      "model_name": "HTMLModel",
      "state": {
       "_dom_classes": [],
       "_model_module": "@jupyter-widgets/controls",
       "_model_module_version": "1.5.0",
       "_model_name": "HTMLModel",
       "_view_count": null,
       "_view_module": "@jupyter-widgets/controls",
       "_view_module_version": "1.5.0",
       "_view_name": "HTMLView",
       "description": "",
       "description_tooltip": null,
       "layout": "IPY_MODEL_e4d7709479c742b78a31076921818f19",
       "placeholder": "​",
       "style": "IPY_MODEL_0f8c21b500a94bdfa2dbb817d25553a7",
       "value": "100%"
      }
     },
     "cd28467157d045ca8c1aee2c37677939": {
      "model_module": "@jupyter-widgets/controls",
      "model_module_version": "1.5.0",
      "model_name": "HTMLModel",
      "state": {
       "_dom_classes": [],
       "_model_module": "@jupyter-widgets/controls",
       "_model_module_version": "1.5.0",
       "_model_name": "HTMLModel",
       "_view_count": null,
       "_view_module": "@jupyter-widgets/controls",
       "_view_module_version": "1.5.0",
       "_view_name": "HTMLView",
       "description": "",
       "description_tooltip": null,
       "layout": "IPY_MODEL_f654690e7c9f402b83efe790e1982d32",
       "placeholder": "​",
       "style": "IPY_MODEL_b814d6ad685b47098a5c5bdffbee23c8",
       "value": " 213k/213k [00:00&lt;00:00, 2.42MB/s]"
      }
     },
     "ce0f1cb0533745b3875d03f4c7cbb95b": {
      "model_module": "@jupyter-widgets/base",
      "model_module_version": "1.2.0",
      "model_name": "LayoutModel",
      "state": {
       "_model_module": "@jupyter-widgets/base",
       "_model_module_version": "1.2.0",
       "_model_name": "LayoutModel",
       "_view_count": null,
       "_view_module": "@jupyter-widgets/base",
       "_view_module_version": "1.2.0",
       "_view_name": "LayoutView",
       "align_content": null,
       "align_items": null,
       "align_self": null,
       "border": null,
       "bottom": null,
       "display": null,
       "flex": null,
       "flex_flow": null,
       "grid_area": null,
       "grid_auto_columns": null,
       "grid_auto_flow": null,
       "grid_auto_rows": null,
       "grid_column": null,
       "grid_gap": null,
       "grid_row": null,
       "grid_template_areas": null,
       "grid_template_columns": null,
       "grid_template_rows": null,
       "height": null,
       "justify_content": null,
       "justify_items": null,
       "left": null,
       "margin": null,
       "max_height": null,
       "max_width": null,
       "min_height": null,
       "min_width": null,
       "object_fit": null,
       "object_position": null,
       "order": null,
       "overflow": null,
       "overflow_x": null,
       "overflow_y": null,
       "padding": null,
       "right": null,
       "top": null,
       "visibility": null,
       "width": null
      }
     },
     "d47e28bca2004a99910b58cc890fafc8": {
      "model_module": "@jupyter-widgets/base",
      "model_module_version": "1.2.0",
      "model_name": "LayoutModel",
      "state": {
       "_model_module": "@jupyter-widgets/base",
       "_model_module_version": "1.2.0",
       "_model_name": "LayoutModel",
       "_view_count": null,
       "_view_module": "@jupyter-widgets/base",
       "_view_module_version": "1.2.0",
       "_view_name": "LayoutView",
       "align_content": null,
       "align_items": null,
       "align_self": null,
       "border": null,
       "bottom": null,
       "display": null,
       "flex": null,
       "flex_flow": null,
       "grid_area": null,
       "grid_auto_columns": null,
       "grid_auto_flow": null,
       "grid_auto_rows": null,
       "grid_column": null,
       "grid_gap": null,
       "grid_row": null,
       "grid_template_areas": null,
       "grid_template_columns": null,
       "grid_template_rows": null,
       "height": null,
       "justify_content": null,
       "justify_items": null,
       "left": null,
       "margin": null,
       "max_height": null,
       "max_width": null,
       "min_height": null,
       "min_width": null,
       "object_fit": null,
       "object_position": null,
       "order": null,
       "overflow": null,
       "overflow_x": null,
       "overflow_y": null,
       "padding": null,
       "right": null,
       "top": null,
       "visibility": null,
       "width": null
      }
     },
     "dbce850482d147a9a60edf2db4abe4e1": {
      "model_module": "@jupyter-widgets/controls",
      "model_module_version": "1.5.0",
      "model_name": "DescriptionStyleModel",
      "state": {
       "_model_module": "@jupyter-widgets/controls",
       "_model_module_version": "1.5.0",
       "_model_name": "DescriptionStyleModel",
       "_view_count": null,
       "_view_module": "@jupyter-widgets/base",
       "_view_module_version": "1.2.0",
       "_view_name": "StyleView",
       "description_width": ""
      }
     },
     "dcd567a962994c61907ca49170d444b9": {
      "model_module": "@jupyter-widgets/controls",
      "model_module_version": "1.5.0",
      "model_name": "DescriptionStyleModel",
      "state": {
       "_model_module": "@jupyter-widgets/controls",
       "_model_module_version": "1.5.0",
       "_model_name": "DescriptionStyleModel",
       "_view_count": null,
       "_view_module": "@jupyter-widgets/base",
       "_view_module_version": "1.2.0",
       "_view_name": "StyleView",
       "description_width": ""
      }
     },
     "dd70108064214010b559ac0a4a789129": {
      "model_module": "@jupyter-widgets/controls",
      "model_module_version": "1.5.0",
      "model_name": "FloatProgressModel",
      "state": {
       "_dom_classes": [],
       "_model_module": "@jupyter-widgets/controls",
       "_model_module_version": "1.5.0",
       "_model_name": "FloatProgressModel",
       "_view_count": null,
       "_view_module": "@jupyter-widgets/controls",
       "_view_module_version": "1.5.0",
       "_view_name": "ProgressView",
       "bar_style": "success",
       "description": "",
       "description_tooltip": null,
       "layout": "IPY_MODEL_08563a843ff8450bb4a0f8fd502b5d56",
       "max": 840.0,
       "min": 0.0,
       "orientation": "horizontal",
       "style": "IPY_MODEL_b29d82ee0ccf4e96882312ca5c9826b0",
       "value": 840.0
      }
     },
     "de1ac40f14ae45669735d44dc8760548": {
      "model_module": "@jupyter-widgets/controls",
      "model_module_version": "1.5.0",
      "model_name": "HBoxModel",
      "state": {
       "_dom_classes": [],
       "_model_module": "@jupyter-widgets/controls",
       "_model_module_version": "1.5.0",
       "_model_name": "HBoxModel",
       "_view_count": null,
       "_view_module": "@jupyter-widgets/controls",
       "_view_module_version": "1.5.0",
       "_view_name": "HBoxView",
       "box_style": "",
       "children": [
        "IPY_MODEL_0de8033306db4d0d82dd7711fa506704",
        "IPY_MODEL_39eb36ab6ba94ceebcc82db77b0948df",
        "IPY_MODEL_ece2646a386541eaa600d46374639034"
       ],
       "layout": "IPY_MODEL_ce0f1cb0533745b3875d03f4c7cbb95b"
      }
     },
     "e4b2dca9b1544753b3fbfa4bea34c88a": {
      "model_module": "@jupyter-widgets/controls",
      "model_module_version": "1.5.0",
      "model_name": "DescriptionStyleModel",
      "state": {
       "_model_module": "@jupyter-widgets/controls",
       "_model_module_version": "1.5.0",
       "_model_name": "DescriptionStyleModel",
       "_view_count": null,
       "_view_module": "@jupyter-widgets/base",
       "_view_module_version": "1.2.0",
       "_view_name": "StyleView",
       "description_width": ""
      }
     },
     "e4d7709479c742b78a31076921818f19": {
      "model_module": "@jupyter-widgets/base",
      "model_module_version": "1.2.0",
      "model_name": "LayoutModel",
      "state": {
       "_model_module": "@jupyter-widgets/base",
       "_model_module_version": "1.2.0",
       "_model_name": "LayoutModel",
       "_view_count": null,
       "_view_module": "@jupyter-widgets/base",
       "_view_module_version": "1.2.0",
       "_view_name": "LayoutView",
       "align_content": null,
       "align_items": null,
       "align_self": null,
       "border": null,
       "bottom": null,
       "display": null,
       "flex": null,
       "flex_flow": null,
       "grid_area": null,
       "grid_auto_columns": null,
       "grid_auto_flow": null,
       "grid_auto_rows": null,
       "grid_column": null,
       "grid_gap": null,
       "grid_row": null,
       "grid_template_areas": null,
       "grid_template_columns": null,
       "grid_template_rows": null,
       "height": null,
       "justify_content": null,
       "justify_items": null,
       "left": null,
       "margin": null,
       "max_height": null,
       "max_width": null,
       "min_height": null,
       "min_width": null,
       "object_fit": null,
       "object_position": null,
       "order": null,
       "overflow": null,
       "overflow_x": null,
       "overflow_y": null,
       "padding": null,
       "right": null,
       "top": null,
       "visibility": null,
       "width": null
      }
     },
     "e4eea0e45a8b460d8ad7b8c7d233952e": {
      "model_module": "@jupyter-widgets/base",
      "model_module_version": "1.2.0",
      "model_name": "LayoutModel",
      "state": {
       "_model_module": "@jupyter-widgets/base",
       "_model_module_version": "1.2.0",
       "_model_name": "LayoutModel",
       "_view_count": null,
       "_view_module": "@jupyter-widgets/base",
       "_view_module_version": "1.2.0",
       "_view_name": "LayoutView",
       "align_content": null,
       "align_items": null,
       "align_self": null,
       "border": null,
       "bottom": null,
       "display": null,
       "flex": null,
       "flex_flow": null,
       "grid_area": null,
       "grid_auto_columns": null,
       "grid_auto_flow": null,
       "grid_auto_rows": null,
       "grid_column": null,
       "grid_gap": null,
       "grid_row": null,
       "grid_template_areas": null,
       "grid_template_columns": null,
       "grid_template_rows": null,
       "height": null,
       "justify_content": null,
       "justify_items": null,
       "left": null,
       "margin": null,
       "max_height": null,
       "max_width": null,
       "min_height": null,
       "min_width": null,
       "object_fit": null,
       "object_position": null,
       "order": null,
       "overflow": null,
       "overflow_x": null,
       "overflow_y": null,
       "padding": null,
       "right": null,
       "top": null,
       "visibility": null,
       "width": null
      }
     },
     "e5578beb30c24059b50f77893ce0ffd2": {
      "model_module": "@jupyter-widgets/base",
      "model_module_version": "1.2.0",
      "model_name": "LayoutModel",
      "state": {
       "_model_module": "@jupyter-widgets/base",
       "_model_module_version": "1.2.0",
       "_model_name": "LayoutModel",
       "_view_count": null,
       "_view_module": "@jupyter-widgets/base",
       "_view_module_version": "1.2.0",
       "_view_name": "LayoutView",
       "align_content": null,
       "align_items": null,
       "align_self": null,
       "border": null,
       "bottom": null,
       "display": null,
       "flex": null,
       "flex_flow": null,
       "grid_area": null,
       "grid_auto_columns": null,
       "grid_auto_flow": null,
       "grid_auto_rows": null,
       "grid_column": null,
       "grid_gap": null,
       "grid_row": null,
       "grid_template_areas": null,
       "grid_template_columns": null,
       "grid_template_rows": null,
       "height": null,
       "justify_content": null,
       "justify_items": null,
       "left": null,
       "margin": null,
       "max_height": null,
       "max_width": null,
       "min_height": null,
       "min_width": null,
       "object_fit": null,
       "object_position": null,
       "order": null,
       "overflow": null,
       "overflow_x": null,
       "overflow_y": null,
       "padding": null,
       "right": null,
       "top": null,
       "visibility": null,
       "width": null
      }
     },
     "e7716ecd285442229d099d08186b1fca": {
      "model_module": "@jupyter-widgets/controls",
      "model_module_version": "1.5.0",
      "model_name": "FloatProgressModel",
      "state": {
       "_dom_classes": [],
       "_model_module": "@jupyter-widgets/controls",
       "_model_module_version": "1.5.0",
       "_model_name": "FloatProgressModel",
       "_view_count": null,
       "_view_module": "@jupyter-widgets/controls",
       "_view_module_version": "1.5.0",
       "_view_name": "ProgressView",
       "bar_style": "success",
       "description": "",
       "description_tooltip": null,
       "layout": "IPY_MODEL_3aa8d5ed2a86407f9fa8a1d698c57fcd",
       "max": 213450.0,
       "min": 0.0,
       "orientation": "horizontal",
       "style": "IPY_MODEL_ea088e305aaf46978bfbaed0fcc1f4b9",
       "value": 213450.0
      }
     },
     "ea088e305aaf46978bfbaed0fcc1f4b9": {
      "model_module": "@jupyter-widgets/controls",
      "model_module_version": "1.5.0",
      "model_name": "ProgressStyleModel",
      "state": {
       "_model_module": "@jupyter-widgets/controls",
       "_model_module_version": "1.5.0",
       "_model_name": "ProgressStyleModel",
       "_view_count": null,
       "_view_module": "@jupyter-widgets/base",
       "_view_module_version": "1.2.0",
       "_view_name": "StyleView",
       "bar_color": null,
       "description_width": ""
      }
     },
     "ea95e703e6c548c8ad8ac55fc6b52a69": {
      "model_module": "@jupyter-widgets/controls",
      "model_module_version": "1.5.0",
      "model_name": "ProgressStyleModel",
      "state": {
       "_model_module": "@jupyter-widgets/controls",
       "_model_module_version": "1.5.0",
       "_model_name": "ProgressStyleModel",
       "_view_count": null,
       "_view_module": "@jupyter-widgets/base",
       "_view_module_version": "1.2.0",
       "_view_name": "StyleView",
       "bar_color": null,
       "description_width": ""
      }
     },
     "eb12a5862e164f71a0f07dc83cd388ee": {
      "model_module": "@jupyter-widgets/controls",
      "model_module_version": "1.5.0",
      "model_name": "DescriptionStyleModel",
      "state": {
       "_model_module": "@jupyter-widgets/controls",
       "_model_module_version": "1.5.0",
       "_model_name": "DescriptionStyleModel",
       "_view_count": null,
       "_view_module": "@jupyter-widgets/base",
       "_view_module_version": "1.2.0",
       "_view_name": "StyleView",
       "description_width": ""
      }
     },
     "ece2646a386541eaa600d46374639034": {
      "model_module": "@jupyter-widgets/controls",
      "model_module_version": "1.5.0",
      "model_name": "HTMLModel",
      "state": {
       "_dom_classes": [],
       "_model_module": "@jupyter-widgets/controls",
       "_model_module_version": "1.5.0",
       "_model_name": "HTMLModel",
       "_view_count": null,
       "_view_module": "@jupyter-widgets/controls",
       "_view_module_version": "1.5.0",
       "_view_name": "HTMLView",
       "description": "",
       "description_tooltip": null,
       "layout": "IPY_MODEL_b119c218bbb2407188ea0baadaf66db5",
       "placeholder": "​",
       "style": "IPY_MODEL_fdb347f66b2042c28eaf1883dae1ea52",
       "value": " 320/320 [00:00&lt;00:00, 25.7kB/s]"
      }
     },
     "ee34ee36543343ba80e4c62a22284bd6": {
      "model_module": "@jupyter-widgets/controls",
      "model_module_version": "1.5.0",
      "model_name": "FloatProgressModel",
      "state": {
       "_dom_classes": [],
       "_model_module": "@jupyter-widgets/controls",
       "_model_module_version": "1.5.0",
       "_model_name": "FloatProgressModel",
       "_view_count": null,
       "_view_module": "@jupyter-widgets/controls",
       "_view_module_version": "1.5.0",
       "_view_name": "ProgressView",
       "bar_style": "success",
       "description": "",
       "description_tooltip": null,
       "layout": "IPY_MODEL_1bce3e36d4d54cfc92f69ecbdc5ce29e",
       "max": 55649156.0,
       "min": 0.0,
       "orientation": "horizontal",
       "style": "IPY_MODEL_6d6cd1cffa874876822a5618a5b0abbc",
       "value": 55649156.0
      }
     },
     "f06a50bea6ca4124bbae9141e765e57d": {
      "model_module": "@jupyter-widgets/base",
      "model_module_version": "1.2.0",
      "model_name": "LayoutModel",
      "state": {
       "_model_module": "@jupyter-widgets/base",
       "_model_module_version": "1.2.0",
       "_model_name": "LayoutModel",
       "_view_count": null,
       "_view_module": "@jupyter-widgets/base",
       "_view_module_version": "1.2.0",
       "_view_name": "LayoutView",
       "align_content": null,
       "align_items": null,
       "align_self": null,
       "border": null,
       "bottom": null,
       "display": null,
       "flex": null,
       "flex_flow": null,
       "grid_area": null,
       "grid_auto_columns": null,
       "grid_auto_flow": null,
       "grid_auto_rows": null,
       "grid_column": null,
       "grid_gap": null,
       "grid_row": null,
       "grid_template_areas": null,
       "grid_template_columns": null,
       "grid_template_rows": null,
       "height": null,
       "justify_content": null,
       "justify_items": null,
       "left": null,
       "margin": null,
       "max_height": null,
       "max_width": null,
       "min_height": null,
       "min_width": null,
       "object_fit": null,
       "object_position": null,
       "order": null,
       "overflow": null,
       "overflow_x": null,
       "overflow_y": null,
       "padding": null,
       "right": null,
       "top": null,
       "visibility": null,
       "width": null
      }
     },
     "f654690e7c9f402b83efe790e1982d32": {
      "model_module": "@jupyter-widgets/base",
      "model_module_version": "1.2.0",
      "model_name": "LayoutModel",
      "state": {
       "_model_module": "@jupyter-widgets/base",
       "_model_module_version": "1.2.0",
       "_model_name": "LayoutModel",
       "_view_count": null,
       "_view_module": "@jupyter-widgets/base",
       "_view_module_version": "1.2.0",
       "_view_name": "LayoutView",
       "align_content": null,
       "align_items": null,
       "align_self": null,
       "border": null,
       "bottom": null,
       "display": null,
       "flex": null,
       "flex_flow": null,
       "grid_area": null,
       "grid_auto_columns": null,
       "grid_auto_flow": null,
       "grid_auto_rows": null,
       "grid_column": null,
       "grid_gap": null,
       "grid_row": null,
       "grid_template_areas": null,
       "grid_template_columns": null,
       "grid_template_rows": null,
       "height": null,
       "justify_content": null,
       "justify_items": null,
       "left": null,
       "margin": null,
       "max_height": null,
       "max_width": null,
       "min_height": null,
       "min_width": null,
       "object_fit": null,
       "object_position": null,
       "order": null,
       "overflow": null,
       "overflow_x": null,
       "overflow_y": null,
       "padding": null,
       "right": null,
       "top": null,
       "visibility": null,
       "width": null
      }
     },
     "f8f6bc3a1c344b7e8ad47694a12e2681": {
      "model_module": "@jupyter-widgets/controls",
      "model_module_version": "1.5.0",
      "model_name": "DescriptionStyleModel",
      "state": {
       "_model_module": "@jupyter-widgets/controls",
       "_model_module_version": "1.5.0",
       "_model_name": "DescriptionStyleModel",
       "_view_count": null,
       "_view_module": "@jupyter-widgets/base",
       "_view_module_version": "1.2.0",
       "_view_name": "StyleView",
       "description_width": ""
      }
     },
     "fa88a302b994413dabaac6e0c8013cbb": {
      "model_module": "@jupyter-widgets/controls",
      "model_module_version": "1.5.0",
      "model_name": "HTMLModel",
      "state": {
       "_dom_classes": [],
       "_model_module": "@jupyter-widgets/controls",
       "_model_module_version": "1.5.0",
       "_model_name": "HTMLModel",
       "_view_count": null,
       "_view_module": "@jupyter-widgets/controls",
       "_view_module_version": "1.5.0",
       "_view_name": "HTMLView",
       "description": "",
       "description_tooltip": null,
       "layout": "IPY_MODEL_686052fbe73e43ae8aa015f2942efb36",
       "placeholder": "​",
       "style": "IPY_MODEL_f8f6bc3a1c344b7e8ad47694a12e2681",
       "value": "config.json: 100%"
      }
     },
     "fdabc07f060a4ce8bf92fab2bd352b2a": {
      "model_module": "@jupyter-widgets/base",
      "model_module_version": "1.2.0",
      "model_name": "LayoutModel",
      "state": {
       "_model_module": "@jupyter-widgets/base",
       "_model_module_version": "1.2.0",
       "_model_name": "LayoutModel",
       "_view_count": null,
       "_view_module": "@jupyter-widgets/base",
       "_view_module_version": "1.2.0",
       "_view_name": "LayoutView",
       "align_content": null,
       "align_items": null,
       "align_self": null,
       "border": null,
       "bottom": null,
       "display": null,
       "flex": null,
       "flex_flow": null,
       "grid_area": null,
       "grid_auto_columns": null,
       "grid_auto_flow": null,
       "grid_auto_rows": null,
       "grid_column": null,
       "grid_gap": null,
       "grid_row": null,
       "grid_template_areas": null,
       "grid_template_columns": null,
       "grid_template_rows": null,
       "height": null,
       "justify_content": null,
       "justify_items": null,
       "left": null,
       "margin": null,
       "max_height": null,
       "max_width": null,
       "min_height": null,
       "min_width": null,
       "object_fit": null,
       "object_position": null,
       "order": null,
       "overflow": null,
       "overflow_x": null,
       "overflow_y": null,
       "padding": null,
       "right": null,
       "top": null,
       "visibility": null,
       "width": null
      }
     },
     "fdb347f66b2042c28eaf1883dae1ea52": {
      "model_module": "@jupyter-widgets/controls",
      "model_module_version": "1.5.0",
      "model_name": "DescriptionStyleModel",
      "state": {
       "_model_module": "@jupyter-widgets/controls",
       "_model_module_version": "1.5.0",
       "_model_name": "DescriptionStyleModel",
       "_view_count": null,
       "_view_module": "@jupyter-widgets/base",
       "_view_module_version": "1.2.0",
       "_view_name": "StyleView",
       "description_width": ""
      }
     }
    },
    "version_major": 2,
    "version_minor": 0
   }
  }
 },
 "nbformat": 4,
 "nbformat_minor": 5
}
